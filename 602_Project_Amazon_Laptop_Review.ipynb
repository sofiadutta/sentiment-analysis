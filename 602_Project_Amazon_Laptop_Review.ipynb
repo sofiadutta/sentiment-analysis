{
 "cells": [
  {
   "cell_type": "markdown",
   "metadata": {},
   "source": [
    "### Welcome to DATA 602: Introduction to Data Analysis and Machine Learning Spring 2019 Term Project\n",
    "#### My experiments with word2vec among other things...\n",
    "\n",
    "We are going to use the following datasets:\n",
    "* [Amazon Laptop Review Dataset](http://sifaka.cs.uiuc.edu/~wang296/Data/LARA/Amazon/AmazonReviews.zip)\n",
    "\n",
    "Below, we install and import required libraries"
   ]
  },
  {
   "cell_type": "code",
   "execution_count": 1,
   "metadata": {},
   "outputs": [
    {
     "name": "stdout",
     "output_type": "stream",
     "text": [
      "Requirement already satisfied: gensim in /opt/conda/lib/python3.6/site-packages (3.7.2)\n",
      "Requirement already satisfied: tensorflow in /opt/conda/lib/python3.6/site-packages (1.13.1)\n",
      "Requirement already satisfied: wordcloud in /opt/conda/lib/python3.6/site-packages (1.5.0)\n",
      "Requirement already satisfied: smart-open>=1.7.0 in /opt/conda/lib/python3.6/site-packages (from gensim) (1.8.3)\n",
      "Requirement already satisfied: numpy>=1.11.3 in /opt/conda/lib/python3.6/site-packages (from gensim) (1.13.3)\n",
      "Requirement already satisfied: scipy>=0.18.1 in /opt/conda/lib/python3.6/site-packages (from gensim) (1.1.0)\n",
      "Requirement already satisfied: six>=1.5.0 in /opt/conda/lib/python3.6/site-packages (from gensim) (1.11.0)\n",
      "Requirement already satisfied: absl-py>=0.1.6 in /opt/conda/lib/python3.6/site-packages (from tensorflow) (0.7.1)\n",
      "Requirement already satisfied: wheel>=0.26 in /opt/conda/lib/python3.6/site-packages (from tensorflow) (0.32.3)\n",
      "Requirement already satisfied: astor>=0.6.0 in /opt/conda/lib/python3.6/site-packages (from tensorflow) (0.7.1)\n",
      "Requirement already satisfied: tensorflow-estimator<1.14.0rc0,>=1.13.0 in /opt/conda/lib/python3.6/site-packages (from tensorflow) (1.13.0)\n",
      "Requirement already satisfied: protobuf>=3.6.1 in /opt/conda/lib/python3.6/site-packages (from tensorflow) (3.6.1)\n",
      "Requirement already satisfied: gast>=0.2.0 in /opt/conda/lib/python3.6/site-packages (from tensorflow) (0.2.2)\n",
      "Requirement already satisfied: tensorboard<1.14.0,>=1.13.0 in /opt/conda/lib/python3.6/site-packages (from tensorflow) (1.13.1)\n",
      "Requirement already satisfied: keras-applications>=1.0.6 in /opt/conda/lib/python3.6/site-packages (from tensorflow) (1.0.7)\n",
      "Requirement already satisfied: termcolor>=1.1.0 in /opt/conda/lib/python3.6/site-packages (from tensorflow) (1.1.0)\n",
      "Requirement already satisfied: keras-preprocessing>=1.0.5 in /opt/conda/lib/python3.6/site-packages (from tensorflow) (1.0.9)\n",
      "Requirement already satisfied: grpcio>=1.8.6 in /opt/conda/lib/python3.6/site-packages (from tensorflow) (1.20.1)\n",
      "Requirement already satisfied: pillow in /opt/conda/lib/python3.6/site-packages (from wordcloud) (5.1.0)\n",
      "Requirement already satisfied: boto>=2.32 in /opt/conda/lib/python3.6/site-packages (from smart-open>=1.7.0->gensim) (2.49.0)\n",
      "Requirement already satisfied: requests in /opt/conda/lib/python3.6/site-packages (from smart-open>=1.7.0->gensim) (2.20.1)\n",
      "Requirement already satisfied: boto3 in /opt/conda/lib/python3.6/site-packages (from smart-open>=1.7.0->gensim) (1.9.142)\n",
      "Requirement already satisfied: mock>=2.0.0 in /opt/conda/lib/python3.6/site-packages (from tensorflow-estimator<1.14.0rc0,>=1.13.0->tensorflow) (3.0.4)\n",
      "Requirement already satisfied: setuptools in /opt/conda/lib/python3.6/site-packages (from protobuf>=3.6.1->tensorflow) (40.6.2)\n",
      "Requirement already satisfied: werkzeug>=0.11.15 in /opt/conda/lib/python3.6/site-packages (from tensorboard<1.14.0,>=1.13.0->tensorflow) (0.15.2)\n",
      "Requirement already satisfied: markdown>=2.6.8 in /opt/conda/lib/python3.6/site-packages (from tensorboard<1.14.0,>=1.13.0->tensorflow) (3.1)\n",
      "Requirement already satisfied: h5py in /opt/conda/lib/python3.6/site-packages (from keras-applications>=1.0.6->tensorflow) (2.7.1)\n",
      "Requirement already satisfied: chardet<3.1.0,>=3.0.2 in /opt/conda/lib/python3.6/site-packages (from requests->smart-open>=1.7.0->gensim) (3.0.4)\n",
      "Requirement already satisfied: urllib3<1.25,>=1.21.1 in /opt/conda/lib/python3.6/site-packages (from requests->smart-open>=1.7.0->gensim) (1.23)\n",
      "Requirement already satisfied: idna<2.8,>=2.5 in /opt/conda/lib/python3.6/site-packages (from requests->smart-open>=1.7.0->gensim) (2.7)\n",
      "Requirement already satisfied: certifi>=2017.4.17 in /opt/conda/lib/python3.6/site-packages (from requests->smart-open>=1.7.0->gensim) (2018.11.29)\n",
      "Requirement already satisfied: s3transfer<0.3.0,>=0.2.0 in /opt/conda/lib/python3.6/site-packages (from boto3->smart-open>=1.7.0->gensim) (0.2.0)\n",
      "Requirement already satisfied: jmespath<1.0.0,>=0.7.1 in /opt/conda/lib/python3.6/site-packages (from boto3->smart-open>=1.7.0->gensim) (0.9.4)\n",
      "Requirement already satisfied: botocore<1.13.0,>=1.12.142 in /opt/conda/lib/python3.6/site-packages (from boto3->smart-open>=1.7.0->gensim) (1.12.142)\n",
      "Requirement already satisfied: python-dateutil<3.0.0,>=2.1; python_version >= \"2.7\" in /opt/conda/lib/python3.6/site-packages (from botocore<1.13.0,>=1.12.142->boto3->smart-open>=1.7.0->gensim) (2.7.5)\n",
      "Requirement already satisfied: docutils>=0.10 in /opt/conda/lib/python3.6/site-packages (from botocore<1.13.0,>=1.12.142->boto3->smart-open>=1.7.0->gensim) (0.14)\n",
      "Requirement already satisfied: xgboost in /opt/conda/lib/python3.6/site-packages (0.82)\n",
      "Requirement already satisfied: numpy in /opt/conda/lib/python3.6/site-packages (from xgboost) (1.13.3)\n",
      "Requirement already satisfied: scipy in /opt/conda/lib/python3.6/site-packages (from xgboost) (1.1.0)\n",
      "Requirement already satisfied: keras in /opt/conda/lib/python3.6/site-packages (2.2.4)\n",
      "Requirement already satisfied: h5py in /opt/conda/lib/python3.6/site-packages (from keras) (2.7.1)\n",
      "Requirement already satisfied: keras-applications>=1.0.6 in /opt/conda/lib/python3.6/site-packages (from keras) (1.0.7)\n",
      "Requirement already satisfied: six>=1.9.0 in /opt/conda/lib/python3.6/site-packages (from keras) (1.11.0)\n",
      "Requirement already satisfied: pyyaml in /opt/conda/lib/python3.6/site-packages (from keras) (3.13)\n",
      "Requirement already satisfied: numpy>=1.9.1 in /opt/conda/lib/python3.6/site-packages (from keras) (1.13.3)\n",
      "Requirement already satisfied: scipy>=0.14 in /opt/conda/lib/python3.6/site-packages (from keras) (1.1.0)\n",
      "Requirement already satisfied: keras-preprocessing>=1.0.5 in /opt/conda/lib/python3.6/site-packages (from keras) (1.0.9)\n",
      "Requirement already satisfied: nltk in /opt/conda/lib/python3.6/site-packages (3.4.1)\n",
      "Requirement already satisfied: six in /opt/conda/lib/python3.6/site-packages (from nltk) (1.11.0)\n",
      "Collecting string\n",
      "\u001b[31m  Could not find a version that satisfies the requirement string (from versions: )\u001b[0m\n",
      "\u001b[31mNo matching distribution found for string\u001b[0m\n",
      "Requirement already satisfied: tqdm in /opt/conda/lib/python3.6/site-packages (4.31.1)\n"
     ]
    },
    {
     "name": "stderr",
     "output_type": "stream",
     "text": [
      "[nltk_data] Downloading package stopwords to /home/jovyan/nltk_data...\n",
      "[nltk_data]   Package stopwords is already up-to-date!\n",
      "[nltk_data] Downloading package punkt to /home/jovyan/nltk_data...\n",
      "[nltk_data]   Package punkt is already up-to-date!\n",
      "WARNING: Logging before flag parsing goes to stderr.\n",
      "W0506 18:14:10.503599 139801131669312 __init__.py:56] Some hub symbols are not available because TensorFlow version is less than 1.14\n",
      "Using TensorFlow backend.\n"
     ]
    }
   ],
   "source": [
    "!pip install gensim tensorflow wordcloud\n",
    "!pip install -q tensorflow-hub\n",
    "!pip install xgboost\n",
    "!pip install keras\n",
    "!pip install nltk\n",
    "!pip install string\n",
    "!pip install tqdm\n",
    "\n",
    "import gzip\n",
    "import gensim\n",
    "import os\n",
    "import sys\n",
    "import json\n",
    "import shutil\n",
    "import time\n",
    "import re\n",
    "import tarfile\n",
    "import zipfile\n",
    "\n",
    "import numpy as np\n",
    "import pandas as pd\n",
    "import collections\n",
    "import math\n",
    "import random\n",
    "import datetime as dt\n",
    "\n",
    "import matplotlib.pyplot as plt \n",
    "import seaborn as sns\n",
    "%matplotlib inline\n",
    "from wordcloud import WordCloud, STOPWORDS, ImageColorGenerator\n",
    "\n",
    "import string\n",
    "import nltk\n",
    "nltk.download('stopwords')\n",
    "from nltk.corpus import stopwords\n",
    "nltk.download('punkt')\n",
    "from nltk.tokenize import word_tokenize\n",
    "\n",
    "from gensim.test.utils import get_tmpfile\n",
    "from gensim.models import Word2Vec, FastText\n",
    "\n",
    "from tqdm import tqdm\n",
    "tqdm.pandas(desc=\"progress-bar\")\n",
    "from gensim.models import Doc2Vec\n",
    "from gensim.models.doc2vec import LabeledSentence\n",
    "import multiprocessing\n",
    "\n",
    "from sklearn.linear_model import LogisticRegression\n",
    "from sklearn.ensemble import RandomForestClassifier\n",
    "from sklearn.svm import SVC\n",
    "from xgboost import XGBClassifier\n",
    "from sklearn.decomposition import PCA\n",
    "from sklearn.manifold import TSNE\n",
    "from sklearn.pipeline import Pipeline\n",
    "\n",
    "\n",
    "import tensorflow as tf\n",
    "import tensorflow_hub as hub\n",
    "\n",
    "from keras.preprocessing.text import Tokenizer\n",
    "from keras.preprocessing.sequence import pad_sequences\n",
    "from keras.models import Sequential\n",
    "from keras.layers import Embedding,Dense,Flatten,GlobalMaxPooling1D,LSTM,Dropout, Activation,Bidirectional\n",
    "from keras.layers.convolutional import Conv1D,MaxPooling1D \n",
    "from keras.optimizers import Adam\n",
    "\n",
    "from sklearn.model_selection import train_test_split\n",
    "from sklearn.metrics import confusion_matrix, classification_report, accuracy_score, roc_curve, precision_recall_curve \n",
    "from sklearn import utils\n",
    "\n",
    "\"\"\"\n",
    "We will ignore FutureWarning and DeprecationWarning\n",
    "\"\"\"\n",
    "import warnings\n",
    "warnings.filterwarnings(\"ignore\", category=FutureWarning)\n",
    "warnings.filterwarnings(\"ignore\", category=DeprecationWarning)\n",
    "\n",
    "\"\"\"\n",
    "We will ignore warnings\n",
    "\"\"\"\n",
    "warnings.filterwarnings(\"ignore\")\n",
    "\n",
    "if not sys.warnoptions:\n",
    "    warnings.simplefilter(\"ignore\")\n",
    "program_start_time=time.time()"
   ]
  },
  {
   "cell_type": "markdown",
   "metadata": {},
   "source": [
    "#### Perform some housekeeping tasks"
   ]
  },
  {
   "cell_type": "code",
   "execution_count": 2,
   "metadata": {},
   "outputs": [],
   "source": [
    "data_source_url = 'http://sifaka.cs.uiuc.edu/~wang296/Data/LARA/Amazon/AmazonReviews.zip'\n",
    "datasets = '/datasets/'\n",
    "data_file_path = os.getcwd()+datasets+'AmazonReviews.zip'\n",
    "data = 'data_'\n",
    "AMAZON = 'amazon'\n",
    "unzip_folder = os.getcwd()+datasets+data+AMAZON\n",
    "AMAZON_LAPTOPS = 'amazon_laptops'\n",
    "data_folder = os.getcwd()+datasets+data+AMAZON_LAPTOPS\n",
    "data_json_file = data+AMAZON_LAPTOPS+'.json'\n",
    "\n",
    "def check_if_file_exists(file):\n",
    "    '''\n",
    "    Checks if 'file' exists\n",
    "    '''\n",
    "    try:\n",
    "        fh = open(file, 'r')\n",
    "        return True\n",
    "    except FileNotFoundError:\n",
    "        print('Please make sure file: ' + file + ' is present before continuing')\n",
    "        return False\n",
    "\n",
    "def check_if_dir_exists(directory):\n",
    "    '''\n",
    "    Checks if 'directory' exists\n",
    "    '''\n",
    "    return(os.path.isdir(directory))\n",
    "\n",
    "def store_json(write_this_data):\n",
    "    '''\n",
    "    Store json if we are processing the first time\n",
    "    '''\n",
    "    open(data_json_file, 'w').write(json.dumps(write_this_data))\n",
    "\n",
    "def return_data_json(json_file):\n",
    "    '''\n",
    "    Return data json from data json file\n",
    "    '''\n",
    "    with open(json_file, encoding='utf-8') as data_file:\n",
    "        return json.loads(data_file.read())"
   ]
  },
  {
   "cell_type": "markdown",
   "metadata": {},
   "source": [
    "**Download data source**"
   ]
  },
  {
   "cell_type": "code",
   "execution_count": 3,
   "metadata": {},
   "outputs": [
    {
     "name": "stdout",
     "output_type": "stream",
     "text": [
      "Data file already exists. Not downloading again!\n"
     ]
    }
   ],
   "source": [
    "if not check_if_file_exists(data_file_path):\n",
    "    print('Start of data download')\n",
    "    wget.download(data_source_url, os.getcwd()+datasets)\n",
    "    print('Download complete')\n",
    "else:\n",
    "    print('Data file already exists. Not downloading again!')"
   ]
  },
  {
   "cell_type": "code",
   "execution_count": 4,
   "metadata": {},
   "outputs": [
    {
     "name": "stdout",
     "output_type": "stream",
     "text": [
      "Data foler exists. Won't copy again!\n"
     ]
    }
   ],
   "source": [
    "if not check_if_dir_exists(data_folder):\n",
    "    zip_ref = zipfile.ZipFile(data_file_path, 'r')\n",
    "    zip_ref.extractall(unzip_folder)\n",
    "    zip_ref.close()\n",
    "    try:\n",
    "        shutil.copytree(unzip_folder+'/laptops/', data_folder)\n",
    "    except FileExistsError as exc: \n",
    "        print('Already copied')\n",
    "else:\n",
    "    print('Data foler exists. Won\\'t copy again!')"
   ]
  },
  {
   "cell_type": "code",
   "execution_count": 5,
   "metadata": {
    "scrolled": false
   },
   "outputs": [
    {
     "data": {
      "text/plain": [
       "40762"
      ]
     },
     "execution_count": 5,
     "metadata": {},
     "output_type": "execute_result"
    }
   ],
   "source": [
    "data = {}\n",
    "all_reviews = []\n",
    "if not check_if_file_exists(data_json_file):\n",
    "    for root, dirs, files in os.walk(data_folder):\n",
    "        for name in files:\n",
    "            full = os.path.join(root, name)\n",
    "            json_string = return_data_json(full)\n",
    "            for review in json_string['Reviews']:\n",
    "                curr_review = {}\n",
    "                if float(review['Overall']) <= 2.0:\n",
    "                    curr_review[\"rating\"] = 0\n",
    "                else:\n",
    "                    curr_review[\"rating\"] = 1\n",
    "                curr_review[\"review\"] = review['Content']\n",
    "                all_reviews.append(curr_review)\n",
    "    data[AMAZON_LAPTOPS] = all_reviews\n",
    "    store_json(data)\n",
    "pre_loaded_data = return_data_json(data_json_file)\n",
    "len(pre_loaded_data[AMAZON_LAPTOPS])"
   ]
  },
  {
   "cell_type": "markdown",
   "metadata": {},
   "source": [
    "**Creating review dataframe and Data clean up**"
   ]
  },
  {
   "cell_type": "code",
   "execution_count": 6,
   "metadata": {},
   "outputs": [
    {
     "name": "stdout",
     "output_type": "stream",
     "text": [
      "Before Cleanup : Shape of the Data Frame : (40762, 2)\n",
      "Remove missing values.\n",
      "Drop columns with duplicate data.\n",
      "After Cleanup : Shape of the Data Frame : (40744, 2)\n",
      "Counting null data per column.\n"
     ]
    },
    {
     "data": {
      "text/plain": [
       "rating    0\n",
       "review    0\n",
       "dtype: int64"
      ]
     },
     "execution_count": 6,
     "metadata": {},
     "output_type": "execute_result"
    }
   ],
   "source": [
    "amazon_df = pd.DataFrame(pre_loaded_data[AMAZON_LAPTOPS])\n",
    "print('Before Cleanup : Shape of the Data Frame : {}'.format(amazon_df.shape))\n",
    "print('Remove missing values.')\n",
    "amazon_df.dropna(inplace=True)\n",
    "amazon_df.reset_index(drop=True,inplace=True)\n",
    "print('Drop columns with duplicate data.')\n",
    "amazon_df.drop_duplicates()\n",
    "print('After Cleanup : Shape of the Data Frame : {}'.format(amazon_df.shape))\n",
    "print('Counting null data per column.')\n",
    "amazon_df.isnull().sum()"
   ]
  },
  {
   "cell_type": "markdown",
   "metadata": {},
   "source": [
    "* **The dataframe contains 40744 rows and 2 columns**"
   ]
  },
  {
   "cell_type": "markdown",
   "metadata": {},
   "source": [
    "**Let us look at the data types of columns**"
   ]
  },
  {
   "cell_type": "code",
   "execution_count": 7,
   "metadata": {},
   "outputs": [
    {
     "data": {
      "text/plain": [
       "rating     int64\n",
       "review    object\n",
       "dtype: object"
      ]
     },
     "execution_count": 7,
     "metadata": {},
     "output_type": "execute_result"
    }
   ],
   "source": [
    "amazon_df.dtypes"
   ]
  },
  {
   "cell_type": "code",
   "execution_count": 8,
   "metadata": {},
   "outputs": [
    {
     "data": {
      "text/plain": [
       "array([1, 0])"
      ]
     },
     "execution_count": 8,
     "metadata": {},
     "output_type": "execute_result"
    }
   ],
   "source": [
    "\"\"\"\n",
    "Ratings\n",
    "\"\"\"\n",
    "amazon_df.rating.unique()"
   ]
  },
  {
   "cell_type": "markdown",
   "metadata": {},
   "source": [
    "**Let us explore the data a bit using head(), tail(), info(), describe()**"
   ]
  },
  {
   "cell_type": "code",
   "execution_count": 9,
   "metadata": {},
   "outputs": [
    {
     "data": {
      "text/html": [
       "<div>\n",
       "<style scoped>\n",
       "    .dataframe tbody tr th:only-of-type {\n",
       "        vertical-align: middle;\n",
       "    }\n",
       "\n",
       "    .dataframe tbody tr th {\n",
       "        vertical-align: top;\n",
       "    }\n",
       "\n",
       "    .dataframe thead th {\n",
       "        text-align: right;\n",
       "    }\n",
       "</style>\n",
       "<table border=\"1\" class=\"dataframe\">\n",
       "  <thead>\n",
       "    <tr style=\"text-align: right;\">\n",
       "      <th></th>\n",
       "      <th>rating</th>\n",
       "      <th>review</th>\n",
       "    </tr>\n",
       "  </thead>\n",
       "  <tbody>\n",
       "    <tr>\n",
       "      <th>0</th>\n",
       "      <td>1</td>\n",
       "      <td>I've had the S7-391 with 4Gb RAM and a 256 GB ...</td>\n",
       "    </tr>\n",
       "    <tr>\n",
       "      <th>1</th>\n",
       "      <td>1</td>\n",
       "      <td>This would be a 5-star review if it were not f...</td>\n",
       "    </tr>\n",
       "    <tr>\n",
       "      <th>2</th>\n",
       "      <td>1</td>\n",
       "      <td>Exactly as described! Fast laptop. One of the ...</td>\n",
       "    </tr>\n",
       "    <tr>\n",
       "      <th>3</th>\n",
       "      <td>1</td>\n",
       "      <td>I bought this laptop after doing my research a...</td>\n",
       "    </tr>\n",
       "    <tr>\n",
       "      <th>4</th>\n",
       "      <td>0</td>\n",
       "      <td>After living with the Aspire S7 for 5 months, ...</td>\n",
       "    </tr>\n",
       "  </tbody>\n",
       "</table>\n",
       "</div>"
      ],
      "text/plain": [
       "   rating                                             review\n",
       "0       1  I've had the S7-391 with 4Gb RAM and a 256 GB ...\n",
       "1       1  This would be a 5-star review if it were not f...\n",
       "2       1  Exactly as described! Fast laptop. One of the ...\n",
       "3       1  I bought this laptop after doing my research a...\n",
       "4       0  After living with the Aspire S7 for 5 months, ..."
      ]
     },
     "execution_count": 9,
     "metadata": {},
     "output_type": "execute_result"
    }
   ],
   "source": [
    "amazon_df.head()"
   ]
  },
  {
   "cell_type": "code",
   "execution_count": 10,
   "metadata": {},
   "outputs": [
    {
     "data": {
      "text/html": [
       "<div>\n",
       "<style scoped>\n",
       "    .dataframe tbody tr th:only-of-type {\n",
       "        vertical-align: middle;\n",
       "    }\n",
       "\n",
       "    .dataframe tbody tr th {\n",
       "        vertical-align: top;\n",
       "    }\n",
       "\n",
       "    .dataframe thead th {\n",
       "        text-align: right;\n",
       "    }\n",
       "</style>\n",
       "<table border=\"1\" class=\"dataframe\">\n",
       "  <thead>\n",
       "    <tr style=\"text-align: right;\">\n",
       "      <th></th>\n",
       "      <th>rating</th>\n",
       "      <th>review</th>\n",
       "    </tr>\n",
       "  </thead>\n",
       "  <tbody>\n",
       "    <tr>\n",
       "      <th>40739</th>\n",
       "      <td>1</td>\n",
       "      <td>Great to use once you get used to Windows 8 -w...</td>\n",
       "    </tr>\n",
       "    <tr>\n",
       "      <th>40740</th>\n",
       "      <td>1</td>\n",
       "      <td>I love this product. It is amazing and it has ...</td>\n",
       "    </tr>\n",
       "    <tr>\n",
       "      <th>40741</th>\n",
       "      <td>1</td>\n",
       "      <td>It fast and easy to use win 8 battery very goo...</td>\n",
       "    </tr>\n",
       "    <tr>\n",
       "      <th>40742</th>\n",
       "      <td>1</td>\n",
       "      <td>The computer is a bit light,the outside of the...</td>\n",
       "    </tr>\n",
       "    <tr>\n",
       "      <th>40743</th>\n",
       "      <td>0</td>\n",
       "      <td>Screen failed after 3 months and only limited ...</td>\n",
       "    </tr>\n",
       "  </tbody>\n",
       "</table>\n",
       "</div>"
      ],
      "text/plain": [
       "       rating                                             review\n",
       "40739       1  Great to use once you get used to Windows 8 -w...\n",
       "40740       1  I love this product. It is amazing and it has ...\n",
       "40741       1  It fast and easy to use win 8 battery very goo...\n",
       "40742       1  The computer is a bit light,the outside of the...\n",
       "40743       0  Screen failed after 3 months and only limited ..."
      ]
     },
     "execution_count": 10,
     "metadata": {},
     "output_type": "execute_result"
    }
   ],
   "source": [
    "amazon_df.tail()"
   ]
  },
  {
   "cell_type": "code",
   "execution_count": 11,
   "metadata": {},
   "outputs": [
    {
     "name": "stdout",
     "output_type": "stream",
     "text": [
      "<class 'pandas.core.frame.DataFrame'>\n",
      "RangeIndex: 40744 entries, 0 to 40743\n",
      "Data columns (total 2 columns):\n",
      "rating    40744 non-null int64\n",
      "review    40744 non-null object\n",
      "dtypes: int64(1), object(1)\n",
      "memory usage: 636.7+ KB\n"
     ]
    }
   ],
   "source": [
    "amazon_df.info()"
   ]
  },
  {
   "cell_type": "code",
   "execution_count": 12,
   "metadata": {},
   "outputs": [
    {
     "data": {
      "text/html": [
       "<div>\n",
       "<style scoped>\n",
       "    .dataframe tbody tr th:only-of-type {\n",
       "        vertical-align: middle;\n",
       "    }\n",
       "\n",
       "    .dataframe tbody tr th {\n",
       "        vertical-align: top;\n",
       "    }\n",
       "\n",
       "    .dataframe thead th {\n",
       "        text-align: right;\n",
       "    }\n",
       "</style>\n",
       "<table border=\"1\" class=\"dataframe\">\n",
       "  <thead>\n",
       "    <tr style=\"text-align: right;\">\n",
       "      <th></th>\n",
       "      <th>rating</th>\n",
       "    </tr>\n",
       "  </thead>\n",
       "  <tbody>\n",
       "    <tr>\n",
       "      <th>count</th>\n",
       "      <td>40744.000000</td>\n",
       "    </tr>\n",
       "    <tr>\n",
       "      <th>mean</th>\n",
       "      <td>0.807702</td>\n",
       "    </tr>\n",
       "    <tr>\n",
       "      <th>std</th>\n",
       "      <td>0.394111</td>\n",
       "    </tr>\n",
       "    <tr>\n",
       "      <th>min</th>\n",
       "      <td>0.000000</td>\n",
       "    </tr>\n",
       "    <tr>\n",
       "      <th>25%</th>\n",
       "      <td>1.000000</td>\n",
       "    </tr>\n",
       "    <tr>\n",
       "      <th>50%</th>\n",
       "      <td>1.000000</td>\n",
       "    </tr>\n",
       "    <tr>\n",
       "      <th>75%</th>\n",
       "      <td>1.000000</td>\n",
       "    </tr>\n",
       "    <tr>\n",
       "      <th>max</th>\n",
       "      <td>1.000000</td>\n",
       "    </tr>\n",
       "  </tbody>\n",
       "</table>\n",
       "</div>"
      ],
      "text/plain": [
       "             rating\n",
       "count  40744.000000\n",
       "mean       0.807702\n",
       "std        0.394111\n",
       "min        0.000000\n",
       "25%        1.000000\n",
       "50%        1.000000\n",
       "75%        1.000000\n",
       "max        1.000000"
      ]
     },
     "execution_count": 12,
     "metadata": {},
     "output_type": "execute_result"
    }
   ],
   "source": [
    "amazon_df.describe()"
   ]
  },
  {
   "cell_type": "code",
   "execution_count": 13,
   "metadata": {},
   "outputs": [
    {
     "data": {
      "text/html": [
       "<div>\n",
       "<style scoped>\n",
       "    .dataframe tbody tr th:only-of-type {\n",
       "        vertical-align: middle;\n",
       "    }\n",
       "\n",
       "    .dataframe tbody tr th {\n",
       "        vertical-align: top;\n",
       "    }\n",
       "\n",
       "    .dataframe thead th {\n",
       "        text-align: right;\n",
       "    }\n",
       "</style>\n",
       "<table border=\"1\" class=\"dataframe\">\n",
       "  <thead>\n",
       "    <tr style=\"text-align: right;\">\n",
       "      <th></th>\n",
       "      <th>review</th>\n",
       "    </tr>\n",
       "  </thead>\n",
       "  <tbody>\n",
       "    <tr>\n",
       "      <th>count</th>\n",
       "      <td>40744</td>\n",
       "    </tr>\n",
       "    <tr>\n",
       "      <th>unique</th>\n",
       "      <td>36471</td>\n",
       "    </tr>\n",
       "    <tr>\n",
       "      <th>top</th>\n",
       "      <td>Customers service is a crapI bought this lapto...</td>\n",
       "    </tr>\n",
       "    <tr>\n",
       "      <th>freq</th>\n",
       "      <td>11</td>\n",
       "    </tr>\n",
       "  </tbody>\n",
       "</table>\n",
       "</div>"
      ],
      "text/plain": [
       "                                                   review\n",
       "count                                               40744\n",
       "unique                                              36471\n",
       "top     Customers service is a crapI bought this lapto...\n",
       "freq                                                   11"
      ]
     },
     "execution_count": 13,
     "metadata": {},
     "output_type": "execute_result"
    }
   ],
   "source": [
    "amazon_df.describe(include='object')"
   ]
  },
  {
   "cell_type": "code",
   "execution_count": 14,
   "metadata": {},
   "outputs": [
    {
     "data": {
      "text/html": [
       "<div>\n",
       "<style scoped>\n",
       "    .dataframe tbody tr th:only-of-type {\n",
       "        vertical-align: middle;\n",
       "    }\n",
       "\n",
       "    .dataframe tbody tr th {\n",
       "        vertical-align: top;\n",
       "    }\n",
       "\n",
       "    .dataframe thead th {\n",
       "        text-align: right;\n",
       "    }\n",
       "</style>\n",
       "<table border=\"1\" class=\"dataframe\">\n",
       "  <thead>\n",
       "    <tr style=\"text-align: right;\">\n",
       "      <th></th>\n",
       "      <th>rating</th>\n",
       "      <th>review</th>\n",
       "    </tr>\n",
       "  </thead>\n",
       "  <tbody>\n",
       "    <tr>\n",
       "      <th>count</th>\n",
       "      <td>40744.000000</td>\n",
       "      <td>40744</td>\n",
       "    </tr>\n",
       "    <tr>\n",
       "      <th>unique</th>\n",
       "      <td>NaN</td>\n",
       "      <td>36471</td>\n",
       "    </tr>\n",
       "    <tr>\n",
       "      <th>top</th>\n",
       "      <td>NaN</td>\n",
       "      <td>Customers service is a crapI bought this lapto...</td>\n",
       "    </tr>\n",
       "    <tr>\n",
       "      <th>freq</th>\n",
       "      <td>NaN</td>\n",
       "      <td>11</td>\n",
       "    </tr>\n",
       "    <tr>\n",
       "      <th>mean</th>\n",
       "      <td>0.807702</td>\n",
       "      <td>NaN</td>\n",
       "    </tr>\n",
       "    <tr>\n",
       "      <th>std</th>\n",
       "      <td>0.394111</td>\n",
       "      <td>NaN</td>\n",
       "    </tr>\n",
       "    <tr>\n",
       "      <th>min</th>\n",
       "      <td>0.000000</td>\n",
       "      <td>NaN</td>\n",
       "    </tr>\n",
       "    <tr>\n",
       "      <th>25%</th>\n",
       "      <td>1.000000</td>\n",
       "      <td>NaN</td>\n",
       "    </tr>\n",
       "    <tr>\n",
       "      <th>50%</th>\n",
       "      <td>1.000000</td>\n",
       "      <td>NaN</td>\n",
       "    </tr>\n",
       "    <tr>\n",
       "      <th>75%</th>\n",
       "      <td>1.000000</td>\n",
       "      <td>NaN</td>\n",
       "    </tr>\n",
       "    <tr>\n",
       "      <th>max</th>\n",
       "      <td>1.000000</td>\n",
       "      <td>NaN</td>\n",
       "    </tr>\n",
       "  </tbody>\n",
       "</table>\n",
       "</div>"
      ],
      "text/plain": [
       "              rating                                             review\n",
       "count   40744.000000                                              40744\n",
       "unique           NaN                                              36471\n",
       "top              NaN  Customers service is a crapI bought this lapto...\n",
       "freq             NaN                                                 11\n",
       "mean        0.807702                                                NaN\n",
       "std         0.394111                                                NaN\n",
       "min         0.000000                                                NaN\n",
       "25%         1.000000                                                NaN\n",
       "50%         1.000000                                                NaN\n",
       "75%         1.000000                                                NaN\n",
       "max         1.000000                                                NaN"
      ]
     },
     "execution_count": 14,
     "metadata": {},
     "output_type": "execute_result"
    }
   ],
   "source": [
    "amazon_df.describe(include='all')"
   ]
  },
  {
   "cell_type": "markdown",
   "metadata": {},
   "source": [
    "**Creating a new column called \"review_length\" which is the length of the review column.**"
   ]
  },
  {
   "cell_type": "code",
   "execution_count": 15,
   "metadata": {},
   "outputs": [
    {
     "data": {
      "text/html": [
       "<div>\n",
       "<style scoped>\n",
       "    .dataframe tbody tr th:only-of-type {\n",
       "        vertical-align: middle;\n",
       "    }\n",
       "\n",
       "    .dataframe tbody tr th {\n",
       "        vertical-align: top;\n",
       "    }\n",
       "\n",
       "    .dataframe thead th {\n",
       "        text-align: right;\n",
       "    }\n",
       "</style>\n",
       "<table border=\"1\" class=\"dataframe\">\n",
       "  <thead>\n",
       "    <tr style=\"text-align: right;\">\n",
       "      <th></th>\n",
       "      <th>rating</th>\n",
       "      <th>review</th>\n",
       "      <th>review_length</th>\n",
       "    </tr>\n",
       "  </thead>\n",
       "  <tbody>\n",
       "    <tr>\n",
       "      <th>0</th>\n",
       "      <td>1</td>\n",
       "      <td>I've had the S7-391 with 4Gb RAM and a 256 GB ...</td>\n",
       "      <td>2341</td>\n",
       "    </tr>\n",
       "    <tr>\n",
       "      <th>1</th>\n",
       "      <td>1</td>\n",
       "      <td>This would be a 5-star review if it were not f...</td>\n",
       "      <td>1771</td>\n",
       "    </tr>\n",
       "    <tr>\n",
       "      <th>2</th>\n",
       "      <td>1</td>\n",
       "      <td>Exactly as described! Fast laptop. One of the ...</td>\n",
       "      <td>166</td>\n",
       "    </tr>\n",
       "    <tr>\n",
       "      <th>3</th>\n",
       "      <td>1</td>\n",
       "      <td>I bought this laptop after doing my research a...</td>\n",
       "      <td>919</td>\n",
       "    </tr>\n",
       "    <tr>\n",
       "      <th>4</th>\n",
       "      <td>0</td>\n",
       "      <td>After living with the Aspire S7 for 5 months, ...</td>\n",
       "      <td>1920</td>\n",
       "    </tr>\n",
       "  </tbody>\n",
       "</table>\n",
       "</div>"
      ],
      "text/plain": [
       "   rating                                             review  review_length\n",
       "0       1  I've had the S7-391 with 4Gb RAM and a 256 GB ...           2341\n",
       "1       1  This would be a 5-star review if it were not f...           1771\n",
       "2       1  Exactly as described! Fast laptop. One of the ...            166\n",
       "3       1  I bought this laptop after doing my research a...            919\n",
       "4       0  After living with the Aspire S7 for 5 months, ...           1920"
      ]
     },
     "execution_count": 15,
     "metadata": {},
     "output_type": "execute_result"
    }
   ],
   "source": [
    "amazon_df['review_length'] = amazon_df['review'].apply(len)\n",
    "amazon_df.head()"
   ]
  },
  {
   "cell_type": "markdown",
   "metadata": {},
   "source": [
    "#### **Data Visualization and Exploratory Data Analysis**"
   ]
  },
  {
   "cell_type": "markdown",
   "metadata": {},
   "source": [
    "**Using FacetGrid from the seaborn library to create a grid of two histograms of review_length based off of the ratings**\n",
    "\n",
    "[FacetGrid reference](https://seaborn.pydata.org/generated/seaborn.FacetGrid.html)"
   ]
  },
  {
   "cell_type": "code",
   "execution_count": 16,
   "metadata": {},
   "outputs": [],
   "source": [
    "sns.set_style('darkgrid')"
   ]
  },
  {
   "cell_type": "code",
   "execution_count": 17,
   "metadata": {},
   "outputs": [
    {
     "data": {
      "image/png": "[encoded data removed]",
      "text/plain": [
       "<Figure size 720x360 with 2 Axes>"
      ]
     },
     "metadata": {},
     "output_type": "display_data"
    }
   ],
   "source": [
    "g = sns.FacetGrid(amazon_df,col='rating',size=5)\n",
    "g.map(plt.hist,'review_length',bins=50)\n",
    "plt.show()"
   ]
  },
  {
   "cell_type": "markdown",
   "metadata": {},
   "source": [
    "Let's try to explain why the x-axis goes all the way to 20000ish, this must mean that there is some really long message!"
   ]
  },
  {
   "cell_type": "code",
   "execution_count": 18,
   "metadata": {},
   "outputs": [
    {
     "data": {
      "text/plain": [
       "count    40744.000000\n",
       "mean       828.389873\n",
       "std       1270.138594\n",
       "min          3.000000\n",
       "25%        185.000000\n",
       "50%        407.000000\n",
       "75%        932.000000\n",
       "max      21649.000000\n",
       "Name: review_length, dtype: float64"
      ]
     },
     "execution_count": 18,
     "metadata": {},
     "output_type": "execute_result"
    }
   ],
   "source": [
    "amazon_df.review_length.describe()"
   ]
  },
  {
   "cell_type": "markdown",
   "metadata": {},
   "source": [
    "* Max review_length 21649.000000 means review is 21649 character long"
   ]
  },
  {
   "cell_type": "markdown",
   "metadata": {},
   "source": [
    "**Creating a boxplot of review_length for each rating category.**"
   ]
  },
  {
   "cell_type": "code",
   "execution_count": 19,
   "metadata": {},
   "outputs": [
    {
     "data": {
      "image/png": "[encoded data removed]",
      "text/plain": [
       "<Figure size 720x576 with 1 Axes>"
      ]
     },
     "metadata": {},
     "output_type": "display_data"
    }
   ],
   "source": [
    "plt.figure(figsize=(10,8))\n",
    "sns.boxplot(x='rating',y='review_length',data=amazon_df,palette='rainbow')\n",
    "plt.title(\"Boxplot of review length for each rating category.\",fontsize=16)\n",
    "plt.xlabel(\"Rating\",fontsize=14)\n",
    "plt.ylabel(\"Review Length\",fontsize=14)\n",
    "plt.show()"
   ]
  },
  {
   "cell_type": "markdown",
   "metadata": {},
   "source": [
    "* Looking at the box and whisker plots for the review_length in words, we can see an exponential distribution. We can observe that the mass of the distribution can possibly be covered with 900 to 1000 words."
   ]
  },
  {
   "cell_type": "markdown",
   "metadata": {},
   "source": [
    "**Creating a countplot of the number of occurrences for each type of rating.**"
   ]
  },
  {
   "cell_type": "code",
   "execution_count": 20,
   "metadata": {},
   "outputs": [
    {
     "data": {
      "image/png": "[encoded data removed]",
      "text/plain": [
       "<Figure size 720x576 with 1 Axes>"
      ]
     },
     "metadata": {},
     "output_type": "display_data"
    }
   ],
   "source": [
    "plt.figure(figsize=(10,8))\n",
    "sns.countplot(x='rating',data=amazon_df,palette='winter')\n",
    "plt.title(\"Number of occurrences for each type of rating\",fontsize=16)\n",
    "plt.xlabel(\"Rating\",fontsize=14)\n",
    "plt.ylabel(\"Number of occurrences\",fontsize=14)\n",
    "plt.show()"
   ]
  },
  {
   "cell_type": "markdown",
   "metadata": {},
   "source": [
    "**Pre-processing of review text**\n",
    "\n",
    "[Regex reference](https://stackoverflow.com/questions/9662346/python-code-to-remove-html-tags-from-a-string/9662410)"
   ]
  },
  {
   "cell_type": "code",
   "execution_count": 21,
   "metadata": {},
   "outputs": [],
   "source": [
    "def review_preprocess(review):\n",
    "    \"\"\"\n",
    "    Takes in a string of review, then performs the following:\n",
    "    1. Remove HTML tag from review\n",
    "    2. Remove URLs from review\n",
    "    3. Make entire review lowercase\n",
    "    4. Split the review in words\n",
    "    5. Remove all punctuation\n",
    "    6. Remove empty strings from review\n",
    "    7. Remove all stopwords\n",
    "    8. Returns a list of the cleaned review after jioning them back to a sentence\n",
    "    \"\"\"\n",
    "    en_stops = set(stopwords.words('english'))\n",
    "    \n",
    "    \"\"\"\n",
    "    Removing HTML tag from review\n",
    "    \"\"\"\n",
    "    clean = re.compile('<.*?>')\n",
    "    review_without_tag = re.sub(clean, '', review) \n",
    "    \n",
    "    \n",
    "    \"\"\"\n",
    "    Removing URLs\n",
    "    \"\"\"\n",
    "    review_without_tag_and_url = re.sub(r\"http\\S+\", \"\", review_without_tag)\n",
    "    \n",
    "    review_without_tag_and_url = re.sub(r\"www\\S+\", \"\", review_without_tag)\n",
    "    \n",
    "    \"\"\"\n",
    "    Make entire string lowercase\n",
    "    \"\"\"\n",
    "    review_lowercase = review_without_tag_and_url.lower()\n",
    "    \n",
    "    \"\"\"\n",
    "    Split string into words\n",
    "    \"\"\"\n",
    "    list_of_words = word_tokenize(review_lowercase)\n",
    "    \n",
    "    \n",
    "    \"\"\"\n",
    "    Remove punctuation\n",
    "    Checking characters to see if they are in punctuation\n",
    "    \"\"\"\n",
    "\n",
    "    list_of_words_without_punctuation=[''.join(this_char for this_char in this_string if (this_char in string.ascii_lowercase))for this_string in list_of_words]\n",
    "     \n",
    "    \n",
    "    \"\"\"\n",
    "    Remove empty strings\n",
    "    \"\"\"\n",
    "    list_of_words_without_punctuation = list(filter(None, list_of_words_without_punctuation))\n",
    "    \n",
    "    \n",
    "    \"\"\"\n",
    "    Remove any stopwords\n",
    "    \"\"\"\n",
    "  \n",
    "    filtered_word_list = [w for w in list_of_words_without_punctuation if w not in en_stops] \n",
    "    \n",
    "    \"\"\"\n",
    "    Returns a list of the cleaned review after jioning them back to a sentence\n",
    "    \"\"\"\n",
    "    return ' '.join(filtered_word_list)"
   ]
  },
  {
   "cell_type": "code",
   "execution_count": 22,
   "metadata": {},
   "outputs": [
    {
     "data": {
      "text/plain": [
       "40739    Great to use once you get used to Windows 8 -w...\n",
       "40740    I love this product. It is amazing and it has ...\n",
       "40741    It fast and easy to use win 8 battery very goo...\n",
       "40742    The computer is a bit light,the outside of the...\n",
       "40743    Screen failed after 3 months and only limited ...\n",
       "Name: review, dtype: object"
      ]
     },
     "execution_count": 22,
     "metadata": {},
     "output_type": "execute_result"
    }
   ],
   "source": [
    "\"\"\"\n",
    "Here is the original reviews:\n",
    "\"\"\"\n",
    "amazon_df['review'].tail()"
   ]
  },
  {
   "cell_type": "markdown",
   "metadata": {},
   "source": [
    "**Applying pre-processing to reviews**"
   ]
  },
  {
   "cell_type": "code",
   "execution_count": 23,
   "metadata": {},
   "outputs": [
    {
     "name": "stdout",
     "output_type": "stream",
     "text": [
      "Elapsed time for review preprocessing :  1.522184415658315  in minutes\n"
     ]
    }
   ],
   "source": [
    "start_time=time.time()\n",
    "amazon_df['review']=amazon_df['review'].apply(review_preprocess)\n",
    "print('Elapsed time for review preprocessing : ',((time.time()-start_time)/60),' in minutes')"
   ]
  },
  {
   "cell_type": "code",
   "execution_count": 24,
   "metadata": {},
   "outputs": [
    {
     "data": {
      "text/plain": [
       "40739    great use get used windows lovevery slickcompu...\n",
       "40740    love product amazing cool feature like multifu...\n",
       "40741    fast easy use win battery good feel comf brand...\n",
       "40742    computer bit light outside computer elegant dr...\n",
       "40743    screen failed months limited use contacted son...\n",
       "Name: review, dtype: object"
      ]
     },
     "execution_count": 24,
     "metadata": {},
     "output_type": "execute_result"
    }
   ],
   "source": [
    "\"\"\"\n",
    "Here is the reviews after preprocessing :\n",
    "\"\"\"\n",
    "amazon_df['review'].tail()"
   ]
  },
  {
   "cell_type": "markdown",
   "metadata": {},
   "source": [
    "#### The term frequency distribution of words in the review is obtained using nltk.FreqDist(). This provides us a rough idea of the main topic in the review dataset.\n",
    "\n",
    "[FreqDist reference](http://www.nltk.org/api/nltk.html?highlight=freqdist)"
   ]
  },
  {
   "cell_type": "code",
   "execution_count": 25,
   "metadata": {
    "scrolled": false
   },
   "outputs": [
    {
     "name": "stdout",
     "output_type": "stream",
     "text": [
      "Number of vocabulary : 84381\n"
     ]
    },
    {
     "data": {
      "text/plain": [
       "['laptop',\n",
       " 'nt',\n",
       " 'computer',\n",
       " 'windows',\n",
       " 'use',\n",
       " 'one',\n",
       " 'screen',\n",
       " 'like',\n",
       " 'would',\n",
       " 'great',\n",
       " 'get',\n",
       " 'good',\n",
       " 'keyboard',\n",
       " 'battery',\n",
       " 'really',\n",
       " 'time',\n",
       " 'also',\n",
       " 'work',\n",
       " 'well',\n",
       " 'even',\n",
       " 'drive',\n",
       " 'much',\n",
       " 'new',\n",
       " 'price',\n",
       " 'fast',\n",
       " 'machine',\n",
       " 'used',\n",
       " 'gb',\n",
       " 'bought',\n",
       " 'need',\n",
       " 'still',\n",
       " 'buy',\n",
       " 'could',\n",
       " 'love',\n",
       " 'using',\n",
       " 'first',\n",
       " 'macbook',\n",
       " 'back',\n",
       " 'little',\n",
       " 'hard',\n",
       " 'life',\n",
       " 'got',\n",
       " 'better',\n",
       " 'chromebook',\n",
       " 'nice',\n",
       " 'problem',\n",
       " 'apple',\n",
       " 'works',\n",
       " 'thing',\n",
       " 'hp']"
      ]
     },
     "execution_count": 25,
     "metadata": {},
     "output_type": "execute_result"
    }
   ],
   "source": [
    "reviews = amazon_df['review'].str.cat(sep=' ')\n",
    "\n",
    "\"\"\"\n",
    "function to split review into word\n",
    "\"\"\"\n",
    "tokens = word_tokenize(reviews)\n",
    "\n",
    "vocabulary = set(tokens)\n",
    "print('Number of vocabulary : {}'.format(len(vocabulary)))\n",
    "\n",
    "frequency_distribution = nltk.FreqDist(tokens)\n",
    "sorted(frequency_distribution,key=frequency_distribution.__getitem__, reverse=True)[0:50]"
   ]
  },
  {
   "cell_type": "markdown",
   "metadata": {},
   "source": [
    "#### Wordcloud visualization of frequent words\n",
    "\n",
    "[Wordcloud reference](https://www.geeksforgeeks.org/generating-word-cloud-python/)"
   ]
  },
  {
   "cell_type": "code",
   "execution_count": 26,
   "metadata": {},
   "outputs": [
    {
     "data": {
      "image/png": "[encoded data removed]",
      "text/plain": [
       "<Figure size 432x288 with 1 Axes>"
      ]
     },
     "metadata": {},
     "output_type": "display_data"
    }
   ],
   "source": [
    "wordcloud = WordCloud().generate_from_frequencies(frequency_distribution)\n",
    "plt.imshow(wordcloud)\n",
    "plt.axis(\"off\")\n",
    "plt.show()"
   ]
  },
  {
   "cell_type": "markdown",
   "metadata": {},
   "source": [
    "#### Train, test split"
   ]
  },
  {
   "cell_type": "code",
   "execution_count": 27,
   "metadata": {},
   "outputs": [],
   "source": [
    "def split_train_test(x, y):\n",
    "    SEED = 2000\n",
    "    x_train, x_validation_and_test, y_train, y_validation_and_test = train_test_split(x, y, test_size=.2, random_state=SEED)\n",
    "    x_validation, x_test, y_validation, y_test = train_test_split(x_validation_and_test, y_validation_and_test, test_size=.5, random_state=SEED)\n",
    "    return x_train, y_train, x_test, y_test, x_validation, y_validation, pd.concat([x_train,x_validation,x_test])"
   ]
  },
  {
   "cell_type": "code",
   "execution_count": 28,
   "metadata": {},
   "outputs": [],
   "source": [
    "X = amazon_df.review\n",
    "y = amazon_df.rating\n",
    "x_train, y_train, x_test, y_test, x_validation, y_validation, all_reviews = split_train_test(X, y)"
   ]
  },
  {
   "cell_type": "markdown",
   "metadata": {},
   "source": [
    "### We are done pre-processing! Now on to the data analysis and machine learning tasks...\n",
    "\n",
    "* In the next code cell we reload data if needed or for first time load we simply read data into lists of tokenized items\n",
    "* Then we train the Word2Vec model"
   ]
  },
  {
   "cell_type": "markdown",
   "metadata": {},
   "source": [
    "<span style=\"display:block;text-align:center\">![hobbits](hobbits.jpg)\n",
    "\n",
    "### Concerning embeddings:\n",
    "* Developed by [Tomas Mikolov in 2013 at Google](https://arxiv.org/pdf/1310.4546.pdf), **Word2Vec** is one of the most popular algorithms to train \"word embeddings\" using a shallow two layer neural networks having one input layer, one hidden layer and one output layer. There are two models for generating word embeddings, i.e. CBOW and Skip-gram.\n",
    "* **Word Embedding** is a language modeling technique that uses vectors with several dimensions to represent words from large amounts of unstructured text data. Word embeddings can be generated using various methods like neural networks, co-occurrence matrix, probabilistic models, etc.\n",
    "* **CBOW (Continuous Bag of Words) model** CBOW model predicts the current word given a context of words. The input layer contains context words and the output layer contains current predicted word. The hidden layer contains the number of dimensions in which we want to represent current word at output layer. The CBOW architecture is shown below ([image credit: Google](https://www.google.com/search?q=cbow&newwindow=1&source=lnms&tbm=isch&sa=X&ved=0ahUKEwibmL_l0YLiAhWoT98KHX8QAisQ_AUIDigB&biw=1855&bih=906))\n",
    "\n",
    "<span style=\"display:block;text-align:center\">![CBOW](CBOW_ORIGINAL.png)\n",
    "\n",
    "* **Skip-gram model** flips CBOW's network architecture and aims to predict context given a word. Given current word, Skip gram predicts the surrounding context words. Input layer for it contains the current word and output layer provides the context words. The hidden layer consists of number of dimensions in which we want to represent current input word.The skip-gram architecture is shown below ([image credit: Google](https://www.google.com/search?q=skip+gram&newwindow=1&source=lnms&tbm=isch&sa=X&ved=0ahUKEwjSirSW0oLiAhUOd98KHbbgA5EQ_AUIDygC&biw=1855&bih=952))\n",
    "\n",
    "<span style=\"display:block;text-align:center\">![SG](skip.png)"
   ]
  },
  {
   "cell_type": "markdown",
   "metadata": {},
   "source": [
    "* For our Word2Vec modeling we have used CBOW as it is faster and have better representation for more frequent words.\n",
    "\n",
    "[Word2Vec reference](https://radimrehurek.com/gensim/models/word2vec.html)"
   ]
  },
  {
   "cell_type": "markdown",
   "metadata": {},
   "source": [
    "**Reload previously processed model if exists**"
   ]
  },
  {
   "cell_type": "code",
   "execution_count": 29,
   "metadata": {},
   "outputs": [],
   "source": [
    "list_of_tokenized_reviews = []\n",
    "skip_modeling = False\n",
    "\n",
    "filename_to_save_model = AMAZON_LAPTOPS + \".model\"\n",
    "if check_if_file_exists(filename_to_save_model):\n",
    "    skip_modeling = True"
   ]
  },
  {
   "cell_type": "code",
   "execution_count": 30,
   "metadata": {},
   "outputs": [
    {
     "name": "stderr",
     "output_type": "stream",
     "text": [
      "W0506 18:16:04.071289 139801131669312 smart_open_lib.py:385] this function is deprecated, use smart_open.open instead\n"
     ]
    }
   ],
   "source": [
    "if not skip_modeling:\n",
    "    for one_sentence in all_reviews:\n",
    "        list_of_tokenized_reviews.append(gensim.utils.simple_preprocess(one_sentence))\n",
    "    model = Word2Vec(list_of_tokenized_reviews, size=150, window=10, min_count=2, workers=10)\n",
    "    model.save(filename_to_save_model)\n",
    "    model = Word2Vec.load(filename_to_save_model)\n",
    "else:\n",
    "    model = Word2Vec.load(filename_to_save_model)"
   ]
  },
  {
   "cell_type": "markdown",
   "metadata": {},
   "source": [
    "#### Let's look at some output"
   ]
  },
  {
   "cell_type": "code",
   "execution_count": 31,
   "metadata": {},
   "outputs": [
    {
     "data": {
      "text/plain": [
       "[('horrible', 0.863848865032196),\n",
       " ('awful', 0.8366063833236694),\n",
       " ('poor', 0.6874389052391052),\n",
       " ('crappy', 0.6861168146133423),\n",
       " ('bad', 0.680998682975769),\n",
       " ('suck', 0.6512565016746521),\n",
       " ('sucks', 0.6458801031112671),\n",
       " ('subpar', 0.6320646405220032),\n",
       " ('worst', 0.6144826412200928),\n",
       " ('stupid', 0.5905051231384277)]"
      ]
     },
     "execution_count": 31,
     "metadata": {},
     "output_type": "execute_result"
    }
   ],
   "source": [
    "\"\"\"\n",
    "look up top 10 words similar to the word 'terrible'.\n",
    "\"\"\"\n",
    "w1 = \"terrible\"\n",
    "model.wv.most_similar(positive=w1)"
   ]
  },
  {
   "cell_type": "code",
   "execution_count": 32,
   "metadata": {},
   "outputs": [
    {
     "data": {
      "text/plain": [
       "[('fantastic', 0.7522412538528442),\n",
       " ('outstanding', 0.7373641133308411),\n",
       " ('superb', 0.7291960716247559),\n",
       " ('terrific', 0.7222232818603516),\n",
       " ('wonderful', 0.6978937983512878),\n",
       " ('great', 0.695469856262207),\n",
       " ('exceptional', 0.646528422832489),\n",
       " ('incredible', 0.6273177862167358),\n",
       " ('fabulous', 0.6217853426933289),\n",
       " ('good', 0.6088477373123169)]"
      ]
     },
     "execution_count": 32,
     "metadata": {},
     "output_type": "execute_result"
    }
   ],
   "source": [
    "\"\"\"\n",
    "look up top 10 words similar to 'excellent'\n",
    "\"\"\"\n",
    "w1 = [\"excellent\"]\n",
    "model.wv.most_similar (positive=w1)"
   ]
  },
  {
   "cell_type": "code",
   "execution_count": 33,
   "metadata": {},
   "outputs": [
    {
     "data": {
      "text/plain": [
       "[('macs', 0.6919459700584412),\n",
       " ('imac', 0.5886913537979126),\n",
       " ('apple', 0.5822550654411316),\n",
       " ('osx', 0.5632225275039673),\n",
       " ('snow', 0.5617016553878784),\n",
       " ('apples', 0.5597377419471741),\n",
       " ('pcs', 0.5570902228355408),\n",
       " ('macintosh', 0.5568829774856567)]"
      ]
     },
     "execution_count": 33,
     "metadata": {},
     "output_type": "execute_result"
    }
   ],
   "source": [
    "\"\"\"\n",
    "look up top 8 words similar to 'mac'\n",
    "\"\"\"\n",
    "w1 = [\"mac\"]\n",
    "model.wv.most_similar (positive=w1,topn=8)"
   ]
  },
  {
   "cell_type": "code",
   "execution_count": 34,
   "metadata": {},
   "outputs": [
    {
     "data": {
      "text/plain": [
       "[('problem', 0.9046769738197327),\n",
       " ('issues', 0.750947117805481),\n",
       " ('problems', 0.6805667877197266),\n",
       " ('bug', 0.678601086139679),\n",
       " ('glitch', 0.6227734684944153)]"
      ]
     },
     "execution_count": 34,
     "metadata": {},
     "output_type": "execute_result"
    }
   ],
   "source": [
    "\"\"\"\n",
    "look up top 5 words similar to 'issue'\n",
    "\"\"\"\n",
    "w1 = [\"issue\"]\n",
    "model.wv.most_similar (positive=w1,topn=5)"
   ]
  },
  {
   "cell_type": "code",
   "execution_count": 35,
   "metadata": {},
   "outputs": [
    {
     "data": {
      "text/plain": [
       "-0.13857192"
      ]
     },
     "execution_count": 35,
     "metadata": {},
     "output_type": "execute_result"
    }
   ],
   "source": [
    "\"\"\"\n",
    "similarity between two different words\n",
    "\"\"\"\n",
    "model.wv.similarity(w1=\"great\",w2=\"worse\")"
   ]
  },
  {
   "cell_type": "code",
   "execution_count": 36,
   "metadata": {},
   "outputs": [
    {
     "data": {
      "text/plain": [
       "1.0"
      ]
     },
     "execution_count": 36,
     "metadata": {},
     "output_type": "execute_result"
    }
   ],
   "source": [
    "\"\"\"\n",
    "similarity between two identical words\n",
    "\"\"\"\n",
    "model.wv.similarity(w1=\"outstanding\",w2=\"outstanding\")"
   ]
  },
  {
   "cell_type": "code",
   "execution_count": 37,
   "metadata": {},
   "outputs": [
    {
     "data": {
      "text/plain": [
       "0.73736417"
      ]
     },
     "execution_count": 37,
     "metadata": {},
     "output_type": "execute_result"
    }
   ],
   "source": [
    "\"\"\"\n",
    "similarity between two related words\n",
    "\"\"\"\n",
    "model.wv.similarity(w1=\"excellent\",w2=\"outstanding\")"
   ]
  },
  {
   "cell_type": "code",
   "execution_count": 38,
   "metadata": {},
   "outputs": [
    {
     "data": {
      "text/plain": [
       "'disapointed'"
      ]
     },
     "execution_count": 38,
     "metadata": {},
     "output_type": "execute_result"
    }
   ],
   "source": [
    "\"\"\"\n",
    "Which one is the odd one out in this list?\n",
    "\"\"\"\n",
    "model.wv.doesnt_match([\"best\",\"great\",\"good\",\"disapointed\"])"
   ]
  },
  {
   "cell_type": "code",
   "execution_count": 39,
   "metadata": {},
   "outputs": [
    {
     "data": {
      "text/plain": [
       "'wire'"
      ]
     },
     "execution_count": 39,
     "metadata": {},
     "output_type": "execute_result"
    }
   ],
   "source": [
    "\"\"\"\n",
    "Which one is the odd one out in this list?\n",
    "\"\"\"\n",
    "model.wv.doesnt_match([\"mac\",\"ipad\",\"mackbook\",\"wire\"])"
   ]
  },
  {
   "cell_type": "markdown",
   "metadata": {},
   "source": [
    "* **Using dimensionality reduction algorithms like PCA and t-SNE to convert multi-dimensional word vectors to two dimensional plots**\n",
    "* The goal is to plot our 150 dimensions vectors into 2 dimensional graphs, and check if we can spot interesting patterns.\n",
    "* Using PCA and t-SNE implementation from scikit-learn for dimension reductions.\n",
    "* In the visualizations we will look at query word (in **blue**), and most similar words (in **green**), and list of words passed in the function (in **red**)."
   ]
  },
  {
   "cell_type": "code",
   "execution_count": 40,
   "metadata": {},
   "outputs": [],
   "source": [
    "def word_vectors_plot(model, input_word, word_list):\n",
    "    \"\"\" \n",
    "    Seaborn plot results of query word and most similar words, alongwith other words in corpus\n",
    "    \"\"\"\n",
    "    word_arrays = np.empty((0, 150), dtype='f')\n",
    "    word_tags = [input_word]\n",
    "    color_list  = ['blue']\n",
    "\n",
    "    \"\"\"\n",
    "    Creating Vector of query word\n",
    "    \"\"\"\n",
    "    word_arrays = np.append(word_arrays, model.wv.__getitem__([input_word]), axis=0)\n",
    "    \n",
    "    \"\"\"\n",
    "    Find similar words\n",
    "    \"\"\"\n",
    "    similar_words = model.wv.most_similar([input_word],topn=8)\n",
    "    \n",
    "    \"\"\"\n",
    "    Insert word vector for similar words into array\n",
    "    \"\"\"\n",
    "    for word_score in similar_words:\n",
    "        word_vector = model.wv.__getitem__([word_score[0]])\n",
    "        word_tags.append(word_score[0])\n",
    "        color_list.append('green')\n",
    "        word_arrays = np.append(word_arrays, word_vector, axis=0)\n",
    "    \n",
    "    \"\"\"\n",
    "    Insert word vectors for other words into array\n",
    "    \"\"\"\n",
    "    for word in word_list:\n",
    "        word_vector = model.wv.__getitem__([word])\n",
    "        word_tags.append(word)\n",
    "        color_list.append('red')\n",
    "        word_arrays = np.append(word_arrays, word_vector, axis=0)\n",
    "        \n",
    "    \"\"\"\n",
    "    Dimensionality from 150 to 17 dimensions with PCA\n",
    "    \"\"\"\n",
    "    reduce = PCA(n_components=17).fit_transform(word_arrays)\n",
    "    \n",
    "    \n",
    "    \"\"\"\n",
    "    Finds t-SNE coordinates for 2 dimensions\n",
    "    \"\"\"\n",
    "    np.set_printoptions(suppress=True)\n",
    "    \n",
    "    Y = TSNE(n_components=2, random_state=0, perplexity=15).fit_transform(reduce)\n",
    "    \n",
    "    \n",
    "    \"\"\"\n",
    "    Sets everything up to plot\n",
    "    \"\"\"\n",
    "    df = pd.DataFrame({'x': [x for x in Y[:, 0]],\n",
    "                       'y': [y for y in Y[:, 1]],\n",
    "                       'words': word_tags,\n",
    "                       'color': color_list})\n",
    "    \n",
    "    fig, _ = plt.subplots()\n",
    "    fig.set_size_inches(9, 9)\n",
    "    \n",
    "    \n",
    "    \"\"\"\n",
    "    Original plot\n",
    "    \"\"\"\n",
    "    p1 = sns.regplot(data=df,\n",
    "                     x=\"x\",\n",
    "                     y=\"y\",\n",
    "                     fit_reg=False,\n",
    "                     marker=\"o\",\n",
    "                     scatter_kws={'s': 40,\n",
    "                                  'facecolors': df['color']\n",
    "                                 }\n",
    "                    )\n",
    "    \n",
    "    \n",
    "    \"\"\"\n",
    "    Annotating word in plots\n",
    "    \"\"\"\n",
    "    for line in range(0, df.shape[0]):\n",
    "         p1.text(df[\"x\"][line],\n",
    "                 df['y'][line],\n",
    "                 '  ' + df[\"words\"][line].title(),\n",
    "                 horizontalalignment='left',\n",
    "                 verticalalignment='bottom', size='medium',\n",
    "                 color=df['color'][line],\n",
    "                 weight='normal'\n",
    "                ).set_size(15)\n",
    "\n",
    "    \n",
    "    plt.xlim(Y[:, 0].min()-50, Y[:, 0].max()+50)\n",
    "    plt.ylim(Y[:, 1].min()-50, Y[:, 1].max()+50)\n",
    "            \n",
    "    plt.title('t-SNE viz for input: {}'.format(input_word.title()),fontsize=16)"
   ]
  },
  {
   "cell_type": "markdown",
   "metadata": {},
   "source": [
    "#### Eight Most Similar Words Vs. Eight Random Words"
   ]
  },
  {
   "cell_type": "code",
   "execution_count": 41,
   "metadata": {},
   "outputs": [
    {
     "data": {
      "image/png": "[encoded data removed]",
      "text/plain": [
       "<Figure size 648x648 with 1 Axes>"
      ]
     },
     "metadata": {},
     "output_type": "display_data"
    }
   ],
   "source": [
    "word_vectors_plot(model, 'mac', ['cheap', 'perform', 'risk', 'life', 'issue', 'fix', 'buy', 'love'])"
   ]
  },
  {
   "cell_type": "markdown",
   "metadata": {},
   "source": [
    "#### Eight Most Similar Words Vs. Ninth To Sixteenth Most Similar Words"
   ]
  },
  {
   "cell_type": "code",
   "execution_count": 42,
   "metadata": {},
   "outputs": [
    {
     "data": {
      "image/png": "[encoded data removed]",
      "text/plain": [
       "<Figure size 648x648 with 1 Axes>"
      ]
     },
     "metadata": {},
     "output_type": "display_data"
    }
   ],
   "source": [
    "word_vectors_plot(model, \"excellent\", [t[0] for t in model.wv.most_similar(positive=[\"excellent\"], \n",
    "                                                                             topn=16)][8:])"
   ]
  },
  {
   "cell_type": "markdown",
   "metadata": {},
   "source": [
    "#### Eight Most Similar Words Vs. Ninth To Sixteenth Most Similar Words"
   ]
  },
  {
   "cell_type": "code",
   "execution_count": 43,
   "metadata": {},
   "outputs": [
    {
     "data": {
      "image/png": "[encoded data removed]",
      "text/plain": [
       "<Figure size 648x648 with 1 Axes>"
      ]
     },
     "metadata": {},
     "output_type": "display_data"
    }
   ],
   "source": [
    "word_vectors_plot(model, \"terrible\", [t[0] for t in model.wv.most_similar(positive=[\"terrible\"], \n",
    "                                                                             topn=16)][8:])"
   ]
  },
  {
   "cell_type": "markdown",
   "metadata": {},
   "source": [
    "#### Eight Most Similar Words Vs. Ninth To Sixteenth Most Similar Words"
   ]
  },
  {
   "cell_type": "code",
   "execution_count": 44,
   "metadata": {},
   "outputs": [
    {
     "data": {
      "image/png": "[encoded data removed]",
      "text/plain": [
       "<Figure size 648x648 with 1 Axes>"
      ]
     },
     "metadata": {},
     "output_type": "display_data"
    }
   ],
   "source": [
    "word_vectors_plot(model, \"ipad\", [t[0] for t in model.wv.most_similar(positive=[\"ipad\"], \n",
    "                                                                             topn=16)][8:])"
   ]
  },
  {
   "cell_type": "markdown",
   "metadata": {},
   "source": [
    "#### Wordcloud visualization of positive words in reviews"
   ]
  },
  {
   "cell_type": "code",
   "execution_count": 45,
   "metadata": {},
   "outputs": [
    {
     "name": "stdout",
     "output_type": "stream",
     "text": [
      "superb fantastic exceptional incredible excellent fabulous remarkable terrific impressive terms delivers aesthetic stellar aesthetics delight phenomenal soundcons superior wonderful amazing\n"
     ]
    }
   ],
   "source": [
    "pos_lst=[t[0] for t in model.wv.most_similar(positive=[\"outstanding\"],topn=20)]\n",
    "pos_wrd=' '.join(pos_lst)\n",
    "print(pos_wrd)"
   ]
  },
  {
   "cell_type": "code",
   "execution_count": 46,
   "metadata": {},
   "outputs": [
    {
     "data": {
      "image/png": "[encoded data removed]",
      "text/plain": [
       "<Figure size 432x288 with 1 Axes>"
      ]
     },
     "metadata": {},
     "output_type": "display_data"
    }
   ],
   "source": [
    "wordcloud = WordCloud(background_color='white',\n",
    "                      max_words=200000,\n",
    "                      max_font_size=400).generate(pos_wrd)\n",
    "plt.figure()\n",
    "plt.imshow(wordcloud)\n",
    "plt.axis(\"off\")\n",
    "plt.show()"
   ]
  },
  {
   "cell_type": "markdown",
   "metadata": {},
   "source": [
    "#### Wordcloud visualization of negative words in reviews"
   ]
  },
  {
   "cell_type": "code",
   "execution_count": 47,
   "metadata": {},
   "outputs": [
    {
     "name": "stdout",
     "output_type": "stream",
     "text": [
      "terrible horrible subpar worse suck oversensitive frustrating sucks weird quirky crappy crackling beeping stupid unreliable hears nows worst unresponsive unusable\n"
     ]
    }
   ],
   "source": [
    "neg_lst=[n[0] for n in model.wv.most_similar(positive=[\"awful\"],topn=20)]\n",
    "neg_wrd=' '.join(neg_lst)\n",
    "print(neg_wrd)"
   ]
  },
  {
   "cell_type": "code",
   "execution_count": 48,
   "metadata": {},
   "outputs": [
    {
     "data": {
      "image/png": "[encoded data removed]",
      "text/plain": [
       "<Figure size 432x288 with 1 Axes>"
      ]
     },
     "metadata": {},
     "output_type": "display_data"
    }
   ],
   "source": [
    "wordcloud = WordCloud(background_color='black',\n",
    "                      max_words=100,\n",
    "                      max_font_size=50).generate(neg_wrd)\n",
    "plt.figure()\n",
    "plt.imshow(wordcloud)\n",
    "plt.axis(\"off\")\n",
    "plt.show()"
   ]
  },
  {
   "cell_type": "markdown",
   "metadata": {},
   "source": [
    "#### **Generating Feature vectors**"
   ]
  },
  {
   "cell_type": "code",
   "execution_count": 49,
   "metadata": {},
   "outputs": [],
   "source": [
    "\"\"\"\n",
    "Function to generate feature vectors\n",
    "\"\"\"\n",
    "\n",
    "def generate_feature_vectors(doc, model):\n",
    "    vec = np.zeros(150).reshape((1, 150))  \n",
    "    count = 0\n",
    "    for word in gensim.utils.simple_preprocess(doc):\n",
    "        if model.__contains__(word.strip()):\n",
    "            count = count + 1\n",
    "            vec += model[word.strip()]\n",
    "    vec = vec / count\n",
    "    return vec\n",
    "\n",
    "def generate_features(model, data):\n",
    "    features = np.concatenate([generate_feature_vectors(s, model) for s in data])\n",
    "    return features\n",
    "\n",
    "\"\"\"\n",
    "Generating train, test and validation vectors\n",
    "\"\"\"\n",
    "\n",
    "training_vectors = generate_features(model, x_train)\n",
    "test_vectors = generate_features(model, x_test)\n",
    "validation_vectors = generate_features(model, x_validation)"
   ]
  },
  {
   "cell_type": "markdown",
   "metadata": {},
   "source": [
    "####  Word2Vec Word Embedding Based Sentiment Analysis using LogisticRegression"
   ]
  },
  {
   "cell_type": "code",
   "execution_count": 50,
   "metadata": {},
   "outputs": [
    {
     "name": "stdout",
     "output_type": "stream",
     "text": [
      "***** Word2Vec Word Embedding Based Sentiment Analysis using LogisticRegression *******\n",
      "\n",
      "LogisticRegression Performance : \n",
      "\n",
      "Train-Set Score : 0.9046\n",
      "Train-Set Accuracy : 0.9046\n",
      "\n",
      "Evaluation on Validation-Set : \n",
      "Classification report:\n",
      "               precision    recall  f1-score   support\n",
      "\n",
      "           0       0.78      0.69      0.73       762\n",
      "           1       0.93      0.96      0.94      3312\n",
      "\n",
      "   micro avg       0.91      0.91      0.91      4074\n",
      "   macro avg       0.86      0.82      0.84      4074\n",
      "weighted avg       0.90      0.91      0.90      4074\n",
      "\n",
      "Confusion matrix:\n",
      " [[ 525  237]\n",
      " [ 146 3166]]\n",
      "Validation-Set Score : 0.9060\n",
      "Validation-Set Accuracy:0.9060\n",
      "\n",
      "Evaluation on Test-Set : \n",
      "Classification report:\n",
      "               precision    recall  f1-score   support\n",
      "\n",
      "           0       0.82      0.67      0.73       833\n",
      "           1       0.92      0.96      0.94      3242\n",
      "\n",
      "   micro avg       0.90      0.90      0.90      4075\n",
      "   macro avg       0.87      0.81      0.84      4075\n",
      "weighted avg       0.90      0.90      0.90      4075\n",
      "\n",
      "Confusion matrix:\n",
      " [[ 554  279]\n",
      " [ 125 3117]]\n",
      "Test-Set Score : 0.9009\n",
      "Test-Set Accuracy:0.9009\n"
     ]
    }
   ],
   "source": [
    "lr = LogisticRegression()\n",
    "lr.fit(training_vectors, y_train)\n",
    "print(\"***** Word2Vec Word Embedding Based Sentiment Analysis using LogisticRegression *******\\n\")\n",
    "print(\"LogisticRegression Performance : \\n\")\n",
    "print('Train-Set Score : {:.4f}'.format(lr.score(training_vectors, y_train)))\n",
    "print('Train-Set Accuracy : {:.4f}'.format(accuracy_score(y_train,lr.predict(training_vectors))))\n",
    "\n",
    "print(\"\\nEvaluation on Validation-Set : \")\n",
    "pred_val = lr.predict(validation_vectors)\n",
    "print(\"Classification report:\\n {}\".format(classification_report(y_validation, pred_val)))\n",
    "print(\"Confusion matrix:\\n {}\".format(confusion_matrix(y_validation, pred_val)))\n",
    "print('Validation-Set Score : {:.4f}'.format(lr.score(validation_vectors, y_validation)))\n",
    "print('Validation-Set Accuracy:{:.4f}'.format(accuracy_score(y_validation, pred_val)))\n",
    "\n",
    "print(\"\\nEvaluation on Test-Set : \")\n",
    "pred = lr.predict(test_vectors)\n",
    "print(\"Classification report:\\n {}\".format(classification_report(y_test, pred)))\n",
    "print(\"Confusion matrix:\\n {}\".format(confusion_matrix(y_test, pred)))\n",
    "print('Test-Set Score : {:.4f}'.format(lr.score(test_vectors, y_test)))\n",
    "print('Test-Set Accuracy:{:.4f}'.format(accuracy_score(y_test, pred)))"
   ]
  },
  {
   "cell_type": "markdown",
   "metadata": {},
   "source": [
    "####  Word2Vec Word Embedding Based Sentiment Analysis using SVC"
   ]
  },
  {
   "cell_type": "code",
   "execution_count": 51,
   "metadata": {},
   "outputs": [
    {
     "name": "stdout",
     "output_type": "stream",
     "text": [
      "***** Word2Vec Word Embedding Based Sentiment Analysis using SVC *******\n",
      "\n",
      "SVC with linear kernel Performance : \n",
      "\n",
      "Train-Set Score : 0.9050\n",
      "Train-Set Accuracy : 0.9050\n",
      "\n",
      "Evaluation on Validation-Set : \n",
      "Classification report:\n",
      "               precision    recall  f1-score   support\n",
      "\n",
      "           0       0.79      0.70      0.74       762\n",
      "           1       0.93      0.96      0.94      3312\n",
      "\n",
      "   micro avg       0.91      0.91      0.91      4074\n",
      "   macro avg       0.86      0.83      0.84      4074\n",
      "weighted avg       0.91      0.91      0.91      4074\n",
      "\n",
      "Confusion matrix:\n",
      " [[ 533  229]\n",
      " [ 142 3170]]\n",
      "Validation-Set Score : 0.9089\n",
      "Validation-Set Accuracy:0.9089\n",
      "\n",
      "Evaluation on Test-Set : \n",
      "Classification report:\n",
      "               precision    recall  f1-score   support\n",
      "\n",
      "           0       0.81      0.67      0.73       833\n",
      "           1       0.92      0.96      0.94      3242\n",
      "\n",
      "   micro avg       0.90      0.90      0.90      4075\n",
      "   macro avg       0.86      0.81      0.84      4075\n",
      "weighted avg       0.90      0.90      0.90      4075\n",
      "\n",
      "Confusion matrix:\n",
      " [[ 557  276]\n",
      " [ 131 3111]]\n",
      "Test-Set Score : 0.9001\n",
      "Test-Set Accuracy: 0.9001\n"
     ]
    }
   ],
   "source": [
    "svm = SVC(kernel='linear')\n",
    "svm.fit(training_vectors, y_train)\n",
    "print(\"***** Word2Vec Word Embedding Based Sentiment Analysis using SVC *******\\n\")\n",
    "print(\"SVC with linear kernel Performance : \\n\")\n",
    "print('Train-Set Score : {:.4f}'.format(svm.score(training_vectors, y_train)))\n",
    "print('Train-Set Accuracy : {:.4f}'.format(accuracy_score(y_train,svm.predict(training_vectors))))\n",
    "\n",
    "print(\"\\nEvaluation on Validation-Set : \")\n",
    "pred_val = svm.predict(validation_vectors)\n",
    "print(\"Classification report:\\n {}\".format(classification_report(y_validation, pred_val)))\n",
    "print(\"Confusion matrix:\\n {}\".format(confusion_matrix(y_validation, pred_val)))\n",
    "print('Validation-Set Score : {:.4f}'.format(svm.score(validation_vectors, y_validation)))\n",
    "print('Validation-Set Accuracy:{:.4f}'.format(accuracy_score(y_validation, pred_val)))\n",
    "\n",
    "print(\"\\nEvaluation on Test-Set : \")\n",
    "pred = svm.predict(test_vectors)\n",
    "print(\"Classification report:\\n {}\".format(classification_report(y_test, pred)))\n",
    "print(\"Confusion matrix:\\n {}\".format(confusion_matrix(y_test, pred)))\n",
    "print('Test-Set Score : {:.4f}'.format(svm.score(test_vectors, y_test)))\n",
    "print(\"Test-Set Accuracy: {:.4f}\".format(accuracy_score(y_test, pred)))"
   ]
  },
  {
   "cell_type": "markdown",
   "metadata": {},
   "source": [
    "#### Word2Vec Word Embedding Based Sentiment Analysis using XGBClassifier"
   ]
  },
  {
   "cell_type": "code",
   "execution_count": 52,
   "metadata": {},
   "outputs": [
    {
     "name": "stdout",
     "output_type": "stream",
     "text": [
      "***** Word2Vec Word Embedding Based Sentiment Analysis using XGBClassifier *******\n",
      "\n",
      "XGBClassifier Performance : \n",
      "\n",
      "Train-Set Score : 0.9058\n",
      "Train-Set Accuracy : 0.9058\n",
      "\n",
      "Evaluation on Validation-Set : \n",
      "Classification report:\n",
      "               precision    recall  f1-score   support\n",
      "\n",
      "           0       0.79      0.68      0.73       762\n",
      "           1       0.93      0.96      0.94      3312\n",
      "\n",
      "   micro avg       0.91      0.91      0.91      4074\n",
      "   macro avg       0.86      0.82      0.84      4074\n",
      "weighted avg       0.90      0.91      0.90      4074\n",
      "\n",
      "Confusion matrix:\n",
      " [[ 515  247]\n",
      " [ 137 3175]]\n",
      "Validation-Set Score : 0.9057\n",
      "Validation-Set Accuracy:0.9057\n",
      "\n",
      "Evaluation on Test-Set : \n",
      "Classification report:\n",
      "               precision    recall  f1-score   support\n",
      "\n",
      "           0       0.81      0.64      0.72       833\n",
      "           1       0.91      0.96      0.94      3242\n",
      "\n",
      "   micro avg       0.90      0.90      0.90      4075\n",
      "   macro avg       0.86      0.80      0.83      4075\n",
      "weighted avg       0.89      0.90      0.89      4075\n",
      "\n",
      "Confusion matrix:\n",
      " [[ 535  298]\n",
      " [ 123 3119]]\n",
      "Test-Set Score : 0.8967\n",
      "Test-Set Accuracy: 0.8967\n"
     ]
    }
   ],
   "source": [
    "xgb = XGBClassifier()\n",
    "xgb.fit(training_vectors, y_train)\n",
    "print(\"***** Word2Vec Word Embedding Based Sentiment Analysis using XGBClassifier *******\\n\")\n",
    "print(\"XGBClassifier Performance : \\n\")\n",
    "print('Train-Set Score : {:.4f}'.format(xgb.score(training_vectors, y_train)))\n",
    "print('Train-Set Accuracy : {:.4f}'.format(accuracy_score(y_train,xgb.predict(training_vectors))))\n",
    "\n",
    "print(\"\\nEvaluation on Validation-Set : \")\n",
    "pred_val = xgb.predict(validation_vectors)\n",
    "print(\"Classification report:\\n {}\".format(classification_report(y_validation, pred_val)))\n",
    "print(\"Confusion matrix:\\n {}\".format(confusion_matrix(y_validation, pred_val)))\n",
    "print('Validation-Set Score : {:.4f}'.format(xgb.score(validation_vectors, y_validation)))\n",
    "print('Validation-Set Accuracy:{:.4f}'.format(accuracy_score(y_validation, pred_val)))\n",
    "\n",
    "\n",
    "print(\"\\nEvaluation on Test-Set : \")\n",
    "pred = xgb.predict(test_vectors)\n",
    "print(\"Classification report:\\n {}\".format(classification_report(y_test, pred)))\n",
    "print(\"Confusion matrix:\\n {}\".format(confusion_matrix(y_test, pred)))\n",
    "print(\"Test-Set Score : {:.4f}\".format(xgb.score(test_vectors, y_test)))\n",
    "print(\"Test-Set Accuracy: {:.4f}\".format(accuracy_score(y_test, pred)))"
   ]
  },
  {
   "cell_type": "markdown",
   "metadata": {},
   "source": [
    "#### Sentiment Analysis using Keras Convolutional Neural Networks(CNN) \n",
    "[Keras reference](https://blog.keras.io/using-pre-trained-word-embeddings-in-a-keras-model.html)"
   ]
  },
  {
   "cell_type": "code",
   "execution_count": 53,
   "metadata": {},
   "outputs": [
    {
     "name": "stdout",
     "output_type": "stream",
     "text": [
      "x_train[2] :  exactly described fast laptop one slimmest around extremely fast practical super great quality screen high resolution highly recommend\n",
      "\n",
      " X_token_train[2] :  [206, 114, 72, 269, 1, 58, 36, 58, 325, 253, 477, 98, 91, 320, 4010, 1674, 1579, 4140, 1363, 260, 831, 178, 3884, 165, 91, 123, 33, 220, 282, 180, 326, 16181, 477, 172, 2, 238, 165, 355, 11280, 513, 14, 41, 122, 13, 6, 1986, 122, 268, 10, 386, 310, 1, 753, 238, 477, 31, 1078, 94, 8, 1, 391, 122, 1078, 10, 6, 126, 593, 486, 130, 945, 6, 546, 30391, 86, 2315, 93, 5701, 922, 20420, 30392, 610, 5831, 58, 188, 198, 2, 87, 130, 1835, 366, 73, 2, 566, 162, 20, 9255, 513, 73, 129, 844, 195, 213, 2315, 585, 20420, 1409, 12356, 30393, 5107, 1472, 268, 4439, 31, 113, 996, 76, 1, 129, 346, 137]\n",
      "\n",
      " vocab_size :  73915\n"
     ]
    }
   ],
   "source": [
    "\"\"\"\n",
    "Create the tokenizer\n",
    "\"\"\"\n",
    "number_of_words=len(vocabulary)\n",
    "tokenizer = Tokenizer(num_words=number_of_words)\n",
    "\n",
    "\"\"\"\n",
    "Fit the tokenizer\n",
    "\"\"\"\n",
    "tokenizer.fit_on_texts(x_train)\n",
    "\n",
    "\"\"\"\n",
    "Sequence encode\n",
    "\"\"\"\n",
    "X_token_train = tokenizer.texts_to_sequences(x_train)\n",
    "X_token_test = tokenizer.texts_to_sequences(x_test)\n",
    "X_token_validation = tokenizer.texts_to_sequences(x_validation)\n",
    "\n",
    "\"\"\"\n",
    "Adding 1 because of reserved 0 index\n",
    "\"\"\"\n",
    "vocabulary_size = len(tokenizer.word_index) + 1  \n",
    "\n",
    "print(\"x_train[2] : \",x_train[2])\n",
    "print(\"\\n X_token_train[2] : \",X_token_train[2])\n",
    "print(\"\\n vocab_size : \",vocabulary_size)"
   ]
  },
  {
   "cell_type": "code",
   "execution_count": 54,
   "metadata": {},
   "outputs": [
    {
     "name": "stdout",
     "output_type": "stream",
     "text": [
      "device : 142\n",
      "described : 1354\n",
      "laptop : 1\n",
      "resolution : 258\n",
      "highly : 346\n"
     ]
    }
   ],
   "source": [
    "\"\"\"\n",
    "Checking the index of each word by looking at the word_index dictionary of the Tokenizer object\n",
    "\"\"\"\n",
    "for word in ['device','described','laptop', 'resolution', 'highly']:\n",
    "    print('{} : {}'.format(word, tokenizer.word_index[word]))"
   ]
  },
  {
   "cell_type": "code",
   "execution_count": 55,
   "metadata": {},
   "outputs": [],
   "source": [
    "\"\"\"\n",
    "Pad sequences\n",
    "\"\"\"\n",
    "max_length = 1000\n",
    "\n",
    "X_token_train = pad_sequences(X_token_train, padding='post', maxlen=max_length)\n",
    "X_token_test = pad_sequences(X_token_test, padding='post', maxlen=max_length)\n",
    "X_token_validation = pad_sequences(X_token_validation, padding='post', maxlen=max_length)"
   ]
  },
  {
   "cell_type": "code",
   "execution_count": 56,
   "metadata": {},
   "outputs": [
    {
     "name": "stdout",
     "output_type": "stream",
     "text": [
      "WARNING:tensorflow:From /opt/conda/lib/python3.6/site-packages/tensorflow/python/framework/op_def_library.py:263: colocate_with (from tensorflow.python.framework.ops) is deprecated and will be removed in a future version.\n",
      "Instructions for updating:\n",
      "Colocations handled automatically by placer.\n"
     ]
    },
    {
     "name": "stderr",
     "output_type": "stream",
     "text": [
      "W0506 18:21:23.356515 139801131669312 deprecation.py:323] From /opt/conda/lib/python3.6/site-packages/tensorflow/python/framework/op_def_library.py:263: colocate_with (from tensorflow.python.framework.ops) is deprecated and will be removed in a future version.\n",
      "Instructions for updating:\n",
      "Colocations handled automatically by placer.\n"
     ]
    },
    {
     "name": "stdout",
     "output_type": "stream",
     "text": [
      "_________________________________________________________________\n",
      "Layer (type)                 Output Shape              Param #   \n",
      "=================================================================\n",
      "embedding_1 (Embedding)      (None, 1000, 100)         7391500   \n",
      "_________________________________________________________________\n",
      "conv1d_1 (Conv1D)            (None, 996, 128)          64128     \n",
      "_________________________________________________________________\n",
      "global_max_pooling1d_1 (Glob (None, 128)               0         \n",
      "_________________________________________________________________\n",
      "dense_1 (Dense)              (None, 10)                1290      \n",
      "_________________________________________________________________\n",
      "dense_2 (Dense)              (None, 1)                 11        \n",
      "=================================================================\n",
      "Total params: 7,456,929\n",
      "Trainable params: 7,456,929\n",
      "Non-trainable params: 0\n",
      "_________________________________________________________________\n",
      "CPU times: user 140 ms, sys: 0 ns, total: 140 ms\n",
      "Wall time: 142 ms\n"
     ]
    }
   ],
   "source": [
    "%%time\n",
    "\"\"\"\n",
    "Create model\n",
    "\"\"\"\n",
    "embedding_dimension = 100\n",
    "\n",
    "keras_cnn_model = Sequential()\n",
    "keras_cnn_model.add(Embedding(input_dim=vocabulary_size, \n",
    "                              output_dim=embedding_dimension, \n",
    "                              input_length=max_length))\n",
    "keras_cnn_model.add(Conv1D(128, 5, activation='relu'))\n",
    "keras_cnn_model.add(GlobalMaxPooling1D())\n",
    "keras_cnn_model.add(Dense(10, activation='relu'))\n",
    "keras_cnn_model.add(Dense(1, activation='sigmoid'))\n",
    "\n",
    "\"\"\"\n",
    "Compile network\n",
    "\"\"\"\n",
    "keras_cnn_model.compile(optimizer='adam',\n",
    "                        loss='binary_crossentropy',\n",
    "                        metrics=['accuracy'])\n",
    "keras_cnn_model.summary()"
   ]
  },
  {
   "cell_type": "code",
   "execution_count": 57,
   "metadata": {},
   "outputs": [
    {
     "name": "stdout",
     "output_type": "stream",
     "text": [
      "WARNING:tensorflow:From /opt/conda/lib/python3.6/site-packages/tensorflow/python/ops/math_ops.py:3066: to_int32 (from tensorflow.python.ops.math_ops) is deprecated and will be removed in a future version.\n",
      "Instructions for updating:\n",
      "Use tf.cast instead.\n"
     ]
    },
    {
     "name": "stderr",
     "output_type": "stream",
     "text": [
      "W0506 18:21:23.534948 139801131669312 deprecation.py:323] From /opt/conda/lib/python3.6/site-packages/tensorflow/python/ops/math_ops.py:3066: to_int32 (from tensorflow.python.ops.math_ops) is deprecated and will be removed in a future version.\n",
      "Instructions for updating:\n",
      "Use tf.cast instead.\n"
     ]
    },
    {
     "name": "stdout",
     "output_type": "stream",
     "text": [
      "WARNING:tensorflow:From /opt/conda/lib/python3.6/site-packages/tensorflow/python/ops/math_grad.py:102: div (from tensorflow.python.ops.math_ops) is deprecated and will be removed in a future version.\n",
      "Instructions for updating:\n",
      "Deprecated in favor of operator or tf.math.divide.\n"
     ]
    },
    {
     "name": "stderr",
     "output_type": "stream",
     "text": [
      "W0506 18:21:23.680222 139801131669312 deprecation.py:323] From /opt/conda/lib/python3.6/site-packages/tensorflow/python/ops/math_grad.py:102: div (from tensorflow.python.ops.math_ops) is deprecated and will be removed in a future version.\n",
      "Instructions for updating:\n",
      "Deprecated in favor of operator or tf.math.divide.\n"
     ]
    },
    {
     "name": "stdout",
     "output_type": "stream",
     "text": [
      "\n",
      " **** Sentiment Analysis Using Keras Convolutional Neural Networks(CNN) ****\n",
      "\n",
      "Train-Set Accuracy: 0.9992\n",
      "\n",
      "Evaluation on Validation-Set : \n",
      "Classification report:\n",
      "               precision    recall  f1-score   support\n",
      "\n",
      "           0       0.84      0.74      0.78       762\n",
      "           1       0.94      0.97      0.95      3312\n",
      "\n",
      "   micro avg       0.92      0.92      0.92      4074\n",
      "   macro avg       0.89      0.85      0.87      4074\n",
      "weighted avg       0.92      0.92      0.92      4074\n",
      "\n",
      "Confusion matrix:\n",
      " [[ 561  201]\n",
      " [ 109 3203]]\n",
      "Validation-Set Accuracy: 0.9239\n",
      "\n",
      "Evaluation on Test-Set : \n",
      "Classification report:\n",
      "               precision    recall  f1-score   support\n",
      "\n",
      "           0       0.85      0.71      0.77       833\n",
      "           1       0.93      0.97      0.95      3242\n",
      "\n",
      "   micro avg       0.91      0.91      0.91      4075\n",
      "   macro avg       0.89      0.84      0.86      4075\n",
      "weighted avg       0.91      0.91      0.91      4075\n",
      "\n",
      "Confusion matrix:\n",
      " [[ 591  242]\n",
      " [ 106 3136]]\n",
      "Test-Set Accuracy:  0.9146\n",
      "CPU times: user 3h 43min 14s, sys: 12min 42s, total: 3h 55min 56s\n",
      "Wall time: 33min 55s\n"
     ]
    }
   ],
   "source": [
    "%%time\n",
    "\"\"\"\n",
    "Fit network\n",
    "\"\"\"\n",
    "keras_cnn_model.fit(X_token_train, y_train,\n",
    "                    epochs=5,\n",
    "                    verbose=False,\n",
    "                    validation_data=(X_token_validation, y_validation),\n",
    "                    batch_size=10)\n",
    "\n",
    "\"\"\"\n",
    "Evaluate\n",
    "\"\"\"\n",
    "print(\"\\n **** Sentiment Analysis Using Keras Convolutional Neural Networks(CNN) ****\\n\")\n",
    "loss, accuracy = keras_cnn_model.evaluate(X_token_train, y_train, verbose=False)\n",
    "print(\"Train-Set Accuracy: {:.4f}\".format(accuracy))\n",
    "\n",
    "\n",
    "print(\"\\nEvaluation on Validation-Set : \")\n",
    "pred_val=keras_cnn_model.predict_classes(X_token_validation)\n",
    "print(\"Classification report:\\n {}\".format(classification_report(y_validation, pred_val)))\n",
    "print(\"Confusion matrix:\\n {}\".format(confusion_matrix(y_validation, pred_val)))\n",
    "loss, accuracy = keras_cnn_model.evaluate(X_token_validation, y_validation, verbose=False)\n",
    "print(\"Validation-Set Accuracy: {:.4f}\".format(accuracy))\n",
    "\n",
    "print(\"\\nEvaluation on Test-Set : \")\n",
    "pred=keras_cnn_model.predict_classes(X_token_test)\n",
    "print(\"Classification report:\\n {}\".format(classification_report(y_test, pred)))\n",
    "print(\"Confusion matrix:\\n {}\".format(confusion_matrix(y_test, pred)))\n",
    "loss, accuracy = keras_cnn_model.evaluate(X_token_test, y_test, verbose=False)\n",
    "print(\"Test-Set Accuracy:  {:.4f}\".format(accuracy))"
   ]
  },
  {
   "cell_type": "markdown",
   "metadata": {},
   "source": [
    "#### Sentiment Analysis Using Pre-trained Word2Vec Word Embedding To Keras CNN"
   ]
  },
  {
   "cell_type": "code",
   "execution_count": 58,
   "metadata": {},
   "outputs": [
    {
     "name": "stdout",
     "output_type": "stream",
     "text": [
      "Vocabulary size : 33606\n"
     ]
    }
   ],
   "source": [
    "\"\"\"\n",
    "Vocabulary size\n",
    "\"\"\"\n",
    "num_of_words = list(model.wv.vocab)\n",
    "print('Vocabulary size : %d' % len(num_of_words))"
   ]
  },
  {
   "cell_type": "code",
   "execution_count": 59,
   "metadata": {},
   "outputs": [
    {
     "name": "stderr",
     "output_type": "stream",
     "text": [
      "W0506 18:55:19.554864 139801131669312 smart_open_lib.py:385] this function is deprecated, use smart_open.open instead\n"
     ]
    },
    {
     "name": "stdout",
     "output_type": "stream",
     "text": [
      "CPU times: user 6.86 s, sys: 124 ms, total: 6.98 s\n",
      "Wall time: 6.97 s\n"
     ]
    }
   ],
   "source": [
    "%%time\n",
    "\"\"\"\n",
    "Save model in ASCII\n",
    "\"\"\"\n",
    "file_name = 'amazon_embedding_word2vec.txt'\n",
    "model.wv.save_word2vec_format(file_name, binary=False)"
   ]
  },
  {
   "cell_type": "code",
   "execution_count": 60,
   "metadata": {},
   "outputs": [],
   "source": [
    "\"\"\"\n",
    "Load word embedding\n",
    "\"\"\"\n",
    "def load_word_embedding(file_name):\n",
    "    word_embedding = dict()\n",
    "    file = open(file_name,'r')\n",
    "    lines = file.readlines()[1:]\n",
    "    file.close()\n",
    "    \n",
    "    \"\"\"\n",
    "    Mapping words to vectors\n",
    "    \"\"\"\n",
    "    for line in lines:\n",
    "        line_parts = line.split()\n",
    "        word_embedding[line_parts[0]] = np.asarray(line_parts[1:], dtype='float32')\n",
    "        \n",
    "    return word_embedding"
   ]
  },
  {
   "cell_type": "code",
   "execution_count": 61,
   "metadata": {},
   "outputs": [],
   "source": [
    "\"\"\"\n",
    "Create a weight matrix for the Embedding layer\n",
    "\"\"\"\n",
    "def get_embedding_weight_matrix(wrd_embedding, vocabulary):\n",
    "    \n",
    "    vocabulary_size = len(vocabulary) + 1\n",
    "    \"\"\"\n",
    "    Define weight matrix dimensions with all 0\n",
    "    \"\"\"\n",
    "    embedding_weight_matrix = np.zeros((vocabulary_size, 150))\n",
    "    \"\"\"\n",
    "    Step vocab, store vectors using the Tokenizer's integer mapping\n",
    "    \"\"\"\n",
    "    for wrd, i in vocabulary.items():\n",
    "        vector = wrd_embedding.get(wrd)\n",
    "        if vector is not None:\n",
    "            embedding_weight_matrix[i] = vector\n",
    "    return embedding_weight_matrix"
   ]
  },
  {
   "cell_type": "code",
   "execution_count": 62,
   "metadata": {},
   "outputs": [
    {
     "name": "stdout",
     "output_type": "stream",
     "text": [
      "Completed creation of raw word2vec word embedding\n",
      "Completed creation of embedding weight vectors\n"
     ]
    }
   ],
   "source": [
    "\"\"\"\n",
    "Load embedding from file\n",
    "\"\"\"\n",
    "raw_w2v_embedding = load_word_embedding('amazon_embedding_word2vec.txt')\n",
    "\n",
    "print('Completed creation of raw word2vec word embedding')\n",
    "\n",
    "\"\"\"\n",
    "Get weight vectors in the right order\n",
    "\"\"\"\n",
    "embedding_weight_vectors = get_embedding_weight_matrix(raw_w2v_embedding, tokenizer.word_index)\n",
    "\n",
    "print('Completed creation of embedding weight vectors')"
   ]
  },
  {
   "cell_type": "code",
   "execution_count": 63,
   "metadata": {},
   "outputs": [
    {
     "name": "stdout",
     "output_type": "stream",
     "text": [
      "Completed creation of embedding layer\n"
     ]
    }
   ],
   "source": [
    "\"\"\"\n",
    "Create the embedding layer\n",
    "\"\"\"\n",
    "embedding_layer = Embedding(vocabulary_size, \n",
    "                            150, \n",
    "                            weights=[embedding_weight_vectors], \n",
    "                            input_length=max_length, \n",
    "                            trainable=False)\n",
    "\n",
    "print('Completed creation of embedding layer')"
   ]
  },
  {
   "cell_type": "code",
   "execution_count": 64,
   "metadata": {},
   "outputs": [
    {
     "name": "stdout",
     "output_type": "stream",
     "text": [
      "_________________________________________________________________\n",
      "Layer (type)                 Output Shape              Param #   \n",
      "=================================================================\n",
      "embedding_2 (Embedding)      (None, 1000, 150)         11087250  \n",
      "_________________________________________________________________\n",
      "conv1d_2 (Conv1D)            (None, 996, 128)          96128     \n",
      "_________________________________________________________________\n",
      "max_pooling1d_1 (MaxPooling1 (None, 498, 128)          0         \n",
      "_________________________________________________________________\n",
      "flatten_1 (Flatten)          (None, 63744)             0         \n",
      "_________________________________________________________________\n",
      "dense_3 (Dense)              (None, 1)                 63745     \n",
      "=================================================================\n",
      "Total params: 11,247,123\n",
      "Trainable params: 159,873\n",
      "Non-trainable params: 11,087,250\n",
      "_________________________________________________________________\n"
     ]
    }
   ],
   "source": [
    "\"\"\"\n",
    "Create model\n",
    "\"\"\"\n",
    "keras_cnn_w2v_model = Sequential()\n",
    "keras_cnn_w2v_model.add(embedding_layer)\n",
    "keras_cnn_w2v_model.add(Conv1D(filters=128, kernel_size=5, activation='relu'))\n",
    "keras_cnn_w2v_model.add(MaxPooling1D(pool_size=2))\n",
    "keras_cnn_w2v_model.add(Flatten())\n",
    "keras_cnn_w2v_model.add(Dense(1, activation='sigmoid'))\n",
    "keras_cnn_w2v_model.summary()"
   ]
  },
  {
   "cell_type": "code",
   "execution_count": 65,
   "metadata": {},
   "outputs": [
    {
     "name": "stdout",
     "output_type": "stream",
     "text": [
      "\n",
      " **** Sentiment Analysis Using Pre-trained Word2Vec Word Embedding To Keras CNN ****\n",
      "\n",
      "Train-Set Accuracy: 0.9690\n",
      "\n",
      "Evaluation on Validation-Set : \n",
      "Classification report:\n",
      "               precision    recall  f1-score   support\n",
      "\n",
      "           0       0.73      0.71      0.72       762\n",
      "           1       0.93      0.94      0.94      3312\n",
      "\n",
      "   micro avg       0.90      0.90      0.90      4074\n",
      "   macro avg       0.83      0.83      0.83      4074\n",
      "weighted avg       0.90      0.90      0.90      4074\n",
      "\n",
      "Confusion matrix:\n",
      " [[ 543  219]\n",
      " [ 201 3111]]\n",
      "Validation-Set Accuracy: 0.8969\n",
      "\n",
      "Evaluation on Test-Set : \n",
      "Classification report:\n",
      "               precision    recall  f1-score   support\n",
      "\n",
      "           0       0.75      0.69      0.72       833\n",
      "           1       0.92      0.94      0.93      3242\n",
      "\n",
      "   micro avg       0.89      0.89      0.89      4075\n",
      "   macro avg       0.84      0.81      0.82      4075\n",
      "weighted avg       0.89      0.89      0.89      4075\n",
      "\n",
      "Confusion matrix:\n",
      " [[ 571  262]\n",
      " [ 190 3052]]\n",
      "Test-Set Accuracy:  0.8891\n"
     ]
    }
   ],
   "source": [
    "\"\"\"\n",
    "Compile network\n",
    "\"\"\"\n",
    "keras_cnn_w2v_model.compile(loss='binary_crossentropy', \n",
    "                            optimizer='adam', \n",
    "                            metrics=['accuracy'])\n",
    "\n",
    "\"\"\"\n",
    "Fit network\n",
    "\"\"\"\n",
    "keras_cnn_w2v_model.fit(X_token_train, y_train,\n",
    "                        epochs=5,\n",
    "                        verbose=False,\n",
    "                        validation_data=(X_token_validation, y_validation),\n",
    "                        batch_size=10)\n",
    "\n",
    "\"\"\"\n",
    "Evaluate\n",
    "\"\"\"\n",
    "print(\"\\n **** Sentiment Analysis Using Pre-trained Word2Vec Word Embedding To Keras CNN ****\\n\")\n",
    "loss, accuracy = keras_cnn_w2v_model.evaluate(X_token_train, y_train, verbose=False)\n",
    "print(\"Train-Set Accuracy: {:.4f}\".format(accuracy))\n",
    "\n",
    "\n",
    "print(\"\\nEvaluation on Validation-Set : \")\n",
    "pred_val=keras_cnn_w2v_model.predict_classes(X_token_validation)\n",
    "print(\"Classification report:\\n {}\".format(classification_report(y_validation, pred_val)))\n",
    "print(\"Confusion matrix:\\n {}\".format(confusion_matrix(y_validation, pred_val)))\n",
    "loss, accuracy = keras_cnn_w2v_model.evaluate(X_token_validation, y_validation, verbose=False)\n",
    "print(\"Validation-Set Accuracy: {:.4f}\".format(accuracy))\n",
    "\n",
    "print(\"\\nEvaluation on Test-Set : \")\n",
    "pred=keras_cnn_w2v_model.predict_classes(X_token_test)\n",
    "print(\"Classification report:\\n {}\".format(classification_report(y_test, pred)))\n",
    "print(\"Confusion matrix:\\n {}\".format(confusion_matrix(y_test, pred)))\n",
    "loss, accuracy = keras_cnn_w2v_model.evaluate(X_token_test, y_test, verbose=False)\n",
    "print(\"Test-Set Accuracy:  {:.4f}\".format(accuracy))"
   ]
  },
  {
   "cell_type": "markdown",
   "metadata": {},
   "source": [
    "#### Sentiment Analysis  Using Pre-trained Word2Vec Word Embedding To Keras CNN And Bidirectional LSTM"
   ]
  },
  {
   "cell_type": "code",
   "execution_count": 66,
   "metadata": {},
   "outputs": [
    {
     "name": "stdout",
     "output_type": "stream",
     "text": [
      "WARNING:tensorflow:From /opt/conda/lib/python3.6/site-packages/keras/backend/tensorflow_backend.py:3445: calling dropout (from tensorflow.python.ops.nn_ops) with keep_prob is deprecated and will be removed in a future version.\n",
      "Instructions for updating:\n",
      "Please use `rate` instead of `keep_prob`. Rate should be set to `rate = 1 - keep_prob`.\n"
     ]
    },
    {
     "name": "stderr",
     "output_type": "stream",
     "text": [
      "W0506 19:09:25.157642 139801131669312 deprecation.py:506] From /opt/conda/lib/python3.6/site-packages/keras/backend/tensorflow_backend.py:3445: calling dropout (from tensorflow.python.ops.nn_ops) with keep_prob is deprecated and will be removed in a future version.\n",
      "Instructions for updating:\n",
      "Please use `rate` instead of `keep_prob`. Rate should be set to `rate = 1 - keep_prob`.\n"
     ]
    },
    {
     "name": "stdout",
     "output_type": "stream",
     "text": [
      "_________________________________________________________________\n",
      "Layer (type)                 Output Shape              Param #   \n",
      "=================================================================\n",
      "embedding_3 (Embedding)      (None, 1000, 150)         11087250  \n",
      "_________________________________________________________________\n",
      "conv1d_3 (Conv1D)            (None, 996, 128)          96128     \n",
      "_________________________________________________________________\n",
      "max_pooling1d_2 (MaxPooling1 (None, 498, 128)          0         \n",
      "_________________________________________________________________\n",
      "bidirectional_1 (Bidirection (None, 128)               98816     \n",
      "_________________________________________________________________\n",
      "dropout_1 (Dropout)          (None, 128)               0         \n",
      "_________________________________________________________________\n",
      "dense_4 (Dense)              (None, 1)                 129       \n",
      "=================================================================\n",
      "Total params: 11,282,323\n",
      "Trainable params: 195,073\n",
      "Non-trainable params: 11,087,250\n",
      "_________________________________________________________________\n",
      "CPU times: user 1.14 s, sys: 820 ms, total: 1.96 s\n",
      "Wall time: 779 ms\n"
     ]
    }
   ],
   "source": [
    "%%time\n",
    "\"\"\"\n",
    "Create model\n",
    "\"\"\"\n",
    "keras_cnn_bidir_lstm_w2v_model = Sequential()\n",
    "keras_cnn_bidir_lstm_w2v_model.add(Embedding(vocabulary_size, \n",
    "                                             150, \n",
    "                                             weights=[embedding_weight_vectors],\n",
    "                                             input_length=max_length,  \n",
    "                                             trainable=False))\n",
    "keras_cnn_bidir_lstm_w2v_model.add(Conv1D(128, 5, activation='relu'))\n",
    "keras_cnn_bidir_lstm_w2v_model.add(MaxPooling1D(pool_size=2))\n",
    "keras_cnn_bidir_lstm_w2v_model.add(Bidirectional(LSTM(64)))\n",
    "keras_cnn_bidir_lstm_w2v_model.add(Dropout(0.5))\n",
    "keras_cnn_bidir_lstm_w2v_model.add(Dense(1, activation='sigmoid'))\n",
    "\n",
    "\"\"\"\n",
    "Compile network\n",
    "\"\"\"\n",
    "keras_cnn_bidir_lstm_w2v_model.compile(loss='binary_crossentropy', \n",
    "                                       optimizer='adam', \n",
    "                                       metrics=['accuracy'])\n",
    "keras_cnn_bidir_lstm_w2v_model.summary()"
   ]
  },
  {
   "cell_type": "code",
   "execution_count": 67,
   "metadata": {},
   "outputs": [
    {
     "name": "stdout",
     "output_type": "stream",
     "text": [
      "CPU times: user 8h 13min 38s, sys: 40min 46s, total: 8h 54min 24s\n",
      "Wall time: 1h 17min 17s\n"
     ]
    }
   ],
   "source": [
    "%%time\n",
    "\"\"\"\n",
    "Fit train data\n",
    "\"\"\"\n",
    "keras_cnn_bidir_lstm_w2v_model.fit(X_token_train, y_train,\n",
    "                                   epochs=5,\n",
    "                                   verbose=False,\n",
    "                                   validation_data=(X_token_validation, y_validation),\n",
    "                                   batch_size=10)"
   ]
  },
  {
   "cell_type": "code",
   "execution_count": 68,
   "metadata": {},
   "outputs": [
    {
     "name": "stdout",
     "output_type": "stream",
     "text": [
      "**** Sentiment Analysis  Using Pre-trained Word2Vec Word Embedding To Keras CNN And Bidirectional LSTM ****\n",
      "\n",
      "Train-Set Accuracy: 0.9567\n",
      "\n",
      "Evaluation on Validation-Set : \n",
      "Classification report:\n",
      "               precision    recall  f1-score   support\n",
      "\n",
      "           0       0.81      0.75      0.78       762\n",
      "           1       0.94      0.96      0.95      3312\n",
      "\n",
      "   micro avg       0.92      0.92      0.92      4074\n",
      "   macro avg       0.88      0.86      0.87      4074\n",
      "weighted avg       0.92      0.92      0.92      4074\n",
      "\n",
      "Confusion matrix:\n",
      " [[ 572  190]\n",
      " [ 131 3181]]\n",
      "Validation-Set Accuracy: 0.9212\n",
      "\n",
      "Evaluation on Test-Set : \n",
      "Classification report:\n",
      "               precision    recall  f1-score   support\n",
      "\n",
      "           0       0.82      0.74      0.78       833\n",
      "           1       0.93      0.96      0.95      3242\n",
      "\n",
      "   micro avg       0.91      0.91      0.91      4075\n",
      "   macro avg       0.88      0.85      0.86      4075\n",
      "weighted avg       0.91      0.91      0.91      4075\n",
      "\n",
      "Confusion matrix:\n",
      " [[ 615  218]\n",
      " [ 131 3111]]\n",
      "Test-Set Accuracy:  0.9144\n"
     ]
    }
   ],
   "source": [
    "\"\"\"\n",
    "Evaluate\n",
    "\"\"\"\n",
    "print(\"**** Sentiment Analysis  Using Pre-trained Word2Vec Word Embedding To Keras CNN And Bidirectional LSTM ****\\n\")\n",
    "loss, accuracy = keras_cnn_bidir_lstm_w2v_model.evaluate(X_token_train, y_train, verbose=False)\n",
    "print(\"Train-Set Accuracy: {:.4f}\".format(accuracy))\n",
    "\n",
    "print(\"\\nEvaluation on Validation-Set : \")\n",
    "pred_val=keras_cnn_bidir_lstm_w2v_model.predict_classes(X_token_validation)\n",
    "print(\"Classification report:\\n {}\".format(classification_report(y_validation, pred_val)))\n",
    "print(\"Confusion matrix:\\n {}\".format(confusion_matrix(y_validation, pred_val)))\n",
    "loss, accuracy = keras_cnn_bidir_lstm_w2v_model.evaluate(X_token_validation, y_validation, verbose=False)\n",
    "print(\"Validation-Set Accuracy: {:.4f}\".format(accuracy))\n",
    "\n",
    "print(\"\\nEvaluation on Test-Set : \")\n",
    "pred=keras_cnn_bidir_lstm_w2v_model.predict_classes(X_token_test)\n",
    "print(\"Classification report:\\n {}\".format(classification_report(y_test, pred)))\n",
    "print(\"Confusion matrix:\\n {}\".format(confusion_matrix(y_test, pred)))\n",
    "loss, accuracy = keras_cnn_bidir_lstm_w2v_model.evaluate(X_token_test, y_test, verbose=False)\n",
    "print(\"Test-Set Accuracy:  {:.4f}\".format(accuracy))"
   ]
  },
  {
   "cell_type": "markdown",
   "metadata": {},
   "source": [
    "#### Sentiment Analysis Using Pre-trained Word2Vec Word Embedding To Keras Bidirectional LSTM"
   ]
  },
  {
   "cell_type": "code",
   "execution_count": 69,
   "metadata": {},
   "outputs": [
    {
     "name": "stdout",
     "output_type": "stream",
     "text": [
      "_________________________________________________________________\n",
      "Layer (type)                 Output Shape              Param #   \n",
      "=================================================================\n",
      "embedding_4 (Embedding)      (None, 1000, 150)         11087250  \n",
      "_________________________________________________________________\n",
      "bidirectional_2 (Bidirection (None, 128)               110080    \n",
      "_________________________________________________________________\n",
      "dropout_2 (Dropout)          (None, 128)               0         \n",
      "_________________________________________________________________\n",
      "dense_5 (Dense)              (None, 1)                 129       \n",
      "=================================================================\n",
      "Total params: 11,197,459\n",
      "Trainable params: 110,209\n",
      "Non-trainable params: 11,087,250\n",
      "_________________________________________________________________\n"
     ]
    }
   ],
   "source": [
    "\"\"\"\n",
    "Create model\n",
    "\"\"\"\n",
    "\n",
    "keras_bidir_lstm_w2v_model = Sequential()\n",
    "keras_bidir_lstm_w2v_model.add(Embedding(vocabulary_size, \n",
    "                                         150, \n",
    "                                         weights=[embedding_weight_vectors],\n",
    "                                         input_length=max_length,  \n",
    "                                         trainable=False))\n",
    "keras_bidir_lstm_w2v_model.add(Bidirectional(LSTM(64)))\n",
    "keras_bidir_lstm_w2v_model.add(Dropout(0.5))\n",
    "keras_bidir_lstm_w2v_model.add(Dense(1, activation='sigmoid'))\n",
    "\n",
    "\n",
    "\"\"\"\n",
    "Compile network\n",
    "\"\"\"\n",
    "keras_bidir_lstm_w2v_model.compile(loss='binary_crossentropy', \n",
    "                                   optimizer='adam', \n",
    "                                   metrics=['accuracy'])\n",
    "keras_bidir_lstm_w2v_model.summary()"
   ]
  },
  {
   "cell_type": "code",
   "execution_count": 70,
   "metadata": {},
   "outputs": [
    {
     "name": "stdout",
     "output_type": "stream",
     "text": [
      "CPU times: user 12h 40min 42s, sys: 1h 21min 17s, total: 14h 2min\n",
      "Wall time: 2h 1min 12s\n"
     ]
    }
   ],
   "source": [
    "%%time\n",
    "\"\"\"\n",
    "Fit train data\n",
    "\"\"\"\n",
    "keras_bidir_lstm_w2v_model.fit(X_token_train, y_train,\n",
    "                               epochs=5,\n",
    "                               verbose=False,\n",
    "                               validation_data=(X_token_validation, y_validation),\n",
    "                               batch_size=10)"
   ]
  },
  {
   "cell_type": "code",
   "execution_count": 71,
   "metadata": {},
   "outputs": [
    {
     "name": "stdout",
     "output_type": "stream",
     "text": [
      "**** Sentiment Analysis Using Pre-trained Word2Vec Word Embedding To Keras Bidirectional LSTM ****\n",
      "\n",
      "Train-Set Accuracy: 0.9418\n",
      "\n",
      "Evaluation on Validation-Set : \n",
      "Classification report:\n",
      "               precision    recall  f1-score   support\n",
      "\n",
      "           0       0.78      0.80      0.79       762\n",
      "           1       0.95      0.95      0.95      3312\n",
      "\n",
      "   micro avg       0.92      0.92      0.92      4074\n",
      "   macro avg       0.87      0.87      0.87      4074\n",
      "weighted avg       0.92      0.92      0.92      4074\n",
      "\n",
      "Confusion matrix:\n",
      " [[ 607  155]\n",
      " [ 169 3143]]\n",
      "Validation-Set Accuracy: 0.9205\n",
      "\n",
      "Evaluation on Test-Set : \n",
      "Classification report:\n",
      "               precision    recall  f1-score   support\n",
      "\n",
      "           0       0.83      0.78      0.81       833\n",
      "           1       0.94      0.96      0.95      3242\n",
      "\n",
      "   micro avg       0.92      0.92      0.92      4075\n",
      "   macro avg       0.89      0.87      0.88      4075\n",
      "weighted avg       0.92      0.92      0.92      4075\n",
      "\n",
      "Confusion matrix:\n",
      " [[ 652  181]\n",
      " [ 133 3109]]\n",
      "Test-Set Accuracy:  0.9229\n"
     ]
    }
   ],
   "source": [
    "\"\"\"\n",
    "Evaluate\n",
    "\"\"\"\n",
    "print(\"**** Sentiment Analysis Using Pre-trained Word2Vec Word Embedding To Keras Bidirectional LSTM ****\\n\")\n",
    "loss, accuracy = keras_bidir_lstm_w2v_model.evaluate(X_token_train, y_train, verbose=False)\n",
    "print(\"Train-Set Accuracy: {:.4f}\".format(accuracy))\n",
    "\n",
    "print(\"\\nEvaluation on Validation-Set : \")\n",
    "pred_val=keras_bidir_lstm_w2v_model.predict_classes(X_token_validation)\n",
    "print(\"Classification report:\\n {}\".format(classification_report(y_validation, pred_val)))\n",
    "print(\"Confusion matrix:\\n {}\".format(confusion_matrix(y_validation, pred_val)))\n",
    "loss, accuracy = keras_bidir_lstm_w2v_model.evaluate(X_token_validation, y_validation, verbose=False)\n",
    "print(\"Validation-Set Accuracy: {:.4f}\".format(accuracy))\n",
    "\n",
    "print(\"\\nEvaluation on Test-Set : \")\n",
    "pred=keras_bidir_lstm_w2v_model.predict_classes(X_token_test)\n",
    "print(\"Classification report:\\n {}\".format(classification_report(y_test, pred)))\n",
    "print(\"Confusion matrix:\\n {}\".format(confusion_matrix(y_test, pred)))\n",
    "\n",
    "loss, accuracy = keras_bidir_lstm_w2v_model.evaluate(X_token_test, y_test, verbose=False)\n",
    "print(\"Test-Set Accuracy:  {:.4f}\".format(accuracy))"
   ]
  },
  {
   "cell_type": "markdown",
   "metadata": {},
   "source": [
    "## About Doc2Vec\n",
    "\n",
    "* **Doc2Vec** is a generalization of the Word2Vec algorithm and applies at the document level. According to [Mikolov et al. (2014)](https://arxiv.org/pdf/1405.4053.pdf), paragraphs in a document are mapped to a vector representation called paragraph vector. This is then combined with the word vectors by averaging or concatenating to predict the next word in a context. The paragraph vector is just like another word vector but it represents the missing context of the the topic of the paragraph.\n",
    "* **PV-DM or DM:** is the Doc2Vec model analogous to CBOW in Word2Vec. The document vectors are obtained by training a neural network on the task of inferring a centre word based on context words and a context paragraph. See image below for architecture ([image credit: Google](https://www.google.com/search?newwindow=1&biw=1855&bih=952&tbm=isch&sa=1&ei=vQvOXO-dH8rj_AasiKywBw&q=doc2vec+dm&oq=doc2vec+dm&gs_l=img.3..0i24l3.2275.7633..7995...0.0..0.145.386.4j1......1....1..gws-wiz-img.......0j0i30.DJjU4rFKil8))\n",
    "\n",
    "<span style=\"display:block;text-align:center\">![DM](dm.png)\n",
    "\n",
    "* **PV-DBOW or DBOW:** is the Doc2Vec model analogous to Skip-gram in Word2Vec. The document vectors are obtained by training a neural network on the task of predicting a probability distribution of words in a paragraph given a randomly-sampled word from the document. See image below for architecture ([image credit: Google](https://www.google.com/search?newwindow=1&biw=1855&bih=952&tbm=isch&sa=1&ei=5QvOXPTaNsmIggfb6JGoAw&q=doc2vec+dbow&oq=doc2vec+dbow&gs_l=img.3..0i24l3.20722.21318..21542...0.0..0.69.203.3......0....1..gws-wiz-img.5MtfgvxyAEI))\n",
    "\n",
    "<span style=\"display:block;text-align:center\">![DBOW](dbow.png)\n",
    "\n",
    "Below we will see the usage gensim python library with comaprisons of each of these models and their combinations. That is:\n",
    "1. **DBOW (Distributed Bag of Words)**\n",
    "2. **DMC (Distributed Memory Concatenated)**\n",
    "3. **DMM (Distributed Memory Mean)**\n",
    "4. **DBOW + DMC**\n",
    "5. **DBOW + DMM**\n",
    "    \n",
    "[Doc2Vec reference](https://radimrehurek.com/gensim/models/doc2vec.html)"
   ]
  },
  {
   "cell_type": "code",
   "execution_count": 72,
   "metadata": {},
   "outputs": [],
   "source": [
    "\"\"\"\n",
    "Function to labelize the reviews\n",
    "\"\"\"\n",
    "def labelize_review(reviews,label):\n",
    "    labelized_review = []\n",
    "    prefix = label\n",
    "    for indx, rvw in zip(reviews.index, reviews):\n",
    "        labelized_review.append(LabeledSentence(rvw.split(), [prefix + '_%s' % indx]))\n",
    "    return labelized_review"
   ]
  },
  {
   "cell_type": "code",
   "execution_count": 73,
   "metadata": {},
   "outputs": [],
   "source": [
    "\"\"\"\n",
    "labelize the reviews\n",
    "\"\"\"\n",
    "all_reviews_d2v = labelize_review(all_reviews, 'all')"
   ]
  },
  {
   "cell_type": "markdown",
   "metadata": {},
   "source": [
    "#### **Distributed Bag Of Words (DBOW)**"
   ]
  },
  {
   "cell_type": "code",
   "execution_count": 74,
   "metadata": {},
   "outputs": [
    {
     "name": "stderr",
     "output_type": "stream",
     "text": [
      "W0506 22:35:11.768792 139801131669312 base_any2vec.py:723] consider setting layer size to a multiple of 4 for greater performance\n",
      "100%|██████████| 40744/40744 [00:00<00:00, 2390542.65it/s]\n"
     ]
    },
    {
     "name": "stdout",
     "output_type": "stream",
     "text": [
      "CPU times: user 2.81 s, sys: 20 ms, total: 2.83 s\n",
      "Wall time: 2.83 s\n"
     ]
    }
   ],
   "source": [
    "%%time\n",
    "\"\"\"\n",
    "Create doc2vec DBOW model\n",
    "\"\"\"\n",
    "dbow_model = Doc2Vec(dm=0, \n",
    "                     size=150, \n",
    "                     negative=5, \n",
    "                     min_count=2, \n",
    "                     workers=10, \n",
    "                     alpha=0.065, \n",
    "                     min_alpha=0.065)\n",
    "\n",
    "dbow_model.build_vocab([review for review in tqdm(all_reviews_d2v)])"
   ]
  },
  {
   "cell_type": "code",
   "execution_count": 75,
   "metadata": {},
   "outputs": [
    {
     "name": "stderr",
     "output_type": "stream",
     "text": [
      "100%|██████████| 40744/40744 [00:00<00:00, 2476634.33it/s]\n",
      "100%|██████████| 40744/40744 [00:00<00:00, 2600908.94it/s]\n",
      "100%|██████████| 40744/40744 [00:00<00:00, 2527849.27it/s]\n"
     ]
    },
    {
     "name": "stdout",
     "output_type": "stream",
     "text": [
      "CPU times: user 26.7 s, sys: 1.09 s, total: 27.8 s\n",
      "Wall time: 10.8 s\n"
     ]
    }
   ],
   "source": [
    "%%time\n",
    "\n",
    "\"\"\"\n",
    "Train the model\n",
    "\"\"\"\n",
    "\n",
    "for epoch in range(3):\n",
    "    dbow_model.train(utils.shuffle([review for review in tqdm(all_reviews_d2v)]), \n",
    "                     total_examples=len(all_reviews_d2v), \n",
    "                     epochs=1)\n",
    "    dbow_model.alpha -= 0.002\n",
    "    dbow_model.min_alpha = dbow_model.alpha"
   ]
  },
  {
   "cell_type": "code",
   "execution_count": 76,
   "metadata": {},
   "outputs": [],
   "source": [
    "\"\"\"\n",
    "Function to generate vectors from corpus\n",
    "\"\"\"\n",
    "\n",
    "def generate_vectors(model, corpus, size):\n",
    "    vectors = np.zeros((len(corpus), size))\n",
    "    n = 0\n",
    "    for indx in corpus.index:\n",
    "        prefix = 'all_' + str(indx)\n",
    "        vectors[n] = model.docvecs[prefix]\n",
    "        n += 1\n",
    "    return vectors"
   ]
  },
  {
   "cell_type": "code",
   "execution_count": 77,
   "metadata": {},
   "outputs": [],
   "source": [
    "\"\"\"\n",
    "Generating train, test and validation vectors\n",
    "\"\"\"\n",
    "\n",
    "train_vectors_dbow = generate_vectors(dbow_model, x_train, 150)\n",
    "test_vectors_dbow = generate_vectors(dbow_model, x_test, 150)\n",
    "validation_vectors_dbow = generate_vectors(dbow_model, x_validation, 150)"
   ]
  },
  {
   "cell_type": "markdown",
   "metadata": {},
   "source": [
    "#### Doc2Vec Distributed Bag Of Words(DBOW) Based Sentiment Analysis using LogisticRegression"
   ]
  },
  {
   "cell_type": "code",
   "execution_count": 78,
   "metadata": {},
   "outputs": [
    {
     "name": "stdout",
     "output_type": "stream",
     "text": [
      "**** Doc2Vec Distributed Bag Of Words(DBOW) Based Sentiment Analysis using LogisticRegression ****\n",
      "\n",
      "LogisticRegression Performance : \n",
      "\n",
      "Train-Set Score : 0.8982\n",
      "Train-Set Accuracy : 0.8982\n",
      "\n",
      "Evaluation on Validation-Set : \n",
      "Classification report:\n",
      "               precision    recall  f1-score   support\n",
      "\n",
      "           0       0.80      0.69      0.74       762\n",
      "           1       0.93      0.96      0.95      3312\n",
      "\n",
      "   micro avg       0.91      0.91      0.91      4074\n",
      "   macro avg       0.87      0.82      0.84      4074\n",
      "weighted avg       0.91      0.91      0.91      4074\n",
      "\n",
      "Confusion matrix:\n",
      " [[ 524  238]\n",
      " [ 131 3181]]\n",
      "Validation-Set Score : 0.9094\n",
      "Validation-Set Accuracy:0.9094\n",
      "\n",
      "Evaluation on Test-Set : \n",
      "Classification report:\n",
      "               precision    recall  f1-score   support\n",
      "\n",
      "           0       0.81      0.64      0.71       833\n",
      "           1       0.91      0.96      0.94      3242\n",
      "\n",
      "   micro avg       0.90      0.90      0.90      4075\n",
      "   macro avg       0.86      0.80      0.82      4075\n",
      "weighted avg       0.89      0.90      0.89      4075\n",
      "\n",
      "Confusion matrix:\n",
      " [[ 530  303]\n",
      " [ 123 3119]]\n",
      "Test-Set Score : 0.8955\n",
      "Test-Set Accuracy:0.8955\n"
     ]
    }
   ],
   "source": [
    "logreg_dbow = LogisticRegression()\n",
    "logreg_dbow.fit(train_vectors_dbow, y_train)\n",
    "print(\"**** Doc2Vec Distributed Bag Of Words(DBOW) Based Sentiment Analysis using LogisticRegression ****\\n\")\n",
    "print(\"LogisticRegression Performance : \\n\")\n",
    "print('Train-Set Score : {:.4f}'.format(logreg_dbow.score(train_vectors_dbow, y_train)))\n",
    "print('Train-Set Accuracy : {:.4f}'.format(accuracy_score(y_train,logreg_dbow.predict(train_vectors_dbow))))\n",
    "\n",
    "print(\"\\nEvaluation on Validation-Set : \")\n",
    "pred_val = logreg_dbow.predict(validation_vectors_dbow)\n",
    "print(\"Classification report:\\n {}\".format(classification_report(y_validation, pred_val)))\n",
    "print(\"Confusion matrix:\\n {}\".format(confusion_matrix(y_validation, pred_val)))\n",
    "print('Validation-Set Score : {:.4f}'.format(logreg_dbow.score(validation_vectors_dbow, y_validation)))\n",
    "print('Validation-Set Accuracy:{:.4f}'.format(accuracy_score(y_validation, pred_val)))\n",
    "\n",
    "print(\"\\nEvaluation on Test-Set : \")\n",
    "pred = logreg_dbow.predict(test_vectors_dbow)\n",
    "print(\"Classification report:\\n {}\".format(classification_report(y_test, pred)))\n",
    "print(\"Confusion matrix:\\n {}\".format(confusion_matrix(y_test, pred)))\n",
    "print('Test-Set Score : {:.4f}'.format(logreg_dbow.score(test_vectors_dbow, y_test)))\n",
    "print('Test-Set Accuracy:{:.4f}'.format(accuracy_score(y_test, pred)))"
   ]
  },
  {
   "cell_type": "markdown",
   "metadata": {},
   "source": [
    "#### Doc2Vec Distributed Bag Of Words(DBOW) Based Sentiment Analysis using SVC"
   ]
  },
  {
   "cell_type": "code",
   "execution_count": 79,
   "metadata": {},
   "outputs": [
    {
     "name": "stdout",
     "output_type": "stream",
     "text": [
      "**** Doc2Vec Distributed Bag Of Words(DBOW) Based Sentiment Analysis using SVC ****\n",
      "\n",
      "SVC with linear kernel Performance : \n",
      "\n",
      "Train-Set Score : 0.8985\n",
      "Train-Set Accuracy : 0.8985\n",
      "\n",
      "Evaluation on Validation-Set : \n",
      "Classification report:\n",
      "               precision    recall  f1-score   support\n",
      "\n",
      "           0       0.79      0.68      0.73       762\n",
      "           1       0.93      0.96      0.94      3312\n",
      "\n",
      "   micro avg       0.91      0.91      0.91      4074\n",
      "   macro avg       0.86      0.82      0.84      4074\n",
      "weighted avg       0.90      0.91      0.90      4074\n",
      "\n",
      "Confusion matrix:\n",
      " [[ 520  242]\n",
      " [ 136 3176]]\n",
      "Validation-Set Score : 0.9072\n",
      "Validation-Set Accuracy:0.9072\n",
      "\n",
      "Evaluation on Test-Set : \n",
      "Classification report:\n",
      "               precision    recall  f1-score   support\n",
      "\n",
      "           0       0.82      0.64      0.72       833\n",
      "           1       0.91      0.96      0.94      3242\n",
      "\n",
      "   micro avg       0.90      0.90      0.90      4075\n",
      "   macro avg       0.86      0.80      0.83      4075\n",
      "weighted avg       0.89      0.90      0.89      4075\n",
      "\n",
      "Confusion matrix:\n",
      " [[ 533  300]\n",
      " [ 120 3122]]\n",
      "Test-Set Score : 0.8969\n",
      "Test-Set Accuracy: 0.8969\n"
     ]
    }
   ],
   "source": [
    "svm_dbow = SVC(kernel='linear')\n",
    "svm_dbow.fit(train_vectors_dbow, y_train)\n",
    "print(\"**** Doc2Vec Distributed Bag Of Words(DBOW) Based Sentiment Analysis using SVC ****\\n\")\n",
    "print(\"SVC with linear kernel Performance : \\n\")\n",
    "print('Train-Set Score : {:.4f}'.format(svm_dbow.score(train_vectors_dbow, y_train)))\n",
    "print('Train-Set Accuracy : {:.4f}'.format(accuracy_score(y_train,svm_dbow.predict(train_vectors_dbow))))\n",
    "\n",
    "print(\"\\nEvaluation on Validation-Set : \")\n",
    "pred_val = svm_dbow.predict(validation_vectors_dbow)\n",
    "print(\"Classification report:\\n {}\".format(classification_report(y_validation, pred_val)))\n",
    "print(\"Confusion matrix:\\n {}\".format(confusion_matrix(y_validation, pred_val)))\n",
    "print('Validation-Set Score : {:.4f}'.format(svm_dbow.score(validation_vectors_dbow, y_validation)))\n",
    "print('Validation-Set Accuracy:{:.4f}'.format(accuracy_score(y_validation, pred_val)))\n",
    "\n",
    "print(\"\\nEvaluation on Test-Set : \")\n",
    "pred = svm_dbow.predict(test_vectors_dbow)\n",
    "print(\"Classification report:\\n {}\".format(classification_report(y_test, pred)))\n",
    "print(\"Confusion matrix:\\n {}\".format(confusion_matrix(y_test, pred)))\n",
    "print('Test-Set Score : {:.4f}'.format(svm_dbow.score(test_vectors_dbow, y_test)))\n",
    "print(\"Test-Set Accuracy: {:.4f}\".format(accuracy_score(y_test, pred)))"
   ]
  },
  {
   "cell_type": "markdown",
   "metadata": {},
   "source": [
    "#### Doc2Vec Distributed Bag Of Words(DBOW) Based Sentiment Analysis using XGBClassifier"
   ]
  },
  {
   "cell_type": "code",
   "execution_count": 80,
   "metadata": {},
   "outputs": [
    {
     "name": "stdout",
     "output_type": "stream",
     "text": [
      "**** Doc2Vec Distributed Bag Of Words(DBOW) Based Sentiment Analysis using XGBClassifier ****\n",
      "\n",
      "XGBClassifier Performance : \n",
      "\n",
      "Train-Set Score : 0.9008\n",
      "Train-Set Accuracy : 0.9008\n",
      "\n",
      "Evaluation on Validation-Set : \n",
      "Classification report:\n",
      "               precision    recall  f1-score   support\n",
      "\n",
      "           0       0.80      0.60      0.68       762\n",
      "           1       0.91      0.97      0.94      3312\n",
      "\n",
      "   micro avg       0.90      0.90      0.90      4074\n",
      "   macro avg       0.86      0.78      0.81      4074\n",
      "weighted avg       0.89      0.90      0.89      4074\n",
      "\n",
      "Confusion matrix:\n",
      " [[ 455  307]\n",
      " [ 115 3197]]\n",
      "Validation-Set Score : 0.8964\n",
      "Validation-Set Accuracy:0.8964\n",
      "\n",
      "Evaluation on Test-Set : \n",
      "Classification report:\n",
      "               precision    recall  f1-score   support\n",
      "\n",
      "           0       0.82      0.56      0.67       833\n",
      "           1       0.90      0.97      0.93      3242\n",
      "\n",
      "   micro avg       0.88      0.88      0.88      4075\n",
      "   macro avg       0.86      0.76      0.80      4075\n",
      "weighted avg       0.88      0.88      0.88      4075\n",
      "\n",
      "Confusion matrix:\n",
      " [[ 467  366]\n",
      " [ 103 3139]]\n",
      "Test-Set Score : 0.8849\n",
      "Test-Set Accuracy: 0.8849\n"
     ]
    }
   ],
   "source": [
    "xgb_dbow = XGBClassifier()\n",
    "xgb_dbow.fit(train_vectors_dbow, y_train)\n",
    "\n",
    "print(\"**** Doc2Vec Distributed Bag Of Words(DBOW) Based Sentiment Analysis using XGBClassifier ****\\n\")\n",
    "print(\"XGBClassifier Performance : \\n\")\n",
    "print('Train-Set Score : {:.4f}'.format(xgb_dbow.score(train_vectors_dbow, y_train)))\n",
    "print('Train-Set Accuracy : {:.4f}'.format(accuracy_score(y_train,xgb_dbow.predict(train_vectors_dbow))))\n",
    "\n",
    "print(\"\\nEvaluation on Validation-Set : \")\n",
    "pred_val = xgb_dbow.predict(validation_vectors_dbow)\n",
    "print(\"Classification report:\\n {}\".format(classification_report(y_validation, pred_val)))\n",
    "print(\"Confusion matrix:\\n {}\".format(confusion_matrix(y_validation, pred_val)))\n",
    "print('Validation-Set Score : {:.4f}'.format(xgb_dbow.score(validation_vectors_dbow, y_validation)))\n",
    "print('Validation-Set Accuracy:{:.4f}'.format(accuracy_score(y_validation, pred_val)))\n",
    "\n",
    "\n",
    "print(\"\\nEvaluation on Test-Set : \")\n",
    "pred = xgb_dbow.predict(test_vectors_dbow)\n",
    "print(\"Classification report:\\n {}\".format(classification_report(y_test, pred)))\n",
    "print(\"Confusion matrix:\\n {}\".format(confusion_matrix(y_test, pred)))\n",
    "print(\"Test-Set Score : {:.4f}\".format(xgb_dbow.score(test_vectors_dbow, y_test)))\n",
    "print(\"Test-Set Accuracy: {:.4f}\".format(accuracy_score(y_test, pred)))"
   ]
  },
  {
   "cell_type": "markdown",
   "metadata": {},
   "source": [
    "#### **Distributed Momory (concatenated)**"
   ]
  },
  {
   "cell_type": "code",
   "execution_count": 81,
   "metadata": {},
   "outputs": [
    {
     "name": "stderr",
     "output_type": "stream",
     "text": [
      "W0506 22:39:05.669103 139801131669312 base_any2vec.py:723] consider setting layer size to a multiple of 4 for greater performance\n",
      "100%|██████████| 40744/40744 [00:00<00:00, 2501943.11it/s]\n"
     ]
    },
    {
     "name": "stdout",
     "output_type": "stream",
     "text": [
      "CPU times: user 2.49 s, sys: 0 ns, total: 2.49 s\n",
      "Wall time: 2.49 s\n"
     ]
    }
   ],
   "source": [
    "%%time\n",
    "\"\"\"\n",
    "Create Doc2Vec DMC model\n",
    "\"\"\"\n",
    "\n",
    "dmc_model = Doc2Vec(dm=1, \n",
    "                    dm_concat=1, \n",
    "                    size=150, \n",
    "                    window=10, \n",
    "                    negative=5, \n",
    "                    min_count=2, \n",
    "                    workers=10,\n",
    "                    alpha=0.065,\n",
    "                    min_alpha=0.065)\n",
    "\n",
    "dmc_model.build_vocab([review for review in tqdm(all_reviews_d2v)])"
   ]
  },
  {
   "cell_type": "code",
   "execution_count": 82,
   "metadata": {},
   "outputs": [
    {
     "name": "stderr",
     "output_type": "stream",
     "text": [
      "100%|██████████| 40744/40744 [00:00<00:00, 2419891.28it/s]\n",
      "100%|██████████| 40744/40744 [00:00<00:00, 1688463.05it/s]\n",
      "100%|██████████| 40744/40744 [00:00<00:00, 2154309.08it/s]\n"
     ]
    },
    {
     "name": "stdout",
     "output_type": "stream",
     "text": [
      "CPU times: user 3min 49s, sys: 4.36 s, total: 3min 53s\n",
      "Wall time: 39.1 s\n"
     ]
    }
   ],
   "source": [
    "%%time\n",
    "\n",
    "\"\"\"\n",
    "Train the model\n",
    "\"\"\"\n",
    "\n",
    "for epoch in range(3):\n",
    "    dmc_model.train(utils.shuffle([review for review in tqdm(all_reviews_d2v)]), \n",
    "                    total_examples=len(all_reviews_d2v), \n",
    "                    epochs=1)\n",
    "    dmc_model.alpha -= 0.002\n",
    "    dmc_model.min_alpha = dmc_model.alpha"
   ]
  },
  {
   "cell_type": "code",
   "execution_count": 83,
   "metadata": {},
   "outputs": [],
   "source": [
    "\"\"\"\n",
    "Generating train, test and validation vectors\n",
    "\"\"\"\n",
    "train_vectors_dmc = generate_vectors(dmc_model, x_train, 150)\n",
    "test_vectors_dmc = generate_vectors(dmc_model, x_test, 150)\n",
    "validation_vectors_dmc = generate_vectors(dmc_model, x_validation, 150)"
   ]
  },
  {
   "cell_type": "markdown",
   "metadata": {},
   "source": [
    "#### Doc2Vec DMC Based Sentiment Analysis using LogisticRegression"
   ]
  },
  {
   "cell_type": "code",
   "execution_count": 84,
   "metadata": {},
   "outputs": [
    {
     "name": "stdout",
     "output_type": "stream",
     "text": [
      "**** Doc2Vec Distributed Momory (concatenated) Based Sentiment Analysis using LogisticRegression ****\n",
      "\n",
      "LogisticRegression Performance : \n",
      "\n",
      "Train-Set Score : 0.8088\n",
      "Train-Set Accuracy : 0.8088\n",
      "\n",
      "Evaluation on Validation-Set : \n",
      "Classification report:\n",
      "               precision    recall  f1-score   support\n",
      "\n",
      "           0       0.80      0.01      0.01       762\n",
      "           1       0.81      1.00      0.90      3312\n",
      "\n",
      "   micro avg       0.81      0.81      0.81      4074\n",
      "   macro avg       0.81      0.50      0.45      4074\n",
      "weighted avg       0.81      0.81      0.73      4074\n",
      "\n",
      "Confusion matrix:\n",
      " [[   4  758]\n",
      " [   1 3311]]\n",
      "Validation-Set Score : 0.8137\n",
      "Validation-Set Accuracy:0.8137\n",
      "\n",
      "Evaluation on Test-Set : \n",
      "Classification report:\n",
      "               precision    recall  f1-score   support\n",
      "\n",
      "           0       1.00      0.00      0.00       833\n",
      "           1       0.80      1.00      0.89      3242\n",
      "\n",
      "   micro avg       0.80      0.80      0.80      4075\n",
      "   macro avg       0.90      0.50      0.45      4075\n",
      "weighted avg       0.84      0.80      0.71      4075\n",
      "\n",
      "Confusion matrix:\n",
      " [[   2  831]\n",
      " [   0 3242]]\n",
      "Test-Set Score : 0.7961\n",
      "Test-Set Accuracy:0.7961\n"
     ]
    }
   ],
   "source": [
    "logreg_dmc = LogisticRegression()\n",
    "logreg_dmc.fit(train_vectors_dmc, y_train)\n",
    "print(\"**** Doc2Vec Distributed Momory (concatenated) Based Sentiment Analysis using LogisticRegression ****\\n\")\n",
    "print(\"LogisticRegression Performance : \\n\")\n",
    "print('Train-Set Score : {:.4f}'.format(logreg_dmc.score(train_vectors_dmc, y_train)))\n",
    "print('Train-Set Accuracy : {:.4f}'.format(accuracy_score(y_train,logreg_dmc.predict(train_vectors_dmc))))\n",
    "\n",
    "print(\"\\nEvaluation on Validation-Set : \")\n",
    "pred_val = logreg_dmc.predict(validation_vectors_dmc)\n",
    "print(\"Classification report:\\n {}\".format(classification_report(y_validation, pred_val)))\n",
    "print(\"Confusion matrix:\\n {}\".format(confusion_matrix(y_validation, pred_val)))\n",
    "print('Validation-Set Score : {:.4f}'.format(logreg_dmc.score(validation_vectors_dmc, y_validation)))\n",
    "print('Validation-Set Accuracy:{:.4f}'.format(accuracy_score(y_validation, pred_val)))\n",
    "\n",
    "print(\"\\nEvaluation on Test-Set : \")\n",
    "pred = logreg_dmc.predict(test_vectors_dmc)\n",
    "print(\"Classification report:\\n {}\".format(classification_report(y_test, pred)))\n",
    "print(\"Confusion matrix:\\n {}\".format(confusion_matrix(y_test, pred)))\n",
    "print('Test-Set Score : {:.4f}'.format(logreg_dmc.score(test_vectors_dmc, y_test)))\n",
    "print('Test-Set Accuracy:{:.4f}'.format(accuracy_score(y_test, pred)))"
   ]
  },
  {
   "cell_type": "markdown",
   "metadata": {},
   "source": [
    "#### Doc2Vec DMC Based Sentiment Analysis using SVC"
   ]
  },
  {
   "cell_type": "code",
   "execution_count": 85,
   "metadata": {},
   "outputs": [
    {
     "name": "stdout",
     "output_type": "stream",
     "text": [
      "**** Doc2Vec Distributed Momory (concatenated) Based Sentiment Analysis using SVC ****\n",
      "\n",
      "SVC with linear kernel Performance : \n",
      "\n",
      "Train-Set Score : 0.8086\n",
      "Train-Set Accuracy : 0.8086\n",
      "\n",
      "Evaluation on Validation-Set : \n",
      "Classification report:\n",
      "               precision    recall  f1-score   support\n",
      "\n",
      "           0       0.00      0.00      0.00       762\n",
      "           1       0.81      1.00      0.90      3312\n",
      "\n",
      "   micro avg       0.81      0.81      0.81      4074\n",
      "   macro avg       0.41      0.50      0.45      4074\n",
      "weighted avg       0.66      0.81      0.73      4074\n",
      "\n",
      "Confusion matrix:\n",
      " [[   0  762]\n",
      " [   0 3312]]\n",
      "Validation-Set Score : 0.8130\n",
      "Validation-Set Accuracy:0.8130\n",
      "\n",
      "Evaluation on Test-Set : \n",
      "Classification report:\n",
      "               precision    recall  f1-score   support\n",
      "\n",
      "           0       0.00      0.00      0.00       833\n",
      "           1       0.80      1.00      0.89      3242\n",
      "\n",
      "   micro avg       0.80      0.80      0.80      4075\n",
      "   macro avg       0.40      0.50      0.44      4075\n",
      "weighted avg       0.63      0.80      0.71      4075\n",
      "\n",
      "Confusion matrix:\n",
      " [[   0  833]\n",
      " [   0 3242]]\n",
      "Test-Set Score : 0.7956\n",
      "Test-Set Accuracy:0.7956\n"
     ]
    }
   ],
   "source": [
    "svm_dmc = SVC(kernel='linear')\n",
    "svm_dmc.fit(train_vectors_dmc, y_train)\n",
    "\n",
    "print(\"**** Doc2Vec Distributed Momory (concatenated) Based Sentiment Analysis using SVC ****\\n\")\n",
    "print(\"SVC with linear kernel Performance : \\n\")\n",
    "print('Train-Set Score : {:.4f}'.format(svm_dmc.score(train_vectors_dmc, y_train)))\n",
    "print('Train-Set Accuracy : {:.4f}'.format(accuracy_score(y_train,svm_dmc.predict(train_vectors_dmc))))\n",
    "\n",
    "print(\"\\nEvaluation on Validation-Set : \")\n",
    "pred_val = svm_dmc.predict(validation_vectors_dmc)\n",
    "print(\"Classification report:\\n {}\".format(classification_report(y_validation, pred_val)))\n",
    "print(\"Confusion matrix:\\n {}\".format(confusion_matrix(y_validation, pred_val)))\n",
    "print('Validation-Set Score : {:.4f}'.format(svm_dmc.score(validation_vectors_dmc, y_validation)))\n",
    "print('Validation-Set Accuracy:{:.4f}'.format(accuracy_score(y_validation, pred_val)))\n",
    "\n",
    "print(\"\\nEvaluation on Test-Set : \")\n",
    "pred = svm_dmc.predict(test_vectors_dmc)\n",
    "print(\"Classification report:\\n {}\".format(classification_report(y_test, pred)))\n",
    "print(\"Confusion matrix:\\n {}\".format(confusion_matrix(y_test, pred)))\n",
    "print('Test-Set Score : {:.4f}'.format(svm_dmc.score(test_vectors_dmc, y_test)))\n",
    "print('Test-Set Accuracy:{:.4f}'.format(accuracy_score(y_test, pred)))"
   ]
  },
  {
   "cell_type": "markdown",
   "metadata": {},
   "source": [
    "#### Doc2Vec DMC Based Sentiment Analysis using XGBClassifier"
   ]
  },
  {
   "cell_type": "code",
   "execution_count": 86,
   "metadata": {},
   "outputs": [
    {
     "name": "stdout",
     "output_type": "stream",
     "text": [
      "**** Doc2Vec Distributed Momory (concatenated) Based Sentiment Analysis using XGBClassifier ****\n",
      "\n",
      "XGBClassifier Performance : \n",
      "\n",
      "Train-Set Score : 0.8137\n",
      "Train-Set Accuracy : 0.8137\n",
      "\n",
      "Evaluation on Validation-Set : \n",
      "Classification report:\n",
      "               precision    recall  f1-score   support\n",
      "\n",
      "           0       0.76      0.05      0.09       762\n",
      "           1       0.82      1.00      0.90      3312\n",
      "\n",
      "   micro avg       0.82      0.82      0.82      4074\n",
      "   macro avg       0.79      0.52      0.50      4074\n",
      "weighted avg       0.81      0.82      0.75      4074\n",
      "\n",
      "Confusion matrix:\n",
      " [[  38  724]\n",
      " [  12 3300]]\n",
      "Validation-Set Score : 0.8193\n",
      "Validation-Set Accuracy:0.8193\n",
      "\n",
      "Evaluation on Test-Set : \n",
      "Classification report:\n",
      "               precision    recall  f1-score   support\n",
      "\n",
      "           0       0.61      0.03      0.06       833\n",
      "           1       0.80      0.99      0.89      3242\n",
      "\n",
      "   micro avg       0.80      0.80      0.80      4075\n",
      "   macro avg       0.70      0.51      0.48      4075\n",
      "weighted avg       0.76      0.80      0.72      4075\n",
      "\n",
      "Confusion matrix:\n",
      " [[  28  805]\n",
      " [  18 3224]]\n",
      "Test-Set Score : 0.7980\n",
      "Test-Set Accuracy:0.7980\n"
     ]
    }
   ],
   "source": [
    "xgb_dmc = XGBClassifier()\n",
    "xgb_dmc.fit(train_vectors_dmc, y_train)\n",
    "\n",
    "print(\"**** Doc2Vec Distributed Momory (concatenated) Based Sentiment Analysis using XGBClassifier ****\\n\")\n",
    "print(\"XGBClassifier Performance : \\n\")\n",
    "print('Train-Set Score : {:.4f}'.format(xgb_dmc.score(train_vectors_dmc, y_train)))\n",
    "print('Train-Set Accuracy : {:.4f}'.format(accuracy_score(y_train,xgb_dmc.predict(train_vectors_dmc))))\n",
    "\n",
    "print(\"\\nEvaluation on Validation-Set : \")\n",
    "pred_val = xgb_dmc.predict(validation_vectors_dmc)\n",
    "print(\"Classification report:\\n {}\".format(classification_report(y_validation, pred_val)))\n",
    "print(\"Confusion matrix:\\n {}\".format(confusion_matrix(y_validation, pred_val)))\n",
    "print('Validation-Set Score : {:.4f}'.format(xgb_dmc.score(validation_vectors_dmc, y_validation)))\n",
    "print('Validation-Set Accuracy:{:.4f}'.format(accuracy_score(y_validation, pred_val)))\n",
    "\n",
    "print(\"\\nEvaluation on Test-Set : \")\n",
    "pred = xgb_dmc.predict(test_vectors_dmc)\n",
    "print(\"Classification report:\\n {}\".format(classification_report(y_test, pred)))\n",
    "print(\"Confusion matrix:\\n {}\".format(confusion_matrix(y_test, pred)))\n",
    "print('Test-Set Score : {:.4f}'.format(xgb_dmc.score(test_vectors_dmc, y_test)))\n",
    "print('Test-Set Accuracy:{:.4f}'.format(accuracy_score(y_test, pred)))"
   ]
  },
  {
   "cell_type": "markdown",
   "metadata": {},
   "source": [
    "#### Distributed Memory (mean)"
   ]
  },
  {
   "cell_type": "code",
   "execution_count": 87,
   "metadata": {},
   "outputs": [
    {
     "name": "stderr",
     "output_type": "stream",
     "text": [
      "W0506 22:44:19.779132 139801131669312 base_any2vec.py:723] consider setting layer size to a multiple of 4 for greater performance\n",
      "100%|██████████| 40744/40744 [00:00<00:00, 2511171.03it/s]\n"
     ]
    },
    {
     "name": "stdout",
     "output_type": "stream",
     "text": [
      "CPU times: user 2.52 s, sys: 20 ms, total: 2.54 s\n",
      "Wall time: 2.53 s\n"
     ]
    }
   ],
   "source": [
    "%%time\n",
    "\"\"\"\n",
    "Create doc2vec DMM model\n",
    "\"\"\"\n",
    "dmm_model = Doc2Vec(dm=1, \n",
    "                    dm_mean=1, \n",
    "                    size=150, \n",
    "                    window=10, \n",
    "                    negative=5, \n",
    "                    min_count=2, \n",
    "                    workers=10, \n",
    "                    alpha=0.065, \n",
    "                    min_alpha=0.065)\n",
    "\n",
    "dmm_model.build_vocab([review for review in tqdm(all_reviews_d2v)])"
   ]
  },
  {
   "cell_type": "code",
   "execution_count": 88,
   "metadata": {},
   "outputs": [
    {
     "name": "stderr",
     "output_type": "stream",
     "text": [
      "100%|██████████| 40744/40744 [00:00<00:00, 2377141.77it/s]\n",
      "100%|██████████| 40744/40744 [00:00<00:00, 2491256.50it/s]\n",
      "100%|██████████| 40744/40744 [00:00<00:00, 2422017.66it/s]\n"
     ]
    },
    {
     "name": "stdout",
     "output_type": "stream",
     "text": [
      "CPU times: user 41.8 s, sys: 3.66 s, total: 45.4 s\n",
      "Wall time: 14.3 s\n"
     ]
    }
   ],
   "source": [
    "%%time\n",
    "\n",
    "\"\"\"\n",
    "Train the model\n",
    "\"\"\"\n",
    "\n",
    "for epoch in range(3):\n",
    "    dmm_model.train(utils.shuffle([review for review in tqdm(all_reviews_d2v)]), \n",
    "                    total_examples=len(all_reviews_d2v), \n",
    "                    epochs=1)\n",
    "    dmm_model.alpha -= 0.002\n",
    "    dmm_model.min_alpha = dmm_model.alpha"
   ]
  },
  {
   "cell_type": "code",
   "execution_count": 89,
   "metadata": {},
   "outputs": [],
   "source": [
    "\"\"\"\n",
    "Generating train, test and validation vectors\n",
    "\"\"\"\n",
    "\n",
    "train_vectors_dmm = generate_vectors(dmm_model, x_train, 150)\n",
    "test_vectors_dmm = generate_vectors(dmm_model, x_test, 150)\n",
    "validation_vectors_dmm = generate_vectors(dmm_model, x_validation, 150)"
   ]
  },
  {
   "cell_type": "markdown",
   "metadata": {},
   "source": [
    "#### Doc2Vec DMM Based Sentiment Analysis using LogisticRegression"
   ]
  },
  {
   "cell_type": "code",
   "execution_count": 90,
   "metadata": {},
   "outputs": [
    {
     "name": "stdout",
     "output_type": "stream",
     "text": [
      "**** Doc2Vec Distributed Memory(mean) Based Sentiment Analysis using LogisticRegression ****\n",
      "\n",
      "LogisticRegression Performance : \n",
      "\n",
      "Train-Set Score : 0.8472\n",
      "Train-Set Accuracy : 0.8472\n",
      "\n",
      "Evaluation on Validation-Set : \n",
      "Classification report:\n",
      "               precision    recall  f1-score   support\n",
      "\n",
      "           0       0.74      0.36      0.49       762\n",
      "           1       0.87      0.97      0.92      3312\n",
      "\n",
      "   micro avg       0.86      0.86      0.86      4074\n",
      "   macro avg       0.81      0.67      0.70      4074\n",
      "weighted avg       0.85      0.86      0.84      4074\n",
      "\n",
      "Confusion matrix:\n",
      " [[ 276  486]\n",
      " [  96 3216]]\n",
      "Validation-Set Score : 0.8571\n",
      "Validation-Set Accuracy:0.8571\n",
      "\n",
      "Evaluation on Test-Set : \n",
      "Classification report:\n",
      "               precision    recall  f1-score   support\n",
      "\n",
      "           0       0.70      0.30      0.42       833\n",
      "           1       0.84      0.97      0.90      3242\n",
      "\n",
      "   micro avg       0.83      0.83      0.83      4075\n",
      "   macro avg       0.77      0.63      0.66      4075\n",
      "weighted avg       0.81      0.83      0.80      4075\n",
      "\n",
      "Confusion matrix:\n",
      " [[ 246  587]\n",
      " [ 103 3139]]\n",
      "Test-Set Score : 0.8307\n",
      "Test-Set Accuracy:0.8307\n"
     ]
    }
   ],
   "source": [
    "logreg_dmm = LogisticRegression()\n",
    "logreg_dmm.fit(train_vectors_dmm, y_train)\n",
    "print(\"**** Doc2Vec Distributed Memory(mean) Based Sentiment Analysis using LogisticRegression ****\\n\")\n",
    "print(\"LogisticRegression Performance : \\n\")\n",
    "print('Train-Set Score : {:.4f}'.format(logreg_dmm.score(train_vectors_dmm, y_train)))\n",
    "print('Train-Set Accuracy : {:.4f}'.format(accuracy_score(y_train,logreg_dmm.predict(train_vectors_dmm))))\n",
    "\n",
    "print(\"\\nEvaluation on Validation-Set : \")\n",
    "pred_val = logreg_dmm.predict(validation_vectors_dmm)\n",
    "print(\"Classification report:\\n {}\".format(classification_report(y_validation, pred_val)))\n",
    "print(\"Confusion matrix:\\n {}\".format(confusion_matrix(y_validation, pred_val)))\n",
    "print('Validation-Set Score : {:.4f}'.format(logreg_dmm.score(validation_vectors_dmm, y_validation)))\n",
    "print('Validation-Set Accuracy:{:.4f}'.format(accuracy_score(y_validation, pred_val)))\n",
    "\n",
    "print(\"\\nEvaluation on Test-Set : \")\n",
    "pred = logreg_dmm.predict(test_vectors_dmm)\n",
    "print(\"Classification report:\\n {}\".format(classification_report(y_test, pred)))\n",
    "print(\"Confusion matrix:\\n {}\".format(confusion_matrix(y_test, pred)))\n",
    "print('Test-Set Score : {:.4f}'.format(logreg_dmm.score(test_vectors_dmm, y_test)))\n",
    "print('Test-Set Accuracy:{:.4f}'.format(accuracy_score(y_test, pred)))"
   ]
  },
  {
   "cell_type": "markdown",
   "metadata": {},
   "source": [
    "#### Doc2Vec DMM Based Sentiment Analysis using SVC"
   ]
  },
  {
   "cell_type": "code",
   "execution_count": 91,
   "metadata": {},
   "outputs": [
    {
     "name": "stdout",
     "output_type": "stream",
     "text": [
      "**** Doc2Vec Distributed Memory(mean) Based Sentiment Analysis using SVC ****\n",
      "\n",
      "SVC With Linear Kernel Performance : \n",
      "\n",
      "Train-Set Score : 0.8428\n",
      "Train-Set Accuracy : 0.8428\n",
      "\n",
      "Evaluation on Validation-Set : \n",
      "Classification report:\n",
      "               precision    recall  f1-score   support\n",
      "\n",
      "           0       0.80      0.30      0.44       762\n",
      "           1       0.86      0.98      0.92      3312\n",
      "\n",
      "   micro avg       0.86      0.86      0.86      4074\n",
      "   macro avg       0.83      0.64      0.68      4074\n",
      "weighted avg       0.85      0.86      0.83      4074\n",
      "\n",
      "Confusion matrix:\n",
      " [[ 231  531]\n",
      " [  58 3254]]\n",
      "Validation-Set Score : 0.8554\n",
      "Validation-Set Accuracy:0.8554\n",
      "\n",
      "Evaluation on Test-Set : \n",
      "Classification report:\n",
      "               precision    recall  f1-score   support\n",
      "\n",
      "           0       0.74      0.24      0.36       833\n",
      "           1       0.83      0.98      0.90      3242\n",
      "\n",
      "   micro avg       0.83      0.83      0.83      4075\n",
      "   macro avg       0.79      0.61      0.63      4075\n",
      "weighted avg       0.82      0.83      0.79      4075\n",
      "\n",
      "Confusion matrix:\n",
      " [[ 201  632]\n",
      " [  69 3173]]\n",
      "Test-Set Score : 0.8280\n",
      "Test-Set Accuracy:0.8280\n"
     ]
    }
   ],
   "source": [
    "svm_dmm = SVC(kernel='linear')\n",
    "svm_dmm.fit(train_vectors_dmm, y_train)\n",
    "print(\"**** Doc2Vec Distributed Memory(mean) Based Sentiment Analysis using SVC ****\\n\")\n",
    "print(\"SVC With Linear Kernel Performance : \\n\")\n",
    "print('Train-Set Score : {:.4f}'.format(svm_dmm.score(train_vectors_dmm, y_train)))\n",
    "print('Train-Set Accuracy : {:.4f}'.format(accuracy_score(y_train,svm_dmm.predict(train_vectors_dmm))))\n",
    "\n",
    "print(\"\\nEvaluation on Validation-Set : \")\n",
    "pred_val = svm_dmm.predict(validation_vectors_dmm)\n",
    "print(\"Classification report:\\n {}\".format(classification_report(y_validation, pred_val)))\n",
    "print(\"Confusion matrix:\\n {}\".format(confusion_matrix(y_validation, pred_val)))\n",
    "print('Validation-Set Score : {:.4f}'.format(svm_dmm.score(validation_vectors_dmm, y_validation)))\n",
    "print('Validation-Set Accuracy:{:.4f}'.format(accuracy_score(y_validation, pred_val)))\n",
    "\n",
    "print(\"\\nEvaluation on Test-Set : \")\n",
    "pred = svm_dmm.predict(test_vectors_dmm)\n",
    "print(\"Classification report:\\n {}\".format(classification_report(y_test, pred)))\n",
    "print(\"Confusion matrix:\\n {}\".format(confusion_matrix(y_test, pred)))\n",
    "print('Test-Set Score : {:.4f}'.format(svm_dmm.score(test_vectors_dmm, y_test)))\n",
    "print('Test-Set Accuracy:{:.4f}'.format(accuracy_score(y_test, pred)))"
   ]
  },
  {
   "cell_type": "markdown",
   "metadata": {},
   "source": [
    "#### Doc2Vec DMM Based Sentiment Analysis using XGBClassifier"
   ]
  },
  {
   "cell_type": "code",
   "execution_count": 92,
   "metadata": {},
   "outputs": [
    {
     "name": "stdout",
     "output_type": "stream",
     "text": [
      "**** Doc2Vec Distributed Memory(mean) Based Sentiment Analysis using XGBClassifier ****\n",
      "\n",
      "XGBClassifier Performance : \n",
      "\n",
      "Train-Set Score : 0.8494\n",
      "Train-Set Accuracy : 0.8494\n",
      "\n",
      "Evaluation on Validation-Set : \n",
      "Classification report:\n",
      "               precision    recall  f1-score   support\n",
      "\n",
      "           0       0.80      0.28      0.42       762\n",
      "           1       0.86      0.98      0.92      3312\n",
      "\n",
      "   micro avg       0.85      0.85      0.85      4074\n",
      "   macro avg       0.83      0.63      0.67      4074\n",
      "weighted avg       0.85      0.85      0.82      4074\n",
      "\n",
      "Confusion matrix:\n",
      " [[ 216  546]\n",
      " [  55 3257]]\n",
      "Validation-Set Score : 0.8525\n",
      "Validation-Set Accuracy:0.8525\n",
      "\n",
      "Evaluation on Test-Set : \n",
      "Classification report:\n",
      "               precision    recall  f1-score   support\n",
      "\n",
      "           0       0.76      0.23      0.36       833\n",
      "           1       0.83      0.98      0.90      3242\n",
      "\n",
      "   micro avg       0.83      0.83      0.83      4075\n",
      "   macro avg       0.80      0.61      0.63      4075\n",
      "weighted avg       0.82      0.83      0.79      4075\n",
      "\n",
      "Confusion matrix:\n",
      " [[ 193  640]\n",
      " [  60 3182]]\n",
      "Test-Set Score : 0.8282\n",
      "Test-Set Accuracy:0.8282\n"
     ]
    }
   ],
   "source": [
    "xgb_dmm = XGBClassifier()\n",
    "xgb_dmm.fit(train_vectors_dmm, y_train)\n",
    "\n",
    "print(\"**** Doc2Vec Distributed Memory(mean) Based Sentiment Analysis using XGBClassifier ****\\n\")\n",
    "print(\"XGBClassifier Performance : \\n\")\n",
    "print('Train-Set Score : {:.4f}'.format(xgb_dmm.score(train_vectors_dmm, y_train)))\n",
    "print('Train-Set Accuracy : {:.4f}'.format(accuracy_score(y_train,xgb_dmm.predict(train_vectors_dmm))))\n",
    "\n",
    "print(\"\\nEvaluation on Validation-Set : \")\n",
    "pred_val = xgb_dmm.predict(validation_vectors_dmm)\n",
    "print(\"Classification report:\\n {}\".format(classification_report(y_validation, pred_val)))\n",
    "print(\"Confusion matrix:\\n {}\".format(confusion_matrix(y_validation, pred_val)))\n",
    "print('Validation-Set Score : {:.4f}'.format(xgb_dmm.score(validation_vectors_dmm, y_validation)))\n",
    "print('Validation-Set Accuracy:{:.4f}'.format(accuracy_score(y_validation, pred_val)))\n",
    "\n",
    "print(\"\\nEvaluation on Test-Set : \")\n",
    "pred = xgb_dmm.predict(test_vectors_dmm)\n",
    "print(\"Classification report:\\n {}\".format(classification_report(y_test, pred)))\n",
    "print(\"Confusion matrix:\\n {}\".format(confusion_matrix(y_test, pred)))\n",
    "print('Test-Set Score : {:.4f}'.format(xgb_dmm.score(test_vectors_dmm, y_test)))\n",
    "print('Test-Set Accuracy:{:.4f}'.format(accuracy_score(y_test, pred)))"
   ]
  },
  {
   "cell_type": "markdown",
   "metadata": {},
   "source": [
    "#### Combination of Doc2Vec Distributed Bag Of Words (DBOW) And Distributed Memory(Concatenated)"
   ]
  },
  {
   "cell_type": "markdown",
   "metadata": {},
   "source": [
    "Now, I have the document vectors from three different models, now I can concatenate them in combination to see how it affects the performance. Below I defined a function to concatenate document vectors from different models"
   ]
  },
  {
   "cell_type": "code",
   "execution_count": 93,
   "metadata": {},
   "outputs": [],
   "source": [
    "\"\"\"\n",
    "Function to concatenate document vectors from different models\n",
    "\"\"\"\n",
    "\n",
    "def generate_concat_vectors(model1,model2, corpus, size):\n",
    "    vectors = np.zeros((len(corpus), size))\n",
    "    n = 0\n",
    "    for indx in corpus.index:\n",
    "        prefix = 'all_' + str(indx)\n",
    "        vectors[n] = np.append(model1.docvecs[prefix],model2.docvecs[prefix])\n",
    "        n += 1\n",
    "    return vectors"
   ]
  },
  {
   "cell_type": "code",
   "execution_count": 94,
   "metadata": {},
   "outputs": [],
   "source": [
    "\"\"\"\n",
    "Generating train, test and validation document vectors\n",
    "\"\"\"\n",
    "train_vectors_dbow_dmc = generate_concat_vectors(dbow_model,dmc_model, x_train, 300)\n",
    "test_vectors_dbow_dmc = generate_concat_vectors(dbow_model,dmc_model, x_test, 300)\n",
    "validation_vectors_dbow_dmc = generate_concat_vectors(dbow_model,dmc_model, x_validation, 300)"
   ]
  },
  {
   "cell_type": "markdown",
   "metadata": {},
   "source": [
    "#### Combination of Doc2Vec DBOW And DMC Based Sentiment Analysis using LogisticRegression"
   ]
  },
  {
   "cell_type": "code",
   "execution_count": 95,
   "metadata": {},
   "outputs": [
    {
     "name": "stdout",
     "output_type": "stream",
     "text": [
      "**** Combination of Doc2Vec DBOW And DMC Based Sentiment Analysis using LogisticRegression ****\n",
      "\n",
      "LogisticRegression Performance : \n",
      "\n",
      "Train-Set Score : 0.8982\n",
      "Train-Set Accuracy : 0.8982\n",
      "\n",
      "Evaluation on Validation-Set : \n",
      "Classification report:\n",
      "               precision    recall  f1-score   support\n",
      "\n",
      "           0       0.80      0.69      0.74       762\n",
      "           1       0.93      0.96      0.95      3312\n",
      "\n",
      "   micro avg       0.91      0.91      0.91      4074\n",
      "   macro avg       0.87      0.83      0.84      4074\n",
      "weighted avg       0.91      0.91      0.91      4074\n",
      "\n",
      "Confusion matrix:\n",
      " [[ 526  236]\n",
      " [ 131 3181]]\n",
      "Validation-Set Score : 0.9099\n",
      "Validation-Set Accuracy:0.9099\n",
      "\n",
      "Evaluation on Test-Set : \n",
      "Classification report:\n",
      "               precision    recall  f1-score   support\n",
      "\n",
      "           0       0.81      0.63      0.71       833\n",
      "           1       0.91      0.96      0.94      3242\n",
      "\n",
      "   micro avg       0.89      0.89      0.89      4075\n",
      "   macro avg       0.86      0.80      0.82      4075\n",
      "weighted avg       0.89      0.89      0.89      4075\n",
      "\n",
      "Confusion matrix:\n",
      " [[ 524  309]\n",
      " [ 123 3119]]\n",
      "Test-Set Score : 0.8940\n",
      "Test-Set Accuracy:0.8940\n"
     ]
    }
   ],
   "source": [
    "logreg_dbow_dmc = LogisticRegression()\n",
    "logreg_dbow_dmc.fit(train_vectors_dbow_dmc, y_train)\n",
    "print(\"**** Combination of Doc2Vec DBOW And DMC Based Sentiment Analysis using LogisticRegression ****\\n\")\n",
    "print(\"LogisticRegression Performance : \\n\")\n",
    "print('Train-Set Score : {:.4f}'.format(logreg_dbow_dmc.score(train_vectors_dbow_dmc, y_train)))\n",
    "print('Train-Set Accuracy : {:.4f}'.format(accuracy_score(y_train,logreg_dbow_dmc.predict(train_vectors_dbow_dmc))))\n",
    "\n",
    "print(\"\\nEvaluation on Validation-Set : \")\n",
    "pred_val = logreg_dbow_dmc.predict(validation_vectors_dbow_dmc)\n",
    "print(\"Classification report:\\n {}\".format(classification_report(y_validation, pred_val)))\n",
    "print(\"Confusion matrix:\\n {}\".format(confusion_matrix(y_validation, pred_val)))\n",
    "print('Validation-Set Score : {:.4f}'.format(logreg_dbow_dmc.score(validation_vectors_dbow_dmc, y_validation)))\n",
    "print('Validation-Set Accuracy:{:.4f}'.format(accuracy_score(y_validation, pred_val)))\n",
    "\n",
    "print(\"\\nEvaluation on Test-Set : \")\n",
    "pred = logreg_dbow_dmc.predict(test_vectors_dbow_dmc)\n",
    "print(\"Classification report:\\n {}\".format(classification_report(y_test, pred)))\n",
    "print(\"Confusion matrix:\\n {}\".format(confusion_matrix(y_test, pred)))\n",
    "print('Test-Set Score : {:.4f}'.format(logreg_dbow_dmc.score(test_vectors_dbow_dmc, y_test)))\n",
    "print('Test-Set Accuracy:{:.4f}'.format(accuracy_score(y_test, pred)))"
   ]
  },
  {
   "cell_type": "markdown",
   "metadata": {},
   "source": [
    "#### Combination of Doc2Vec DBOW And DMC Based Sentiment Analysis using SVC"
   ]
  },
  {
   "cell_type": "code",
   "execution_count": 96,
   "metadata": {},
   "outputs": [
    {
     "name": "stdout",
     "output_type": "stream",
     "text": [
      "**** Combination of Doc2Vec DBOW And DMC Based Sentiment Analysis using SVC ****\n",
      "\n",
      "SVC with linear kernel Performance : \n",
      "\n",
      "Train-Set Score : 0.8990\n",
      "Train-Set Accuracy : 0.8990\n",
      "\n",
      "Evaluation on Validation-Set : \n",
      "Classification report:\n",
      "               precision    recall  f1-score   support\n",
      "\n",
      "           0       0.79      0.68      0.73       762\n",
      "           1       0.93      0.96      0.94      3312\n",
      "\n",
      "   micro avg       0.91      0.91      0.91      4074\n",
      "   macro avg       0.86      0.82      0.84      4074\n",
      "weighted avg       0.90      0.91      0.90      4074\n",
      "\n",
      "Confusion matrix:\n",
      " [[ 520  242]\n",
      " [ 136 3176]]\n",
      "Validation-Set Score : 0.9072\n",
      "Validation-Set Accuracy:0.9072\n",
      "\n",
      "Evaluation on Test-Set : \n",
      "Classification report:\n",
      "               precision    recall  f1-score   support\n",
      "\n",
      "           0       0.82      0.64      0.72       833\n",
      "           1       0.91      0.97      0.94      3242\n",
      "\n",
      "   micro avg       0.90      0.90      0.90      4075\n",
      "   macro avg       0.87      0.80      0.83      4075\n",
      "weighted avg       0.89      0.90      0.89      4075\n",
      "\n",
      "Confusion matrix:\n",
      " [[ 529  304]\n",
      " [ 113 3129]]\n",
      "Test-Set Score : 0.8977\n",
      "Test-Set Accuracy:0.8977\n"
     ]
    }
   ],
   "source": [
    "svm_dbow_dmc = SVC(kernel='linear')\n",
    "svm_dbow_dmc.fit(train_vectors_dbow_dmc, y_train)\n",
    "print(\"**** Combination of Doc2Vec DBOW And DMC Based Sentiment Analysis using SVC ****\\n\")\n",
    "print(\"SVC with linear kernel Performance : \\n\")\n",
    "print('Train-Set Score : {:.4f}'.format(svm_dbow_dmc.score(train_vectors_dbow_dmc, y_train)))\n",
    "print('Train-Set Accuracy : {:.4f}'.format(accuracy_score(y_train,svm_dbow_dmc.predict(train_vectors_dbow_dmc))))\n",
    "\n",
    "print(\"\\nEvaluation on Validation-Set : \")\n",
    "pred_val = svm_dbow_dmc.predict(validation_vectors_dbow_dmc)\n",
    "print(\"Classification report:\\n {}\".format(classification_report(y_validation, pred_val)))\n",
    "print(\"Confusion matrix:\\n {}\".format(confusion_matrix(y_validation, pred_val)))\n",
    "print('Validation-Set Score : {:.4f}'.format(svm_dbow_dmc.score(validation_vectors_dbow_dmc, y_validation)))\n",
    "print('Validation-Set Accuracy:{:.4f}'.format(accuracy_score(y_validation, pred_val)))\n",
    "\n",
    "print(\"\\nEvaluation on Test-Set : \")\n",
    "pred = svm_dbow_dmc.predict(test_vectors_dbow_dmc)\n",
    "print(\"Classification report:\\n {}\".format(classification_report(y_test, pred)))\n",
    "print(\"Confusion matrix:\\n {}\".format(confusion_matrix(y_test, pred)))\n",
    "print('Test-Set Score : {:.4f}'.format(svm_dbow_dmc.score(test_vectors_dbow_dmc, y_test)))\n",
    "print('Test-Set Accuracy:{:.4f}'.format(accuracy_score(y_test, pred)))"
   ]
  },
  {
   "cell_type": "markdown",
   "metadata": {},
   "source": [
    "#### Combination of Doc2Vec DBOW And DMC Based Sentiment Analysis using XGBClassifier"
   ]
  },
  {
   "cell_type": "code",
   "execution_count": 97,
   "metadata": {},
   "outputs": [
    {
     "name": "stdout",
     "output_type": "stream",
     "text": [
      "**** Combination of Doc2Vec DBOW And DMC Based Sentiment Analysis using XGBClassifier ****\n",
      "\n",
      "XGBClassifier Performance : \n",
      "\n",
      "Train-Set Score : 0.9000\n",
      "Train-Set Accuracy : 0.9000\n",
      "\n",
      "Evaluation on Validation-Set : \n",
      "Classification report:\n",
      "               precision    recall  f1-score   support\n",
      "\n",
      "           0       0.80      0.60      0.69       762\n",
      "           1       0.91      0.97      0.94      3312\n",
      "\n",
      "   micro avg       0.90      0.90      0.90      4074\n",
      "   macro avg       0.86      0.78      0.81      4074\n",
      "weighted avg       0.89      0.90      0.89      4074\n",
      "\n",
      "Confusion matrix:\n",
      " [[ 457  305]\n",
      " [ 115 3197]]\n",
      "Validation-Set Score : 0.8969\n",
      "Validation-Set Accuracy:0.8969\n",
      "\n",
      "Evaluation on Test-Set : \n",
      "Classification report:\n",
      "               precision    recall  f1-score   support\n",
      "\n",
      "           0       0.81      0.57      0.67       833\n",
      "           1       0.90      0.97      0.93      3242\n",
      "\n",
      "   micro avg       0.88      0.88      0.88      4075\n",
      "   macro avg       0.86      0.77      0.80      4075\n",
      "weighted avg       0.88      0.88      0.88      4075\n",
      "\n",
      "Confusion matrix:\n",
      " [[ 472  361]\n",
      " [ 108 3134]]\n",
      "Test-Set Score : 0.8849\n",
      "Test-Set Accuracy:0.8849\n"
     ]
    }
   ],
   "source": [
    "xgb_dbow_dmc =XGBClassifier()\n",
    "xgb_dbow_dmc.fit(train_vectors_dbow_dmc, y_train)\n",
    "print(\"**** Combination of Doc2Vec DBOW And DMC Based Sentiment Analysis using XGBClassifier ****\\n\")\n",
    "print(\"XGBClassifier Performance : \\n\")\n",
    "print('Train-Set Score : {:.4f}'.format(xgb_dbow_dmc.score(train_vectors_dbow_dmc, y_train)))\n",
    "print('Train-Set Accuracy : {:.4f}'.format(accuracy_score(y_train,xgb_dbow_dmc.predict(train_vectors_dbow_dmc))))\n",
    "\n",
    "print(\"\\nEvaluation on Validation-Set : \")\n",
    "pred_val = xgb_dbow_dmc.predict(validation_vectors_dbow_dmc)\n",
    "print(\"Classification report:\\n {}\".format(classification_report(y_validation, pred_val)))\n",
    "print(\"Confusion matrix:\\n {}\".format(confusion_matrix(y_validation, pred_val)))\n",
    "print('Validation-Set Score : {:.4f}'.format(xgb_dbow_dmc.score(validation_vectors_dbow_dmc, y_validation)))\n",
    "print('Validation-Set Accuracy:{:.4f}'.format(accuracy_score(y_validation, pred_val)))\n",
    "\n",
    "print(\"\\nEvaluation on Test-Set : \")\n",
    "pred = xgb_dbow_dmc.predict(test_vectors_dbow_dmc)\n",
    "print(\"Classification report:\\n {}\".format(classification_report(y_test, pred)))\n",
    "print(\"Confusion matrix:\\n {}\".format(confusion_matrix(y_test, pred)))\n",
    "print('Test-Set Score : {:.4f}'.format(xgb_dbow_dmc.score(test_vectors_dbow_dmc, y_test)))\n",
    "print('Test-Set Accuracy:{:.4f}'.format(accuracy_score(y_test, pred)))"
   ]
  },
  {
   "cell_type": "markdown",
   "metadata": {},
   "source": [
    "#### Combination of Doc2Vec Distributed Bag Of Words (DBOW) And Distributed Memory(Mean)"
   ]
  },
  {
   "cell_type": "code",
   "execution_count": 98,
   "metadata": {},
   "outputs": [],
   "source": [
    "\"\"\"\n",
    "Generating train, test and validation document vectors\n",
    "\"\"\"\n",
    "train_vectors_dbow_dmm = generate_concat_vectors(dbow_model,dmm_model, x_train, 300)\n",
    "test_vectors_dbow_dmm = generate_concat_vectors(dbow_model,dmm_model, x_test, 300)\n",
    "validation_vectors_dbow_dmm = generate_concat_vectors(dbow_model,dmm_model, x_validation, 300)"
   ]
  },
  {
   "cell_type": "markdown",
   "metadata": {},
   "source": [
    "#### Combination of Doc2Vec DBOW And DMM Based Sentiment Analysis using LogisticRegression"
   ]
  },
  {
   "cell_type": "code",
   "execution_count": 99,
   "metadata": {},
   "outputs": [
    {
     "name": "stdout",
     "output_type": "stream",
     "text": [
      "**** Combination of Doc2Vec DBOW And DMM Based Sentiment Analysis using LogisticRegression ****\n",
      "\n",
      "LogisticRegression Performance : \n",
      "\n",
      "Train-Set Score : 0.9024\n",
      "Train-Set Accuracy : 0.9024\n",
      "\n",
      "Evaluation on Validation-Set : \n",
      "Classification report:\n",
      "               precision    recall  f1-score   support\n",
      "\n",
      "           0       0.80      0.69      0.74       762\n",
      "           1       0.93      0.96      0.95      3312\n",
      "\n",
      "   micro avg       0.91      0.91      0.91      4074\n",
      "   macro avg       0.87      0.82      0.84      4074\n",
      "weighted avg       0.91      0.91      0.91      4074\n",
      "\n",
      "Confusion matrix:\n",
      " [[ 522  240]\n",
      " [ 130 3182]]\n",
      "Validation-Set Score : 0.9092\n",
      "Validation-Set Accuracy:0.9092\n",
      "\n",
      "Evaluation on Test-Set : \n",
      "Classification report:\n",
      "               precision    recall  f1-score   support\n",
      "\n",
      "           0       0.82      0.65      0.72       833\n",
      "           1       0.91      0.96      0.94      3242\n",
      "\n",
      "   micro avg       0.90      0.90      0.90      4075\n",
      "   macro avg       0.87      0.81      0.83      4075\n",
      "weighted avg       0.90      0.90      0.89      4075\n",
      "\n",
      "Confusion matrix:\n",
      " [[ 538  295]\n",
      " [ 115 3127]]\n",
      "Test-Set Score : 0.8994\n",
      "Test-Set Accuracy:0.8994\n"
     ]
    }
   ],
   "source": [
    "logreg_dbow_dmm = LogisticRegression()\n",
    "logreg_dbow_dmm.fit(train_vectors_dbow_dmm, y_train)\n",
    "print(\"**** Combination of Doc2Vec DBOW And DMM Based Sentiment Analysis using LogisticRegression ****\\n\")\n",
    "print(\"LogisticRegression Performance : \\n\")\n",
    "print('Train-Set Score : {:.4f}'.format(logreg_dbow_dmm.score(train_vectors_dbow_dmm, y_train)))\n",
    "print('Train-Set Accuracy : {:.4f}'.format(accuracy_score(y_train,logreg_dbow_dmm.predict(train_vectors_dbow_dmm))))\n",
    "\n",
    "print(\"\\nEvaluation on Validation-Set : \")\n",
    "pred_val = logreg_dbow_dmm.predict(validation_vectors_dbow_dmm)\n",
    "print(\"Classification report:\\n {}\".format(classification_report(y_validation, pred_val)))\n",
    "print(\"Confusion matrix:\\n {}\".format(confusion_matrix(y_validation, pred_val)))\n",
    "print('Validation-Set Score : {:.4f}'.format(logreg_dbow_dmm.score(validation_vectors_dbow_dmm, y_validation)))\n",
    "print('Validation-Set Accuracy:{:.4f}'.format(accuracy_score(y_validation, pred_val)))\n",
    "\n",
    "print(\"\\nEvaluation on Test-Set : \")\n",
    "pred = logreg_dbow_dmm.predict(test_vectors_dbow_dmm)\n",
    "print(\"Classification report:\\n {}\".format(classification_report(y_test, pred)))\n",
    "print(\"Confusion matrix:\\n {}\".format(confusion_matrix(y_test, pred)))\n",
    "print('Test-Set Score : {:.4f}'.format(logreg_dbow_dmm.score(test_vectors_dbow_dmm, y_test)))\n",
    "print('Test-Set Accuracy:{:.4f}'.format(accuracy_score(y_test, pred)))"
   ]
  },
  {
   "cell_type": "markdown",
   "metadata": {},
   "source": [
    "#### Combination of Doc2Vec DBOW And DMM Based Sentiment Analysis using SVC"
   ]
  },
  {
   "cell_type": "code",
   "execution_count": 100,
   "metadata": {},
   "outputs": [
    {
     "name": "stdout",
     "output_type": "stream",
     "text": [
      "**** Combination of Doc2Vec DBOW And DMM Based Sentiment Analysis using SVC ****\n",
      "\n",
      "SVC with linear kernel Performance : \n",
      "\n",
      "Train-Set Score : 0.9033\n",
      "Train-Set Accuracy : 0.9033\n",
      "\n",
      "Evaluation on Validation-Set : \n",
      "Classification report:\n",
      "               precision    recall  f1-score   support\n",
      "\n",
      "           0       0.80      0.69      0.74       762\n",
      "           1       0.93      0.96      0.95      3312\n",
      "\n",
      "   micro avg       0.91      0.91      0.91      4074\n",
      "   macro avg       0.86      0.82      0.84      4074\n",
      "weighted avg       0.91      0.91      0.91      4074\n",
      "\n",
      "Confusion matrix:\n",
      " [[ 523  239]\n",
      " [ 131 3181]]\n",
      "Validation-Set Score : 0.9092\n",
      "Validation-Set Accuracy:0.9092\n",
      "\n",
      "Evaluation on Test-Set : \n",
      "Classification report:\n",
      "               precision    recall  f1-score   support\n",
      "\n",
      "           0       0.83      0.65      0.73       833\n",
      "           1       0.91      0.97      0.94      3242\n",
      "\n",
      "   micro avg       0.90      0.90      0.90      4075\n",
      "   macro avg       0.87      0.81      0.83      4075\n",
      "weighted avg       0.90      0.90      0.90      4075\n",
      "\n",
      "Confusion matrix:\n",
      " [[ 538  295]\n",
      " [ 112 3130]]\n",
      "Test-Set Score : 0.9001\n",
      "Test-Set Accuracy:0.9001\n"
     ]
    }
   ],
   "source": [
    "svm_dbow_dmm = SVC(kernel='linear')\n",
    "svm_dbow_dmm.fit(train_vectors_dbow_dmm, y_train)\n",
    "print(\"**** Combination of Doc2Vec DBOW And DMM Based Sentiment Analysis using SVC ****\\n\")\n",
    "print(\"SVC with linear kernel Performance : \\n\")\n",
    "print('Train-Set Score : {:.4f}'.format(svm_dbow_dmm.score(train_vectors_dbow_dmm, y_train)))\n",
    "print('Train-Set Accuracy : {:.4f}'.format(accuracy_score(y_train,svm_dbow_dmm.predict(train_vectors_dbow_dmm))))\n",
    "\n",
    "print(\"\\nEvaluation on Validation-Set : \")\n",
    "pred_val = svm_dbow_dmm.predict(validation_vectors_dbow_dmm)\n",
    "print(\"Classification report:\\n {}\".format(classification_report(y_validation, pred_val)))\n",
    "print(\"Confusion matrix:\\n {}\".format(confusion_matrix(y_validation, pred_val)))\n",
    "print('Validation-Set Score : {:.4f}'.format(svm_dbow_dmm.score(validation_vectors_dbow_dmm, y_validation)))\n",
    "print('Validation-Set Accuracy:{:.4f}'.format(accuracy_score(y_validation, pred_val)))\n",
    "\n",
    "print(\"\\nEvaluation on Test-Set : \")\n",
    "pred = svm_dbow_dmm.predict(test_vectors_dbow_dmm)\n",
    "print(\"Classification report:\\n {}\".format(classification_report(y_test, pred)))\n",
    "print(\"Confusion matrix:\\n {}\".format(confusion_matrix(y_test, pred)))\n",
    "print('Test-Set Score : {:.4f}'.format(svm_dbow_dmm.score(test_vectors_dbow_dmm, y_test)))\n",
    "print('Test-Set Accuracy:{:.4f}'.format(accuracy_score(y_test, pred)))"
   ]
  },
  {
   "cell_type": "markdown",
   "metadata": {},
   "source": [
    "#### Combination of Doc2Vec DBOW And DMM Based Sentiment Analysis using XGBClassifier"
   ]
  },
  {
   "cell_type": "code",
   "execution_count": 101,
   "metadata": {},
   "outputs": [
    {
     "name": "stdout",
     "output_type": "stream",
     "text": [
      "**** Combination of Doc2Vec DBOW And DMM Based Sentiment Analysis using XGBClassifier ****\n",
      "\n",
      "XGBClassifier Performance : \n",
      "\n",
      "Train-Set Score : 0.9016\n",
      "Train-Set Accuracy : 0.9016\n",
      "\n",
      "Evaluation on Validation-Set : \n",
      "Classification report:\n",
      "               precision    recall  f1-score   support\n",
      "\n",
      "           0       0.81      0.60      0.69       762\n",
      "           1       0.91      0.97      0.94      3312\n",
      "\n",
      "   micro avg       0.90      0.90      0.90      4074\n",
      "   macro avg       0.86      0.78      0.81      4074\n",
      "weighted avg       0.89      0.90      0.89      4074\n",
      "\n",
      "Confusion matrix:\n",
      " [[ 457  305]\n",
      " [ 108 3204]]\n",
      "Validation-Set Score : 0.8986\n",
      "Validation-Set Accuracy:0.8986\n",
      "\n",
      "Evaluation on Test-Set : \n",
      "Classification report:\n",
      "               precision    recall  f1-score   support\n",
      "\n",
      "           0       0.82      0.56      0.67       833\n",
      "           1       0.90      0.97      0.93      3242\n",
      "\n",
      "   micro avg       0.89      0.89      0.89      4075\n",
      "   macro avg       0.86      0.76      0.80      4075\n",
      "weighted avg       0.88      0.89      0.88      4075\n",
      "\n",
      "Confusion matrix:\n",
      " [[ 465  368]\n",
      " [  99 3143]]\n",
      "Test-Set Score : 0.8854\n",
      "Test-Set Accuracy:0.8854\n"
     ]
    }
   ],
   "source": [
    "xgb_dbow_dmm =XGBClassifier()\n",
    "xgb_dbow_dmm.fit(train_vectors_dbow_dmm, y_train)\n",
    "print(\"**** Combination of Doc2Vec DBOW And DMM Based Sentiment Analysis using XGBClassifier ****\\n\")\n",
    "print(\"XGBClassifier Performance : \\n\")\n",
    "print('Train-Set Score : {:.4f}'.format(xgb_dbow_dmm.score(train_vectors_dbow_dmm, y_train)))\n",
    "print('Train-Set Accuracy : {:.4f}'.format(accuracy_score(y_train,xgb_dbow_dmm.predict(train_vectors_dbow_dmm))))\n",
    "\n",
    "print(\"\\nEvaluation on Validation-Set : \")\n",
    "pred_val = xgb_dbow_dmm.predict(validation_vectors_dbow_dmm)\n",
    "print(\"Classification report:\\n {}\".format(classification_report(y_validation, pred_val)))\n",
    "print(\"Confusion matrix:\\n {}\".format(confusion_matrix(y_validation, pred_val)))\n",
    "print('Validation-Set Score : {:.4f}'.format(xgb_dbow_dmm.score(validation_vectors_dbow_dmm, y_validation)))\n",
    "print('Validation-Set Accuracy:{:.4f}'.format(accuracy_score(y_validation, pred_val)))\n",
    "\n",
    "print(\"\\nEvaluation on Test-Set : \")\n",
    "pred = xgb_dbow_dmm.predict(test_vectors_dbow_dmm)\n",
    "print(\"Classification report:\\n {}\".format(classification_report(y_test, pred)))\n",
    "print(\"Confusion matrix:\\n {}\".format(confusion_matrix(y_test, pred)))\n",
    "print('Test-Set Score : {:.4f}'.format(xgb_dbow_dmm.score(test_vectors_dbow_dmm, y_test)))\n",
    "print('Test-Set Accuracy:{:.4f}'.format(accuracy_score(y_test, pred)))"
   ]
  },
  {
   "cell_type": "markdown",
   "metadata": {},
   "source": [
    "#### Sentiment Analysis Using Combination of Doc2Vec DBOW And DMC Document Embedding and Keras Neural Network"
   ]
  },
  {
   "cell_type": "code",
   "execution_count": 102,
   "metadata": {},
   "outputs": [
    {
     "name": "stdout",
     "output_type": "stream",
     "text": [
      "_________________________________________________________________\n",
      "Layer (type)                 Output Shape              Param #   \n",
      "=================================================================\n",
      "dense_6 (Dense)              (None, 128)               38528     \n",
      "_________________________________________________________________\n",
      "dense_7 (Dense)              (None, 128)               16512     \n",
      "_________________________________________________________________\n",
      "dense_8 (Dense)              (None, 1)                 129       \n",
      "=================================================================\n",
      "Total params: 55,169\n",
      "Trainable params: 55,169\n",
      "Non-trainable params: 0\n",
      "_________________________________________________________________\n"
     ]
    }
   ],
   "source": [
    "\"\"\"\n",
    "Create model\n",
    "\"\"\"\n",
    "keras_d2v_combo_dbow_dmc_model = Sequential()\n",
    "keras_d2v_combo_dbow_dmc_model.add(Dense(128, activation='relu', input_dim=300))\n",
    "keras_d2v_combo_dbow_dmc_model.add(Dense(128, activation='relu'))\n",
    "keras_d2v_combo_dbow_dmc_model.add(Dense(1, activation='sigmoid'))\n",
    "\n",
    "\"\"\"\n",
    "Compile network\n",
    "\"\"\"\n",
    "keras_d2v_combo_dbow_dmc_model.compile(optimizer='adam',\n",
    "                                       loss='binary_crossentropy',\n",
    "                                       metrics=['accuracy'])\n",
    "keras_d2v_combo_dbow_dmc_model.summary()"
   ]
  },
  {
   "cell_type": "code",
   "execution_count": 103,
   "metadata": {},
   "outputs": [
    {
     "name": "stdout",
     "output_type": "stream",
     "text": [
      "**** Sentiment Analysis Using Combination of Doc2Vec DBOW And DMC Document Embedding and Keras Neural Network ****\n",
      "\n",
      "Train-Set Accuracy: 0.9312\n",
      "\n",
      "Evaluation on Validation-Set : \n",
      "Classification report:\n",
      "               precision    recall  f1-score   support\n",
      "\n",
      "           0       0.78      0.68      0.73       762\n",
      "           1       0.93      0.95      0.94      3312\n",
      "\n",
      "   micro avg       0.90      0.90      0.90      4074\n",
      "   macro avg       0.85      0.82      0.83      4074\n",
      "weighted avg       0.90      0.90      0.90      4074\n",
      "\n",
      "Confusion matrix:\n",
      " [[ 521  241]\n",
      " [ 150 3162]]\n",
      "Validation-Set Accuracy: 0.9040\n",
      "\n",
      "Evaluation on Test-Set : \n",
      "Classification report:\n",
      "               precision    recall  f1-score   support\n",
      "\n",
      "           0       0.82      0.68      0.74       833\n",
      "           1       0.92      0.96      0.94      3242\n",
      "\n",
      "   micro avg       0.90      0.90      0.90      4075\n",
      "   macro avg       0.87      0.82      0.84      4075\n",
      "weighted avg       0.90      0.90      0.90      4075\n",
      "\n",
      "Confusion matrix:\n",
      " [[ 564  269]\n",
      " [ 125 3117]]\n",
      "Test-Set Accuracy:  0.9033\n"
     ]
    }
   ],
   "source": [
    "\"\"\"\n",
    "Fit network\n",
    "\"\"\"\n",
    "keras_d2v_combo_dbow_dmc_model.fit(train_vectors_dbow_dmc, y_train,\n",
    "                                   validation_data=(validation_vectors_dbow_dmc, y_validation),\n",
    "                                   epochs=5, \n",
    "                                   batch_size=10, \n",
    "                                   verbose=False)\n",
    "\n",
    "\"\"\"\n",
    "Evaluate\n",
    "\"\"\"\n",
    "print(\"**** Sentiment Analysis Using Combination of Doc2Vec DBOW And DMC Document Embedding and Keras Neural Network ****\\n\")\n",
    "loss, accuracy = keras_d2v_combo_dbow_dmc_model.evaluate(train_vectors_dbow_dmc, y_train, verbose=False)\n",
    "print(\"Train-Set Accuracy: {:.4f}\".format(accuracy))\n",
    "\n",
    "print(\"\\nEvaluation on Validation-Set : \")\n",
    "pred_val=keras_d2v_combo_dbow_dmc_model.predict_classes(validation_vectors_dbow_dmc)\n",
    "print(\"Classification report:\\n {}\".format(classification_report(y_validation, pred_val)))\n",
    "print(\"Confusion matrix:\\n {}\".format(confusion_matrix(y_validation, pred_val)))\n",
    "loss, accuracy = keras_d2v_combo_dbow_dmc_model.evaluate(validation_vectors_dbow_dmc, y_validation, verbose=False)\n",
    "print(\"Validation-Set Accuracy: {:.4f}\".format(accuracy))\n",
    "\n",
    "print(\"\\nEvaluation on Test-Set : \")\n",
    "pred=keras_d2v_combo_dbow_dmc_model.predict_classes(test_vectors_dbow_dmc)\n",
    "print(\"Classification report:\\n {}\".format(classification_report(y_test, pred)))\n",
    "print(\"Confusion matrix:\\n {}\".format(confusion_matrix(y_test, pred)))\n",
    "\n",
    "loss, accuracy = keras_d2v_combo_dbow_dmc_model.evaluate(test_vectors_dbow_dmc, y_test, verbose=False)\n",
    "print(\"Test-Set Accuracy:  {:.4f}\".format(accuracy))"
   ]
  },
  {
   "cell_type": "markdown",
   "metadata": {},
   "source": [
    "#### Sentiment Analysis Using Combination of Doc2Vec DBOW And DMM Document Embedding and Keras Neural Network"
   ]
  },
  {
   "cell_type": "code",
   "execution_count": 104,
   "metadata": {},
   "outputs": [
    {
     "name": "stdout",
     "output_type": "stream",
     "text": [
      "_________________________________________________________________\n",
      "Layer (type)                 Output Shape              Param #   \n",
      "=================================================================\n",
      "dense_9 (Dense)              (None, 128)               38528     \n",
      "_________________________________________________________________\n",
      "dense_10 (Dense)             (None, 128)               16512     \n",
      "_________________________________________________________________\n",
      "dense_11 (Dense)             (None, 1)                 129       \n",
      "=================================================================\n",
      "Total params: 55,169\n",
      "Trainable params: 55,169\n",
      "Non-trainable params: 0\n",
      "_________________________________________________________________\n"
     ]
    }
   ],
   "source": [
    "\"\"\"\n",
    "Create model\n",
    "\"\"\"\n",
    "keras_d2v_combo_dbow_dmm_model = Sequential()\n",
    "keras_d2v_combo_dbow_dmm_model.add(Dense(128, activation='relu', input_dim=300))\n",
    "keras_d2v_combo_dbow_dmm_model.add(Dense(128, activation='relu'))\n",
    "keras_d2v_combo_dbow_dmm_model.add(Dense(1, activation='sigmoid'))\n",
    "\n",
    "\"\"\"\n",
    "Compile network\n",
    "\"\"\"\n",
    "keras_d2v_combo_dbow_dmm_model.compile(optimizer='adam',\n",
    "                                       loss='binary_crossentropy',\n",
    "                                       metrics=['accuracy'])\n",
    "keras_d2v_combo_dbow_dmm_model.summary()"
   ]
  },
  {
   "cell_type": "code",
   "execution_count": 105,
   "metadata": {},
   "outputs": [
    {
     "name": "stdout",
     "output_type": "stream",
     "text": [
      "**** Sentiment Analysis Using Combination of Doc2Vec DBOW And DMM Document Embedding and Keras Neural Network ****\n",
      "\n",
      "Train-Set Accuracy: 0.9475\n",
      "\n",
      "Evaluation on Validation-Set : \n",
      "Classification report:\n",
      "               precision    recall  f1-score   support\n",
      "\n",
      "           0       0.80      0.74      0.77       762\n",
      "           1       0.94      0.96      0.95      3312\n",
      "\n",
      "   micro avg       0.92      0.92      0.92      4074\n",
      "   macro avg       0.87      0.85      0.86      4074\n",
      "weighted avg       0.91      0.92      0.91      4074\n",
      "\n",
      "Confusion matrix:\n",
      " [[ 563  199]\n",
      " [ 145 3167]]\n",
      "Validation-Set Accuracy: 0.9156\n",
      "\n",
      "Evaluation on Test-Set : \n",
      "Classification report:\n",
      "               precision    recall  f1-score   support\n",
      "\n",
      "           0       0.79      0.69      0.73       833\n",
      "           1       0.92      0.95      0.94      3242\n",
      "\n",
      "   micro avg       0.90      0.90      0.90      4075\n",
      "   macro avg       0.86      0.82      0.84      4075\n",
      "weighted avg       0.89      0.90      0.90      4075\n",
      "\n",
      "Confusion matrix:\n",
      " [[ 572  261]\n",
      " [ 153 3089]]\n",
      "Test-Set Accuracy:  0.8984\n"
     ]
    }
   ],
   "source": [
    "\"\"\"\n",
    "Fit network\n",
    "\"\"\"\n",
    "keras_d2v_combo_dbow_dmm_model.fit(train_vectors_dbow_dmm, y_train,\n",
    "                                   validation_data=(validation_vectors_dbow_dmm, y_validation),\n",
    "                                   epochs=5, \n",
    "                                   batch_size=10, \n",
    "                                   verbose=False)\n",
    "\n",
    "\"\"\"\n",
    "Evaluate\n",
    "\"\"\"\n",
    "print(\"**** Sentiment Analysis Using Combination of Doc2Vec DBOW And DMM Document Embedding and Keras Neural Network ****\\n\")\n",
    "loss, accuracy = keras_d2v_combo_dbow_dmm_model.evaluate(train_vectors_dbow_dmm, y_train, verbose=False)\n",
    "print(\"Train-Set Accuracy: {:.4f}\".format(accuracy))\n",
    "\n",
    "print(\"\\nEvaluation on Validation-Set : \")\n",
    "pred_val=keras_d2v_combo_dbow_dmm_model.predict_classes(validation_vectors_dbow_dmm)\n",
    "print(\"Classification report:\\n {}\".format(classification_report(y_validation, pred_val)))\n",
    "print(\"Confusion matrix:\\n {}\".format(confusion_matrix(y_validation, pred_val)))\n",
    "loss, accuracy = keras_d2v_combo_dbow_dmm_model.evaluate(validation_vectors_dbow_dmm, y_validation, verbose=False)\n",
    "print(\"Validation-Set Accuracy: {:.4f}\".format(accuracy))\n",
    "\n",
    "print(\"\\nEvaluation on Test-Set : \")\n",
    "pred=keras_d2v_combo_dbow_dmm_model.predict_classes(test_vectors_dbow_dmm)\n",
    "print(\"Classification report:\\n {}\".format(classification_report(y_test, pred)))\n",
    "print(\"Confusion matrix:\\n {}\".format(confusion_matrix(y_test, pred)))\n",
    "\n",
    "loss, accuracy = keras_d2v_combo_dbow_dmm_model.evaluate(test_vectors_dbow_dmm, y_test, verbose=False)\n",
    "print(\"Test-Set Accuracy:  {:.4f}\".format(accuracy))"
   ]
  },
  {
   "cell_type": "code",
   "execution_count": 106,
   "metadata": {},
   "outputs": [
    {
     "name": "stdout",
     "output_type": "stream",
     "text": [
      "Time elapsed :  4.87  in hours\n"
     ]
    }
   ],
   "source": [
    "print(\"Time elapsed : \",(round(((time.time()-program_start_time)/3600),2)),\" in hours\")"
   ]
  }
 ],
 "metadata": {
  "kernelspec": {
   "display_name": "Python 3",
   "language": "python",
   "name": "python3"
  },
  "language_info": {
   "codemirror_mode": {
    "name": "ipython",
    "version": 3
   },
   "file_extension": ".py",
   "mimetype": "text/x-python",
   "name": "python",
   "nbconvert_exporter": "python",
   "pygments_lexer": "ipython3",
   "version": "3.6.6"
  }
 },
 "nbformat": 4,
 "nbformat_minor": 2
}
