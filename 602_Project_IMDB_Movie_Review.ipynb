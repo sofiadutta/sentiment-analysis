{
 "cells": [
  {
   "cell_type": "markdown",
   "metadata": {},
   "source": [
    "### Welcome to DATA 602: Introduction to Data Analysis and Machine Learning Spring 2019 Term Project\n",
    "#### My experiments with word2vec among other things...\n",
    "\n",
    "We are going to use the following datasets:\n",
    "* [IMDB Movie Review Dataset](https://ai.stanford.edu/~amaas/data/sentiment/aclImdb_v1.tar.gz)\n",
    "\n",
    "Below, we install and import required libraries"
   ]
  },
  {
   "cell_type": "code",
   "execution_count": 1,
   "metadata": {},
   "outputs": [
    {
     "name": "stdout",
     "output_type": "stream",
     "text": [
      "Collecting gensim\n",
      "  Using cached https://files.pythonhosted.org/packages/43/f1/d25dfdf1d28222124b920108b89f3f7acc2dad506014990c10fb34f7104b/gensim-3.7.2-cp36-cp36m-manylinux1_x86_64.whl\n",
      "Collecting tensorflow\n",
      "  Using cached https://files.pythonhosted.org/packages/77/63/a9fa76de8dffe7455304c4ed635be4aa9c0bacef6e0633d87d5f54530c5c/tensorflow-1.13.1-cp36-cp36m-manylinux1_x86_64.whl\n",
      "Collecting wordcloud\n",
      "  Using cached https://files.pythonhosted.org/packages/ae/af/849edf14d573eba9c8082db898ff0d090428d9485371cc4fe21a66717ad2/wordcloud-1.5.0-cp36-cp36m-manylinux1_x86_64.whl\n",
      "Requirement already satisfied: scipy>=0.18.1 in /opt/conda/lib/python3.6/site-packages (from gensim) (1.1.0)\n",
      "Requirement already satisfied: six>=1.5.0 in /opt/conda/lib/python3.6/site-packages (from gensim) (1.11.0)\n",
      "Collecting smart-open>=1.7.0 (from gensim)\n",
      "Requirement already satisfied: numpy>=1.11.3 in /opt/conda/lib/python3.6/site-packages (from gensim) (1.13.3)\n",
      "Collecting grpcio>=1.8.6 (from tensorflow)\n",
      "  Using cached https://files.pythonhosted.org/packages/0a/9d/8bd5d0e516b196f59f1c4439b424b8d4fa62d492a4b531aae322d2d82a7b/grpcio-1.20.1-cp36-cp36m-manylinux1_x86_64.whl\n",
      "Requirement already satisfied: protobuf>=3.6.1 in /opt/conda/lib/python3.6/site-packages (from tensorflow) (3.6.1)\n",
      "Collecting tensorflow-estimator<1.14.0rc0,>=1.13.0 (from tensorflow)\n",
      "  Using cached https://files.pythonhosted.org/packages/bb/48/13f49fc3fa0fdf916aa1419013bb8f2ad09674c275b4046d5ee669a46873/tensorflow_estimator-1.13.0-py2.py3-none-any.whl\n",
      "Collecting tensorboard<1.14.0,>=1.13.0 (from tensorflow)\n",
      "  Using cached https://files.pythonhosted.org/packages/0f/39/bdd75b08a6fba41f098b6cb091b9e8c7a80e1b4d679a581a0ccd17b10373/tensorboard-1.13.1-py3-none-any.whl\n",
      "Requirement already satisfied: wheel>=0.26 in /opt/conda/lib/python3.6/site-packages (from tensorflow) (0.32.3)\n",
      "Collecting termcolor>=1.1.0 (from tensorflow)\n",
      "Collecting astor>=0.6.0 (from tensorflow)\n",
      "  Using cached https://files.pythonhosted.org/packages/35/6b/11530768cac581a12952a2aad00e1526b89d242d0b9f59534ef6e6a1752f/astor-0.7.1-py2.py3-none-any.whl\n",
      "Collecting gast>=0.2.0 (from tensorflow)\n",
      "Collecting keras-applications>=1.0.6 (from tensorflow)\n",
      "  Using cached https://files.pythonhosted.org/packages/90/85/64c82949765cfb246bbdaf5aca2d55f400f792655927a017710a78445def/Keras_Applications-1.0.7-py2.py3-none-any.whl\n",
      "Collecting keras-preprocessing>=1.0.5 (from tensorflow)\n",
      "  Using cached https://files.pythonhosted.org/packages/c0/bf/0315ef6a9fd3fc2346e85b0ff1f5f83ca17073f2c31ac719ab2e4da0d4a3/Keras_Preprocessing-1.0.9-py2.py3-none-any.whl\n",
      "Collecting absl-py>=0.1.6 (from tensorflow)\n",
      "Requirement already satisfied: pillow in /opt/conda/lib/python3.6/site-packages (from wordcloud) (5.1.0)\n",
      "Requirement already satisfied: requests in /opt/conda/lib/python3.6/site-packages (from smart-open>=1.7.0->gensim) (2.20.1)\n",
      "Collecting boto>=2.32 (from smart-open>=1.7.0->gensim)\n",
      "  Using cached https://files.pythonhosted.org/packages/23/10/c0b78c27298029e4454a472a1919bde20cb182dab1662cec7f2ca1dcc523/boto-2.49.0-py2.py3-none-any.whl\n",
      "Collecting boto3 (from smart-open>=1.7.0->gensim)\n",
      "  Using cached https://files.pythonhosted.org/packages/34/53/e7953f300d345f8b95a578085aba17bc7145f913b32e1f00f9a105602851/boto3-1.9.143-py2.py3-none-any.whl\n",
      "Requirement already satisfied: setuptools in /opt/conda/lib/python3.6/site-packages (from protobuf>=3.6.1->tensorflow) (40.6.2)\n",
      "Collecting mock>=2.0.0 (from tensorflow-estimator<1.14.0rc0,>=1.13.0->tensorflow)\n",
      "  Using cached https://files.pythonhosted.org/packages/42/b4/f9afb3de9bd92d165e94a81f4048b373825009be9234f588a69afc64e7a1/mock-3.0.4-py2.py3-none-any.whl\n",
      "Collecting werkzeug>=0.11.15 (from tensorboard<1.14.0,>=1.13.0->tensorflow)\n",
      "  Using cached https://files.pythonhosted.org/packages/18/79/84f02539cc181cdbf5ff5a41b9f52cae870b6f632767e43ba6ac70132e92/Werkzeug-0.15.2-py2.py3-none-any.whl\n",
      "Collecting markdown>=2.6.8 (from tensorboard<1.14.0,>=1.13.0->tensorflow)\n",
      "  Using cached https://files.pythonhosted.org/packages/f5/e4/d8c18f2555add57ff21bf25af36d827145896a07607486cc79a2aea641af/Markdown-3.1-py2.py3-none-any.whl\n",
      "Requirement already satisfied: h5py in /opt/conda/lib/python3.6/site-packages (from keras-applications>=1.0.6->tensorflow) (2.7.1)\n",
      "Requirement already satisfied: chardet<3.1.0,>=3.0.2 in /opt/conda/lib/python3.6/site-packages (from requests->smart-open>=1.7.0->gensim) (3.0.4)\n",
      "Requirement already satisfied: idna<2.8,>=2.5 in /opt/conda/lib/python3.6/site-packages (from requests->smart-open>=1.7.0->gensim) (2.7)\n",
      "Requirement already satisfied: certifi>=2017.4.17 in /opt/conda/lib/python3.6/site-packages (from requests->smart-open>=1.7.0->gensim) (2018.11.29)\n",
      "Requirement already satisfied: urllib3<1.25,>=1.21.1 in /opt/conda/lib/python3.6/site-packages (from requests->smart-open>=1.7.0->gensim) (1.23)\n",
      "Collecting jmespath<1.0.0,>=0.7.1 (from boto3->smart-open>=1.7.0->gensim)\n",
      "  Using cached https://files.pythonhosted.org/packages/83/94/7179c3832a6d45b266ddb2aac329e101367fbdb11f425f13771d27f225bb/jmespath-0.9.4-py2.py3-none-any.whl\n",
      "Collecting botocore<1.13.0,>=1.12.143 (from boto3->smart-open>=1.7.0->gensim)\n",
      "  Using cached https://files.pythonhosted.org/packages/e0/9a/400c9a3634f7f40453634609925131f9b0c11903b06d0cc7270be3f0c372/botocore-1.12.143-py2.py3-none-any.whl\n",
      "Collecting s3transfer<0.3.0,>=0.2.0 (from boto3->smart-open>=1.7.0->gensim)\n",
      "  Using cached https://files.pythonhosted.org/packages/d7/de/5737f602e22073ecbded7a0c590707085e154e32b68d86545dcc31004c02/s3transfer-0.2.0-py2.py3-none-any.whl\n",
      "Requirement already satisfied: python-dateutil<3.0.0,>=2.1; python_version >= \"2.7\" in /opt/conda/lib/python3.6/site-packages (from botocore<1.13.0,>=1.12.143->boto3->smart-open>=1.7.0->gensim) (2.7.5)\n",
      "Collecting docutils>=0.10 (from botocore<1.13.0,>=1.12.143->boto3->smart-open>=1.7.0->gensim)\n",
      "  Using cached https://files.pythonhosted.org/packages/36/fa/08e9e6e0e3cbd1d362c3bbee8d01d0aedb2155c4ac112b19ef3cae8eed8d/docutils-0.14-py3-none-any.whl\n",
      "Installing collected packages: boto, jmespath, docutils, botocore, s3transfer, boto3, smart-open, gensim, grpcio, mock, absl-py, tensorflow-estimator, werkzeug, markdown, tensorboard, termcolor, astor, gast, keras-applications, keras-preprocessing, tensorflow, wordcloud\n",
      "Successfully installed absl-py-0.7.1 astor-0.7.1 boto-2.49.0 boto3-1.9.143 botocore-1.12.143 docutils-0.14 gast-0.2.2 gensim-3.7.2 grpcio-1.20.1 jmespath-0.9.4 keras-applications-1.0.7 keras-preprocessing-1.0.9 markdown-3.1 mock-3.0.4 s3transfer-0.2.0 smart-open-1.8.3 tensorboard-1.13.1 tensorflow-1.13.1 tensorflow-estimator-1.13.0 termcolor-1.1.0 werkzeug-0.15.2 wordcloud-1.5.0\n",
      "Collecting xgboost\n",
      "  Using cached https://files.pythonhosted.org/packages/6a/49/7e10686647f741bd9c8918b0decdb94135b542fe372ca1100739b8529503/xgboost-0.82-py2.py3-none-manylinux1_x86_64.whl\n",
      "Requirement already satisfied: scipy in /opt/conda/lib/python3.6/site-packages (from xgboost) (1.1.0)\n",
      "Requirement already satisfied: numpy in /opt/conda/lib/python3.6/site-packages (from xgboost) (1.13.3)\n",
      "Installing collected packages: xgboost\n",
      "Successfully installed xgboost-0.82\n",
      "Collecting keras\n",
      "  Using cached https://files.pythonhosted.org/packages/5e/10/aa32dad071ce52b5502266b5c659451cfd6ffcbf14e6c8c4f16c0ff5aaab/Keras-2.2.4-py2.py3-none-any.whl\n",
      "Requirement already satisfied: scipy>=0.14 in /opt/conda/lib/python3.6/site-packages (from keras) (1.1.0)\n",
      "Requirement already satisfied: keras-applications>=1.0.6 in /opt/conda/lib/python3.6/site-packages (from keras) (1.0.7)\n",
      "Requirement already satisfied: h5py in /opt/conda/lib/python3.6/site-packages (from keras) (2.7.1)\n",
      "Requirement already satisfied: pyyaml in /opt/conda/lib/python3.6/site-packages (from keras) (3.13)\n",
      "Requirement already satisfied: numpy>=1.9.1 in /opt/conda/lib/python3.6/site-packages (from keras) (1.13.3)\n",
      "Requirement already satisfied: keras-preprocessing>=1.0.5 in /opt/conda/lib/python3.6/site-packages (from keras) (1.0.9)\n",
      "Requirement already satisfied: six>=1.9.0 in /opt/conda/lib/python3.6/site-packages (from keras) (1.11.0)\n",
      "Installing collected packages: keras\n",
      "Successfully installed keras-2.2.4\n",
      "Collecting nltk\n",
      "Requirement already satisfied: six in /opt/conda/lib/python3.6/site-packages (from nltk) (1.11.0)\n",
      "Installing collected packages: nltk\n",
      "Successfully installed nltk-3.4.1\n",
      "Collecting string\n",
      "\u001b[31m  Could not find a version that satisfies the requirement string (from versions: )\u001b[0m\n",
      "\u001b[31mNo matching distribution found for string\u001b[0m\n",
      "Collecting tqdm\n",
      "  Using cached https://files.pythonhosted.org/packages/6c/4b/c38b5144cf167c4f52288517436ccafefe9dc01b8d1c190e18a6b154cd4a/tqdm-4.31.1-py2.py3-none-any.whl\n",
      "Installing collected packages: tqdm\n",
      "Successfully installed tqdm-4.31.1\n"
     ]
    },
    {
     "name": "stderr",
     "output_type": "stream",
     "text": [
      "[nltk_data] Downloading package stopwords to /home/jovyan/nltk_data...\n",
      "[nltk_data]   Package stopwords is already up-to-date!\n",
      "[nltk_data] Downloading package punkt to /home/jovyan/nltk_data...\n",
      "[nltk_data]   Package punkt is already up-to-date!\n",
      "WARNING: Logging before flag parsing goes to stderr.\n",
      "W0507 14:41:33.977085 140072427317056 __init__.py:56] Some hub symbols are not available because TensorFlow version is less than 1.14\n",
      "Using TensorFlow backend.\n"
     ]
    }
   ],
   "source": [
    "!pip install gensim tensorflow wordcloud\n",
    "!pip install -q tensorflow-hub\n",
    "!pip install xgboost\n",
    "!pip install keras\n",
    "!pip install nltk\n",
    "!pip install string\n",
    "!pip install tqdm\n",
    "\n",
    "import gzip\n",
    "import gensim\n",
    "import os\n",
    "import sys\n",
    "import json\n",
    "import shutil\n",
    "import time\n",
    "import re\n",
    "import tarfile\n",
    "import zipfile\n",
    "\n",
    "import numpy as np\n",
    "import pandas as pd\n",
    "import collections\n",
    "import math\n",
    "import random\n",
    "import datetime as dt\n",
    "\n",
    "import matplotlib.pyplot as plt \n",
    "import seaborn as sns\n",
    "%matplotlib inline\n",
    "from wordcloud import WordCloud, STOPWORDS, ImageColorGenerator\n",
    "\n",
    "import string\n",
    "import nltk\n",
    "nltk.download('stopwords')\n",
    "from nltk.corpus import stopwords\n",
    "nltk.download('punkt')\n",
    "from nltk.tokenize import word_tokenize\n",
    "\n",
    "from gensim.test.utils import get_tmpfile\n",
    "from gensim.models import Word2Vec, FastText\n",
    "\n",
    "from tqdm import tqdm\n",
    "tqdm.pandas(desc=\"progress-bar\")\n",
    "from gensim.models import Doc2Vec\n",
    "from gensim.models.doc2vec import LabeledSentence\n",
    "import multiprocessing\n",
    "\n",
    "from sklearn.linear_model import LogisticRegression\n",
    "from sklearn.ensemble import RandomForestClassifier\n",
    "from sklearn.svm import SVC\n",
    "from xgboost import XGBClassifier\n",
    "from sklearn.decomposition import PCA\n",
    "from sklearn.manifold import TSNE\n",
    "from sklearn.pipeline import Pipeline\n",
    "\n",
    "\n",
    "import tensorflow as tf\n",
    "import tensorflow_hub as hub\n",
    "\n",
    "from keras.preprocessing.text import Tokenizer\n",
    "from keras.preprocessing.sequence import pad_sequences\n",
    "from keras.models import Sequential\n",
    "from keras.layers import Embedding,Dense,Flatten,GlobalMaxPooling1D,LSTM,Dropout, Activation,Bidirectional\n",
    "from keras.layers.convolutional import Conv1D,MaxPooling1D \n",
    "from keras.optimizers import Adam\n",
    "\n",
    "from sklearn.model_selection import train_test_split\n",
    "from sklearn.metrics import confusion_matrix, classification_report, accuracy_score, roc_curve, precision_recall_curve \n",
    "from sklearn import utils\n",
    "\n",
    "\"\"\"\n",
    "We will ignore FutureWarning and DeprecationWarning\n",
    "\"\"\"\n",
    "import warnings\n",
    "warnings.filterwarnings(\"ignore\", category=FutureWarning)\n",
    "warnings.filterwarnings(\"ignore\", category=DeprecationWarning)\n",
    "\n",
    "\"\"\"\n",
    "We will ignore warnings\n",
    "\"\"\"\n",
    "warnings.filterwarnings(\"ignore\")\n",
    "\n",
    "if not sys.warnoptions:\n",
    "    warnings.simplefilter(\"ignore\")\n",
    "program_start_time=time.time()"
   ]
  },
  {
   "cell_type": "markdown",
   "metadata": {},
   "source": [
    "#### Perform some housekeeping tasks"
   ]
  },
  {
   "cell_type": "code",
   "execution_count": 2,
   "metadata": {},
   "outputs": [],
   "source": [
    "data_source_url = 'https://ai.stanford.edu/~amaas/data/sentiment/aclImdb_v1.tar.gz'\n",
    "datasets = '/datasets/'\n",
    "data_file_path = os.getcwd()+datasets+'aclImdb_v1.tar.gz'\n",
    "data = 'data_'\n",
    "MOVIE = 'movie'\n",
    "data_folder = os.getcwd()+datasets+data+MOVIE\n",
    "data_json_file = data+MOVIE+'.json'\n",
    "\n",
    "def check_if_file_exists(file):\n",
    "    '''\n",
    "    Checks if 'file' exists\n",
    "    '''\n",
    "    try:\n",
    "        fh = open(file, 'r')\n",
    "        return True\n",
    "    except FileNotFoundError:\n",
    "        print('Please make sure file: ' + file + ' is present before continuing')\n",
    "        return False\n",
    "\n",
    "def check_if_dir_exists(directory):\n",
    "    '''\n",
    "    Checks if 'directory' exists\n",
    "    '''\n",
    "    return(os.path.isdir(directory))\n",
    "\n",
    "def store_json(write_this_data):\n",
    "    '''\n",
    "    Store json if we are processing the first time\n",
    "    '''\n",
    "    open(data_json_file, 'w').write(json.dumps(write_this_data))\n",
    "\n",
    "def return_data_json():\n",
    "    '''\n",
    "    Return data json from data json file\n",
    "    '''\n",
    "    with open(data_json_file, encoding='utf-8') as data_file:\n",
    "        return json.loads(data_file.read())"
   ]
  },
  {
   "cell_type": "markdown",
   "metadata": {},
   "source": [
    "**Download data source**"
   ]
  },
  {
   "cell_type": "code",
   "execution_count": 3,
   "metadata": {},
   "outputs": [
    {
     "name": "stdout",
     "output_type": "stream",
     "text": [
      "Data file already exists. Not downloading again!\n"
     ]
    }
   ],
   "source": [
    "if not check_if_file_exists(data_file_path):\n",
    "    print('Start of data download')\n",
    "    wget.download(data_source_url, os.getcwd()+datasets)\n",
    "    print('Download complete')\n",
    "else:\n",
    "    print('Data file already exists. Not downloading again!')"
   ]
  },
  {
   "cell_type": "code",
   "execution_count": 4,
   "metadata": {},
   "outputs": [
    {
     "name": "stdout",
     "output_type": "stream",
     "text": [
      "Data foler exists. Won't copy again!\n"
     ]
    }
   ],
   "source": [
    "if not check_if_dir_exists(data_folder):\n",
    "    with tarfile.open(data_file_path) as tar:\n",
    "        tar.extractall(path=data_folder)\n",
    "else:\n",
    "    print('Data foler exists. Won\\'t copy again!')"
   ]
  },
  {
   "cell_type": "code",
   "execution_count": 5,
   "metadata": {
    "scrolled": false
   },
   "outputs": [
    {
     "data": {
      "text/plain": [
       "50000"
      ]
     },
     "execution_count": 5,
     "metadata": {},
     "output_type": "execute_result"
    }
   ],
   "source": [
    "data = {}\n",
    "all_reviews = []\n",
    "if not check_if_file_exists(data_json_file):\n",
    "    dirpath = data_folder+\"/aclImdb/train/pos/\"\n",
    "    for root, dirs, files in os.walk(dirpath):\n",
    "        for name in files:\n",
    "            full = os.path.join(root, name)\n",
    "            with open(full, 'r') as f:\n",
    "                string = f.read()\n",
    "                file_content = {\"review\": string,\"rating\": 1}\n",
    "                all_reviews.append(file_content)\n",
    "    dirpath = data_folder+\"/aclImdb/train/neg/\"\n",
    "    for root, dirs, files in os.walk(dirpath):\n",
    "        for name in files:\n",
    "            full = os.path.join(root, name)\n",
    "            with open(full, 'r') as f:\n",
    "                string = f.read()\n",
    "                file_content = {\"review\": string,\"rating\": 0}\n",
    "                all_reviews.append(file_content)\n",
    "    dirpath = data_folder+\"/aclImdb/test/pos/\"\n",
    "    for root, dirs, files in os.walk(dirpath):\n",
    "        for name in files:\n",
    "            full = os.path.join(root, name)\n",
    "            with open(full, 'r') as f:\n",
    "                string = f.read()\n",
    "                file_content = {\"review\": string,\"rating\": 1}\n",
    "                all_reviews.append(file_content)\n",
    "    dirpath = data_folder+\"/aclImdb/test/neg/\"\n",
    "    for root, dirs, files in os.walk(dirpath):\n",
    "        for name in files:\n",
    "            full = os.path.join(root, name)\n",
    "            with open(full, 'r') as f:\n",
    "                string = f.read()\n",
    "                file_content = {\"review\": string,\"rating\": 0}\n",
    "                all_reviews.append(file_content)\n",
    "    data[MOVIE] = all_reviews\n",
    "    store_json(data)\n",
    "pre_loaded_data = return_data_json()\n",
    "len(pre_loaded_data[MOVIE])"
   ]
  },
  {
   "cell_type": "markdown",
   "metadata": {},
   "source": [
    "**Creating review dataframe and Data clean up**"
   ]
  },
  {
   "cell_type": "code",
   "execution_count": 6,
   "metadata": {},
   "outputs": [
    {
     "name": "stdout",
     "output_type": "stream",
     "text": [
      "Before Cleanup : Shape of the Data Frame : (50000, 2)\n",
      "Remove missing values.\n",
      "Drop columns with duplicate data.\n",
      "After Cleanup : Shape of the Data Frame : (50000, 2)\n",
      "Counting null data per column.\n"
     ]
    },
    {
     "data": {
      "text/plain": [
       "rating    0\n",
       "review    0\n",
       "dtype: int64"
      ]
     },
     "execution_count": 6,
     "metadata": {},
     "output_type": "execute_result"
    }
   ],
   "source": [
    "movie_df = pd.DataFrame(pre_loaded_data[MOVIE])\n",
    "print('Before Cleanup : Shape of the Data Frame : {}'.format(movie_df.shape))\n",
    "print('Remove missing values.')\n",
    "movie_df.dropna(inplace=True)\n",
    "movie_df.reset_index(drop=True,inplace=True)\n",
    "print('Drop columns with duplicate data.')\n",
    "movie_df.drop_duplicates()\n",
    "print('After Cleanup : Shape of the Data Frame : {}'.format(movie_df.shape))\n",
    "print('Counting null data per column.')\n",
    "movie_df.isnull().sum()"
   ]
  },
  {
   "cell_type": "markdown",
   "metadata": {},
   "source": [
    "* **The dataframe contains 50000 rows and 2 columns**"
   ]
  },
  {
   "cell_type": "markdown",
   "metadata": {},
   "source": [
    "**Let us look at the data types of columns**"
   ]
  },
  {
   "cell_type": "code",
   "execution_count": 7,
   "metadata": {},
   "outputs": [
    {
     "data": {
      "text/plain": [
       "rating     int64\n",
       "review    object\n",
       "dtype: object"
      ]
     },
     "execution_count": 7,
     "metadata": {},
     "output_type": "execute_result"
    }
   ],
   "source": [
    "movie_df.dtypes"
   ]
  },
  {
   "cell_type": "code",
   "execution_count": 8,
   "metadata": {},
   "outputs": [
    {
     "data": {
      "text/plain": [
       "array([1, 0])"
      ]
     },
     "execution_count": 8,
     "metadata": {},
     "output_type": "execute_result"
    }
   ],
   "source": [
    "\"\"\"\n",
    "Ratings\n",
    "\"\"\"\n",
    "movie_df.rating.unique()"
   ]
  },
  {
   "cell_type": "markdown",
   "metadata": {},
   "source": [
    "**Let us explore the data a bit using head(), tail(), info(), describe()**"
   ]
  },
  {
   "cell_type": "code",
   "execution_count": 9,
   "metadata": {},
   "outputs": [
    {
     "data": {
      "text/html": [
       "<div>\n",
       "<style scoped>\n",
       "    .dataframe tbody tr th:only-of-type {\n",
       "        vertical-align: middle;\n",
       "    }\n",
       "\n",
       "    .dataframe tbody tr th {\n",
       "        vertical-align: top;\n",
       "    }\n",
       "\n",
       "    .dataframe thead th {\n",
       "        text-align: right;\n",
       "    }\n",
       "</style>\n",
       "<table border=\"1\" class=\"dataframe\">\n",
       "  <thead>\n",
       "    <tr style=\"text-align: right;\">\n",
       "      <th></th>\n",
       "      <th>rating</th>\n",
       "      <th>review</th>\n",
       "    </tr>\n",
       "  </thead>\n",
       "  <tbody>\n",
       "    <tr>\n",
       "      <th>0</th>\n",
       "      <td>1</td>\n",
       "      <td>This has got to be one of my very favorite Twi...</td>\n",
       "    </tr>\n",
       "    <tr>\n",
       "      <th>1</th>\n",
       "      <td>1</td>\n",
       "      <td>\"8 SIMPLE RULES... FOR DATING MY TEENAGE DAUGH...</td>\n",
       "    </tr>\n",
       "    <tr>\n",
       "      <th>2</th>\n",
       "      <td>1</td>\n",
       "      <td>Famous was \"famous\" for their tension and rele...</td>\n",
       "    </tr>\n",
       "    <tr>\n",
       "      <th>3</th>\n",
       "      <td>1</td>\n",
       "      <td>I've noticed that a lot of people who post on ...</td>\n",
       "    </tr>\n",
       "    <tr>\n",
       "      <th>4</th>\n",
       "      <td>1</td>\n",
       "      <td>Ya. That is what I think. Sure it was still a ...</td>\n",
       "    </tr>\n",
       "  </tbody>\n",
       "</table>\n",
       "</div>"
      ],
      "text/plain": [
       "   rating                                             review\n",
       "0       1  This has got to be one of my very favorite Twi...\n",
       "1       1  \"8 SIMPLE RULES... FOR DATING MY TEENAGE DAUGH...\n",
       "2       1  Famous was \"famous\" for their tension and rele...\n",
       "3       1  I've noticed that a lot of people who post on ...\n",
       "4       1  Ya. That is what I think. Sure it was still a ..."
      ]
     },
     "execution_count": 9,
     "metadata": {},
     "output_type": "execute_result"
    }
   ],
   "source": [
    "movie_df.head()"
   ]
  },
  {
   "cell_type": "code",
   "execution_count": 10,
   "metadata": {},
   "outputs": [
    {
     "data": {
      "text/html": [
       "<div>\n",
       "<style scoped>\n",
       "    .dataframe tbody tr th:only-of-type {\n",
       "        vertical-align: middle;\n",
       "    }\n",
       "\n",
       "    .dataframe tbody tr th {\n",
       "        vertical-align: top;\n",
       "    }\n",
       "\n",
       "    .dataframe thead th {\n",
       "        text-align: right;\n",
       "    }\n",
       "</style>\n",
       "<table border=\"1\" class=\"dataframe\">\n",
       "  <thead>\n",
       "    <tr style=\"text-align: right;\">\n",
       "      <th></th>\n",
       "      <th>rating</th>\n",
       "      <th>review</th>\n",
       "    </tr>\n",
       "  </thead>\n",
       "  <tbody>\n",
       "    <tr>\n",
       "      <th>49995</th>\n",
       "      <td>0</td>\n",
       "      <td>This is a standard action flick as we have see...</td>\n",
       "    </tr>\n",
       "    <tr>\n",
       "      <th>49996</th>\n",
       "      <td>0</td>\n",
       "      <td>... what a porn movie would look like if you t...</td>\n",
       "    </tr>\n",
       "    <tr>\n",
       "      <th>49997</th>\n",
       "      <td>0</td>\n",
       "      <td>Kudos to Baxley's DP for making this look like...</td>\n",
       "    </tr>\n",
       "    <tr>\n",
       "      <th>49998</th>\n",
       "      <td>0</td>\n",
       "      <td>Once a month, I invite a few friends over for ...</td>\n",
       "    </tr>\n",
       "    <tr>\n",
       "      <th>49999</th>\n",
       "      <td>0</td>\n",
       "      <td>I happened to catch this movie on late night T...</td>\n",
       "    </tr>\n",
       "  </tbody>\n",
       "</table>\n",
       "</div>"
      ],
      "text/plain": [
       "       rating                                             review\n",
       "49995       0  This is a standard action flick as we have see...\n",
       "49996       0  ... what a porn movie would look like if you t...\n",
       "49997       0  Kudos to Baxley's DP for making this look like...\n",
       "49998       0  Once a month, I invite a few friends over for ...\n",
       "49999       0  I happened to catch this movie on late night T..."
      ]
     },
     "execution_count": 10,
     "metadata": {},
     "output_type": "execute_result"
    }
   ],
   "source": [
    "movie_df.tail()"
   ]
  },
  {
   "cell_type": "code",
   "execution_count": 11,
   "metadata": {},
   "outputs": [
    {
     "name": "stdout",
     "output_type": "stream",
     "text": [
      "<class 'pandas.core.frame.DataFrame'>\n",
      "RangeIndex: 50000 entries, 0 to 49999\n",
      "Data columns (total 2 columns):\n",
      "rating    50000 non-null int64\n",
      "review    50000 non-null object\n",
      "dtypes: int64(1), object(1)\n",
      "memory usage: 781.3+ KB\n"
     ]
    }
   ],
   "source": [
    "movie_df.info()"
   ]
  },
  {
   "cell_type": "code",
   "execution_count": 12,
   "metadata": {},
   "outputs": [
    {
     "data": {
      "text/html": [
       "<div>\n",
       "<style scoped>\n",
       "    .dataframe tbody tr th:only-of-type {\n",
       "        vertical-align: middle;\n",
       "    }\n",
       "\n",
       "    .dataframe tbody tr th {\n",
       "        vertical-align: top;\n",
       "    }\n",
       "\n",
       "    .dataframe thead th {\n",
       "        text-align: right;\n",
       "    }\n",
       "</style>\n",
       "<table border=\"1\" class=\"dataframe\">\n",
       "  <thead>\n",
       "    <tr style=\"text-align: right;\">\n",
       "      <th></th>\n",
       "      <th>rating</th>\n",
       "    </tr>\n",
       "  </thead>\n",
       "  <tbody>\n",
       "    <tr>\n",
       "      <th>count</th>\n",
       "      <td>50000.000000</td>\n",
       "    </tr>\n",
       "    <tr>\n",
       "      <th>mean</th>\n",
       "      <td>0.500000</td>\n",
       "    </tr>\n",
       "    <tr>\n",
       "      <th>std</th>\n",
       "      <td>0.500005</td>\n",
       "    </tr>\n",
       "    <tr>\n",
       "      <th>min</th>\n",
       "      <td>0.000000</td>\n",
       "    </tr>\n",
       "    <tr>\n",
       "      <th>25%</th>\n",
       "      <td>0.000000</td>\n",
       "    </tr>\n",
       "    <tr>\n",
       "      <th>50%</th>\n",
       "      <td>0.500000</td>\n",
       "    </tr>\n",
       "    <tr>\n",
       "      <th>75%</th>\n",
       "      <td>1.000000</td>\n",
       "    </tr>\n",
       "    <tr>\n",
       "      <th>max</th>\n",
       "      <td>1.000000</td>\n",
       "    </tr>\n",
       "  </tbody>\n",
       "</table>\n",
       "</div>"
      ],
      "text/plain": [
       "             rating\n",
       "count  50000.000000\n",
       "mean       0.500000\n",
       "std        0.500005\n",
       "min        0.000000\n",
       "25%        0.000000\n",
       "50%        0.500000\n",
       "75%        1.000000\n",
       "max        1.000000"
      ]
     },
     "execution_count": 12,
     "metadata": {},
     "output_type": "execute_result"
    }
   ],
   "source": [
    "movie_df.describe()"
   ]
  },
  {
   "cell_type": "code",
   "execution_count": 13,
   "metadata": {},
   "outputs": [
    {
     "data": {
      "text/html": [
       "<div>\n",
       "<style scoped>\n",
       "    .dataframe tbody tr th:only-of-type {\n",
       "        vertical-align: middle;\n",
       "    }\n",
       "\n",
       "    .dataframe tbody tr th {\n",
       "        vertical-align: top;\n",
       "    }\n",
       "\n",
       "    .dataframe thead th {\n",
       "        text-align: right;\n",
       "    }\n",
       "</style>\n",
       "<table border=\"1\" class=\"dataframe\">\n",
       "  <thead>\n",
       "    <tr style=\"text-align: right;\">\n",
       "      <th></th>\n",
       "      <th>review</th>\n",
       "    </tr>\n",
       "  </thead>\n",
       "  <tbody>\n",
       "    <tr>\n",
       "      <th>count</th>\n",
       "      <td>50000</td>\n",
       "    </tr>\n",
       "    <tr>\n",
       "      <th>unique</th>\n",
       "      <td>49582</td>\n",
       "    </tr>\n",
       "    <tr>\n",
       "      <th>top</th>\n",
       "      <td>Loved today's show!!! It was a variety and not...</td>\n",
       "    </tr>\n",
       "    <tr>\n",
       "      <th>freq</th>\n",
       "      <td>5</td>\n",
       "    </tr>\n",
       "  </tbody>\n",
       "</table>\n",
       "</div>"
      ],
      "text/plain": [
       "                                                   review\n",
       "count                                               50000\n",
       "unique                                              49582\n",
       "top     Loved today's show!!! It was a variety and not...\n",
       "freq                                                    5"
      ]
     },
     "execution_count": 13,
     "metadata": {},
     "output_type": "execute_result"
    }
   ],
   "source": [
    "movie_df.describe(include='object')"
   ]
  },
  {
   "cell_type": "code",
   "execution_count": 14,
   "metadata": {},
   "outputs": [
    {
     "data": {
      "text/html": [
       "<div>\n",
       "<style scoped>\n",
       "    .dataframe tbody tr th:only-of-type {\n",
       "        vertical-align: middle;\n",
       "    }\n",
       "\n",
       "    .dataframe tbody tr th {\n",
       "        vertical-align: top;\n",
       "    }\n",
       "\n",
       "    .dataframe thead th {\n",
       "        text-align: right;\n",
       "    }\n",
       "</style>\n",
       "<table border=\"1\" class=\"dataframe\">\n",
       "  <thead>\n",
       "    <tr style=\"text-align: right;\">\n",
       "      <th></th>\n",
       "      <th>rating</th>\n",
       "      <th>review</th>\n",
       "    </tr>\n",
       "  </thead>\n",
       "  <tbody>\n",
       "    <tr>\n",
       "      <th>count</th>\n",
       "      <td>50000.000000</td>\n",
       "      <td>50000</td>\n",
       "    </tr>\n",
       "    <tr>\n",
       "      <th>unique</th>\n",
       "      <td>NaN</td>\n",
       "      <td>49582</td>\n",
       "    </tr>\n",
       "    <tr>\n",
       "      <th>top</th>\n",
       "      <td>NaN</td>\n",
       "      <td>Loved today's show!!! It was a variety and not...</td>\n",
       "    </tr>\n",
       "    <tr>\n",
       "      <th>freq</th>\n",
       "      <td>NaN</td>\n",
       "      <td>5</td>\n",
       "    </tr>\n",
       "    <tr>\n",
       "      <th>mean</th>\n",
       "      <td>0.500000</td>\n",
       "      <td>NaN</td>\n",
       "    </tr>\n",
       "    <tr>\n",
       "      <th>std</th>\n",
       "      <td>0.500005</td>\n",
       "      <td>NaN</td>\n",
       "    </tr>\n",
       "    <tr>\n",
       "      <th>min</th>\n",
       "      <td>0.000000</td>\n",
       "      <td>NaN</td>\n",
       "    </tr>\n",
       "    <tr>\n",
       "      <th>25%</th>\n",
       "      <td>0.000000</td>\n",
       "      <td>NaN</td>\n",
       "    </tr>\n",
       "    <tr>\n",
       "      <th>50%</th>\n",
       "      <td>0.500000</td>\n",
       "      <td>NaN</td>\n",
       "    </tr>\n",
       "    <tr>\n",
       "      <th>75%</th>\n",
       "      <td>1.000000</td>\n",
       "      <td>NaN</td>\n",
       "    </tr>\n",
       "    <tr>\n",
       "      <th>max</th>\n",
       "      <td>1.000000</td>\n",
       "      <td>NaN</td>\n",
       "    </tr>\n",
       "  </tbody>\n",
       "</table>\n",
       "</div>"
      ],
      "text/plain": [
       "              rating                                             review\n",
       "count   50000.000000                                              50000\n",
       "unique           NaN                                              49582\n",
       "top              NaN  Loved today's show!!! It was a variety and not...\n",
       "freq             NaN                                                  5\n",
       "mean        0.500000                                                NaN\n",
       "std         0.500005                                                NaN\n",
       "min         0.000000                                                NaN\n",
       "25%         0.000000                                                NaN\n",
       "50%         0.500000                                                NaN\n",
       "75%         1.000000                                                NaN\n",
       "max         1.000000                                                NaN"
      ]
     },
     "execution_count": 14,
     "metadata": {},
     "output_type": "execute_result"
    }
   ],
   "source": [
    "movie_df.describe(include='all')"
   ]
  },
  {
   "cell_type": "markdown",
   "metadata": {},
   "source": [
    "**Creating a new column called \"review_length\" which is the length of the review column.**"
   ]
  },
  {
   "cell_type": "code",
   "execution_count": 15,
   "metadata": {},
   "outputs": [
    {
     "data": {
      "text/html": [
       "<div>\n",
       "<style scoped>\n",
       "    .dataframe tbody tr th:only-of-type {\n",
       "        vertical-align: middle;\n",
       "    }\n",
       "\n",
       "    .dataframe tbody tr th {\n",
       "        vertical-align: top;\n",
       "    }\n",
       "\n",
       "    .dataframe thead th {\n",
       "        text-align: right;\n",
       "    }\n",
       "</style>\n",
       "<table border=\"1\" class=\"dataframe\">\n",
       "  <thead>\n",
       "    <tr style=\"text-align: right;\">\n",
       "      <th></th>\n",
       "      <th>rating</th>\n",
       "      <th>review</th>\n",
       "      <th>review_length</th>\n",
       "    </tr>\n",
       "  </thead>\n",
       "  <tbody>\n",
       "    <tr>\n",
       "      <th>0</th>\n",
       "      <td>1</td>\n",
       "      <td>This has got to be one of my very favorite Twi...</td>\n",
       "      <td>665</td>\n",
       "    </tr>\n",
       "    <tr>\n",
       "      <th>1</th>\n",
       "      <td>1</td>\n",
       "      <td>\"8 SIMPLE RULES... FOR DATING MY TEENAGE DAUGH...</td>\n",
       "      <td>712</td>\n",
       "    </tr>\n",
       "    <tr>\n",
       "      <th>2</th>\n",
       "      <td>1</td>\n",
       "      <td>Famous was \"famous\" for their tension and rele...</td>\n",
       "      <td>908</td>\n",
       "    </tr>\n",
       "    <tr>\n",
       "      <th>3</th>\n",
       "      <td>1</td>\n",
       "      <td>I've noticed that a lot of people who post on ...</td>\n",
       "      <td>739</td>\n",
       "    </tr>\n",
       "    <tr>\n",
       "      <th>4</th>\n",
       "      <td>1</td>\n",
       "      <td>Ya. That is what I think. Sure it was still a ...</td>\n",
       "      <td>720</td>\n",
       "    </tr>\n",
       "  </tbody>\n",
       "</table>\n",
       "</div>"
      ],
      "text/plain": [
       "   rating                                             review  review_length\n",
       "0       1  This has got to be one of my very favorite Twi...            665\n",
       "1       1  \"8 SIMPLE RULES... FOR DATING MY TEENAGE DAUGH...            712\n",
       "2       1  Famous was \"famous\" for their tension and rele...            908\n",
       "3       1  I've noticed that a lot of people who post on ...            739\n",
       "4       1  Ya. That is what I think. Sure it was still a ...            720"
      ]
     },
     "execution_count": 15,
     "metadata": {},
     "output_type": "execute_result"
    }
   ],
   "source": [
    "movie_df['review_length'] = movie_df['review'].apply(len)\n",
    "movie_df.head()"
   ]
  },
  {
   "cell_type": "markdown",
   "metadata": {},
   "source": [
    "#### **Data Visualization and Exploratory Data Analysis**"
   ]
  },
  {
   "cell_type": "markdown",
   "metadata": {},
   "source": [
    "**Using FacetGrid from the seaborn library to create a grid of two histograms of review_length based off of the ratings**\n",
    "\n",
    "[FacetGrid reference](https://seaborn.pydata.org/generated/seaborn.FacetGrid.html)"
   ]
  },
  {
   "cell_type": "code",
   "execution_count": 16,
   "metadata": {},
   "outputs": [],
   "source": [
    "sns.set_style('darkgrid')"
   ]
  },
  {
   "cell_type": "code",
   "execution_count": 17,
   "metadata": {},
   "outputs": [
    {
     "data": {
      "image/png": "[encoded data removed]",
      "text/plain": [
       "<Figure size 720x360 with 2 Axes>"
      ]
     },
     "metadata": {},
     "output_type": "display_data"
    }
   ],
   "source": [
    "g = sns.FacetGrid(movie_df,col='rating',size=5)\n",
    "g.map(plt.hist,'review_length',bins=50)\n",
    "plt.show()"
   ]
  },
  {
   "cell_type": "markdown",
   "metadata": {},
   "source": [
    "Let's try to explain why the x-axis goes all the way to 14000ish, this must mean that there is some really long message!"
   ]
  },
  {
   "cell_type": "code",
   "execution_count": 18,
   "metadata": {},
   "outputs": [
    {
     "data": {
      "text/plain": [
       "count    50000.000000\n",
       "mean      1309.431020\n",
       "std        989.728014\n",
       "min         32.000000\n",
       "25%        699.000000\n",
       "50%        970.000000\n",
       "75%       1590.250000\n",
       "max      13704.000000\n",
       "Name: review_length, dtype: float64"
      ]
     },
     "execution_count": 18,
     "metadata": {},
     "output_type": "execute_result"
    }
   ],
   "source": [
    "movie_df.review_length.describe()"
   ]
  },
  {
   "cell_type": "markdown",
   "metadata": {},
   "source": [
    "* Max review_length 13704.000000 means review is 13704 character long"
   ]
  },
  {
   "cell_type": "markdown",
   "metadata": {},
   "source": [
    "**Creating a boxplot of review_length for each rating category.**"
   ]
  },
  {
   "cell_type": "code",
   "execution_count": 19,
   "metadata": {},
   "outputs": [
    {
     "data": {
      "image/png": "[encoded data removed]",
      "text/plain": [
       "<Figure size 720x576 with 1 Axes>"
      ]
     },
     "metadata": {},
     "output_type": "display_data"
    }
   ],
   "source": [
    "plt.figure(figsize=(10,8))\n",
    "sns.boxplot(x='rating',y='review_length',data=movie_df,palette='rainbow')\n",
    "plt.title(\"Boxplot of review length for each rating category.\",fontsize=16)\n",
    "plt.xlabel(\"Rating\",fontsize=14)\n",
    "plt.ylabel(\"Review Length\",fontsize=14)\n",
    "plt.show()"
   ]
  },
  {
   "cell_type": "markdown",
   "metadata": {},
   "source": [
    "* Looking at the box and whisker plots for the review_length in words, we can see an exponential distribution. We can observe that the mass of the distribution can possibly be covered with 1400 to 1500 words."
   ]
  },
  {
   "cell_type": "markdown",
   "metadata": {},
   "source": [
    "**Creating a countplot of the number of occurrences for each type of rating.**"
   ]
  },
  {
   "cell_type": "code",
   "execution_count": 20,
   "metadata": {},
   "outputs": [
    {
     "data": {
      "image/png": "[encoded data removed]",
      "text/plain": [
       "<Figure size 720x576 with 1 Axes>"
      ]
     },
     "metadata": {},
     "output_type": "display_data"
    }
   ],
   "source": [
    "plt.figure(figsize=(10,8))\n",
    "sns.countplot(x='rating',data=movie_df,palette='winter')\n",
    "plt.title(\"Number of occurrences for each type of rating\",fontsize=16)\n",
    "plt.xlabel(\"Rating\",fontsize=14)\n",
    "plt.ylabel(\"Number of occurrences\",fontsize=14)\n",
    "plt.show()"
   ]
  },
  {
   "cell_type": "markdown",
   "metadata": {},
   "source": [
    "**Pre-processing of review text**\n",
    "\n",
    "[Regex reference](https://stackoverflow.com/questions/9662346/python-code-to-remove-html-tags-from-a-string/9662410)"
   ]
  },
  {
   "cell_type": "code",
   "execution_count": 21,
   "metadata": {},
   "outputs": [],
   "source": [
    "def review_preprocess(review):\n",
    "    \"\"\"\n",
    "    Takes in a string of review, then performs the following:\n",
    "    1. Remove HTML tag from review\n",
    "    2. Remove URLs from review\n",
    "    3. Make entire review lowercase\n",
    "    4. Split the review in words\n",
    "    5. Remove all punctuation\n",
    "    6. Remove empty strings from review\n",
    "    7. Remove all stopwords\n",
    "    8. Returns a list of the cleaned review after jioning them back to a sentence\n",
    "    \"\"\"\n",
    "    en_stops = set(stopwords.words('english'))\n",
    "    \n",
    "    \"\"\"\n",
    "    Removing HTML tag from review\n",
    "    \"\"\"\n",
    "    clean = re.compile('<.*?>')\n",
    "    review_without_tag = re.sub(clean, '', review) \n",
    "    \n",
    "    \n",
    "    \"\"\"\n",
    "    Removing URLs\n",
    "    \"\"\"\n",
    "    review_without_tag_and_url = re.sub(r\"http\\S+\", \"\", review_without_tag)\n",
    "    \n",
    "    review_without_tag_and_url = re.sub(r\"www\\S+\", \"\", review_without_tag)\n",
    "    \n",
    "    \"\"\"\n",
    "    Make entire string lowercase\n",
    "    \"\"\"\n",
    "    review_lowercase = review_without_tag_and_url.lower()\n",
    "    \n",
    "    \"\"\"\n",
    "    Split string into words\n",
    "    \"\"\"\n",
    "    list_of_words = word_tokenize(review_lowercase)\n",
    "    \n",
    "    \n",
    "    \"\"\"\n",
    "    Remove punctuation\n",
    "    Checking characters to see if they are in punctuation\n",
    "    \"\"\"\n",
    "\n",
    "    list_of_words_without_punctuation=[''.join(this_char for this_char in this_string if (this_char in string.ascii_lowercase))for this_string in list_of_words]\n",
    "     \n",
    "    \n",
    "    \"\"\"\n",
    "    Remove empty strings\n",
    "    \"\"\"\n",
    "    list_of_words_without_punctuation = list(filter(None, list_of_words_without_punctuation))\n",
    "    \n",
    "    \n",
    "    \"\"\"\n",
    "    Remove any stopwords\n",
    "    \"\"\"\n",
    "  \n",
    "    filtered_word_list = [w for w in list_of_words_without_punctuation if w not in en_stops] \n",
    "    \n",
    "    \"\"\"\n",
    "    Returns a list of the cleaned review after jioning them back to a sentence\n",
    "    \"\"\"\n",
    "    return ' '.join(filtered_word_list)"
   ]
  },
  {
   "cell_type": "code",
   "execution_count": 22,
   "metadata": {},
   "outputs": [
    {
     "data": {
      "text/plain": [
       "49995    This is a standard action flick as we have see...\n",
       "49996    ... what a porn movie would look like if you t...\n",
       "49997    Kudos to Baxley's DP for making this look like...\n",
       "49998    Once a month, I invite a few friends over for ...\n",
       "49999    I happened to catch this movie on late night T...\n",
       "Name: review, dtype: object"
      ]
     },
     "execution_count": 22,
     "metadata": {},
     "output_type": "execute_result"
    }
   ],
   "source": [
    "\"\"\"\n",
    "Here is the original reviews:\n",
    "\"\"\"\n",
    "movie_df['review'].tail()"
   ]
  },
  {
   "cell_type": "markdown",
   "metadata": {},
   "source": [
    "**Applying pre-processing to reviews**"
   ]
  },
  {
   "cell_type": "code",
   "execution_count": 23,
   "metadata": {},
   "outputs": [
    {
     "name": "stdout",
     "output_type": "stream",
     "text": [
      "Elapsed time for review preprocessing :  2.637855299313863  in minutes\n"
     ]
    }
   ],
   "source": [
    "start_time=time.time()\n",
    "movie_df['review']=movie_df['review'].apply(review_preprocess)\n",
    "print('Elapsed time for review preprocessing : ',((time.time()-start_time)/60),' in minutes')"
   ]
  },
  {
   "cell_type": "code",
   "execution_count": 24,
   "metadata": {},
   "outputs": [
    {
     "data": {
      "text/plain": [
       "49995    standard action flick seen many times much act...\n",
       "49996    porn movie would look like took sex left bad d...\n",
       "49997    kudos baxley dp making look like real movie fi...\n",
       "49998    month invite friends retarded movie night look...\n",
       "49999    happened catch movie late night tv saw opening...\n",
       "Name: review, dtype: object"
      ]
     },
     "execution_count": 24,
     "metadata": {},
     "output_type": "execute_result"
    }
   ],
   "source": [
    "\"\"\"\n",
    "Here is the reviews after preprocessing :\n",
    "\"\"\"\n",
    "movie_df['review'].tail()"
   ]
  },
  {
   "cell_type": "markdown",
   "metadata": {},
   "source": [
    "#### The term frequency distribution of words in the review is obtained using nltk.FreqDist(). This provides us a rough idea of the main topic in the review dataset.\n",
    "\n",
    "[FreqDist reference](http://www.nltk.org/api/nltk.html?highlight=freqdist)"
   ]
  },
  {
   "cell_type": "code",
   "execution_count": 25,
   "metadata": {
    "scrolled": false
   },
   "outputs": [
    {
     "name": "stdout",
     "output_type": "stream",
     "text": [
      "Number of vocabulary : 180605\n"
     ]
    },
    {
     "data": {
      "text/plain": [
       "['movie',\n",
       " 'film',\n",
       " 'nt',\n",
       " 'one',\n",
       " 'like',\n",
       " 'good',\n",
       " 'would',\n",
       " 'even',\n",
       " 'time',\n",
       " 'really',\n",
       " 'see',\n",
       " 'story',\n",
       " 'much',\n",
       " 'well',\n",
       " 'could',\n",
       " 'get',\n",
       " 'people',\n",
       " 'great',\n",
       " 'bad',\n",
       " 'also',\n",
       " 'first',\n",
       " 'made',\n",
       " 'make',\n",
       " 'way',\n",
       " 'movies',\n",
       " 'think',\n",
       " 'characters',\n",
       " 'character',\n",
       " 'watch',\n",
       " 'films',\n",
       " 'many',\n",
       " 'seen',\n",
       " 'two',\n",
       " 'never',\n",
       " 'love',\n",
       " 'acting',\n",
       " 'plot',\n",
       " 'best',\n",
       " 'show',\n",
       " 'know',\n",
       " 'little',\n",
       " 'life',\n",
       " 'ever',\n",
       " 'better',\n",
       " 'man',\n",
       " 'say',\n",
       " 'still',\n",
       " 'scene',\n",
       " 'end',\n",
       " 'scenes']"
      ]
     },
     "execution_count": 25,
     "metadata": {},
     "output_type": "execute_result"
    }
   ],
   "source": [
    "reviews = movie_df['review'].str.cat(sep=' ')\n",
    "\n",
    "\"\"\"\n",
    "function to split review into word\n",
    "\"\"\"\n",
    "tokens = word_tokenize(reviews)\n",
    "\n",
    "vocabulary = set(tokens)\n",
    "print('Number of vocabulary : {}'.format(len(vocabulary)))\n",
    "\n",
    "frequency_distribution = nltk.FreqDist(tokens)\n",
    "sorted(frequency_distribution,key=frequency_distribution.__getitem__, reverse=True)[0:50]"
   ]
  },
  {
   "cell_type": "markdown",
   "metadata": {},
   "source": [
    "#### Wordcloud visualization of frequent words\n",
    "\n",
    "[Wordcloud reference](https://www.geeksforgeeks.org/generating-word-cloud-python/)"
   ]
  },
  {
   "cell_type": "code",
   "execution_count": 26,
   "metadata": {},
   "outputs": [
    {
     "data": {
      "image/png": "[encoded data removed]",
      "text/plain": [
       "<Figure size 432x288 with 1 Axes>"
      ]
     },
     "metadata": {},
     "output_type": "display_data"
    }
   ],
   "source": [
    "wordcloud = WordCloud().generate_from_frequencies(frequency_distribution)\n",
    "plt.imshow(wordcloud)\n",
    "plt.axis(\"off\")\n",
    "plt.show()"
   ]
  },
  {
   "cell_type": "markdown",
   "metadata": {},
   "source": [
    "#### Train, test split"
   ]
  },
  {
   "cell_type": "code",
   "execution_count": 27,
   "metadata": {},
   "outputs": [],
   "source": [
    "def split_train_test(x, y):\n",
    "    SEED = 2000\n",
    "    x_train, x_validation_and_test, y_train, y_validation_and_test = train_test_split(x, y, test_size=.2, random_state=SEED)\n",
    "    x_validation, x_test, y_validation, y_test = train_test_split(x_validation_and_test, y_validation_and_test, test_size=.5, random_state=SEED)\n",
    "    return x_train, y_train, x_test, y_test, x_validation, y_validation, pd.concat([x_train,x_validation,x_test])"
   ]
  },
  {
   "cell_type": "code",
   "execution_count": 28,
   "metadata": {},
   "outputs": [],
   "source": [
    "X = movie_df.review\n",
    "y = movie_df.rating\n",
    "x_train, y_train, x_test, y_test, x_validation, y_validation, all_reviews = split_train_test(X, y)"
   ]
  },
  {
   "cell_type": "markdown",
   "metadata": {},
   "source": [
    "### We are done pre-processing! Now on to the data analysis and machine learning tasks...\n",
    "\n",
    "* In the next code cell we reload data if needed or for first time load we simply read data into lists of tokenized items\n",
    "* Then we train the Word2Vec model"
   ]
  },
  {
   "cell_type": "markdown",
   "metadata": {},
   "source": [
    "<span style=\"display:block;text-align:center\">![hobbits](hobbits.jpg)\n",
    "\n",
    "### Concerning embeddings:\n",
    "* Developed by [Tomas Mikolov in 2013 at Google](https://arxiv.org/pdf/1310.4546.pdf), **Word2Vec** is one of the most popular algorithms to train \"word embeddings\" using a shallow two layer neural networks having one input layer, one hidden layer and one output layer. There are two models for generating word embeddings, i.e. CBOW and Skip-gram.\n",
    "* **Word Embedding** is a language modeling technique that uses vectors with several dimensions to represent words from large amounts of unstructured text data. Word embeddings can be generated using various methods like neural networks, co-occurrence matrix, probabilistic models, etc.\n",
    "* **CBOW (Continuous Bag of Words) model** CBOW model predicts the current word given a context of words. The input layer contains context words and the output layer contains current predicted word. The hidden layer contains the number of dimensions in which we want to represent current word at output layer. The CBOW architecture is shown below ([image credit: Google](https://www.google.com/search?q=cbow&newwindow=1&source=lnms&tbm=isch&sa=X&ved=0ahUKEwibmL_l0YLiAhWoT98KHX8QAisQ_AUIDigB&biw=1855&bih=906))\n",
    "\n",
    "<span style=\"display:block;text-align:center\">![CBOW](CBOW_ORIGINAL.png)\n",
    "\n",
    "* **Skip-gram model** flips CBOW's network architecture and aims to predict context given a word. Given current word, Skip gram predicts the surrounding context words. Input layer for it contains the current word and output layer provides the context words. The hidden layer consists of number of dimensions in which we want to represent current input word. The skip-gram architecture is shown below ([image credit: Google](https://www.google.com/search?q=skip+gram&newwindow=1&source=lnms&tbm=isch&sa=X&ved=0ahUKEwjSirSW0oLiAhUOd98KHbbgA5EQ_AUIDygC&biw=1855&bih=952))\n",
    "\n",
    "<span style=\"display:block;text-align:center\">![SG](skip.png)"
   ]
  },
  {
   "cell_type": "markdown",
   "metadata": {},
   "source": [
    "* For our Word2Vec modeling we have used CBOW as it is faster and have better representation for more frequent words.\n",
    "\n",
    "[Word2Vec reference](https://radimrehurek.com/gensim/models/word2vec.html)"
   ]
  },
  {
   "cell_type": "markdown",
   "metadata": {},
   "source": [
    "**Reload previously processed model if exists**"
   ]
  },
  {
   "cell_type": "code",
   "execution_count": 29,
   "metadata": {},
   "outputs": [],
   "source": [
    "list_of_tokenized_reviews = []\n",
    "skip_modeling = False\n",
    "\n",
    "filename_to_save_model = MOVIE + \".model\"\n",
    "if check_if_file_exists(filename_to_save_model):\n",
    "    skip_modeling = True"
   ]
  },
  {
   "cell_type": "code",
   "execution_count": 30,
   "metadata": {},
   "outputs": [
    {
     "name": "stderr",
     "output_type": "stream",
     "text": [
      "W0507 14:44:51.753911 140072427317056 smart_open_lib.py:385] this function is deprecated, use smart_open.open instead\n"
     ]
    }
   ],
   "source": [
    "if not skip_modeling:\n",
    "    for one_sentence in all_reviews:\n",
    "        list_of_tokenized_reviews.append(gensim.utils.simple_preprocess(one_sentence))\n",
    "    model = Word2Vec(list_of_tokenized_reviews, size=150, window=10, min_count=2, workers=10)\n",
    "    model.save(filename_to_save_model)\n",
    "    model = Word2Vec.load(filename_to_save_model)\n",
    "else:\n",
    "    model = Word2Vec.load(filename_to_save_model)"
   ]
  },
  {
   "cell_type": "markdown",
   "metadata": {},
   "source": [
    "#### Let's look at some output"
   ]
  },
  {
   "cell_type": "code",
   "execution_count": 31,
   "metadata": {},
   "outputs": [
    {
     "data": {
      "text/plain": [
       "[('horrible', 0.909416675567627),\n",
       " ('awful', 0.8847770690917969),\n",
       " ('horrid', 0.8349412679672241),\n",
       " ('horrendous', 0.8293353319168091),\n",
       " ('atrocious', 0.8127287030220032),\n",
       " ('lousy', 0.7956128120422363),\n",
       " ('dreadful', 0.7910779714584351),\n",
       " ('sucks', 0.7720378041267395),\n",
       " ('pathetic', 0.7427937984466553),\n",
       " ('laughable', 0.742027759552002)]"
      ]
     },
     "execution_count": 31,
     "metadata": {},
     "output_type": "execute_result"
    }
   ],
   "source": [
    "\"\"\"\n",
    "look up top 10 words similar to the word 'terrible'.\n",
    "\"\"\"\n",
    "w1 = \"terrible\"\n",
    "model.wv.most_similar(positive=w1)"
   ]
  },
  {
   "cell_type": "code",
   "execution_count": 32,
   "metadata": {},
   "outputs": [
    {
     "data": {
      "text/plain": [
       "[('superb', 0.8720076680183411),\n",
       " ('outstanding', 0.8481285572052002),\n",
       " ('terrific', 0.8366817831993103),\n",
       " ('fantastic', 0.8252926468849182),\n",
       " ('fine', 0.7947401404380798),\n",
       " ('wonderful', 0.7863712906837463),\n",
       " ('exceptional', 0.7859656810760498),\n",
       " ('great', 0.7494642734527588),\n",
       " ('phenomenal', 0.7335102558135986),\n",
       " ('brilliant', 0.7279271483421326)]"
      ]
     },
     "execution_count": 32,
     "metadata": {},
     "output_type": "execute_result"
    }
   ],
   "source": [
    "\"\"\"\n",
    "look up top 10 words similar to 'excellent'\n",
    "\"\"\"\n",
    "w1 = [\"excellent\"]\n",
    "model.wv.most_similar (positive=w1)"
   ]
  },
  {
   "cell_type": "code",
   "execution_count": 33,
   "metadata": {},
   "outputs": [
    {
     "data": {
      "text/plain": [
       "[('movies', 0.6096152067184448),\n",
       " ('moviei', 0.5753039717674255),\n",
       " ('film', 0.554874837398529)]"
      ]
     },
     "execution_count": 33,
     "metadata": {},
     "output_type": "execute_result"
    }
   ],
   "source": [
    "\"\"\"\n",
    "look up top 3 words similar to 'movie'\n",
    "\"\"\"\n",
    "w1 = [\"movie\"]\n",
    "model.wv.most_similar (positive=w1,topn=3)"
   ]
  },
  {
   "cell_type": "code",
   "execution_count": 34,
   "metadata": {},
   "outputs": [
    {
     "data": {
      "text/plain": [
       "[('stupidest', 0.7872093915939331),\n",
       " ('dumbest', 0.7310155630111694),\n",
       " ('lamest', 0.6975992918014526),\n",
       " ('cheesiest', 0.6749032139778137),\n",
       " ('scariest', 0.6707153916358948)]"
      ]
     },
     "execution_count": 34,
     "metadata": {},
     "output_type": "execute_result"
    }
   ],
   "source": [
    "\"\"\"\n",
    "look up top 5 words similar to 'worst'\n",
    "\"\"\"\n",
    "w1 = [\"worst\"]\n",
    "model.wv.most_similar (positive=w1,topn=5)"
   ]
  },
  {
   "cell_type": "code",
   "execution_count": 35,
   "metadata": {},
   "outputs": [
    {
     "data": {
      "text/plain": [
       "0.013156236"
      ]
     },
     "execution_count": 35,
     "metadata": {},
     "output_type": "execute_result"
    }
   ],
   "source": [
    "\"\"\"\n",
    "similarity between two different words\n",
    "\"\"\"\n",
    "model.wv.similarity(w1=\"great\",w2=\"worse\")"
   ]
  },
  {
   "cell_type": "code",
   "execution_count": 36,
   "metadata": {},
   "outputs": [
    {
     "data": {
      "text/plain": [
       "1.0"
      ]
     },
     "execution_count": 36,
     "metadata": {},
     "output_type": "execute_result"
    }
   ],
   "source": [
    "\"\"\"\n",
    "similarity between two identical words\n",
    "\"\"\"\n",
    "model.wv.similarity(w1=\"outstanding\",w2=\"outstanding\")"
   ]
  },
  {
   "cell_type": "code",
   "execution_count": 37,
   "metadata": {},
   "outputs": [
    {
     "data": {
      "text/plain": [
       "0.84812856"
      ]
     },
     "execution_count": 37,
     "metadata": {},
     "output_type": "execute_result"
    }
   ],
   "source": [
    "\"\"\"\n",
    "similarity between two related words\n",
    "\"\"\"\n",
    "model.wv.similarity(w1=\"excellent\",w2=\"outstanding\")"
   ]
  },
  {
   "cell_type": "code",
   "execution_count": 38,
   "metadata": {},
   "outputs": [
    {
     "data": {
      "text/plain": [
       "'disapointed'"
      ]
     },
     "execution_count": 38,
     "metadata": {},
     "output_type": "execute_result"
    }
   ],
   "source": [
    "\"\"\"\n",
    "Which one is the odd one out in this list?\n",
    "\"\"\"\n",
    "model.wv.doesnt_match([\"best\",\"great\",\"good\",\"disapointed\"])"
   ]
  },
  {
   "cell_type": "code",
   "execution_count": 39,
   "metadata": {},
   "outputs": [
    {
     "data": {
      "text/plain": [
       "'book'"
      ]
     },
     "execution_count": 39,
     "metadata": {},
     "output_type": "execute_result"
    }
   ],
   "source": [
    "\"\"\"\n",
    "Which one is the odd one out in this list?\n",
    "\"\"\"\n",
    "model.wv.doesnt_match([\"movie\",\"film\",\"show\",\"book\"])"
   ]
  },
  {
   "cell_type": "markdown",
   "metadata": {},
   "source": [
    "* **Using dimensionality reduction algorithms like PCA and t-SNE to convert multi-dimensional word vectors to two dimensional plots**\n",
    "* The goal is to plot our 150 dimensions vectors into 2 dimensional graphs, and check if we can spot interesting patterns.\n",
    "* Using PCA and t-SNE implementation from scikit-learn for dimension reductions.\n",
    "* In the visualizations we will look at query word (in **blue**), and most similar words (in **green**), and list of words passed in the function (in **red**)."
   ]
  },
  {
   "cell_type": "code",
   "execution_count": 40,
   "metadata": {},
   "outputs": [],
   "source": [
    "def word_vectors_plot(model, input_word, word_list):\n",
    "    \"\"\" \n",
    "    Seaborn plot results of query word and most similar words, alongwith other words in corpus\n",
    "    \"\"\"\n",
    "    word_arrays = np.empty((0, 150), dtype='f')\n",
    "    word_tags = [input_word]\n",
    "    color_list  = ['blue']\n",
    "\n",
    "    \"\"\"\n",
    "    Creating Vector of query word\n",
    "    \"\"\"\n",
    "    word_arrays = np.append(word_arrays, model.wv.__getitem__([input_word]), axis=0)\n",
    "    \n",
    "    \"\"\"\n",
    "    Find similar words\n",
    "    \"\"\"\n",
    "    similar_words = model.wv.most_similar([input_word],topn=8)\n",
    "    \n",
    "    \"\"\"\n",
    "    Insert word vector for similar words into array\n",
    "    \"\"\"\n",
    "    for word_score in similar_words:\n",
    "        word_vector = model.wv.__getitem__([word_score[0]])\n",
    "        word_tags.append(word_score[0])\n",
    "        color_list.append('green')\n",
    "        word_arrays = np.append(word_arrays, word_vector, axis=0)\n",
    "    \n",
    "    \"\"\"\n",
    "    Insert word vectors for other words into array\n",
    "    \"\"\"\n",
    "    for word in word_list:\n",
    "        word_vector = model.wv.__getitem__([word])\n",
    "        word_tags.append(word)\n",
    "        color_list.append('red')\n",
    "        word_arrays = np.append(word_arrays, word_vector, axis=0)\n",
    "        \n",
    "    \"\"\"\n",
    "    Dimensionality from 150 to 17 dimensions with PCA\n",
    "    \"\"\"\n",
    "    reduce = PCA(n_components=17).fit_transform(word_arrays)\n",
    "    \n",
    "    \n",
    "    \"\"\"\n",
    "    Finds t-SNE coordinates for 2 dimensions\n",
    "    \"\"\"\n",
    "    np.set_printoptions(suppress=True)\n",
    "    \n",
    "    Y = TSNE(n_components=2, random_state=0, perplexity=15).fit_transform(reduce)\n",
    "    \n",
    "    \n",
    "    \"\"\"\n",
    "    Sets everything up to plot\n",
    "    \"\"\"\n",
    "    df = pd.DataFrame({'x': [x for x in Y[:, 0]],\n",
    "                       'y': [y for y in Y[:, 1]],\n",
    "                       'words': word_tags,\n",
    "                       'color': color_list})\n",
    "    \n",
    "    fig, _ = plt.subplots()\n",
    "    fig.set_size_inches(9, 9)\n",
    "    \n",
    "    \n",
    "    \"\"\"\n",
    "    Original plot\n",
    "    \"\"\"\n",
    "    p1 = sns.regplot(data=df,\n",
    "                     x=\"x\",\n",
    "                     y=\"y\",\n",
    "                     fit_reg=False,\n",
    "                     marker=\"o\",\n",
    "                     scatter_kws={'s': 40,\n",
    "                                  'facecolors': df['color']\n",
    "                                 }\n",
    "                    )\n",
    "    \n",
    "    \n",
    "    \"\"\"\n",
    "    Annotating word in plots\n",
    "    \"\"\"\n",
    "    for line in range(0, df.shape[0]):\n",
    "         p1.text(df[\"x\"][line],\n",
    "                 df['y'][line],\n",
    "                 '  ' + df[\"words\"][line].title(),\n",
    "                 horizontalalignment='left',\n",
    "                 verticalalignment='bottom', size='medium',\n",
    "                 color=df['color'][line],\n",
    "                 weight='normal'\n",
    "                ).set_size(15)\n",
    "\n",
    "    \n",
    "    plt.xlim(Y[:, 0].min()-50, Y[:, 0].max()+50)\n",
    "    plt.ylim(Y[:, 1].min()-50, Y[:, 1].max()+50)\n",
    "            \n",
    "    plt.title('t-SNE viz for input: {}'.format(input_word.title()),fontsize=16)"
   ]
  },
  {
   "cell_type": "markdown",
   "metadata": {},
   "source": [
    "#### Eight Most Similar Words Vs. Eight Random Words"
   ]
  },
  {
   "cell_type": "code",
   "execution_count": 41,
   "metadata": {},
   "outputs": [
    {
     "data": {
      "image/png": "[encoded data removed]",
      "text/plain": [
       "<Figure size 648x648 with 1 Axes>"
      ]
     },
     "metadata": {},
     "output_type": "display_data"
    }
   ],
   "source": [
    "word_vectors_plot(model, 'action', ['good', 'performance', 'cool', 'life', 'issue', 'bore', 'buy', 'love'])"
   ]
  },
  {
   "cell_type": "markdown",
   "metadata": {},
   "source": [
    "#### Eight Most Similar Words Vs. Ninth To Sixteenth Most Similar Words"
   ]
  },
  {
   "cell_type": "code",
   "execution_count": 42,
   "metadata": {},
   "outputs": [
    {
     "data": {
      "image/png": "[encoded data removed]",
      "text/plain": [
       "<Figure size 648x648 with 1 Axes>"
      ]
     },
     "metadata": {},
     "output_type": "display_data"
    }
   ],
   "source": [
    "word_vectors_plot(model, \"excellent\", [t[0] for t in model.wv.most_similar(positive=[\"excellent\"], \n",
    "                                                                             topn=16)][8:])"
   ]
  },
  {
   "cell_type": "markdown",
   "metadata": {},
   "source": [
    "#### Eight Most Similar Words Vs. Ninth To Sixteenth Most Similar Words"
   ]
  },
  {
   "cell_type": "code",
   "execution_count": 43,
   "metadata": {},
   "outputs": [
    {
     "data": {
      "image/png": "[encoded data removed]",
      "text/plain": [
       "<Figure size 648x648 with 1 Axes>"
      ]
     },
     "metadata": {},
     "output_type": "display_data"
    }
   ],
   "source": [
    "word_vectors_plot(model, \"comedy\", [t[0] for t in model.wv.most_similar(positive=[\"comedy\"], \n",
    "                                                                             topn=16)][8:])"
   ]
  },
  {
   "cell_type": "markdown",
   "metadata": {},
   "source": [
    "#### Eight Most Similar Words Vs. Ninth To Sixteenth Most Similar Words"
   ]
  },
  {
   "cell_type": "code",
   "execution_count": 44,
   "metadata": {},
   "outputs": [
    {
     "data": {
      "image/png": "[encoded data removed]",
      "text/plain": [
       "<Figure size 648x648 with 1 Axes>"
      ]
     },
     "metadata": {},
     "output_type": "display_data"
    }
   ],
   "source": [
    "word_vectors_plot(model, \"story\", [t[0] for t in model.wv.most_similar(positive=[\"story\"], \n",
    "                                                                             topn=16)][8:])"
   ]
  },
  {
   "cell_type": "markdown",
   "metadata": {},
   "source": [
    "#### Wordcloud visualization of positive words in reviews"
   ]
  },
  {
   "cell_type": "code",
   "execution_count": 45,
   "metadata": {},
   "outputs": [
    {
     "name": "stdout",
     "output_type": "stream",
     "text": [
      "superb exceptional terrific phenomenal stellar excellent firstrate fabulous topnotch magnificent marvelous splendid superlative fine fantastic flawless masterful impeccable wonderful kudos\n"
     ]
    }
   ],
   "source": [
    "pos_lst=[t[0] for t in model.wv.most_similar(positive=[\"outstanding\"],topn=20)]\n",
    "pos_wrd=' '.join(pos_lst)\n",
    "print(pos_wrd)"
   ]
  },
  {
   "cell_type": "code",
   "execution_count": 46,
   "metadata": {},
   "outputs": [
    {
     "data": {
      "image/png": "[encoded data removed]",
      "text/plain": [
       "<Figure size 432x288 with 1 Axes>"
      ]
     },
     "metadata": {},
     "output_type": "display_data"
    }
   ],
   "source": [
    "wordcloud = WordCloud(background_color='white',\n",
    "                      max_words=200000,\n",
    "                      max_font_size=400).generate(pos_wrd)\n",
    "plt.figure()\n",
    "plt.imshow(wordcloud)\n",
    "plt.axis(\"off\")\n",
    "plt.show()"
   ]
  },
  {
   "cell_type": "markdown",
   "metadata": {},
   "source": [
    "#### Wordcloud visualization of negative words in reviews"
   ]
  },
  {
   "cell_type": "code",
   "execution_count": 47,
   "metadata": {},
   "outputs": [
    {
     "name": "stdout",
     "output_type": "stream",
     "text": [
      "terrible horrible atrocious horrid dreadful horrendous lousy sucks pathetic appalling abysmal laughable bad lame crappy pitiful stinks poor sucked unwatchable\n"
     ]
    }
   ],
   "source": [
    "neg_lst=[n[0] for n in model.wv.most_similar(positive=[\"awful\"],topn=20)]\n",
    "neg_wrd=' '.join(neg_lst)\n",
    "print(neg_wrd)"
   ]
  },
  {
   "cell_type": "code",
   "execution_count": 48,
   "metadata": {},
   "outputs": [
    {
     "data": {
      "image/png": "[encoded data removed]",
      "text/plain": [
       "<Figure size 432x288 with 1 Axes>"
      ]
     },
     "metadata": {},
     "output_type": "display_data"
    }
   ],
   "source": [
    "wordcloud = WordCloud(background_color='black',\n",
    "                      max_words=100,\n",
    "                      max_font_size=50).generate(neg_wrd)\n",
    "plt.figure()\n",
    "plt.imshow(wordcloud)\n",
    "plt.axis(\"off\")\n",
    "plt.show()"
   ]
  },
  {
   "cell_type": "markdown",
   "metadata": {},
   "source": [
    "#### **Generating Feature vectors**"
   ]
  },
  {
   "cell_type": "code",
   "execution_count": 49,
   "metadata": {},
   "outputs": [],
   "source": [
    "\"\"\"\n",
    "Function to generate feature vectors\n",
    "\"\"\"\n",
    "\n",
    "def generate_feature_vectors(doc, model):\n",
    "    vec = np.zeros(150).reshape((1, 150))  \n",
    "    count = 0\n",
    "    for word in gensim.utils.simple_preprocess(doc):\n",
    "        if model.__contains__(word.strip()):\n",
    "            count = count + 1\n",
    "            vec += model[word.strip()]\n",
    "    vec = vec / count\n",
    "    return vec\n",
    "\n",
    "def generate_features(model, data):\n",
    "    features = np.concatenate([generate_feature_vectors(s, model) for s in data])\n",
    "    return features\n",
    "\n",
    "\"\"\"\n",
    "Generating train, test and validation vectors\n",
    "\"\"\"\n",
    "\n",
    "training_vectors = generate_features(model, x_train)\n",
    "test_vectors = generate_features(model, x_test)\n",
    "validation_vectors = generate_features(model, x_validation)"
   ]
  },
  {
   "cell_type": "markdown",
   "metadata": {},
   "source": [
    "####  Word2Vec Word Embedding Based Sentiment Analysis using LogisticRegression"
   ]
  },
  {
   "cell_type": "code",
   "execution_count": 50,
   "metadata": {},
   "outputs": [
    {
     "name": "stdout",
     "output_type": "stream",
     "text": [
      "***** Word2Vec Word Embedding Based Sentiment Analysis using LogisticRegression *******\n",
      "\n",
      "LogisticRegression Performance : \n",
      "\n",
      "Train-Set Score : 0.8753\n",
      "Train-Set Accuracy : 0.8753\n",
      "\n",
      "Evaluation on Validation-Set : \n",
      "Classification report:\n",
      "               precision    recall  f1-score   support\n",
      "\n",
      "           0       0.88      0.86      0.87      2513\n",
      "           1       0.86      0.88      0.87      2487\n",
      "\n",
      "   micro avg       0.87      0.87      0.87      5000\n",
      "   macro avg       0.87      0.87      0.87      5000\n",
      "weighted avg       0.87      0.87      0.87      5000\n",
      "\n",
      "Confusion matrix:\n",
      " [[2152  361]\n",
      " [ 293 2194]]\n",
      "Validation-Set Score : 0.8692\n",
      "Validation-Set Accuracy:0.8692\n",
      "\n",
      "Evaluation on Test-Set : \n",
      "Classification report:\n",
      "               precision    recall  f1-score   support\n",
      "\n",
      "           0       0.88      0.86      0.87      2529\n",
      "           1       0.86      0.88      0.87      2471\n",
      "\n",
      "   micro avg       0.87      0.87      0.87      5000\n",
      "   macro avg       0.87      0.87      0.87      5000\n",
      "weighted avg       0.87      0.87      0.87      5000\n",
      "\n",
      "Confusion matrix:\n",
      " [[2185  344]\n",
      " [ 303 2168]]\n",
      "Test-Set Score : 0.8706\n",
      "Test-Set Accuracy:0.8706\n"
     ]
    }
   ],
   "source": [
    "lr = LogisticRegression()\n",
    "lr.fit(training_vectors, y_train)\n",
    "print(\"***** Word2Vec Word Embedding Based Sentiment Analysis using LogisticRegression *******\\n\")\n",
    "print(\"LogisticRegression Performance : \\n\")\n",
    "print('Train-Set Score : {:.4f}'.format(lr.score(training_vectors, y_train)))\n",
    "print('Train-Set Accuracy : {:.4f}'.format(accuracy_score(y_train,lr.predict(training_vectors))))\n",
    "\n",
    "print(\"\\nEvaluation on Validation-Set : \")\n",
    "pred_val = lr.predict(validation_vectors)\n",
    "print(\"Classification report:\\n {}\".format(classification_report(y_validation, pred_val)))\n",
    "print(\"Confusion matrix:\\n {}\".format(confusion_matrix(y_validation, pred_val)))\n",
    "print('Validation-Set Score : {:.4f}'.format(lr.score(validation_vectors, y_validation)))\n",
    "print('Validation-Set Accuracy:{:.4f}'.format(accuracy_score(y_validation, pred_val)))\n",
    "\n",
    "print(\"\\nEvaluation on Test-Set : \")\n",
    "pred = lr.predict(test_vectors)\n",
    "print(\"Classification report:\\n {}\".format(classification_report(y_test, pred)))\n",
    "print(\"Confusion matrix:\\n {}\".format(confusion_matrix(y_test, pred)))\n",
    "print('Test-Set Score : {:.4f}'.format(lr.score(test_vectors, y_test)))\n",
    "print('Test-Set Accuracy:{:.4f}'.format(accuracy_score(y_test, pred)))"
   ]
  },
  {
   "cell_type": "markdown",
   "metadata": {},
   "source": [
    "####  Word2Vec Word Embedding Based Sentiment Analysis using SVC"
   ]
  },
  {
   "cell_type": "code",
   "execution_count": 51,
   "metadata": {},
   "outputs": [
    {
     "name": "stdout",
     "output_type": "stream",
     "text": [
      "***** Word2Vec Word Embedding Based Sentiment Analysis using SVC *******\n",
      "\n",
      "SVC with linear kernel Performance : \n",
      "\n",
      "Train-Set Score : 0.8755\n",
      "Train-Set Accuracy : 0.8755\n",
      "\n",
      "Evaluation on Validation-Set : \n",
      "Classification report:\n",
      "               precision    recall  f1-score   support\n",
      "\n",
      "           0       0.88      0.86      0.87      2513\n",
      "           1       0.86      0.89      0.87      2487\n",
      "\n",
      "   micro avg       0.87      0.87      0.87      5000\n",
      "   macro avg       0.87      0.87      0.87      5000\n",
      "weighted avg       0.87      0.87      0.87      5000\n",
      "\n",
      "Confusion matrix:\n",
      " [[2151  362]\n",
      " [ 281 2206]]\n",
      "Validation-Set Score : 0.8714\n",
      "Validation-Set Accuracy:0.8714\n",
      "\n",
      "Evaluation on Test-Set : \n",
      "Classification report:\n",
      "               precision    recall  f1-score   support\n",
      "\n",
      "           0       0.88      0.86      0.87      2529\n",
      "           1       0.86      0.88      0.87      2471\n",
      "\n",
      "   micro avg       0.87      0.87      0.87      5000\n",
      "   macro avg       0.87      0.87      0.87      5000\n",
      "weighted avg       0.87      0.87      0.87      5000\n",
      "\n",
      "Confusion matrix:\n",
      " [[2182  347]\n",
      " [ 308 2163]]\n",
      "Test-Set Score : 0.8690\n",
      "Test-Set Accuracy: 0.8690\n"
     ]
    }
   ],
   "source": [
    "svm = SVC(kernel='linear')\n",
    "svm.fit(training_vectors, y_train)\n",
    "print(\"***** Word2Vec Word Embedding Based Sentiment Analysis using SVC *******\\n\")\n",
    "print(\"SVC with linear kernel Performance : \\n\")\n",
    "print('Train-Set Score : {:.4f}'.format(svm.score(training_vectors, y_train)))\n",
    "print('Train-Set Accuracy : {:.4f}'.format(accuracy_score(y_train,svm.predict(training_vectors))))\n",
    "\n",
    "print(\"\\nEvaluation on Validation-Set : \")\n",
    "pred_val = svm.predict(validation_vectors)\n",
    "print(\"Classification report:\\n {}\".format(classification_report(y_validation, pred_val)))\n",
    "print(\"Confusion matrix:\\n {}\".format(confusion_matrix(y_validation, pred_val)))\n",
    "print('Validation-Set Score : {:.4f}'.format(svm.score(validation_vectors, y_validation)))\n",
    "print('Validation-Set Accuracy:{:.4f}'.format(accuracy_score(y_validation, pred_val)))\n",
    "\n",
    "print(\"\\nEvaluation on Test-Set : \")\n",
    "pred = svm.predict(test_vectors)\n",
    "print(\"Classification report:\\n {}\".format(classification_report(y_test, pred)))\n",
    "print(\"Confusion matrix:\\n {}\".format(confusion_matrix(y_test, pred)))\n",
    "print('Test-Set Score : {:.4f}'.format(svm.score(test_vectors, y_test)))\n",
    "print(\"Test-Set Accuracy: {:.4f}\".format(accuracy_score(y_test, pred)))"
   ]
  },
  {
   "cell_type": "markdown",
   "metadata": {},
   "source": [
    "#### Word2Vec Word Embedding Based Sentiment Analysis using XGBClassifier"
   ]
  },
  {
   "cell_type": "code",
   "execution_count": 52,
   "metadata": {},
   "outputs": [
    {
     "name": "stdout",
     "output_type": "stream",
     "text": [
      "***** Word2Vec Word Embedding Based Sentiment Analysis using XGBClassifier *******\n",
      "\n",
      "XGBClassifier Performance : \n",
      "\n",
      "Train-Set Score : 0.8695\n",
      "Train-Set Accuracy : 0.8695\n",
      "\n",
      "Evaluation on Validation-Set : \n",
      "Classification report:\n",
      "               precision    recall  f1-score   support\n",
      "\n",
      "           0       0.87      0.83      0.85      2513\n",
      "           1       0.84      0.87      0.86      2487\n",
      "\n",
      "   micro avg       0.85      0.85      0.85      5000\n",
      "   macro avg       0.85      0.85      0.85      5000\n",
      "weighted avg       0.85      0.85      0.85      5000\n",
      "\n",
      "Confusion matrix:\n",
      " [[2096  417]\n",
      " [ 313 2174]]\n",
      "Validation-Set Score : 0.8540\n",
      "Validation-Set Accuracy:0.8540\n",
      "\n",
      "Evaluation on Test-Set : \n",
      "Classification report:\n",
      "               precision    recall  f1-score   support\n",
      "\n",
      "           0       0.86      0.84      0.85      2529\n",
      "           1       0.84      0.86      0.85      2471\n",
      "\n",
      "   micro avg       0.85      0.85      0.85      5000\n",
      "   macro avg       0.85      0.85      0.85      5000\n",
      "weighted avg       0.85      0.85      0.85      5000\n",
      "\n",
      "Confusion matrix:\n",
      " [[2127  402]\n",
      " [ 345 2126]]\n",
      "Test-Set Score : 0.8506\n",
      "Test-Set Accuracy: 0.8506\n"
     ]
    }
   ],
   "source": [
    "xgb = XGBClassifier()\n",
    "xgb.fit(training_vectors, y_train)\n",
    "print(\"***** Word2Vec Word Embedding Based Sentiment Analysis using XGBClassifier *******\\n\")\n",
    "print(\"XGBClassifier Performance : \\n\")\n",
    "print('Train-Set Score : {:.4f}'.format(xgb.score(training_vectors, y_train)))\n",
    "print('Train-Set Accuracy : {:.4f}'.format(accuracy_score(y_train,xgb.predict(training_vectors))))\n",
    "\n",
    "print(\"\\nEvaluation on Validation-Set : \")\n",
    "pred_val = xgb.predict(validation_vectors)\n",
    "print(\"Classification report:\\n {}\".format(classification_report(y_validation, pred_val)))\n",
    "print(\"Confusion matrix:\\n {}\".format(confusion_matrix(y_validation, pred_val)))\n",
    "print('Validation-Set Score : {:.4f}'.format(xgb.score(validation_vectors, y_validation)))\n",
    "print('Validation-Set Accuracy:{:.4f}'.format(accuracy_score(y_validation, pred_val)))\n",
    "\n",
    "\n",
    "print(\"\\nEvaluation on Test-Set : \")\n",
    "pred = xgb.predict(test_vectors)\n",
    "print(\"Classification report:\\n {}\".format(classification_report(y_test, pred)))\n",
    "print(\"Confusion matrix:\\n {}\".format(confusion_matrix(y_test, pred)))\n",
    "print(\"Test-Set Score : {:.4f}\".format(xgb.score(test_vectors, y_test)))\n",
    "print(\"Test-Set Accuracy: {:.4f}\".format(accuracy_score(y_test, pred)))"
   ]
  },
  {
   "cell_type": "markdown",
   "metadata": {},
   "source": [
    "#### Sentiment Analysis using Keras Convolutional Neural Networks(CNN) \n",
    "\n",
    "[Keras reference](https://blog.keras.io/using-pre-trained-word-embeddings-in-a-keras-model.html)"
   ]
  },
  {
   "cell_type": "code",
   "execution_count": 53,
   "metadata": {},
   "outputs": [
    {
     "name": "stdout",
     "output_type": "stream",
     "text": [
      "x_train[2] :  famous famous tension release style cartoon semimain character terrible peril rescued hero last second particular casper one remember death actually takes hand even death still happy endingthe constant famous studios cartoons virtue always triumphs popeye always gets spinach time baby huey always outfoxes fox little audery always learns lesson fs cartoons really dark depressingyou give credit much love looney tunes tom jerry nt think anyone putting better cartoon product time paramount color animation music great winston sharples editing voices consistent glowing example best art form offer\n",
      "\n",
      " X_token_train[2] :  [647, 4052, 647, 3, 68, 177, 10, 373, 252, 10055, 9061, 1046, 3, 2853, 340, 253, 202, 38, 1851, 951, 4999, 2666, 2037, 9756, 6701, 17593, 180, 11092, 17049, 3613, 372, 356, 21986, 350, 6591, 1093, 104, 1051, 12429, 483, 2111, 605, 384, 3116, 3147, 781, 4628, 3614, 126, 699, 2, 809, 5037, 5215, 2612, 70, 141, 67006, 11092, 10384, 1025, 726, 86, 4407, 801, 1004, 8712, 17, 84, 104, 13, 1004, 3406, 10384, 2047, 351, 249, 5479, 4522, 4794, 214, 2344, 6, 801, 6955, 826, 1075, 617, 283, 1037, 12673, 10384, 2651, 214, 87, 3902, 3087, 12176, 364, 5092, 576, 3341, 525, 1841, 36, 12, 1254, 142, 104, 11714, 303, 1492, 1031, 6479, 1058, 895, 15230, 9173, 42623, 96, 689, 33989, 1683, 59, 2288, 752, 315, 474, 1440, 187, 870, 114, 175, 650, 2, 119, 880, 4629, 93, 11936, 3923, 644, 50676, 4, 1151, 7020, 4072, 385, 797, 14, 7, 195, 4967, 175, 5656, 7086, 91, 208, 1176, 95, 162, 1441, 400, 31, 17, 302, 9454, 2818, 415, 4, 11, 395, 225, 36, 501]\n",
      "\n",
      " vocab_size :  158132\n"
     ]
    }
   ],
   "source": [
    "\"\"\"\n",
    "Create the tokenizer\n",
    "\"\"\"\n",
    "number_of_words=len(vocabulary)\n",
    "tokenizer = Tokenizer(num_words=number_of_words)\n",
    "\n",
    "\"\"\"\n",
    "Fit the tokenizer\n",
    "\"\"\"\n",
    "tokenizer.fit_on_texts(x_train)\n",
    "\n",
    "\"\"\"\n",
    "Sequence encode\n",
    "\"\"\"\n",
    "X_token_train = tokenizer.texts_to_sequences(x_train)\n",
    "X_token_test = tokenizer.texts_to_sequences(x_test)\n",
    "X_token_validation = tokenizer.texts_to_sequences(x_validation)\n",
    "\n",
    "\"\"\"\n",
    "Adding 1 because of reserved 0 index\n",
    "\"\"\"\n",
    "vocabulary_size = len(tokenizer.word_index) + 1  \n",
    "\n",
    "print(\"x_train[2] : \",x_train[2])\n",
    "print(\"\\n X_token_train[2] : \",X_token_train[2])\n",
    "print(\"\\n vocab_size : \",vocabulary_size)"
   ]
  },
  {
   "cell_type": "code",
   "execution_count": 54,
   "metadata": {},
   "outputs": [
    {
     "name": "stdout",
     "output_type": "stream",
     "text": [
      "famous : 662\n",
      "cartoon : 877\n",
      "studios : 2378\n",
      "love : 36\n",
      "baby : 806\n"
     ]
    }
   ],
   "source": [
    "\"\"\"\n",
    "Checking the index of each word by looking at the word_index dictionary of the Tokenizer object\n",
    "\"\"\"\n",
    "for word in ['famous','cartoon','studios', 'love', 'baby']:\n",
    "    print('{} : {}'.format(word, tokenizer.word_index[word]))"
   ]
  },
  {
   "cell_type": "code",
   "execution_count": 55,
   "metadata": {},
   "outputs": [],
   "source": [
    "\"\"\"\n",
    "Pad sequences\n",
    "\"\"\"\n",
    "max_length = 1500\n",
    "\n",
    "X_token_train = pad_sequences(X_token_train, padding='post', maxlen=max_length)\n",
    "X_token_test = pad_sequences(X_token_test, padding='post', maxlen=max_length)\n",
    "X_token_validation = pad_sequences(X_token_validation, padding='post', maxlen=max_length)"
   ]
  },
  {
   "cell_type": "code",
   "execution_count": 56,
   "metadata": {},
   "outputs": [
    {
     "name": "stdout",
     "output_type": "stream",
     "text": [
      "WARNING:tensorflow:From /opt/conda/lib/python3.6/site-packages/tensorflow/python/framework/op_def_library.py:263: colocate_with (from tensorflow.python.framework.ops) is deprecated and will be removed in a future version.\n",
      "Instructions for updating:\n",
      "Colocations handled automatically by placer.\n"
     ]
    },
    {
     "name": "stderr",
     "output_type": "stream",
     "text": [
      "W0507 14:54:43.152259 140072427317056 deprecation.py:323] From /opt/conda/lib/python3.6/site-packages/tensorflow/python/framework/op_def_library.py:263: colocate_with (from tensorflow.python.framework.ops) is deprecated and will be removed in a future version.\n",
      "Instructions for updating:\n",
      "Colocations handled automatically by placer.\n"
     ]
    },
    {
     "name": "stdout",
     "output_type": "stream",
     "text": [
      "_________________________________________________________________\n",
      "Layer (type)                 Output Shape              Param #   \n",
      "=================================================================\n",
      "embedding_1 (Embedding)      (None, 1500, 100)         15813200  \n",
      "_________________________________________________________________\n",
      "conv1d_1 (Conv1D)            (None, 1496, 128)         64128     \n",
      "_________________________________________________________________\n",
      "global_max_pooling1d_1 (Glob (None, 128)               0         \n",
      "_________________________________________________________________\n",
      "dense_1 (Dense)              (None, 10)                1290      \n",
      "_________________________________________________________________\n",
      "dense_2 (Dense)              (None, 1)                 11        \n",
      "=================================================================\n",
      "Total params: 15,878,629\n",
      "Trainable params: 15,878,629\n",
      "Non-trainable params: 0\n",
      "_________________________________________________________________\n",
      "CPU times: user 128 ms, sys: 0 ns, total: 128 ms\n",
      "Wall time: 123 ms\n"
     ]
    }
   ],
   "source": [
    "%%time\n",
    "\"\"\"\n",
    "Create model\n",
    "\"\"\"\n",
    "embedding_dimension = 100\n",
    "\n",
    "keras_cnn_model = Sequential()\n",
    "keras_cnn_model.add(Embedding(input_dim=vocabulary_size, \n",
    "                              output_dim=embedding_dimension, \n",
    "                              input_length=max_length))\n",
    "keras_cnn_model.add(Conv1D(128, 5, activation='relu'))\n",
    "keras_cnn_model.add(GlobalMaxPooling1D())\n",
    "keras_cnn_model.add(Dense(10, activation='relu'))\n",
    "keras_cnn_model.add(Dense(1, activation='sigmoid'))\n",
    "\n",
    "\"\"\"\n",
    "Compile network\n",
    "\"\"\"\n",
    "keras_cnn_model.compile(optimizer='adam',\n",
    "                        loss='binary_crossentropy',\n",
    "                        metrics=['accuracy'])\n",
    "keras_cnn_model.summary()"
   ]
  },
  {
   "cell_type": "code",
   "execution_count": 57,
   "metadata": {},
   "outputs": [
    {
     "name": "stdout",
     "output_type": "stream",
     "text": [
      "WARNING:tensorflow:From /opt/conda/lib/python3.6/site-packages/tensorflow/python/ops/math_ops.py:3066: to_int32 (from tensorflow.python.ops.math_ops) is deprecated and will be removed in a future version.\n",
      "Instructions for updating:\n",
      "Use tf.cast instead.\n"
     ]
    },
    {
     "name": "stderr",
     "output_type": "stream",
     "text": [
      "W0507 14:54:43.302245 140072427317056 deprecation.py:323] From /opt/conda/lib/python3.6/site-packages/tensorflow/python/ops/math_ops.py:3066: to_int32 (from tensorflow.python.ops.math_ops) is deprecated and will be removed in a future version.\n",
      "Instructions for updating:\n",
      "Use tf.cast instead.\n"
     ]
    },
    {
     "name": "stdout",
     "output_type": "stream",
     "text": [
      "WARNING:tensorflow:From /opt/conda/lib/python3.6/site-packages/tensorflow/python/ops/math_grad.py:102: div (from tensorflow.python.ops.math_ops) is deprecated and will be removed in a future version.\n",
      "Instructions for updating:\n",
      "Deprecated in favor of operator or tf.math.divide.\n"
     ]
    },
    {
     "name": "stderr",
     "output_type": "stream",
     "text": [
      "W0507 14:54:43.437217 140072427317056 deprecation.py:323] From /opt/conda/lib/python3.6/site-packages/tensorflow/python/ops/math_grad.py:102: div (from tensorflow.python.ops.math_ops) is deprecated and will be removed in a future version.\n",
      "Instructions for updating:\n",
      "Deprecated in favor of operator or tf.math.divide.\n"
     ]
    },
    {
     "name": "stdout",
     "output_type": "stream",
     "text": [
      "\n",
      " **** Sentiment Analysis Using Keras Convolutional Neural Networks(CNN) ****\n",
      "\n",
      "Train-Set Accuracy: 0.9994\n",
      "\n",
      "Evaluation on Validation-Set : \n",
      "Classification report:\n",
      "               precision    recall  f1-score   support\n",
      "\n",
      "           0       0.86      0.90      0.88      2513\n",
      "           1       0.89      0.86      0.87      2487\n",
      "\n",
      "   micro avg       0.88      0.88      0.88      5000\n",
      "   macro avg       0.88      0.88      0.88      5000\n",
      "weighted avg       0.88      0.88      0.88      5000\n",
      "\n",
      "Confusion matrix:\n",
      " [[2252  261]\n",
      " [ 354 2133]]\n",
      "Validation-Set Accuracy: 0.8770\n",
      "\n",
      "Evaluation on Test-Set : \n",
      "Classification report:\n",
      "               precision    recall  f1-score   support\n",
      "\n",
      "           0       0.86      0.91      0.88      2529\n",
      "           1       0.90      0.85      0.87      2471\n",
      "\n",
      "   micro avg       0.88      0.88      0.88      5000\n",
      "   macro avg       0.88      0.88      0.88      5000\n",
      "weighted avg       0.88      0.88      0.88      5000\n",
      "\n",
      "Confusion matrix:\n",
      " [[2302  227]\n",
      " [ 379 2092]]\n",
      "Test-Set Accuracy:  0.8788\n",
      "CPU times: user 7h 16min 38s, sys: 1h 34min 29s, total: 8h 51min 8s\n",
      "Wall time: 1h 20min 30s\n"
     ]
    }
   ],
   "source": [
    "%%time\n",
    "\"\"\"\n",
    "Fit network\n",
    "\"\"\"\n",
    "keras_cnn_model.fit(X_token_train, y_train,\n",
    "                    epochs=5,\n",
    "                    verbose=False,\n",
    "                    validation_data=(X_token_validation, y_validation),\n",
    "                    batch_size=10)\n",
    "\n",
    "\"\"\"\n",
    "Evaluate\n",
    "\"\"\"\n",
    "print(\"\\n **** Sentiment Analysis Using Keras Convolutional Neural Networks(CNN) ****\\n\")\n",
    "loss, accuracy = keras_cnn_model.evaluate(X_token_train, y_train, verbose=False)\n",
    "print(\"Train-Set Accuracy: {:.4f}\".format(accuracy))\n",
    "\n",
    "\n",
    "print(\"\\nEvaluation on Validation-Set : \")\n",
    "pred_val=keras_cnn_model.predict_classes(X_token_validation)\n",
    "print(\"Classification report:\\n {}\".format(classification_report(y_validation, pred_val)))\n",
    "print(\"Confusion matrix:\\n {}\".format(confusion_matrix(y_validation, pred_val)))\n",
    "loss, accuracy = keras_cnn_model.evaluate(X_token_validation, y_validation, verbose=False)\n",
    "print(\"Validation-Set Accuracy: {:.4f}\".format(accuracy))\n",
    "\n",
    "print(\"\\nEvaluation on Test-Set : \")\n",
    "pred=keras_cnn_model.predict_classes(X_token_test)\n",
    "print(\"Classification report:\\n {}\".format(classification_report(y_test, pred)))\n",
    "print(\"Confusion matrix:\\n {}\".format(confusion_matrix(y_test, pred)))\n",
    "loss, accuracy = keras_cnn_model.evaluate(X_token_test, y_test, verbose=False)\n",
    "print(\"Test-Set Accuracy:  {:.4f}\".format(accuracy))"
   ]
  },
  {
   "cell_type": "markdown",
   "metadata": {},
   "source": [
    "#### Sentiment Analysis Using Pre-trained Word2Vec Word Embedding To Keras CNN"
   ]
  },
  {
   "cell_type": "code",
   "execution_count": 58,
   "metadata": {},
   "outputs": [
    {
     "name": "stdout",
     "output_type": "stream",
     "text": [
      "Vocabulary size : 74272\n"
     ]
    }
   ],
   "source": [
    "\"\"\"\n",
    "Vocabulary size\n",
    "\"\"\"\n",
    "num_of_words = list(model.wv.vocab)\n",
    "print('Vocabulary size : %d' % len(num_of_words))"
   ]
  },
  {
   "cell_type": "code",
   "execution_count": 59,
   "metadata": {},
   "outputs": [
    {
     "name": "stderr",
     "output_type": "stream",
     "text": [
      "W0507 16:15:14.071372 140072427317056 smart_open_lib.py:385] this function is deprecated, use smart_open.open instead\n"
     ]
    },
    {
     "name": "stdout",
     "output_type": "stream",
     "text": [
      "CPU times: user 15.1 s, sys: 288 ms, total: 15.4 s\n",
      "Wall time: 15.6 s\n"
     ]
    }
   ],
   "source": [
    "%%time\n",
    "\"\"\"\n",
    "Save model in ASCII\n",
    "\"\"\"\n",
    "file_name = 'movie_embedding_word2vec.txt'\n",
    "model.wv.save_word2vec_format(file_name, binary=False)"
   ]
  },
  {
   "cell_type": "code",
   "execution_count": 60,
   "metadata": {},
   "outputs": [],
   "source": [
    "\"\"\"\n",
    "Load word embedding\n",
    "\"\"\"\n",
    "def load_word_embedding(file_name):\n",
    "    word_embedding = dict()\n",
    "    file = open(file_name,'r')\n",
    "    lines = file.readlines()[1:]\n",
    "    file.close()\n",
    "    \n",
    "    \"\"\"\n",
    "    Mapping words to vectors\n",
    "    \"\"\"\n",
    "    for line in lines:\n",
    "        line_parts = line.split()\n",
    "        word_embedding[line_parts[0]] = np.asarray(line_parts[1:], dtype='float32')\n",
    "        \n",
    "    return word_embedding"
   ]
  },
  {
   "cell_type": "code",
   "execution_count": 61,
   "metadata": {},
   "outputs": [],
   "source": [
    "\"\"\"\n",
    "Create a weight matrix for the Embedding layer\n",
    "\"\"\"\n",
    "def get_embedding_weight_matrix(wrd_embedding, vocabulary):\n",
    "    \n",
    "    vocabulary_size = len(vocabulary) + 1\n",
    "    \"\"\"\n",
    "    Define weight matrix dimensions with all 0\n",
    "    \"\"\"\n",
    "    embedding_weight_matrix = np.zeros((vocabulary_size, 150))\n",
    "    \"\"\"\n",
    "    Step vocab, store vectors using the Tokenizer's integer mapping\n",
    "    \"\"\"\n",
    "    for wrd, i in vocabulary.items():\n",
    "        vector = wrd_embedding.get(wrd)\n",
    "        if vector is not None:\n",
    "            embedding_weight_matrix[i] = vector\n",
    "    return embedding_weight_matrix"
   ]
  },
  {
   "cell_type": "code",
   "execution_count": 62,
   "metadata": {},
   "outputs": [
    {
     "name": "stdout",
     "output_type": "stream",
     "text": [
      "Completed creation of raw word2vec word embedding\n",
      "Completed creation of embedding weight vectors\n"
     ]
    }
   ],
   "source": [
    "\"\"\"\n",
    "Load embedding from file\n",
    "\"\"\"\n",
    "raw_w2v_embedding = load_word_embedding('movie_embedding_word2vec.txt')\n",
    "\n",
    "print('Completed creation of raw word2vec word embedding')\n",
    "\n",
    "\"\"\"\n",
    "Get weight vectors in the right order\n",
    "\"\"\"\n",
    "embedding_weight_vectors = get_embedding_weight_matrix(raw_w2v_embedding, tokenizer.word_index)\n",
    "\n",
    "print('Completed creation of embedding weight vectors')"
   ]
  },
  {
   "cell_type": "code",
   "execution_count": 63,
   "metadata": {},
   "outputs": [
    {
     "name": "stdout",
     "output_type": "stream",
     "text": [
      "Completed creation of embedding layer\n"
     ]
    }
   ],
   "source": [
    "\"\"\"\n",
    "Create the embedding layer\n",
    "\"\"\"\n",
    "embedding_layer = Embedding(vocabulary_size, \n",
    "                            150, \n",
    "                            weights=[embedding_weight_vectors], \n",
    "                            input_length=max_length, \n",
    "                            trainable=False)\n",
    "\n",
    "print('Completed creation of embedding layer')"
   ]
  },
  {
   "cell_type": "code",
   "execution_count": 64,
   "metadata": {},
   "outputs": [
    {
     "name": "stdout",
     "output_type": "stream",
     "text": [
      "_________________________________________________________________\n",
      "Layer (type)                 Output Shape              Param #   \n",
      "=================================================================\n",
      "embedding_2 (Embedding)      (None, 1500, 150)         23719800  \n",
      "_________________________________________________________________\n",
      "conv1d_2 (Conv1D)            (None, 1496, 128)         96128     \n",
      "_________________________________________________________________\n",
      "max_pooling1d_1 (MaxPooling1 (None, 748, 128)          0         \n",
      "_________________________________________________________________\n",
      "flatten_1 (Flatten)          (None, 95744)             0         \n",
      "_________________________________________________________________\n",
      "dense_3 (Dense)              (None, 1)                 95745     \n",
      "=================================================================\n",
      "Total params: 23,911,673\n",
      "Trainable params: 191,873\n",
      "Non-trainable params: 23,719,800\n",
      "_________________________________________________________________\n"
     ]
    }
   ],
   "source": [
    "\"\"\"\n",
    "Create model\n",
    "\"\"\"\n",
    "keras_cnn_w2v_model = Sequential()\n",
    "keras_cnn_w2v_model.add(embedding_layer)\n",
    "keras_cnn_w2v_model.add(Conv1D(filters=128, kernel_size=5, activation='relu'))\n",
    "keras_cnn_w2v_model.add(MaxPooling1D(pool_size=2))\n",
    "keras_cnn_w2v_model.add(Flatten())\n",
    "keras_cnn_w2v_model.add(Dense(1, activation='sigmoid'))\n",
    "keras_cnn_w2v_model.summary()"
   ]
  },
  {
   "cell_type": "code",
   "execution_count": 65,
   "metadata": {},
   "outputs": [
    {
     "name": "stdout",
     "output_type": "stream",
     "text": [
      "\n",
      " **** Sentiment Analysis Using Pre-trained Word2Vec Word Embedding To Keras CNN ****\n",
      "\n",
      "Train-Set Accuracy: 0.9593\n",
      "\n",
      "Evaluation on Validation-Set : \n",
      "Classification report:\n",
      "               precision    recall  f1-score   support\n",
      "\n",
      "           0       0.84      0.85      0.85      2513\n",
      "           1       0.85      0.84      0.84      2487\n",
      "\n",
      "   micro avg       0.84      0.84      0.84      5000\n",
      "   macro avg       0.84      0.84      0.84      5000\n",
      "weighted avg       0.84      0.84      0.84      5000\n",
      "\n",
      "Confusion matrix:\n",
      " [[2137  376]\n",
      " [ 402 2085]]\n",
      "Validation-Set Accuracy: 0.8444\n",
      "\n",
      "Evaluation on Test-Set : \n",
      "Classification report:\n",
      "               precision    recall  f1-score   support\n",
      "\n",
      "           0       0.83      0.83      0.83      2529\n",
      "           1       0.83      0.82      0.82      2471\n",
      "\n",
      "   micro avg       0.83      0.83      0.83      5000\n",
      "   macro avg       0.83      0.83      0.83      5000\n",
      "weighted avg       0.83      0.83      0.83      5000\n",
      "\n",
      "Confusion matrix:\n",
      " [[2110  419]\n",
      " [ 447 2024]]\n",
      "Test-Set Accuracy:  0.8268\n"
     ]
    }
   ],
   "source": [
    "\"\"\"\n",
    "Compile network\n",
    "\"\"\"\n",
    "keras_cnn_w2v_model.compile(loss='binary_crossentropy', \n",
    "                            optimizer='adam', \n",
    "                            metrics=['accuracy'])\n",
    "\n",
    "\"\"\"\n",
    "Fit network\n",
    "\"\"\"\n",
    "keras_cnn_w2v_model.fit(X_token_train, y_train,\n",
    "                        epochs=5,\n",
    "                        verbose=False,\n",
    "                        validation_data=(X_token_validation, y_validation),\n",
    "                        batch_size=10)\n",
    "\n",
    "\"\"\"\n",
    "Evaluate\n",
    "\"\"\"\n",
    "print(\"\\n **** Sentiment Analysis Using Pre-trained Word2Vec Word Embedding To Keras CNN ****\\n\")\n",
    "loss, accuracy = keras_cnn_w2v_model.evaluate(X_token_train, y_train, verbose=False)\n",
    "print(\"Train-Set Accuracy: {:.4f}\".format(accuracy))\n",
    "\n",
    "\n",
    "print(\"\\nEvaluation on Validation-Set : \")\n",
    "pred_val=keras_cnn_w2v_model.predict_classes(X_token_validation)\n",
    "print(\"Classification report:\\n {}\".format(classification_report(y_validation, pred_val)))\n",
    "print(\"Confusion matrix:\\n {}\".format(confusion_matrix(y_validation, pred_val)))\n",
    "loss, accuracy = keras_cnn_w2v_model.evaluate(X_token_validation, y_validation, verbose=False)\n",
    "print(\"Validation-Set Accuracy: {:.4f}\".format(accuracy))\n",
    "\n",
    "print(\"\\nEvaluation on Test-Set : \")\n",
    "pred=keras_cnn_w2v_model.predict_classes(X_token_test)\n",
    "print(\"Classification report:\\n {}\".format(classification_report(y_test, pred)))\n",
    "print(\"Confusion matrix:\\n {}\".format(confusion_matrix(y_test, pred)))\n",
    "loss, accuracy = keras_cnn_w2v_model.evaluate(X_token_test, y_test, verbose=False)\n",
    "print(\"Test-Set Accuracy:  {:.4f}\".format(accuracy))"
   ]
  },
  {
   "cell_type": "markdown",
   "metadata": {},
   "source": [
    "#### Sentiment Analysis  Using Pre-trained Word2Vec Word Embedding To Keras CNN And Bidirectional LSTM"
   ]
  },
  {
   "cell_type": "code",
   "execution_count": 66,
   "metadata": {},
   "outputs": [
    {
     "name": "stdout",
     "output_type": "stream",
     "text": [
      "WARNING:tensorflow:From /opt/conda/lib/python3.6/site-packages/keras/backend/tensorflow_backend.py:3445: calling dropout (from tensorflow.python.ops.nn_ops) with keep_prob is deprecated and will be removed in a future version.\n",
      "Instructions for updating:\n",
      "Please use `rate` instead of `keep_prob`. Rate should be set to `rate = 1 - keep_prob`.\n"
     ]
    },
    {
     "name": "stderr",
     "output_type": "stream",
     "text": [
      "W0507 16:42:33.180719 140072427317056 deprecation.py:506] From /opt/conda/lib/python3.6/site-packages/keras/backend/tensorflow_backend.py:3445: calling dropout (from tensorflow.python.ops.nn_ops) with keep_prob is deprecated and will be removed in a future version.\n",
      "Instructions for updating:\n",
      "Please use `rate` instead of `keep_prob`. Rate should be set to `rate = 1 - keep_prob`.\n"
     ]
    },
    {
     "name": "stdout",
     "output_type": "stream",
     "text": [
      "_________________________________________________________________\n",
      "Layer (type)                 Output Shape              Param #   \n",
      "=================================================================\n",
      "embedding_3 (Embedding)      (None, 1500, 150)         23719800  \n",
      "_________________________________________________________________\n",
      "conv1d_3 (Conv1D)            (None, 1496, 128)         96128     \n",
      "_________________________________________________________________\n",
      "max_pooling1d_2 (MaxPooling1 (None, 748, 128)          0         \n",
      "_________________________________________________________________\n",
      "bidirectional_1 (Bidirection (None, 128)               98816     \n",
      "_________________________________________________________________\n",
      "dropout_1 (Dropout)          (None, 128)               0         \n",
      "_________________________________________________________________\n",
      "dense_4 (Dense)              (None, 1)                 129       \n",
      "=================================================================\n",
      "Total params: 23,914,873\n",
      "Trainable params: 195,073\n",
      "Non-trainable params: 23,719,800\n",
      "_________________________________________________________________\n",
      "CPU times: user 1.48 s, sys: 776 ms, total: 2.26 s\n",
      "Wall time: 1.05 s\n"
     ]
    }
   ],
   "source": [
    "%%time\n",
    "\"\"\"\n",
    "Create model\n",
    "\"\"\"\n",
    "keras_cnn_bidir_lstm_w2v_model = Sequential()\n",
    "keras_cnn_bidir_lstm_w2v_model.add(Embedding(vocabulary_size, \n",
    "                                             150, \n",
    "                                             weights=[embedding_weight_vectors],\n",
    "                                             input_length=max_length,  \n",
    "                                             trainable=False))\n",
    "keras_cnn_bidir_lstm_w2v_model.add(Conv1D(128, 5, activation='relu'))\n",
    "keras_cnn_bidir_lstm_w2v_model.add(MaxPooling1D(pool_size=2))\n",
    "keras_cnn_bidir_lstm_w2v_model.add(Bidirectional(LSTM(64)))\n",
    "keras_cnn_bidir_lstm_w2v_model.add(Dropout(0.5))\n",
    "keras_cnn_bidir_lstm_w2v_model.add(Dense(1, activation='sigmoid'))\n",
    "\n",
    "\"\"\"\n",
    "Compile network\n",
    "\"\"\"\n",
    "keras_cnn_bidir_lstm_w2v_model.compile(loss='binary_crossentropy', \n",
    "                                       optimizer='adam', \n",
    "                                       metrics=['accuracy'])\n",
    "keras_cnn_bidir_lstm_w2v_model.summary()"
   ]
  },
  {
   "cell_type": "code",
   "execution_count": 67,
   "metadata": {},
   "outputs": [
    {
     "name": "stdout",
     "output_type": "stream",
     "text": [
      "CPU times: user 15h 18min 43s, sys: 1h 22min 27s, total: 16h 41min 10s\n",
      "Wall time: 2h 23min 51s\n"
     ]
    }
   ],
   "source": [
    "%%time\n",
    "\"\"\"\n",
    "Fit train data\n",
    "\"\"\"\n",
    "keras_cnn_bidir_lstm_w2v_model.fit(X_token_train, y_train,\n",
    "                                   epochs=5,\n",
    "                                   verbose=False,\n",
    "                                   validation_data=(X_token_validation, y_validation),\n",
    "                                   batch_size=10)"
   ]
  },
  {
   "cell_type": "code",
   "execution_count": 68,
   "metadata": {},
   "outputs": [
    {
     "name": "stdout",
     "output_type": "stream",
     "text": [
      "**** Sentiment Analysis  Using Pre-trained Word2Vec Word Embedding To Keras CNN And Bidirectional LSTM ****\n",
      "\n",
      "Train-Set Accuracy: 0.9356\n",
      "\n",
      "Evaluation on Validation-Set : \n",
      "Classification report:\n",
      "               precision    recall  f1-score   support\n",
      "\n",
      "           0       0.90      0.87      0.88      2513\n",
      "           1       0.87      0.90      0.89      2487\n",
      "\n",
      "   micro avg       0.89      0.89      0.89      5000\n",
      "   macro avg       0.89      0.89      0.89      5000\n",
      "weighted avg       0.89      0.89      0.89      5000\n",
      "\n",
      "Confusion matrix:\n",
      " [[2184  329]\n",
      " [ 244 2243]]\n",
      "Validation-Set Accuracy: 0.8854\n",
      "\n",
      "Evaluation on Test-Set : \n",
      "Classification report:\n",
      "               precision    recall  f1-score   support\n",
      "\n",
      "           0       0.91      0.87      0.89      2529\n",
      "           1       0.87      0.91      0.89      2471\n",
      "\n",
      "   micro avg       0.89      0.89      0.89      5000\n",
      "   macro avg       0.89      0.89      0.89      5000\n",
      "weighted avg       0.89      0.89      0.89      5000\n",
      "\n",
      "Confusion matrix:\n",
      " [[2208  321]\n",
      " [ 228 2243]]\n",
      "Test-Set Accuracy:  0.8902\n"
     ]
    }
   ],
   "source": [
    "\"\"\"\n",
    "Evaluate\n",
    "\"\"\"\n",
    "print(\"**** Sentiment Analysis  Using Pre-trained Word2Vec Word Embedding To Keras CNN And Bidirectional LSTM ****\\n\")\n",
    "loss, accuracy = keras_cnn_bidir_lstm_w2v_model.evaluate(X_token_train, y_train, verbose=False)\n",
    "print(\"Train-Set Accuracy: {:.4f}\".format(accuracy))\n",
    "\n",
    "print(\"\\nEvaluation on Validation-Set : \")\n",
    "pred_val=keras_cnn_bidir_lstm_w2v_model.predict_classes(X_token_validation)\n",
    "print(\"Classification report:\\n {}\".format(classification_report(y_validation, pred_val)))\n",
    "print(\"Confusion matrix:\\n {}\".format(confusion_matrix(y_validation, pred_val)))\n",
    "loss, accuracy = keras_cnn_bidir_lstm_w2v_model.evaluate(X_token_validation, y_validation, verbose=False)\n",
    "print(\"Validation-Set Accuracy: {:.4f}\".format(accuracy))\n",
    "\n",
    "print(\"\\nEvaluation on Test-Set : \")\n",
    "pred=keras_cnn_bidir_lstm_w2v_model.predict_classes(X_token_test)\n",
    "print(\"Classification report:\\n {}\".format(classification_report(y_test, pred)))\n",
    "print(\"Confusion matrix:\\n {}\".format(confusion_matrix(y_test, pred)))\n",
    "loss, accuracy = keras_cnn_bidir_lstm_w2v_model.evaluate(X_token_test, y_test, verbose=False)\n",
    "print(\"Test-Set Accuracy:  {:.4f}\".format(accuracy))"
   ]
  },
  {
   "cell_type": "markdown",
   "metadata": {},
   "source": [
    "#### Sentiment Analysis Using Pre-trained Word2Vec Word Embedding To Keras Bidirectional LSTM"
   ]
  },
  {
   "cell_type": "code",
   "execution_count": 69,
   "metadata": {},
   "outputs": [
    {
     "name": "stdout",
     "output_type": "stream",
     "text": [
      "_________________________________________________________________\n",
      "Layer (type)                 Output Shape              Param #   \n",
      "=================================================================\n",
      "embedding_4 (Embedding)      (None, 1500, 150)         23719800  \n",
      "_________________________________________________________________\n",
      "bidirectional_2 (Bidirection (None, 128)               110080    \n",
      "_________________________________________________________________\n",
      "dropout_2 (Dropout)          (None, 128)               0         \n",
      "_________________________________________________________________\n",
      "dense_5 (Dense)              (None, 1)                 129       \n",
      "=================================================================\n",
      "Total params: 23,830,009\n",
      "Trainable params: 110,209\n",
      "Non-trainable params: 23,719,800\n",
      "_________________________________________________________________\n"
     ]
    }
   ],
   "source": [
    "\"\"\"\n",
    "Create model\n",
    "\"\"\"\n",
    "\n",
    "keras_bidir_lstm_w2v_model = Sequential()\n",
    "keras_bidir_lstm_w2v_model.add(Embedding(vocabulary_size, \n",
    "                                         150, \n",
    "                                         weights=[embedding_weight_vectors],\n",
    "                                         input_length=max_length,  \n",
    "                                         trainable=False))\n",
    "keras_bidir_lstm_w2v_model.add(Bidirectional(LSTM(64)))\n",
    "keras_bidir_lstm_w2v_model.add(Dropout(0.5))\n",
    "keras_bidir_lstm_w2v_model.add(Dense(1, activation='sigmoid'))\n",
    "\n",
    "\n",
    "\"\"\"\n",
    "Compile network\n",
    "\"\"\"\n",
    "keras_bidir_lstm_w2v_model.compile(loss='binary_crossentropy', \n",
    "                                   optimizer='adam', \n",
    "                                   metrics=['accuracy'])\n",
    "keras_bidir_lstm_w2v_model.summary()"
   ]
  },
  {
   "cell_type": "code",
   "execution_count": 70,
   "metadata": {},
   "outputs": [
    {
     "name": "stdout",
     "output_type": "stream",
     "text": [
      "CPU times: user 23h 22min 14s, sys: 2h 34min 46s, total: 1d 1h 57min\n",
      "Wall time: 3h 43min 52s\n"
     ]
    }
   ],
   "source": [
    "%%time\n",
    "\"\"\"\n",
    "Fit train data\n",
    "\"\"\"\n",
    "keras_bidir_lstm_w2v_model.fit(X_token_train, y_train,\n",
    "                               epochs=5,\n",
    "                               verbose=False,\n",
    "                               validation_data=(X_token_validation, y_validation),\n",
    "                               batch_size=10)"
   ]
  },
  {
   "cell_type": "code",
   "execution_count": 71,
   "metadata": {},
   "outputs": [
    {
     "name": "stdout",
     "output_type": "stream",
     "text": [
      "**** Sentiment Analysis Using Pre-trained Word2Vec Word Embedding To Keras Bidirectional LSTM ****\n",
      "\n",
      "Train-Set Accuracy: 0.9011\n",
      "\n",
      "Evaluation on Validation-Set : \n",
      "Classification report:\n",
      "               precision    recall  f1-score   support\n",
      "\n",
      "           0       0.90      0.86      0.88      2513\n",
      "           1       0.86      0.90      0.88      2487\n",
      "\n",
      "   micro avg       0.88      0.88      0.88      5000\n",
      "   macro avg       0.88      0.88      0.88      5000\n",
      "weighted avg       0.88      0.88      0.88      5000\n",
      "\n",
      "Confusion matrix:\n",
      " [[2152  361]\n",
      " [ 239 2248]]\n",
      "Validation-Set Accuracy: 0.8800\n",
      "\n",
      "Evaluation on Test-Set : \n",
      "Classification report:\n",
      "               precision    recall  f1-score   support\n",
      "\n",
      "           0       0.90      0.86      0.88      2529\n",
      "           1       0.86      0.90      0.88      2471\n",
      "\n",
      "   micro avg       0.88      0.88      0.88      5000\n",
      "   macro avg       0.88      0.88      0.88      5000\n",
      "weighted avg       0.88      0.88      0.88      5000\n",
      "\n",
      "Confusion matrix:\n",
      " [[2176  353]\n",
      " [ 254 2217]]\n",
      "Test-Set Accuracy:  0.8786\n"
     ]
    }
   ],
   "source": [
    "\"\"\"\n",
    "Evaluate\n",
    "\"\"\"\n",
    "print(\"**** Sentiment Analysis Using Pre-trained Word2Vec Word Embedding To Keras Bidirectional LSTM ****\\n\")\n",
    "loss, accuracy = keras_bidir_lstm_w2v_model.evaluate(X_token_train, y_train, verbose=False)\n",
    "print(\"Train-Set Accuracy: {:.4f}\".format(accuracy))\n",
    "\n",
    "print(\"\\nEvaluation on Validation-Set : \")\n",
    "pred_val=keras_bidir_lstm_w2v_model.predict_classes(X_token_validation)\n",
    "print(\"Classification report:\\n {}\".format(classification_report(y_validation, pred_val)))\n",
    "print(\"Confusion matrix:\\n {}\".format(confusion_matrix(y_validation, pred_val)))\n",
    "loss, accuracy = keras_bidir_lstm_w2v_model.evaluate(X_token_validation, y_validation, verbose=False)\n",
    "print(\"Validation-Set Accuracy: {:.4f}\".format(accuracy))\n",
    "\n",
    "print(\"\\nEvaluation on Test-Set : \")\n",
    "pred=keras_bidir_lstm_w2v_model.predict_classes(X_token_test)\n",
    "print(\"Classification report:\\n {}\".format(classification_report(y_test, pred)))\n",
    "print(\"Confusion matrix:\\n {}\".format(confusion_matrix(y_test, pred)))\n",
    "\n",
    "loss, accuracy = keras_bidir_lstm_w2v_model.evaluate(X_token_test, y_test, verbose=False)\n",
    "print(\"Test-Set Accuracy:  {:.4f}\".format(accuracy))"
   ]
  },
  {
   "cell_type": "markdown",
   "metadata": {},
   "source": [
    "## About Doc2Vec\n",
    "\n",
    "* **Doc2Vec** is a generalization of the Word2Vec algorithm and applies at the document level. According to [Mikolov et al. (2014)](https://arxiv.org/pdf/1405.4053.pdf), paragraphs in a document are mapped to a vector representation called paragraph vector. This is then combined with the word vectors by averaging or concatenating to predict the next word in a context. The paragraph vector is just like another word vector but it represents the missing context of the the topic of the paragraph.\n",
    "* **PV-DM or DM:** is the Doc2Vec model analogous to CBOW in Word2Vec. The document vectors are obtained by training a neural network on the task of inferring a centre word based on context words and a context paragraph. See image below for architecture ([image credit: Google](https://www.google.com/search?newwindow=1&biw=1855&bih=952&tbm=isch&sa=1&ei=vQvOXO-dH8rj_AasiKywBw&q=doc2vec+dm&oq=doc2vec+dm&gs_l=img.3..0i24l3.2275.7633..7995...0.0..0.145.386.4j1......1....1..gws-wiz-img.......0j0i30.DJjU4rFKil8))\n",
    "\n",
    "<span style=\"display:block;text-align:center\">![DM](dm.png)\n",
    "\n",
    "* **PV-DBOW or DBOW:** is the Doc2Vec model analogous to Skip-gram in Word2Vec. The document vectors are obtained by training a neural network on the task of predicting a probability distribution of words in a paragraph given a randomly-sampled word from the document. See image below for architecture ([image credit: Google](https://www.google.com/search?newwindow=1&biw=1855&bih=952&tbm=isch&sa=1&ei=5QvOXPTaNsmIggfb6JGoAw&q=doc2vec+dbow&oq=doc2vec+dbow&gs_l=img.3..0i24l3.20722.21318..21542...0.0..0.69.203.3......0....1..gws-wiz-img.5MtfgvxyAEI))\n",
    "\n",
    "<span style=\"display:block;text-align:center\">![DBOW](dbow.png)\n",
    "\n",
    "Below we will see the usage gensim python library with comaprisons of each of these models and their combinations. That is:\n",
    "1. **DBOW (Distributed Bag of Words)**\n",
    "2. **DMC (Distributed Memory Concatenated)**\n",
    "3. **DMM (Distributed Memory Mean)**\n",
    "4. **DBOW + DMC**\n",
    "5. **DBOW + DMM**\n",
    "    \n",
    "[Doc2Vec reference](https://radimrehurek.com/gensim/models/doc2vec.html)"
   ]
  },
  {
   "cell_type": "code",
   "execution_count": 72,
   "metadata": {},
   "outputs": [],
   "source": [
    "\"\"\"\n",
    "Function to labelize the reviews\n",
    "\"\"\"\n",
    "def labelize_review(reviews,label):\n",
    "    labelized_review = []\n",
    "    prefix = label\n",
    "    for indx, rvw in zip(reviews.index, reviews):\n",
    "        labelized_review.append(LabeledSentence(rvw.split(), [prefix + '_%s' % indx]))\n",
    "    return labelized_review"
   ]
  },
  {
   "cell_type": "code",
   "execution_count": 73,
   "metadata": {},
   "outputs": [],
   "source": [
    "\"\"\"\n",
    "labelize the reviews\n",
    "\"\"\"\n",
    "all_reviews_d2v = labelize_review(all_reviews, 'all')"
   ]
  },
  {
   "cell_type": "markdown",
   "metadata": {},
   "source": [
    "#### **Distributed Bag Of Words (DBOW)**"
   ]
  },
  {
   "cell_type": "code",
   "execution_count": 74,
   "metadata": {},
   "outputs": [
    {
     "name": "stderr",
     "output_type": "stream",
     "text": [
      "W0507 23:03:09.999566 140072427317056 base_any2vec.py:723] consider setting layer size to a multiple of 4 for greater performance\n",
      "100%|██████████| 50000/50000 [00:00<00:00, 2264718.52it/s]\n"
     ]
    },
    {
     "name": "stdout",
     "output_type": "stream",
     "text": [
      "CPU times: user 5.04 s, sys: 28 ms, total: 5.07 s\n",
      "Wall time: 5.07 s\n"
     ]
    }
   ],
   "source": [
    "%%time\n",
    "\"\"\"\n",
    "Create doc2vec DBOW model\n",
    "\"\"\"\n",
    "dbow_model = Doc2Vec(dm=0, \n",
    "                     size=150, \n",
    "                     negative=5, \n",
    "                     min_count=2, \n",
    "                     workers=10, \n",
    "                     alpha=0.065, \n",
    "                     min_alpha=0.065)\n",
    "\n",
    "dbow_model.build_vocab([review for review in tqdm(all_reviews_d2v)])"
   ]
  },
  {
   "cell_type": "code",
   "execution_count": 75,
   "metadata": {},
   "outputs": [
    {
     "name": "stderr",
     "output_type": "stream",
     "text": [
      "100%|██████████| 50000/50000 [00:00<00:00, 2235316.94it/s]\n",
      "100%|██████████| 50000/50000 [00:00<00:00, 2449457.47it/s]\n",
      "100%|██████████| 50000/50000 [00:00<00:00, 2604445.99it/s]\n"
     ]
    },
    {
     "name": "stdout",
     "output_type": "stream",
     "text": [
      "CPU times: user 53.7 s, sys: 1.56 s, total: 55.2 s\n",
      "Wall time: 18.7 s\n"
     ]
    }
   ],
   "source": [
    "%%time\n",
    "\n",
    "\"\"\"\n",
    "Train the model\n",
    "\"\"\"\n",
    "\n",
    "for epoch in range(3):\n",
    "    dbow_model.train(utils.shuffle([review for review in tqdm(all_reviews_d2v)]), \n",
    "                     total_examples=len(all_reviews_d2v), \n",
    "                     epochs=1)\n",
    "    dbow_model.alpha -= 0.002\n",
    "    dbow_model.min_alpha = dbow_model.alpha"
   ]
  },
  {
   "cell_type": "code",
   "execution_count": 76,
   "metadata": {},
   "outputs": [],
   "source": [
    "\"\"\"\n",
    "Function to generate vectors from corpus\n",
    "\"\"\"\n",
    "\n",
    "def generate_vectors(model, corpus, size):\n",
    "    vectors = np.zeros((len(corpus), size))\n",
    "    n = 0\n",
    "    for indx in corpus.index:\n",
    "        prefix = 'all_' + str(indx)\n",
    "        vectors[n] = model.docvecs[prefix]\n",
    "        n += 1\n",
    "    return vectors"
   ]
  },
  {
   "cell_type": "code",
   "execution_count": 77,
   "metadata": {},
   "outputs": [],
   "source": [
    "\"\"\"\n",
    "Generating train, test and validation vectors\n",
    "\"\"\"\n",
    "\n",
    "train_vectors_dbow = generate_vectors(dbow_model, x_train, 150)\n",
    "test_vectors_dbow = generate_vectors(dbow_model, x_test, 150)\n",
    "validation_vectors_dbow = generate_vectors(dbow_model, x_validation, 150)"
   ]
  },
  {
   "cell_type": "markdown",
   "metadata": {},
   "source": [
    "#### Doc2Vec Distributed Bag Of Words(DBOW) Based Sentiment Analysis using LogisticRegression"
   ]
  },
  {
   "cell_type": "code",
   "execution_count": 78,
   "metadata": {},
   "outputs": [
    {
     "name": "stdout",
     "output_type": "stream",
     "text": [
      "**** Doc2Vec Distributed Bag Of Words(DBOW) Based Sentiment Analysis using LogisticRegression ****\n",
      "\n",
      "LogisticRegression Performance : \n",
      "\n",
      "Train-Set Score : 0.8732\n",
      "Train-Set Accuracy : 0.8732\n",
      "\n",
      "Evaluation on Validation-Set : \n",
      "Classification report:\n",
      "               precision    recall  f1-score   support\n",
      "\n",
      "           0       0.88      0.87      0.87      2513\n",
      "           1       0.87      0.88      0.87      2487\n",
      "\n",
      "   micro avg       0.87      0.87      0.87      5000\n",
      "   macro avg       0.87      0.87      0.87      5000\n",
      "weighted avg       0.87      0.87      0.87      5000\n",
      "\n",
      "Confusion matrix:\n",
      " [[2177  336]\n",
      " [ 295 2192]]\n",
      "Validation-Set Score : 0.8738\n",
      "Validation-Set Accuracy:0.8738\n",
      "\n",
      "Evaluation on Test-Set : \n",
      "Classification report:\n",
      "               precision    recall  f1-score   support\n",
      "\n",
      "           0       0.88      0.87      0.88      2529\n",
      "           1       0.87      0.88      0.88      2471\n",
      "\n",
      "   micro avg       0.88      0.88      0.88      5000\n",
      "   macro avg       0.88      0.88      0.88      5000\n",
      "weighted avg       0.88      0.88      0.88      5000\n",
      "\n",
      "Confusion matrix:\n",
      " [[2205  324]\n",
      " [ 287 2184]]\n",
      "Test-Set Score : 0.8778\n",
      "Test-Set Accuracy:0.8778\n"
     ]
    }
   ],
   "source": [
    "logreg_dbow = LogisticRegression()\n",
    "logreg_dbow.fit(train_vectors_dbow, y_train)\n",
    "print(\"**** Doc2Vec Distributed Bag Of Words(DBOW) Based Sentiment Analysis using LogisticRegression ****\\n\")\n",
    "print(\"LogisticRegression Performance : \\n\")\n",
    "print('Train-Set Score : {:.4f}'.format(logreg_dbow.score(train_vectors_dbow, y_train)))\n",
    "print('Train-Set Accuracy : {:.4f}'.format(accuracy_score(y_train,logreg_dbow.predict(train_vectors_dbow))))\n",
    "\n",
    "print(\"\\nEvaluation on Validation-Set : \")\n",
    "pred_val = logreg_dbow.predict(validation_vectors_dbow)\n",
    "print(\"Classification report:\\n {}\".format(classification_report(y_validation, pred_val)))\n",
    "print(\"Confusion matrix:\\n {}\".format(confusion_matrix(y_validation, pred_val)))\n",
    "print('Validation-Set Score : {:.4f}'.format(logreg_dbow.score(validation_vectors_dbow, y_validation)))\n",
    "print('Validation-Set Accuracy:{:.4f}'.format(accuracy_score(y_validation, pred_val)))\n",
    "\n",
    "print(\"\\nEvaluation on Test-Set : \")\n",
    "pred = logreg_dbow.predict(test_vectors_dbow)\n",
    "print(\"Classification report:\\n {}\".format(classification_report(y_test, pred)))\n",
    "print(\"Confusion matrix:\\n {}\".format(confusion_matrix(y_test, pred)))\n",
    "print('Test-Set Score : {:.4f}'.format(logreg_dbow.score(test_vectors_dbow, y_test)))\n",
    "print('Test-Set Accuracy:{:.4f}'.format(accuracy_score(y_test, pred)))"
   ]
  },
  {
   "cell_type": "markdown",
   "metadata": {},
   "source": [
    "#### Doc2Vec Distributed Bag Of Words(DBOW) Based Sentiment Analysis using SVC"
   ]
  },
  {
   "cell_type": "code",
   "execution_count": 79,
   "metadata": {},
   "outputs": [
    {
     "name": "stdout",
     "output_type": "stream",
     "text": [
      "**** Doc2Vec Distributed Bag Of Words(DBOW) Based Sentiment Analysis using SVC ****\n",
      "\n",
      "SVC with linear kernel Performance : \n",
      "\n",
      "Train-Set Score : 0.8738\n",
      "Train-Set Accuracy : 0.8738\n",
      "\n",
      "Evaluation on Validation-Set : \n",
      "Classification report:\n",
      "               precision    recall  f1-score   support\n",
      "\n",
      "           0       0.88      0.87      0.87      2513\n",
      "           1       0.87      0.88      0.87      2487\n",
      "\n",
      "   micro avg       0.87      0.87      0.87      5000\n",
      "   macro avg       0.87      0.87      0.87      5000\n",
      "weighted avg       0.87      0.87      0.87      5000\n",
      "\n",
      "Confusion matrix:\n",
      " [[2178  335]\n",
      " [ 294 2193]]\n",
      "Validation-Set Score : 0.8742\n",
      "Validation-Set Accuracy:0.8742\n",
      "\n",
      "Evaluation on Test-Set : \n",
      "Classification report:\n",
      "               precision    recall  f1-score   support\n",
      "\n",
      "           0       0.88      0.87      0.88      2529\n",
      "           1       0.87      0.88      0.88      2471\n",
      "\n",
      "   micro avg       0.88      0.88      0.88      5000\n",
      "   macro avg       0.88      0.88      0.88      5000\n",
      "weighted avg       0.88      0.88      0.88      5000\n",
      "\n",
      "Confusion matrix:\n",
      " [[2204  325]\n",
      " [ 292 2179]]\n",
      "Test-Set Score : 0.8766\n",
      "Test-Set Accuracy: 0.8766\n"
     ]
    }
   ],
   "source": [
    "svm_dbow = SVC(kernel='linear')\n",
    "svm_dbow.fit(train_vectors_dbow, y_train)\n",
    "print(\"**** Doc2Vec Distributed Bag Of Words(DBOW) Based Sentiment Analysis using SVC ****\\n\")\n",
    "print(\"SVC with linear kernel Performance : \\n\")\n",
    "print('Train-Set Score : {:.4f}'.format(svm_dbow.score(train_vectors_dbow, y_train)))\n",
    "print('Train-Set Accuracy : {:.4f}'.format(accuracy_score(y_train,svm_dbow.predict(train_vectors_dbow))))\n",
    "\n",
    "print(\"\\nEvaluation on Validation-Set : \")\n",
    "pred_val = svm_dbow.predict(validation_vectors_dbow)\n",
    "print(\"Classification report:\\n {}\".format(classification_report(y_validation, pred_val)))\n",
    "print(\"Confusion matrix:\\n {}\".format(confusion_matrix(y_validation, pred_val)))\n",
    "print('Validation-Set Score : {:.4f}'.format(svm_dbow.score(validation_vectors_dbow, y_validation)))\n",
    "print('Validation-Set Accuracy:{:.4f}'.format(accuracy_score(y_validation, pred_val)))\n",
    "\n",
    "print(\"\\nEvaluation on Test-Set : \")\n",
    "pred = svm_dbow.predict(test_vectors_dbow)\n",
    "print(\"Classification report:\\n {}\".format(classification_report(y_test, pred)))\n",
    "print(\"Confusion matrix:\\n {}\".format(confusion_matrix(y_test, pred)))\n",
    "print('Test-Set Score : {:.4f}'.format(svm_dbow.score(test_vectors_dbow, y_test)))\n",
    "print(\"Test-Set Accuracy: {:.4f}\".format(accuracy_score(y_test, pred)))"
   ]
  },
  {
   "cell_type": "markdown",
   "metadata": {},
   "source": [
    "#### Doc2Vec Distributed Bag Of Words(DBOW) Based Sentiment Analysis using XGBClassifier"
   ]
  },
  {
   "cell_type": "code",
   "execution_count": 80,
   "metadata": {},
   "outputs": [
    {
     "name": "stdout",
     "output_type": "stream",
     "text": [
      "**** Doc2Vec Distributed Bag Of Words(DBOW) Based Sentiment Analysis using XGBClassifier ****\n",
      "\n",
      "XGBClassifier Performance : \n",
      "\n",
      "Train-Set Score : 0.8682\n",
      "Train-Set Accuracy : 0.8682\n",
      "\n",
      "Evaluation on Validation-Set : \n",
      "Classification report:\n",
      "               precision    recall  f1-score   support\n",
      "\n",
      "           0       0.86      0.84      0.85      2513\n",
      "           1       0.84      0.86      0.85      2487\n",
      "\n",
      "   micro avg       0.85      0.85      0.85      5000\n",
      "   macro avg       0.85      0.85      0.85      5000\n",
      "weighted avg       0.85      0.85      0.85      5000\n",
      "\n",
      "Confusion matrix:\n",
      " [[2110  403]\n",
      " [ 347 2140]]\n",
      "Validation-Set Score : 0.8500\n",
      "Validation-Set Accuracy:0.8500\n",
      "\n",
      "Evaluation on Test-Set : \n",
      "Classification report:\n",
      "               precision    recall  f1-score   support\n",
      "\n",
      "           0       0.86      0.85      0.86      2529\n",
      "           1       0.85      0.86      0.85      2471\n",
      "\n",
      "   micro avg       0.86      0.86      0.86      5000\n",
      "   macro avg       0.86      0.86      0.86      5000\n",
      "weighted avg       0.86      0.86      0.86      5000\n",
      "\n",
      "Confusion matrix:\n",
      " [[2152  377]\n",
      " [ 345 2126]]\n",
      "Test-Set Score : 0.8556\n",
      "Test-Set Accuracy: 0.8556\n"
     ]
    }
   ],
   "source": [
    "xgb_dbow = XGBClassifier()\n",
    "xgb_dbow.fit(train_vectors_dbow, y_train)\n",
    "\n",
    "print(\"**** Doc2Vec Distributed Bag Of Words(DBOW) Based Sentiment Analysis using XGBClassifier ****\\n\")\n",
    "print(\"XGBClassifier Performance : \\n\")\n",
    "print('Train-Set Score : {:.4f}'.format(xgb_dbow.score(train_vectors_dbow, y_train)))\n",
    "print('Train-Set Accuracy : {:.4f}'.format(accuracy_score(y_train,xgb_dbow.predict(train_vectors_dbow))))\n",
    "\n",
    "print(\"\\nEvaluation on Validation-Set : \")\n",
    "pred_val = xgb_dbow.predict(validation_vectors_dbow)\n",
    "print(\"Classification report:\\n {}\".format(classification_report(y_validation, pred_val)))\n",
    "print(\"Confusion matrix:\\n {}\".format(confusion_matrix(y_validation, pred_val)))\n",
    "print('Validation-Set Score : {:.4f}'.format(xgb_dbow.score(validation_vectors_dbow, y_validation)))\n",
    "print('Validation-Set Accuracy:{:.4f}'.format(accuracy_score(y_validation, pred_val)))\n",
    "\n",
    "\n",
    "print(\"\\nEvaluation on Test-Set : \")\n",
    "pred = xgb_dbow.predict(test_vectors_dbow)\n",
    "print(\"Classification report:\\n {}\".format(classification_report(y_test, pred)))\n",
    "print(\"Confusion matrix:\\n {}\".format(confusion_matrix(y_test, pred)))\n",
    "print(\"Test-Set Score : {:.4f}\".format(xgb_dbow.score(test_vectors_dbow, y_test)))\n",
    "print(\"Test-Set Accuracy: {:.4f}\".format(accuracy_score(y_test, pred)))"
   ]
  },
  {
   "cell_type": "markdown",
   "metadata": {},
   "source": [
    "#### **Distributed Momory (concatenated)**"
   ]
  },
  {
   "cell_type": "code",
   "execution_count": 81,
   "metadata": {},
   "outputs": [
    {
     "name": "stderr",
     "output_type": "stream",
     "text": [
      "W0507 23:11:45.659167 140072427317056 base_any2vec.py:723] consider setting layer size to a multiple of 4 for greater performance\n",
      "100%|██████████| 50000/50000 [00:00<00:00, 2415906.73it/s]\n"
     ]
    },
    {
     "name": "stdout",
     "output_type": "stream",
     "text": [
      "CPU times: user 4.47 s, sys: 0 ns, total: 4.47 s\n",
      "Wall time: 4.47 s\n"
     ]
    }
   ],
   "source": [
    "%%time\n",
    "\"\"\"\n",
    "Create Doc2Vec DMC model\n",
    "\"\"\"\n",
    "\n",
    "dmc_model = Doc2Vec(dm=1, \n",
    "                    dm_concat=1, \n",
    "                    size=150, \n",
    "                    window=10, \n",
    "                    negative=5, \n",
    "                    min_count=2, \n",
    "                    workers=10,\n",
    "                    alpha=0.065,\n",
    "                    min_alpha=0.065)\n",
    "\n",
    "dmc_model.build_vocab([review for review in tqdm(all_reviews_d2v)])"
   ]
  },
  {
   "cell_type": "code",
   "execution_count": 82,
   "metadata": {},
   "outputs": [
    {
     "name": "stderr",
     "output_type": "stream",
     "text": [
      "100%|██████████| 50000/50000 [00:00<00:00, 2471657.55it/s]\n",
      "100%|██████████| 50000/50000 [00:00<00:00, 2204836.20it/s]\n",
      "100%|██████████| 50000/50000 [00:00<00:00, 2605740.41it/s]\n"
     ]
    },
    {
     "name": "stdout",
     "output_type": "stream",
     "text": [
      "CPU times: user 8min 57s, sys: 8.31 s, total: 9min 6s\n",
      "Wall time: 1min 26s\n"
     ]
    }
   ],
   "source": [
    "%%time\n",
    "\n",
    "\"\"\"\n",
    "Train the model\n",
    "\"\"\"\n",
    "\n",
    "for epoch in range(3):\n",
    "    dmc_model.train(utils.shuffle([review for review in tqdm(all_reviews_d2v)]), \n",
    "                    total_examples=len(all_reviews_d2v), \n",
    "                    epochs=1)\n",
    "    dmc_model.alpha -= 0.002\n",
    "    dmc_model.min_alpha = dmc_model.alpha"
   ]
  },
  {
   "cell_type": "code",
   "execution_count": 83,
   "metadata": {},
   "outputs": [],
   "source": [
    "\"\"\"\n",
    "Generating train, test and validation vectors\n",
    "\"\"\"\n",
    "train_vectors_dmc = generate_vectors(dmc_model, x_train, 150)\n",
    "test_vectors_dmc = generate_vectors(dmc_model, x_test, 150)\n",
    "validation_vectors_dmc = generate_vectors(dmc_model, x_validation, 150)"
   ]
  },
  {
   "cell_type": "markdown",
   "metadata": {},
   "source": [
    "#### Doc2Vec DMC Based Sentiment Analysis using LogisticRegression"
   ]
  },
  {
   "cell_type": "code",
   "execution_count": 84,
   "metadata": {},
   "outputs": [
    {
     "name": "stdout",
     "output_type": "stream",
     "text": [
      "**** Doc2Vec Distributed Momory (concatenated) Based Sentiment Analysis using LogisticRegression ****\n",
      "\n",
      "LogisticRegression Performance : \n",
      "\n",
      "Train-Set Score : 0.5939\n",
      "Train-Set Accuracy : 0.5939\n",
      "\n",
      "Evaluation on Validation-Set : \n",
      "Classification report:\n",
      "               precision    recall  f1-score   support\n",
      "\n",
      "           0       0.58      0.62      0.60      2513\n",
      "           1       0.59      0.55      0.57      2487\n",
      "\n",
      "   micro avg       0.59      0.59      0.59      5000\n",
      "   macro avg       0.59      0.59      0.59      5000\n",
      "weighted avg       0.59      0.59      0.59      5000\n",
      "\n",
      "Confusion matrix:\n",
      " [[1553  960]\n",
      " [1109 1378]]\n",
      "Validation-Set Score : 0.5862\n",
      "Validation-Set Accuracy:0.5862\n",
      "\n",
      "Evaluation on Test-Set : \n",
      "Classification report:\n",
      "               precision    recall  f1-score   support\n",
      "\n",
      "           0       0.60      0.63      0.61      2529\n",
      "           1       0.60      0.57      0.58      2471\n",
      "\n",
      "   micro avg       0.60      0.60      0.60      5000\n",
      "   macro avg       0.60      0.60      0.60      5000\n",
      "weighted avg       0.60      0.60      0.60      5000\n",
      "\n",
      "Confusion matrix:\n",
      " [[1586  943]\n",
      " [1064 1407]]\n",
      "Test-Set Score : 0.5986\n",
      "Test-Set Accuracy:0.5986\n"
     ]
    }
   ],
   "source": [
    "logreg_dmc = LogisticRegression()\n",
    "logreg_dmc.fit(train_vectors_dmc, y_train)\n",
    "print(\"**** Doc2Vec Distributed Momory (concatenated) Based Sentiment Analysis using LogisticRegression ****\\n\")\n",
    "print(\"LogisticRegression Performance : \\n\")\n",
    "print('Train-Set Score : {:.4f}'.format(logreg_dmc.score(train_vectors_dmc, y_train)))\n",
    "print('Train-Set Accuracy : {:.4f}'.format(accuracy_score(y_train,logreg_dmc.predict(train_vectors_dmc))))\n",
    "\n",
    "print(\"\\nEvaluation on Validation-Set : \")\n",
    "pred_val = logreg_dmc.predict(validation_vectors_dmc)\n",
    "print(\"Classification report:\\n {}\".format(classification_report(y_validation, pred_val)))\n",
    "print(\"Confusion matrix:\\n {}\".format(confusion_matrix(y_validation, pred_val)))\n",
    "print('Validation-Set Score : {:.4f}'.format(logreg_dmc.score(validation_vectors_dmc, y_validation)))\n",
    "print('Validation-Set Accuracy:{:.4f}'.format(accuracy_score(y_validation, pred_val)))\n",
    "\n",
    "print(\"\\nEvaluation on Test-Set : \")\n",
    "pred = logreg_dmc.predict(test_vectors_dmc)\n",
    "print(\"Classification report:\\n {}\".format(classification_report(y_test, pred)))\n",
    "print(\"Confusion matrix:\\n {}\".format(confusion_matrix(y_test, pred)))\n",
    "print('Test-Set Score : {:.4f}'.format(logreg_dmc.score(test_vectors_dmc, y_test)))\n",
    "print('Test-Set Accuracy:{:.4f}'.format(accuracy_score(y_test, pred)))"
   ]
  },
  {
   "cell_type": "markdown",
   "metadata": {},
   "source": [
    "#### Doc2Vec DMC Based Sentiment Analysis using SVC"
   ]
  },
  {
   "cell_type": "code",
   "execution_count": 85,
   "metadata": {},
   "outputs": [
    {
     "name": "stdout",
     "output_type": "stream",
     "text": [
      "**** Doc2Vec Distributed Momory (concatenated) Based Sentiment Analysis using SVC ****\n",
      "\n",
      "SVC with linear kernel Performance : \n",
      "\n",
      "Train-Set Score : 0.5933\n",
      "Train-Set Accuracy : 0.5933\n",
      "\n",
      "Evaluation on Validation-Set : \n",
      "Classification report:\n",
      "               precision    recall  f1-score   support\n",
      "\n",
      "           0       0.58      0.65      0.61      2513\n",
      "           1       0.60      0.52      0.56      2487\n",
      "\n",
      "   micro avg       0.59      0.59      0.59      5000\n",
      "   macro avg       0.59      0.59      0.58      5000\n",
      "weighted avg       0.59      0.59      0.58      5000\n",
      "\n",
      "Confusion matrix:\n",
      " [[1637  876]\n",
      " [1192 1295]]\n",
      "Validation-Set Score : 0.5864\n",
      "Validation-Set Accuracy:0.5864\n",
      "\n",
      "Evaluation on Test-Set : \n",
      "Classification report:\n",
      "               precision    recall  f1-score   support\n",
      "\n",
      "           0       0.59      0.65      0.62      2529\n",
      "           1       0.60      0.53      0.56      2471\n",
      "\n",
      "   micro avg       0.59      0.59      0.59      5000\n",
      "   macro avg       0.59      0.59      0.59      5000\n",
      "weighted avg       0.59      0.59      0.59      5000\n",
      "\n",
      "Confusion matrix:\n",
      " [[1654  875]\n",
      " [1157 1314]]\n",
      "Test-Set Score : 0.5936\n",
      "Test-Set Accuracy:0.5936\n"
     ]
    }
   ],
   "source": [
    "svm_dmc = SVC(kernel='linear')\n",
    "svm_dmc.fit(train_vectors_dmc, y_train)\n",
    "\n",
    "print(\"**** Doc2Vec Distributed Momory (concatenated) Based Sentiment Analysis using SVC ****\\n\")\n",
    "print(\"SVC with linear kernel Performance : \\n\")\n",
    "print('Train-Set Score : {:.4f}'.format(svm_dmc.score(train_vectors_dmc, y_train)))\n",
    "print('Train-Set Accuracy : {:.4f}'.format(accuracy_score(y_train,svm_dmc.predict(train_vectors_dmc))))\n",
    "\n",
    "print(\"\\nEvaluation on Validation-Set : \")\n",
    "pred_val = svm_dmc.predict(validation_vectors_dmc)\n",
    "print(\"Classification report:\\n {}\".format(classification_report(y_validation, pred_val)))\n",
    "print(\"Confusion matrix:\\n {}\".format(confusion_matrix(y_validation, pred_val)))\n",
    "print('Validation-Set Score : {:.4f}'.format(svm_dmc.score(validation_vectors_dmc, y_validation)))\n",
    "print('Validation-Set Accuracy:{:.4f}'.format(accuracy_score(y_validation, pred_val)))\n",
    "\n",
    "print(\"\\nEvaluation on Test-Set : \")\n",
    "pred = svm_dmc.predict(test_vectors_dmc)\n",
    "print(\"Classification report:\\n {}\".format(classification_report(y_test, pred)))\n",
    "print(\"Confusion matrix:\\n {}\".format(confusion_matrix(y_test, pred)))\n",
    "print('Test-Set Score : {:.4f}'.format(svm_dmc.score(test_vectors_dmc, y_test)))\n",
    "print('Test-Set Accuracy:{:.4f}'.format(accuracy_score(y_test, pred)))"
   ]
  },
  {
   "cell_type": "markdown",
   "metadata": {},
   "source": [
    "#### Doc2Vec DMC Based Sentiment Analysis using XGBClassifier"
   ]
  },
  {
   "cell_type": "code",
   "execution_count": 86,
   "metadata": {},
   "outputs": [
    {
     "name": "stdout",
     "output_type": "stream",
     "text": [
      "**** Doc2Vec Distributed Momory (concatenated) Based Sentiment Analysis using XGBClassifier ****\n",
      "\n",
      "XGBClassifier Performance : \n",
      "\n",
      "Train-Set Score : 0.6214\n",
      "Train-Set Accuracy : 0.6214\n",
      "\n",
      "Evaluation on Validation-Set : \n",
      "Classification report:\n",
      "               precision    recall  f1-score   support\n",
      "\n",
      "           0       0.60      0.58      0.59      2513\n",
      "           1       0.59      0.61      0.60      2487\n",
      "\n",
      "   micro avg       0.60      0.60      0.60      5000\n",
      "   macro avg       0.60      0.60      0.60      5000\n",
      "weighted avg       0.60      0.60      0.60      5000\n",
      "\n",
      "Confusion matrix:\n",
      " [[1460 1053]\n",
      " [ 971 1516]]\n",
      "Validation-Set Score : 0.5952\n",
      "Validation-Set Accuracy:0.5952\n",
      "\n",
      "Evaluation on Test-Set : \n",
      "Classification report:\n",
      "               precision    recall  f1-score   support\n",
      "\n",
      "           0       0.61      0.57      0.59      2529\n",
      "           1       0.59      0.62      0.60      2471\n",
      "\n",
      "   micro avg       0.60      0.60      0.60      5000\n",
      "   macro avg       0.60      0.60      0.60      5000\n",
      "weighted avg       0.60      0.60      0.60      5000\n",
      "\n",
      "Confusion matrix:\n",
      " [[1452 1077]\n",
      " [ 944 1527]]\n",
      "Test-Set Score : 0.5958\n",
      "Test-Set Accuracy:0.5958\n"
     ]
    }
   ],
   "source": [
    "xgb_dmc = XGBClassifier()\n",
    "xgb_dmc.fit(train_vectors_dmc, y_train)\n",
    "\n",
    "print(\"**** Doc2Vec Distributed Momory (concatenated) Based Sentiment Analysis using XGBClassifier ****\\n\")\n",
    "print(\"XGBClassifier Performance : \\n\")\n",
    "print('Train-Set Score : {:.4f}'.format(xgb_dmc.score(train_vectors_dmc, y_train)))\n",
    "print('Train-Set Accuracy : {:.4f}'.format(accuracy_score(y_train,xgb_dmc.predict(train_vectors_dmc))))\n",
    "\n",
    "print(\"\\nEvaluation on Validation-Set : \")\n",
    "pred_val = xgb_dmc.predict(validation_vectors_dmc)\n",
    "print(\"Classification report:\\n {}\".format(classification_report(y_validation, pred_val)))\n",
    "print(\"Confusion matrix:\\n {}\".format(confusion_matrix(y_validation, pred_val)))\n",
    "print('Validation-Set Score : {:.4f}'.format(xgb_dmc.score(validation_vectors_dmc, y_validation)))\n",
    "print('Validation-Set Accuracy:{:.4f}'.format(accuracy_score(y_validation, pred_val)))\n",
    "\n",
    "print(\"\\nEvaluation on Test-Set : \")\n",
    "pred = xgb_dmc.predict(test_vectors_dmc)\n",
    "print(\"Classification report:\\n {}\".format(classification_report(y_test, pred)))\n",
    "print(\"Confusion matrix:\\n {}\".format(confusion_matrix(y_test, pred)))\n",
    "print('Test-Set Score : {:.4f}'.format(xgb_dmc.score(test_vectors_dmc, y_test)))\n",
    "print('Test-Set Accuracy:{:.4f}'.format(accuracy_score(y_test, pred)))"
   ]
  },
  {
   "cell_type": "markdown",
   "metadata": {},
   "source": [
    "#### Distributed Memory (mean)"
   ]
  },
  {
   "cell_type": "code",
   "execution_count": 87,
   "metadata": {},
   "outputs": [
    {
     "name": "stderr",
     "output_type": "stream",
     "text": [
      "W0507 23:28:03.707127 140072427317056 base_any2vec.py:723] consider setting layer size to a multiple of 4 for greater performance\n",
      "100%|██████████| 50000/50000 [00:00<00:00, 2326782.13it/s]\n"
     ]
    },
    {
     "name": "stdout",
     "output_type": "stream",
     "text": [
      "CPU times: user 5.15 s, sys: 0 ns, total: 5.15 s\n",
      "Wall time: 5.15 s\n"
     ]
    }
   ],
   "source": [
    "%%time\n",
    "\"\"\"\n",
    "Create doc2vec DMM model\n",
    "\"\"\"\n",
    "dmm_model = Doc2Vec(dm=1, \n",
    "                    dm_mean=1, \n",
    "                    size=150, \n",
    "                    window=10, \n",
    "                    negative=5, \n",
    "                    min_count=2, \n",
    "                    workers=10, \n",
    "                    alpha=0.065, \n",
    "                    min_alpha=0.065)\n",
    "\n",
    "dmm_model.build_vocab([review for review in tqdm(all_reviews_d2v)])"
   ]
  },
  {
   "cell_type": "code",
   "execution_count": 88,
   "metadata": {},
   "outputs": [
    {
     "name": "stderr",
     "output_type": "stream",
     "text": [
      "100%|██████████| 50000/50000 [00:00<00:00, 2346936.45it/s]\n",
      "100%|██████████| 50000/50000 [00:00<00:00, 2296864.36it/s]\n",
      "100%|██████████| 50000/50000 [00:00<00:00, 2294928.98it/s]\n"
     ]
    },
    {
     "name": "stdout",
     "output_type": "stream",
     "text": [
      "CPU times: user 1min 26s, sys: 4.28 s, total: 1min 30s\n",
      "Wall time: 24.6 s\n"
     ]
    }
   ],
   "source": [
    "%%time\n",
    "\n",
    "\"\"\"\n",
    "Train the model\n",
    "\"\"\"\n",
    "\n",
    "for epoch in range(3):\n",
    "    dmm_model.train(utils.shuffle([review for review in tqdm(all_reviews_d2v)]), \n",
    "                    total_examples=len(all_reviews_d2v), \n",
    "                    epochs=1)\n",
    "    dmm_model.alpha -= 0.002\n",
    "    dmm_model.min_alpha = dmm_model.alpha"
   ]
  },
  {
   "cell_type": "code",
   "execution_count": 89,
   "metadata": {},
   "outputs": [],
   "source": [
    "\"\"\"\n",
    "Generating train, test and validation vectors\n",
    "\"\"\"\n",
    "\n",
    "train_vectors_dmm = generate_vectors(dmm_model, x_train, 150)\n",
    "test_vectors_dmm = generate_vectors(dmm_model, x_test, 150)\n",
    "validation_vectors_dmm = generate_vectors(dmm_model, x_validation, 150)"
   ]
  },
  {
   "cell_type": "markdown",
   "metadata": {},
   "source": [
    "#### Doc2Vec DMM Based Sentiment Analysis using LogisticRegression"
   ]
  },
  {
   "cell_type": "code",
   "execution_count": 90,
   "metadata": {},
   "outputs": [
    {
     "name": "stdout",
     "output_type": "stream",
     "text": [
      "**** Doc2Vec Distributed Memory(mean) Based Sentiment Analysis using LogisticRegression ****\n",
      "\n",
      "LogisticRegression Performance : \n",
      "\n",
      "Train-Set Score : 0.8187\n",
      "Train-Set Accuracy : 0.8187\n",
      "\n",
      "Evaluation on Validation-Set : \n",
      "Classification report:\n",
      "               precision    recall  f1-score   support\n",
      "\n",
      "           0       0.83      0.81      0.82      2513\n",
      "           1       0.81      0.83      0.82      2487\n",
      "\n",
      "   micro avg       0.82      0.82      0.82      5000\n",
      "   macro avg       0.82      0.82      0.82      5000\n",
      "weighted avg       0.82      0.82      0.82      5000\n",
      "\n",
      "Confusion matrix:\n",
      " [[2037  476]\n",
      " [ 426 2061]]\n",
      "Validation-Set Score : 0.8196\n",
      "Validation-Set Accuracy:0.8196\n",
      "\n",
      "Evaluation on Test-Set : \n",
      "Classification report:\n",
      "               precision    recall  f1-score   support\n",
      "\n",
      "           0       0.82      0.82      0.82      2529\n",
      "           1       0.81      0.82      0.82      2471\n",
      "\n",
      "   micro avg       0.82      0.82      0.82      5000\n",
      "   macro avg       0.82      0.82      0.82      5000\n",
      "weighted avg       0.82      0.82      0.82      5000\n",
      "\n",
      "Confusion matrix:\n",
      " [[2064  465]\n",
      " [ 448 2023]]\n",
      "Test-Set Score : 0.8174\n",
      "Test-Set Accuracy:0.8174\n"
     ]
    }
   ],
   "source": [
    "logreg_dmm = LogisticRegression()\n",
    "logreg_dmm.fit(train_vectors_dmm, y_train)\n",
    "print(\"**** Doc2Vec Distributed Memory(mean) Based Sentiment Analysis using LogisticRegression ****\\n\")\n",
    "print(\"LogisticRegression Performance : \\n\")\n",
    "print('Train-Set Score : {:.4f}'.format(logreg_dmm.score(train_vectors_dmm, y_train)))\n",
    "print('Train-Set Accuracy : {:.4f}'.format(accuracy_score(y_train,logreg_dmm.predict(train_vectors_dmm))))\n",
    "\n",
    "print(\"\\nEvaluation on Validation-Set : \")\n",
    "pred_val = logreg_dmm.predict(validation_vectors_dmm)\n",
    "print(\"Classification report:\\n {}\".format(classification_report(y_validation, pred_val)))\n",
    "print(\"Confusion matrix:\\n {}\".format(confusion_matrix(y_validation, pred_val)))\n",
    "print('Validation-Set Score : {:.4f}'.format(logreg_dmm.score(validation_vectors_dmm, y_validation)))\n",
    "print('Validation-Set Accuracy:{:.4f}'.format(accuracy_score(y_validation, pred_val)))\n",
    "\n",
    "print(\"\\nEvaluation on Test-Set : \")\n",
    "pred = logreg_dmm.predict(test_vectors_dmm)\n",
    "print(\"Classification report:\\n {}\".format(classification_report(y_test, pred)))\n",
    "print(\"Confusion matrix:\\n {}\".format(confusion_matrix(y_test, pred)))\n",
    "print('Test-Set Score : {:.4f}'.format(logreg_dmm.score(test_vectors_dmm, y_test)))\n",
    "print('Test-Set Accuracy:{:.4f}'.format(accuracy_score(y_test, pred)))"
   ]
  },
  {
   "cell_type": "markdown",
   "metadata": {},
   "source": [
    "#### Doc2Vec DMM Based Sentiment Analysis using SVC"
   ]
  },
  {
   "cell_type": "code",
   "execution_count": 91,
   "metadata": {},
   "outputs": [
    {
     "name": "stdout",
     "output_type": "stream",
     "text": [
      "**** Doc2Vec Distributed Memory(mean) Based Sentiment Analysis using SVC ****\n",
      "\n",
      "SVC With Linear Kernel Performance : \n",
      "\n",
      "Train-Set Score : 0.8193\n",
      "Train-Set Accuracy : 0.8193\n",
      "\n",
      "Evaluation on Validation-Set : \n",
      "Classification report:\n",
      "               precision    recall  f1-score   support\n",
      "\n",
      "           0       0.83      0.81      0.82      2513\n",
      "           1       0.81      0.83      0.82      2487\n",
      "\n",
      "   micro avg       0.82      0.82      0.82      5000\n",
      "   macro avg       0.82      0.82      0.82      5000\n",
      "weighted avg       0.82      0.82      0.82      5000\n",
      "\n",
      "Confusion matrix:\n",
      " [[2028  485]\n",
      " [ 423 2064]]\n",
      "Validation-Set Score : 0.8184\n",
      "Validation-Set Accuracy:0.8184\n",
      "\n",
      "Evaluation on Test-Set : \n",
      "Classification report:\n",
      "               precision    recall  f1-score   support\n",
      "\n",
      "           0       0.82      0.82      0.82      2529\n",
      "           1       0.81      0.82      0.82      2471\n",
      "\n",
      "   micro avg       0.82      0.82      0.82      5000\n",
      "   macro avg       0.82      0.82      0.82      5000\n",
      "weighted avg       0.82      0.82      0.82      5000\n",
      "\n",
      "Confusion matrix:\n",
      " [[2062  467]\n",
      " [ 438 2033]]\n",
      "Test-Set Score : 0.8190\n",
      "Test-Set Accuracy:0.8190\n"
     ]
    }
   ],
   "source": [
    "svm_dmm = SVC(kernel='linear')\n",
    "svm_dmm.fit(train_vectors_dmm, y_train)\n",
    "print(\"**** Doc2Vec Distributed Memory(mean) Based Sentiment Analysis using SVC ****\\n\")\n",
    "print(\"SVC With Linear Kernel Performance : \\n\")\n",
    "print('Train-Set Score : {:.4f}'.format(svm_dmm.score(train_vectors_dmm, y_train)))\n",
    "print('Train-Set Accuracy : {:.4f}'.format(accuracy_score(y_train,svm_dmm.predict(train_vectors_dmm))))\n",
    "\n",
    "print(\"\\nEvaluation on Validation-Set : \")\n",
    "pred_val = svm_dmm.predict(validation_vectors_dmm)\n",
    "print(\"Classification report:\\n {}\".format(classification_report(y_validation, pred_val)))\n",
    "print(\"Confusion matrix:\\n {}\".format(confusion_matrix(y_validation, pred_val)))\n",
    "print('Validation-Set Score : {:.4f}'.format(svm_dmm.score(validation_vectors_dmm, y_validation)))\n",
    "print('Validation-Set Accuracy:{:.4f}'.format(accuracy_score(y_validation, pred_val)))\n",
    "\n",
    "print(\"\\nEvaluation on Test-Set : \")\n",
    "pred = svm_dmm.predict(test_vectors_dmm)\n",
    "print(\"Classification report:\\n {}\".format(classification_report(y_test, pred)))\n",
    "print(\"Confusion matrix:\\n {}\".format(confusion_matrix(y_test, pred)))\n",
    "print('Test-Set Score : {:.4f}'.format(svm_dmm.score(test_vectors_dmm, y_test)))\n",
    "print('Test-Set Accuracy:{:.4f}'.format(accuracy_score(y_test, pred)))"
   ]
  },
  {
   "cell_type": "markdown",
   "metadata": {},
   "source": [
    "#### Doc2Vec DMM Based Sentiment Analysis using XGBClassifier"
   ]
  },
  {
   "cell_type": "code",
   "execution_count": 92,
   "metadata": {},
   "outputs": [
    {
     "name": "stdout",
     "output_type": "stream",
     "text": [
      "**** Doc2Vec Distributed Memory(mean) Based Sentiment Analysis using XGBClassifier ****\n",
      "\n",
      "XGBClassifier Performance : \n",
      "\n",
      "Train-Set Score : 0.8115\n",
      "Train-Set Accuracy : 0.8115\n",
      "\n",
      "Evaluation on Validation-Set : \n",
      "Classification report:\n",
      "               precision    recall  f1-score   support\n",
      "\n",
      "           0       0.79      0.77      0.78      2513\n",
      "           1       0.78      0.80      0.79      2487\n",
      "\n",
      "   micro avg       0.79      0.79      0.79      5000\n",
      "   macro avg       0.79      0.79      0.79      5000\n",
      "weighted avg       0.79      0.79      0.79      5000\n",
      "\n",
      "Confusion matrix:\n",
      " [[1945  568]\n",
      " [ 503 1984]]\n",
      "Validation-Set Score : 0.7858\n",
      "Validation-Set Accuracy:0.7858\n",
      "\n",
      "Evaluation on Test-Set : \n",
      "Classification report:\n",
      "               precision    recall  f1-score   support\n",
      "\n",
      "           0       0.80      0.78      0.79      2529\n",
      "           1       0.78      0.80      0.79      2471\n",
      "\n",
      "   micro avg       0.79      0.79      0.79      5000\n",
      "   macro avg       0.79      0.79      0.79      5000\n",
      "weighted avg       0.79      0.79      0.79      5000\n",
      "\n",
      "Confusion matrix:\n",
      " [[1981  548]\n",
      " [ 492 1979]]\n",
      "Test-Set Score : 0.7920\n",
      "Test-Set Accuracy:0.7920\n"
     ]
    }
   ],
   "source": [
    "xgb_dmm = XGBClassifier()\n",
    "xgb_dmm.fit(train_vectors_dmm, y_train)\n",
    "\n",
    "print(\"**** Doc2Vec Distributed Memory(mean) Based Sentiment Analysis using XGBClassifier ****\\n\")\n",
    "print(\"XGBClassifier Performance : \\n\")\n",
    "print('Train-Set Score : {:.4f}'.format(xgb_dmm.score(train_vectors_dmm, y_train)))\n",
    "print('Train-Set Accuracy : {:.4f}'.format(accuracy_score(y_train,xgb_dmm.predict(train_vectors_dmm))))\n",
    "\n",
    "print(\"\\nEvaluation on Validation-Set : \")\n",
    "pred_val = xgb_dmm.predict(validation_vectors_dmm)\n",
    "print(\"Classification report:\\n {}\".format(classification_report(y_validation, pred_val)))\n",
    "print(\"Confusion matrix:\\n {}\".format(confusion_matrix(y_validation, pred_val)))\n",
    "print('Validation-Set Score : {:.4f}'.format(xgb_dmm.score(validation_vectors_dmm, y_validation)))\n",
    "print('Validation-Set Accuracy:{:.4f}'.format(accuracy_score(y_validation, pred_val)))\n",
    "\n",
    "print(\"\\nEvaluation on Test-Set : \")\n",
    "pred = xgb_dmm.predict(test_vectors_dmm)\n",
    "print(\"Classification report:\\n {}\".format(classification_report(y_test, pred)))\n",
    "print(\"Confusion matrix:\\n {}\".format(confusion_matrix(y_test, pred)))\n",
    "print('Test-Set Score : {:.4f}'.format(xgb_dmm.score(test_vectors_dmm, y_test)))\n",
    "print('Test-Set Accuracy:{:.4f}'.format(accuracy_score(y_test, pred)))"
   ]
  },
  {
   "cell_type": "markdown",
   "metadata": {},
   "source": [
    "#### Combination of Doc2Vec Distributed Bag Of Words (DBOW) And Distributed Memory(Concatenated)"
   ]
  },
  {
   "cell_type": "markdown",
   "metadata": {},
   "source": [
    "Now, I have the document vectors from three different models, now I can concatenate them in combination to see how it affects the performance. Below I defined a function to concatenate document vectors from different models"
   ]
  },
  {
   "cell_type": "code",
   "execution_count": 93,
   "metadata": {},
   "outputs": [],
   "source": [
    "\"\"\"\n",
    "Function to concatenate document vectors from different models\n",
    "\"\"\"\n",
    "\n",
    "def generate_concat_vectors(model1,model2, corpus, size):\n",
    "    vectors = np.zeros((len(corpus), size))\n",
    "    n = 0\n",
    "    for indx in corpus.index:\n",
    "        prefix = 'all_' + str(indx)\n",
    "        vectors[n] = np.append(model1.docvecs[prefix],model2.docvecs[prefix])\n",
    "        n += 1\n",
    "    return vectors"
   ]
  },
  {
   "cell_type": "code",
   "execution_count": 94,
   "metadata": {},
   "outputs": [],
   "source": [
    "\"\"\"\n",
    "Generating train, test and validation document vectors\n",
    "\"\"\"\n",
    "train_vectors_dbow_dmc = generate_concat_vectors(dbow_model,dmc_model, x_train, 300)\n",
    "test_vectors_dbow_dmc = generate_concat_vectors(dbow_model,dmc_model, x_test, 300)\n",
    "validation_vectors_dbow_dmc = generate_concat_vectors(dbow_model,dmc_model, x_validation, 300)"
   ]
  },
  {
   "cell_type": "markdown",
   "metadata": {},
   "source": [
    "#### Combination of Doc2Vec DBOW And DMC Based Sentiment Analysis using LogisticRegression"
   ]
  },
  {
   "cell_type": "code",
   "execution_count": 95,
   "metadata": {},
   "outputs": [
    {
     "name": "stdout",
     "output_type": "stream",
     "text": [
      "**** Combination of Doc2Vec DBOW And DMC Based Sentiment Analysis using LogisticRegression ****\n",
      "\n",
      "LogisticRegression Performance : \n",
      "\n",
      "Train-Set Score : 0.8741\n",
      "Train-Set Accuracy : 0.8741\n",
      "\n",
      "Evaluation on Validation-Set : \n",
      "Classification report:\n",
      "               precision    recall  f1-score   support\n",
      "\n",
      "           0       0.88      0.87      0.87      2513\n",
      "           1       0.87      0.88      0.87      2487\n",
      "\n",
      "   micro avg       0.87      0.87      0.87      5000\n",
      "   macro avg       0.87      0.87      0.87      5000\n",
      "weighted avg       0.87      0.87      0.87      5000\n",
      "\n",
      "Confusion matrix:\n",
      " [[2179  334]\n",
      " [ 297 2190]]\n",
      "Validation-Set Score : 0.8738\n",
      "Validation-Set Accuracy:0.8738\n",
      "\n",
      "Evaluation on Test-Set : \n",
      "Classification report:\n",
      "               precision    recall  f1-score   support\n",
      "\n",
      "           0       0.89      0.87      0.88      2529\n",
      "           1       0.87      0.88      0.88      2471\n",
      "\n",
      "   micro avg       0.88      0.88      0.88      5000\n",
      "   macro avg       0.88      0.88      0.88      5000\n",
      "weighted avg       0.88      0.88      0.88      5000\n",
      "\n",
      "Confusion matrix:\n",
      " [[2204  325]\n",
      " [ 286 2185]]\n",
      "Test-Set Score : 0.8778\n",
      "Test-Set Accuracy:0.8778\n"
     ]
    }
   ],
   "source": [
    "logreg_dbow_dmc = LogisticRegression()\n",
    "logreg_dbow_dmc.fit(train_vectors_dbow_dmc, y_train)\n",
    "print(\"**** Combination of Doc2Vec DBOW And DMC Based Sentiment Analysis using LogisticRegression ****\\n\")\n",
    "print(\"LogisticRegression Performance : \\n\")\n",
    "print('Train-Set Score : {:.4f}'.format(logreg_dbow_dmc.score(train_vectors_dbow_dmc, y_train)))\n",
    "print('Train-Set Accuracy : {:.4f}'.format(accuracy_score(y_train,logreg_dbow_dmc.predict(train_vectors_dbow_dmc))))\n",
    "\n",
    "print(\"\\nEvaluation on Validation-Set : \")\n",
    "pred_val = logreg_dbow_dmc.predict(validation_vectors_dbow_dmc)\n",
    "print(\"Classification report:\\n {}\".format(classification_report(y_validation, pred_val)))\n",
    "print(\"Confusion matrix:\\n {}\".format(confusion_matrix(y_validation, pred_val)))\n",
    "print('Validation-Set Score : {:.4f}'.format(logreg_dbow_dmc.score(validation_vectors_dbow_dmc, y_validation)))\n",
    "print('Validation-Set Accuracy:{:.4f}'.format(accuracy_score(y_validation, pred_val)))\n",
    "\n",
    "print(\"\\nEvaluation on Test-Set : \")\n",
    "pred = logreg_dbow_dmc.predict(test_vectors_dbow_dmc)\n",
    "print(\"Classification report:\\n {}\".format(classification_report(y_test, pred)))\n",
    "print(\"Confusion matrix:\\n {}\".format(confusion_matrix(y_test, pred)))\n",
    "print('Test-Set Score : {:.4f}'.format(logreg_dbow_dmc.score(test_vectors_dbow_dmc, y_test)))\n",
    "print('Test-Set Accuracy:{:.4f}'.format(accuracy_score(y_test, pred)))"
   ]
  },
  {
   "cell_type": "markdown",
   "metadata": {},
   "source": [
    "#### Combination of Doc2Vec DBOW And DMC Based Sentiment Analysis using SVC"
   ]
  },
  {
   "cell_type": "code",
   "execution_count": 96,
   "metadata": {},
   "outputs": [
    {
     "name": "stdout",
     "output_type": "stream",
     "text": [
      "**** Combination of Doc2Vec DBOW And DMC Based Sentiment Analysis using SVC ****\n",
      "\n",
      "SVC with linear kernel Performance : \n",
      "\n",
      "Train-Set Score : 0.8751\n",
      "Train-Set Accuracy : 0.8751\n",
      "\n",
      "Evaluation on Validation-Set : \n",
      "Classification report:\n",
      "               precision    recall  f1-score   support\n",
      "\n",
      "           0       0.88      0.87      0.87      2513\n",
      "           1       0.87      0.88      0.87      2487\n",
      "\n",
      "   micro avg       0.87      0.87      0.87      5000\n",
      "   macro avg       0.87      0.87      0.87      5000\n",
      "weighted avg       0.87      0.87      0.87      5000\n",
      "\n",
      "Confusion matrix:\n",
      " [[2181  332]\n",
      " [ 296 2191]]\n",
      "Validation-Set Score : 0.8744\n",
      "Validation-Set Accuracy:0.8744\n",
      "\n",
      "Evaluation on Test-Set : \n",
      "Classification report:\n",
      "               precision    recall  f1-score   support\n",
      "\n",
      "           0       0.89      0.87      0.88      2529\n",
      "           1       0.87      0.88      0.88      2471\n",
      "\n",
      "   micro avg       0.88      0.88      0.88      5000\n",
      "   macro avg       0.88      0.88      0.88      5000\n",
      "weighted avg       0.88      0.88      0.88      5000\n",
      "\n",
      "Confusion matrix:\n",
      " [[2210  319]\n",
      " [ 286 2185]]\n",
      "Test-Set Score : 0.8790\n",
      "Test-Set Accuracy:0.8790\n"
     ]
    }
   ],
   "source": [
    "svm_dbow_dmc = SVC(kernel='linear')\n",
    "svm_dbow_dmc.fit(train_vectors_dbow_dmc, y_train)\n",
    "print(\"**** Combination of Doc2Vec DBOW And DMC Based Sentiment Analysis using SVC ****\\n\")\n",
    "print(\"SVC with linear kernel Performance : \\n\")\n",
    "print('Train-Set Score : {:.4f}'.format(svm_dbow_dmc.score(train_vectors_dbow_dmc, y_train)))\n",
    "print('Train-Set Accuracy : {:.4f}'.format(accuracy_score(y_train,svm_dbow_dmc.predict(train_vectors_dbow_dmc))))\n",
    "\n",
    "print(\"\\nEvaluation on Validation-Set : \")\n",
    "pred_val = svm_dbow_dmc.predict(validation_vectors_dbow_dmc)\n",
    "print(\"Classification report:\\n {}\".format(classification_report(y_validation, pred_val)))\n",
    "print(\"Confusion matrix:\\n {}\".format(confusion_matrix(y_validation, pred_val)))\n",
    "print('Validation-Set Score : {:.4f}'.format(svm_dbow_dmc.score(validation_vectors_dbow_dmc, y_validation)))\n",
    "print('Validation-Set Accuracy:{:.4f}'.format(accuracy_score(y_validation, pred_val)))\n",
    "\n",
    "print(\"\\nEvaluation on Test-Set : \")\n",
    "pred = svm_dbow_dmc.predict(test_vectors_dbow_dmc)\n",
    "print(\"Classification report:\\n {}\".format(classification_report(y_test, pred)))\n",
    "print(\"Confusion matrix:\\n {}\".format(confusion_matrix(y_test, pred)))\n",
    "print('Test-Set Score : {:.4f}'.format(svm_dbow_dmc.score(test_vectors_dbow_dmc, y_test)))\n",
    "print('Test-Set Accuracy:{:.4f}'.format(accuracy_score(y_test, pred)))"
   ]
  },
  {
   "cell_type": "markdown",
   "metadata": {},
   "source": [
    "#### Combination of Doc2Vec DBOW And DMC Based Sentiment Analysis using XGBClassifier"
   ]
  },
  {
   "cell_type": "code",
   "execution_count": 97,
   "metadata": {},
   "outputs": [
    {
     "name": "stdout",
     "output_type": "stream",
     "text": [
      "**** Combination of Doc2Vec DBOW And DMC Based Sentiment Analysis using XGBClassifier ****\n",
      "\n",
      "XGBClassifier Performance : \n",
      "\n",
      "Train-Set Score : 0.8692\n",
      "Train-Set Accuracy : 0.8692\n",
      "\n",
      "Evaluation on Validation-Set : \n",
      "Classification report:\n",
      "               precision    recall  f1-score   support\n",
      "\n",
      "           0       0.86      0.84      0.85      2513\n",
      "           1       0.84      0.86      0.85      2487\n",
      "\n",
      "   micro avg       0.85      0.85      0.85      5000\n",
      "   macro avg       0.85      0.85      0.85      5000\n",
      "weighted avg       0.85      0.85      0.85      5000\n",
      "\n",
      "Confusion matrix:\n",
      " [[2114  399]\n",
      " [ 346 2141]]\n",
      "Validation-Set Score : 0.8510\n",
      "Validation-Set Accuracy:0.8510\n",
      "\n",
      "Evaluation on Test-Set : \n",
      "Classification report:\n",
      "               precision    recall  f1-score   support\n",
      "\n",
      "           0       0.86      0.86      0.86      2529\n",
      "           1       0.85      0.86      0.86      2471\n",
      "\n",
      "   micro avg       0.86      0.86      0.86      5000\n",
      "   macro avg       0.86      0.86      0.86      5000\n",
      "weighted avg       0.86      0.86      0.86      5000\n",
      "\n",
      "Confusion matrix:\n",
      " [[2164  365]\n",
      " [ 348 2123]]\n",
      "Test-Set Score : 0.8574\n",
      "Test-Set Accuracy:0.8574\n"
     ]
    }
   ],
   "source": [
    "xgb_dbow_dmc =XGBClassifier()\n",
    "xgb_dbow_dmc.fit(train_vectors_dbow_dmc, y_train)\n",
    "print(\"**** Combination of Doc2Vec DBOW And DMC Based Sentiment Analysis using XGBClassifier ****\\n\")\n",
    "print(\"XGBClassifier Performance : \\n\")\n",
    "print('Train-Set Score : {:.4f}'.format(xgb_dbow_dmc.score(train_vectors_dbow_dmc, y_train)))\n",
    "print('Train-Set Accuracy : {:.4f}'.format(accuracy_score(y_train,xgb_dbow_dmc.predict(train_vectors_dbow_dmc))))\n",
    "\n",
    "print(\"\\nEvaluation on Validation-Set : \")\n",
    "pred_val = xgb_dbow_dmc.predict(validation_vectors_dbow_dmc)\n",
    "print(\"Classification report:\\n {}\".format(classification_report(y_validation, pred_val)))\n",
    "print(\"Confusion matrix:\\n {}\".format(confusion_matrix(y_validation, pred_val)))\n",
    "print('Validation-Set Score : {:.4f}'.format(xgb_dbow_dmc.score(validation_vectors_dbow_dmc, y_validation)))\n",
    "print('Validation-Set Accuracy:{:.4f}'.format(accuracy_score(y_validation, pred_val)))\n",
    "\n",
    "print(\"\\nEvaluation on Test-Set : \")\n",
    "pred = xgb_dbow_dmc.predict(test_vectors_dbow_dmc)\n",
    "print(\"Classification report:\\n {}\".format(classification_report(y_test, pred)))\n",
    "print(\"Confusion matrix:\\n {}\".format(confusion_matrix(y_test, pred)))\n",
    "print('Test-Set Score : {:.4f}'.format(xgb_dbow_dmc.score(test_vectors_dbow_dmc, y_test)))\n",
    "print('Test-Set Accuracy:{:.4f}'.format(accuracy_score(y_test, pred)))"
   ]
  },
  {
   "cell_type": "markdown",
   "metadata": {},
   "source": [
    "#### Combination of Doc2Vec Distributed Bag Of Words (DBOW) And Distributed Memory(Mean)"
   ]
  },
  {
   "cell_type": "code",
   "execution_count": 98,
   "metadata": {},
   "outputs": [],
   "source": [
    "\"\"\"\n",
    "Generating train, test and validation document vectors\n",
    "\"\"\"\n",
    "train_vectors_dbow_dmm = generate_concat_vectors(dbow_model,dmm_model, x_train, 300)\n",
    "test_vectors_dbow_dmm = generate_concat_vectors(dbow_model,dmm_model, x_test, 300)\n",
    "validation_vectors_dbow_dmm = generate_concat_vectors(dbow_model,dmm_model, x_validation, 300)"
   ]
  },
  {
   "cell_type": "markdown",
   "metadata": {},
   "source": [
    "#### Combination of Doc2Vec DBOW And DMM Based Sentiment Analysis using LogisticRegression"
   ]
  },
  {
   "cell_type": "code",
   "execution_count": 99,
   "metadata": {},
   "outputs": [
    {
     "name": "stdout",
     "output_type": "stream",
     "text": [
      "**** Combination of Doc2Vec DBOW And DMM Based Sentiment Analysis using LogisticRegression ****\n",
      "\n",
      "LogisticRegression Performance : \n",
      "\n",
      "Train-Set Score : 0.8813\n",
      "Train-Set Accuracy : 0.8813\n",
      "\n",
      "Evaluation on Validation-Set : \n",
      "Classification report:\n",
      "               precision    recall  f1-score   support\n",
      "\n",
      "           0       0.88      0.87      0.87      2513\n",
      "           1       0.87      0.88      0.87      2487\n",
      "\n",
      "   micro avg       0.87      0.87      0.87      5000\n",
      "   macro avg       0.87      0.87      0.87      5000\n",
      "weighted avg       0.87      0.87      0.87      5000\n",
      "\n",
      "Confusion matrix:\n",
      " [[2182  331]\n",
      " [ 298 2189]]\n",
      "Validation-Set Score : 0.8742\n",
      "Validation-Set Accuracy:0.8742\n",
      "\n",
      "Evaluation on Test-Set : \n",
      "Classification report:\n",
      "               precision    recall  f1-score   support\n",
      "\n",
      "           0       0.89      0.87      0.88      2529\n",
      "           1       0.87      0.89      0.88      2471\n",
      "\n",
      "   micro avg       0.88      0.88      0.88      5000\n",
      "   macro avg       0.88      0.88      0.88      5000\n",
      "weighted avg       0.88      0.88      0.88      5000\n",
      "\n",
      "Confusion matrix:\n",
      " [[2206  323]\n",
      " [ 275 2196]]\n",
      "Test-Set Score : 0.8804\n",
      "Test-Set Accuracy:0.8804\n"
     ]
    }
   ],
   "source": [
    "logreg_dbow_dmm = LogisticRegression()\n",
    "logreg_dbow_dmm.fit(train_vectors_dbow_dmm, y_train)\n",
    "print(\"**** Combination of Doc2Vec DBOW And DMM Based Sentiment Analysis using LogisticRegression ****\\n\")\n",
    "print(\"LogisticRegression Performance : \\n\")\n",
    "print('Train-Set Score : {:.4f}'.format(logreg_dbow_dmm.score(train_vectors_dbow_dmm, y_train)))\n",
    "print('Train-Set Accuracy : {:.4f}'.format(accuracy_score(y_train,logreg_dbow_dmm.predict(train_vectors_dbow_dmm))))\n",
    "\n",
    "print(\"\\nEvaluation on Validation-Set : \")\n",
    "pred_val = logreg_dbow_dmm.predict(validation_vectors_dbow_dmm)\n",
    "print(\"Classification report:\\n {}\".format(classification_report(y_validation, pred_val)))\n",
    "print(\"Confusion matrix:\\n {}\".format(confusion_matrix(y_validation, pred_val)))\n",
    "print('Validation-Set Score : {:.4f}'.format(logreg_dbow_dmm.score(validation_vectors_dbow_dmm, y_validation)))\n",
    "print('Validation-Set Accuracy:{:.4f}'.format(accuracy_score(y_validation, pred_val)))\n",
    "\n",
    "print(\"\\nEvaluation on Test-Set : \")\n",
    "pred = logreg_dbow_dmm.predict(test_vectors_dbow_dmm)\n",
    "print(\"Classification report:\\n {}\".format(classification_report(y_test, pred)))\n",
    "print(\"Confusion matrix:\\n {}\".format(confusion_matrix(y_test, pred)))\n",
    "print('Test-Set Score : {:.4f}'.format(logreg_dbow_dmm.score(test_vectors_dbow_dmm, y_test)))\n",
    "print('Test-Set Accuracy:{:.4f}'.format(accuracy_score(y_test, pred)))"
   ]
  },
  {
   "cell_type": "markdown",
   "metadata": {},
   "source": [
    "#### Combination of Doc2Vec DBOW And DMM Based Sentiment Analysis using SVC"
   ]
  },
  {
   "cell_type": "code",
   "execution_count": 100,
   "metadata": {},
   "outputs": [
    {
     "name": "stdout",
     "output_type": "stream",
     "text": [
      "**** Combination of Doc2Vec DBOW And DMM Based Sentiment Analysis using SVC ****\n",
      "\n",
      "SVC with linear kernel Performance : \n",
      "\n",
      "Train-Set Score : 0.8809\n",
      "Train-Set Accuracy : 0.8809\n",
      "\n",
      "Evaluation on Validation-Set : \n",
      "Classification report:\n",
      "               precision    recall  f1-score   support\n",
      "\n",
      "           0       0.88      0.87      0.88      2513\n",
      "           1       0.87      0.88      0.88      2487\n",
      "\n",
      "   micro avg       0.88      0.88      0.88      5000\n",
      "   macro avg       0.88      0.88      0.88      5000\n",
      "weighted avg       0.88      0.88      0.88      5000\n",
      "\n",
      "Confusion matrix:\n",
      " [[2180  333]\n",
      " [ 289 2198]]\n",
      "Validation-Set Score : 0.8756\n",
      "Validation-Set Accuracy:0.8756\n",
      "\n",
      "Evaluation on Test-Set : \n",
      "Classification report:\n",
      "               precision    recall  f1-score   support\n",
      "\n",
      "           0       0.89      0.87      0.88      2529\n",
      "           1       0.87      0.88      0.88      2471\n",
      "\n",
      "   micro avg       0.88      0.88      0.88      5000\n",
      "   macro avg       0.88      0.88      0.88      5000\n",
      "weighted avg       0.88      0.88      0.88      5000\n",
      "\n",
      "Confusion matrix:\n",
      " [[2209  320]\n",
      " [ 287 2184]]\n",
      "Test-Set Score : 0.8786\n",
      "Test-Set Accuracy:0.8786\n"
     ]
    }
   ],
   "source": [
    "svm_dbow_dmm = SVC(kernel='linear')\n",
    "svm_dbow_dmm.fit(train_vectors_dbow_dmm, y_train)\n",
    "print(\"**** Combination of Doc2Vec DBOW And DMM Based Sentiment Analysis using SVC ****\\n\")\n",
    "print(\"SVC with linear kernel Performance : \\n\")\n",
    "print('Train-Set Score : {:.4f}'.format(svm_dbow_dmm.score(train_vectors_dbow_dmm, y_train)))\n",
    "print('Train-Set Accuracy : {:.4f}'.format(accuracy_score(y_train,svm_dbow_dmm.predict(train_vectors_dbow_dmm))))\n",
    "\n",
    "print(\"\\nEvaluation on Validation-Set : \")\n",
    "pred_val = svm_dbow_dmm.predict(validation_vectors_dbow_dmm)\n",
    "print(\"Classification report:\\n {}\".format(classification_report(y_validation, pred_val)))\n",
    "print(\"Confusion matrix:\\n {}\".format(confusion_matrix(y_validation, pred_val)))\n",
    "print('Validation-Set Score : {:.4f}'.format(svm_dbow_dmm.score(validation_vectors_dbow_dmm, y_validation)))\n",
    "print('Validation-Set Accuracy:{:.4f}'.format(accuracy_score(y_validation, pred_val)))\n",
    "\n",
    "print(\"\\nEvaluation on Test-Set : \")\n",
    "pred = svm_dbow_dmm.predict(test_vectors_dbow_dmm)\n",
    "print(\"Classification report:\\n {}\".format(classification_report(y_test, pred)))\n",
    "print(\"Confusion matrix:\\n {}\".format(confusion_matrix(y_test, pred)))\n",
    "print('Test-Set Score : {:.4f}'.format(svm_dbow_dmm.score(test_vectors_dbow_dmm, y_test)))\n",
    "print('Test-Set Accuracy:{:.4f}'.format(accuracy_score(y_test, pred)))"
   ]
  },
  {
   "cell_type": "markdown",
   "metadata": {},
   "source": [
    "#### Combination of Doc2Vec DBOW And DMM Based Sentiment Analysis using XGBClassifier"
   ]
  },
  {
   "cell_type": "code",
   "execution_count": 101,
   "metadata": {},
   "outputs": [
    {
     "name": "stdout",
     "output_type": "stream",
     "text": [
      "**** Combination of Doc2Vec DBOW And DMM Based Sentiment Analysis using XGBClassifier ****\n",
      "\n",
      "XGBClassifier Performance : \n",
      "\n",
      "Train-Set Score : 0.8736\n",
      "Train-Set Accuracy : 0.8736\n",
      "\n",
      "Evaluation on Validation-Set : \n",
      "Classification report:\n",
      "               precision    recall  f1-score   support\n",
      "\n",
      "           0       0.87      0.84      0.85      2513\n",
      "           1       0.84      0.87      0.86      2487\n",
      "\n",
      "   micro avg       0.85      0.85      0.85      5000\n",
      "   macro avg       0.86      0.85      0.85      5000\n",
      "weighted avg       0.86      0.85      0.85      5000\n",
      "\n",
      "Confusion matrix:\n",
      " [[2113  400]\n",
      " [ 326 2161]]\n",
      "Validation-Set Score : 0.8548\n",
      "Validation-Set Accuracy:0.8548\n",
      "\n",
      "Evaluation on Test-Set : \n",
      "Classification report:\n",
      "               precision    recall  f1-score   support\n",
      "\n",
      "           0       0.86      0.86      0.86      2529\n",
      "           1       0.85      0.86      0.86      2471\n",
      "\n",
      "   micro avg       0.86      0.86      0.86      5000\n",
      "   macro avg       0.86      0.86      0.86      5000\n",
      "weighted avg       0.86      0.86      0.86      5000\n",
      "\n",
      "Confusion matrix:\n",
      " [[2166  363]\n",
      " [ 342 2129]]\n",
      "Test-Set Score : 0.8590\n",
      "Test-Set Accuracy:0.8590\n"
     ]
    }
   ],
   "source": [
    "xgb_dbow_dmm =XGBClassifier()\n",
    "xgb_dbow_dmm.fit(train_vectors_dbow_dmm, y_train)\n",
    "print(\"**** Combination of Doc2Vec DBOW And DMM Based Sentiment Analysis using XGBClassifier ****\\n\")\n",
    "print(\"XGBClassifier Performance : \\n\")\n",
    "print('Train-Set Score : {:.4f}'.format(xgb_dbow_dmm.score(train_vectors_dbow_dmm, y_train)))\n",
    "print('Train-Set Accuracy : {:.4f}'.format(accuracy_score(y_train,xgb_dbow_dmm.predict(train_vectors_dbow_dmm))))\n",
    "\n",
    "print(\"\\nEvaluation on Validation-Set : \")\n",
    "pred_val = xgb_dbow_dmm.predict(validation_vectors_dbow_dmm)\n",
    "print(\"Classification report:\\n {}\".format(classification_report(y_validation, pred_val)))\n",
    "print(\"Confusion matrix:\\n {}\".format(confusion_matrix(y_validation, pred_val)))\n",
    "print('Validation-Set Score : {:.4f}'.format(xgb_dbow_dmm.score(validation_vectors_dbow_dmm, y_validation)))\n",
    "print('Validation-Set Accuracy:{:.4f}'.format(accuracy_score(y_validation, pred_val)))\n",
    "\n",
    "print(\"\\nEvaluation on Test-Set : \")\n",
    "pred = xgb_dbow_dmm.predict(test_vectors_dbow_dmm)\n",
    "print(\"Classification report:\\n {}\".format(classification_report(y_test, pred)))\n",
    "print(\"Confusion matrix:\\n {}\".format(confusion_matrix(y_test, pred)))\n",
    "print('Test-Set Score : {:.4f}'.format(xgb_dbow_dmm.score(test_vectors_dbow_dmm, y_test)))\n",
    "print('Test-Set Accuracy:{:.4f}'.format(accuracy_score(y_test, pred)))"
   ]
  },
  {
   "cell_type": "markdown",
   "metadata": {},
   "source": [
    "#### Sentiment Analysis Using Combination of Doc2Vec DBOW And DMC Document Embedding and Keras Neural Network"
   ]
  },
  {
   "cell_type": "code",
   "execution_count": 102,
   "metadata": {},
   "outputs": [
    {
     "name": "stdout",
     "output_type": "stream",
     "text": [
      "_________________________________________________________________\n",
      "Layer (type)                 Output Shape              Param #   \n",
      "=================================================================\n",
      "dense_6 (Dense)              (None, 128)               38528     \n",
      "_________________________________________________________________\n",
      "dense_7 (Dense)              (None, 128)               16512     \n",
      "_________________________________________________________________\n",
      "dense_8 (Dense)              (None, 1)                 129       \n",
      "=================================================================\n",
      "Total params: 55,169\n",
      "Trainable params: 55,169\n",
      "Non-trainable params: 0\n",
      "_________________________________________________________________\n"
     ]
    }
   ],
   "source": [
    "\"\"\"\n",
    "Create model\n",
    "\"\"\"\n",
    "keras_d2v_combo_dbow_dmc_model = Sequential()\n",
    "keras_d2v_combo_dbow_dmc_model.add(Dense(128, activation='relu', input_dim=300))\n",
    "keras_d2v_combo_dbow_dmc_model.add(Dense(128, activation='relu'))\n",
    "keras_d2v_combo_dbow_dmc_model.add(Dense(1, activation='sigmoid'))\n",
    "\n",
    "\"\"\"\n",
    "Compile network\n",
    "\"\"\"\n",
    "keras_d2v_combo_dbow_dmc_model.compile(optimizer='adam',\n",
    "                                       loss='binary_crossentropy',\n",
    "                                       metrics=['accuracy'])\n",
    "keras_d2v_combo_dbow_dmc_model.summary()"
   ]
  },
  {
   "cell_type": "code",
   "execution_count": 103,
   "metadata": {},
   "outputs": [
    {
     "name": "stdout",
     "output_type": "stream",
     "text": [
      "**** Sentiment Analysis Using Combination of Doc2Vec DBOW And DMC Document Embedding and Keras Neural Network ****\n",
      "\n",
      "Train-Set Accuracy: 0.9088\n",
      "\n",
      "Evaluation on Validation-Set : \n",
      "Classification report:\n",
      "               precision    recall  f1-score   support\n",
      "\n",
      "           0       0.88      0.86      0.87      2513\n",
      "           1       0.86      0.89      0.88      2487\n",
      "\n",
      "   micro avg       0.87      0.87      0.87      5000\n",
      "   macro avg       0.87      0.87      0.87      5000\n",
      "weighted avg       0.87      0.87      0.87      5000\n",
      "\n",
      "Confusion matrix:\n",
      " [[2166  347]\n",
      " [ 282 2205]]\n",
      "Validation-Set Accuracy: 0.8742\n",
      "\n",
      "Evaluation on Test-Set : \n",
      "Classification report:\n",
      "               precision    recall  f1-score   support\n",
      "\n",
      "           0       0.88      0.86      0.87      2529\n",
      "           1       0.86      0.88      0.87      2471\n",
      "\n",
      "   micro avg       0.87      0.87      0.87      5000\n",
      "   macro avg       0.87      0.87      0.87      5000\n",
      "weighted avg       0.87      0.87      0.87      5000\n",
      "\n",
      "Confusion matrix:\n",
      " [[2187  342]\n",
      " [ 285 2186]]\n",
      "Test-Set Accuracy:  0.8746\n"
     ]
    }
   ],
   "source": [
    "\"\"\"\n",
    "Fit network\n",
    "\"\"\"\n",
    "keras_d2v_combo_dbow_dmc_model.fit(train_vectors_dbow_dmc, y_train,\n",
    "                                   validation_data=(validation_vectors_dbow_dmc, y_validation),\n",
    "                                   epochs=5, \n",
    "                                   batch_size=10, \n",
    "                                   verbose=False)\n",
    "\n",
    "\"\"\"\n",
    "Evaluate\n",
    "\"\"\"\n",
    "print(\"**** Sentiment Analysis Using Combination of Doc2Vec DBOW And DMC Document Embedding and Keras Neural Network ****\\n\")\n",
    "loss, accuracy = keras_d2v_combo_dbow_dmc_model.evaluate(train_vectors_dbow_dmc, y_train, verbose=False)\n",
    "print(\"Train-Set Accuracy: {:.4f}\".format(accuracy))\n",
    "\n",
    "print(\"\\nEvaluation on Validation-Set : \")\n",
    "pred_val=keras_d2v_combo_dbow_dmc_model.predict_classes(validation_vectors_dbow_dmc)\n",
    "print(\"Classification report:\\n {}\".format(classification_report(y_validation, pred_val)))\n",
    "print(\"Confusion matrix:\\n {}\".format(confusion_matrix(y_validation, pred_val)))\n",
    "loss, accuracy = keras_d2v_combo_dbow_dmc_model.evaluate(validation_vectors_dbow_dmc, y_validation, verbose=False)\n",
    "print(\"Validation-Set Accuracy: {:.4f}\".format(accuracy))\n",
    "\n",
    "print(\"\\nEvaluation on Test-Set : \")\n",
    "pred=keras_d2v_combo_dbow_dmc_model.predict_classes(test_vectors_dbow_dmc)\n",
    "print(\"Classification report:\\n {}\".format(classification_report(y_test, pred)))\n",
    "print(\"Confusion matrix:\\n {}\".format(confusion_matrix(y_test, pred)))\n",
    "\n",
    "loss, accuracy = keras_d2v_combo_dbow_dmc_model.evaluate(test_vectors_dbow_dmc, y_test, verbose=False)\n",
    "print(\"Test-Set Accuracy:  {:.4f}\".format(accuracy))"
   ]
  },
  {
   "cell_type": "markdown",
   "metadata": {},
   "source": [
    "#### Sentiment Analysis Using Combination of Doc2Vec DBOW And DMM Document Embedding and Keras Neural Network"
   ]
  },
  {
   "cell_type": "code",
   "execution_count": 104,
   "metadata": {},
   "outputs": [
    {
     "name": "stdout",
     "output_type": "stream",
     "text": [
      "_________________________________________________________________\n",
      "Layer (type)                 Output Shape              Param #   \n",
      "=================================================================\n",
      "dense_9 (Dense)              (None, 128)               38528     \n",
      "_________________________________________________________________\n",
      "dense_10 (Dense)             (None, 128)               16512     \n",
      "_________________________________________________________________\n",
      "dense_11 (Dense)             (None, 1)                 129       \n",
      "=================================================================\n",
      "Total params: 55,169\n",
      "Trainable params: 55,169\n",
      "Non-trainable params: 0\n",
      "_________________________________________________________________\n"
     ]
    }
   ],
   "source": [
    "\"\"\"\n",
    "Create model\n",
    "\"\"\"\n",
    "keras_d2v_combo_dbow_dmm_model = Sequential()\n",
    "keras_d2v_combo_dbow_dmm_model.add(Dense(128, activation='relu', input_dim=300))\n",
    "keras_d2v_combo_dbow_dmm_model.add(Dense(128, activation='relu'))\n",
    "keras_d2v_combo_dbow_dmm_model.add(Dense(1, activation='sigmoid'))\n",
    "\n",
    "\"\"\"\n",
    "Compile network\n",
    "\"\"\"\n",
    "keras_d2v_combo_dbow_dmm_model.compile(optimizer='adam',\n",
    "                                       loss='binary_crossentropy',\n",
    "                                       metrics=['accuracy'])\n",
    "keras_d2v_combo_dbow_dmm_model.summary()"
   ]
  },
  {
   "cell_type": "code",
   "execution_count": 105,
   "metadata": {},
   "outputs": [
    {
     "name": "stdout",
     "output_type": "stream",
     "text": [
      "**** Sentiment Analysis Using Combination of Doc2Vec DBOW And DMM Document Embedding and Keras Neural Network ****\n",
      "\n",
      "Train-Set Accuracy: 0.9295\n",
      "\n",
      "Evaluation on Validation-Set : \n",
      "Classification report:\n",
      "               precision    recall  f1-score   support\n",
      "\n",
      "           0       0.90      0.84      0.87      2513\n",
      "           1       0.85      0.90      0.88      2487\n",
      "\n",
      "   micro avg       0.87      0.87      0.87      5000\n",
      "   macro avg       0.87      0.87      0.87      5000\n",
      "weighted avg       0.87      0.87      0.87      5000\n",
      "\n",
      "Confusion matrix:\n",
      " [[2118  395]\n",
      " [ 244 2243]]\n",
      "Validation-Set Accuracy: 0.8722\n",
      "\n",
      "Evaluation on Test-Set : \n",
      "Classification report:\n",
      "               precision    recall  f1-score   support\n",
      "\n",
      "           0       0.89      0.85      0.87      2529\n",
      "           1       0.85      0.90      0.87      2471\n",
      "\n",
      "   micro avg       0.87      0.87      0.87      5000\n",
      "   macro avg       0.87      0.87      0.87      5000\n",
      "weighted avg       0.87      0.87      0.87      5000\n",
      "\n",
      "Confusion matrix:\n",
      " [[2142  387]\n",
      " [ 253 2218]]\n",
      "Test-Set Accuracy:  0.8720\n"
     ]
    }
   ],
   "source": [
    "\"\"\"\n",
    "Fit network\n",
    "\"\"\"\n",
    "keras_d2v_combo_dbow_dmm_model.fit(train_vectors_dbow_dmm, y_train,\n",
    "                                   validation_data=(validation_vectors_dbow_dmm, y_validation),\n",
    "                                   epochs=5, \n",
    "                                   batch_size=10, \n",
    "                                   verbose=False)\n",
    "\n",
    "\"\"\"\n",
    "Evaluate\n",
    "\"\"\"\n",
    "print(\"**** Sentiment Analysis Using Combination of Doc2Vec DBOW And DMM Document Embedding and Keras Neural Network ****\\n\")\n",
    "loss, accuracy = keras_d2v_combo_dbow_dmm_model.evaluate(train_vectors_dbow_dmm, y_train, verbose=False)\n",
    "print(\"Train-Set Accuracy: {:.4f}\".format(accuracy))\n",
    "\n",
    "print(\"\\nEvaluation on Validation-Set : \")\n",
    "pred_val=keras_d2v_combo_dbow_dmm_model.predict_classes(validation_vectors_dbow_dmm)\n",
    "print(\"Classification report:\\n {}\".format(classification_report(y_validation, pred_val)))\n",
    "print(\"Confusion matrix:\\n {}\".format(confusion_matrix(y_validation, pred_val)))\n",
    "loss, accuracy = keras_d2v_combo_dbow_dmm_model.evaluate(validation_vectors_dbow_dmm, y_validation, verbose=False)\n",
    "print(\"Validation-Set Accuracy: {:.4f}\".format(accuracy))\n",
    "\n",
    "print(\"\\nEvaluation on Test-Set : \")\n",
    "pred=keras_d2v_combo_dbow_dmm_model.predict_classes(test_vectors_dbow_dmm)\n",
    "print(\"Classification report:\\n {}\".format(classification_report(y_test, pred)))\n",
    "print(\"Confusion matrix:\\n {}\".format(confusion_matrix(y_test, pred)))\n",
    "\n",
    "loss, accuracy = keras_d2v_combo_dbow_dmm_model.evaluate(test_vectors_dbow_dmm, y_test, verbose=False)\n",
    "print(\"Test-Set Accuracy:  {:.4f}\".format(accuracy))"
   ]
  },
  {
   "cell_type": "code",
   "execution_count": 106,
   "metadata": {},
   "outputs": [
    {
     "name": "stdout",
     "output_type": "stream",
     "text": [
      "Time elapsed :  9.7  in hours\n"
     ]
    }
   ],
   "source": [
    "print(\"Time elapsed : \",(round(((time.time()-program_start_time)/3600),2)),\" in hours\")"
   ]
  }
 ],
 "metadata": {
  "kernelspec": {
   "display_name": "Python 3",
   "language": "python",
   "name": "python3"
  },
  "language_info": {
   "codemirror_mode": {
    "name": "ipython",
    "version": 3
   },
   "file_extension": ".py",
   "mimetype": "text/x-python",
   "name": "python",
   "nbconvert_exporter": "python",
   "pygments_lexer": "ipython3",
   "version": "3.6.6"
  }
 },
 "nbformat": 4,
 "nbformat_minor": 2
}
